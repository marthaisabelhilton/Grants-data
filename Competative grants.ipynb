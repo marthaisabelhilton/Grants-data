{
 "cells": [
  {
   "cell_type": "code",
   "execution_count": 1,
   "metadata": {},
   "outputs": [],
   "source": [
    "import pandas as pd\n",
    "import pyodbc\n",
    "import datetime"
   ]
  },
  {
   "cell_type": "code",
   "execution_count": 2,
   "metadata": {},
   "outputs": [],
   "source": [
    "# Connect to DataBank\n",
    "connection_string = (\n",
    "    \"DSN=DataBank;\"\n",
    "    \"Trusted_Connection=yes;\"\n",
    ")\n",
    "\n",
    "con = pyodbc.connect(connection_string)"
   ]
  },
  {
   "cell_type": "code",
   "execution_count": 3,
   "metadata": {},
   "outputs": [
    {
     "name": "stderr",
     "output_type": "stream",
     "text": [
      "C:\\Users\\MHil02\\AppData\\Local\\Temp\\ipykernel_13480\\3014746289.py:5: UserWarning: pandas only supports SQLAlchemy connectable (engine/connection) or database string URI or sqlite3 DBAPI2 connection. Other DBAPI2 objects are not tested. Please consider using SQLAlchemy.\n",
      "  df= pd.read_sql(qry, con)\n"
     ]
    }
   ],
   "source": [
    "# Write sql query\n",
    "qry = \"SELECT application_reference, application_source, decision_owner, decision_date, opportunity_id, opportunity_name, opportunity_source, derived_status, application_status, organisation_source, amount_applied_for, joint_proposal, parent_award FROM ukri_ssd_snapshot.2025_04_24_ssd_application;\"\n",
    "\n",
    "# Read sql query\n",
    "df= pd.read_sql(qry, con)"
   ]
  },
  {
   "cell_type": "code",
   "execution_count": 4,
   "metadata": {},
   "outputs": [
    {
     "name": "stderr",
     "output_type": "stream",
     "text": [
      "C:\\Users\\MHil02\\AppData\\Local\\Temp\\ipykernel_13480\\2147608080.py:5: UserWarning: pandas only supports SQLAlchemy connectable (engine/connection) or database string URI or sqlite3 DBAPI2 connection. Other DBAPI2 objects are not tested. Please consider using SQLAlchemy.\n",
      "  organisation_to_application = pd.read_sql(qry, con)\n"
     ]
    }
   ],
   "source": [
    "# Write sql query\n",
    "qry = \"SELECT application_reference, application_source, organisation_id, organisation_source, participant_id, organisation_role FROM ukri_ssd_snapshot.2025_04_24_ssd_organisation_to_application;\"\n",
    "\n",
    "# Read sql query\n",
    "organisation_to_application = pd.read_sql(qry, con)"
   ]
  },
  {
   "cell_type": "code",
   "execution_count": 5,
   "metadata": {},
   "outputs": [],
   "source": [
    "data_merge = pd.merge(df, organisation_to_application, on=['application_reference', 'application_source'])"
   ]
  },
  {
   "cell_type": "code",
   "execution_count": 6,
   "metadata": {},
   "outputs": [],
   "source": [
    "# Select decision date is not null or in the future\n",
    "\n",
    "data_select = data_merge[~data_merge['decision_date'].isna() & (data_merge['decision_date'].dt.date < datetime.date.today()) & (data_merge['application_status'] != 'RO Withdrawn')]"
   ]
  },
  {
   "cell_type": "code",
   "execution_count": 7,
   "metadata": {},
   "outputs": [
    {
     "data": {
      "text/plain": [
       "array(['Rejected', 'Unsuccessful', 'Active', 'Accepted', 'Announced',\n",
       "       None, 'Unsuccessful checks', 'Authorised', 'Passed checks',\n",
       "       'Suspended Pending Activation', 'Submitted', 'RO Withdrawn',\n",
       "       'Awaiting authorisation', 'Approved', 'Closed', 'Failed checks',\n",
       "       'Awaiting acceptance', 'Grant Suspended', 'Payments Suspended',\n",
       "       'Awaiting assessment', 'Successful', 'In Transfer', 'In Progress',\n",
       "       'Created', 'Withdrawn', 'Offer returned by RO for amendments',\n",
       "       'Suspended', 'Offer returned for amendments', 'Terminating',\n",
       "       'Funded Off System', 'Returned', 'Deferred',\n",
       "       'Finished Institute Project', 'Finished', 'Terminated',\n",
       "       'Completed-Finished', 'Completed-Terminated',\n",
       "       'Active Institute Project', 'DTA - Finished', 'Initiating',\n",
       "       'Awarded', 'Live', 'Final Claim', 'On Hold', 'Offer Letter Sent',\n",
       "       'Not set', 'Project Setup On Hold', 'Project Setup In Progress'],\n",
       "      dtype=object)"
      ]
     },
     "execution_count": 7,
     "metadata": {},
     "output_type": "execute_result"
    }
   ],
   "source": [
    "datetime.date.today()\n",
    "\n",
    "data_merge['decision_date'].dt.date > datetime.date.today()\n",
    "\n",
    "data_merge['application_status'].unique()"
   ]
  },
  {
   "cell_type": "code",
   "execution_count": 8,
   "metadata": {},
   "outputs": [
    {
     "name": "stderr",
     "output_type": "stream",
     "text": [
      "C:\\Users\\MHil02\\AppData\\Local\\Temp\\ipykernel_13480\\714498904.py:5: UserWarning: pandas only supports SQLAlchemy connectable (engine/connection) or database string URI or sqlite3 DBAPI2 connection. Other DBAPI2 objects are not tested. Please consider using SQLAlchemy.\n",
      "  organisation = pd.read_sql(qry, con)\n"
     ]
    }
   ],
   "source": [
    "# Write sql query\n",
    "qry = \"SELECT organisation_id, organisation_name, organisation_source FROM ukri_ssd_snapshot.2025_04_24_ssd_organisation;\"\n",
    "\n",
    "# Read sql query\n",
    "organisation = pd.read_sql(qry, con)"
   ]
  },
  {
   "cell_type": "code",
   "execution_count": 9,
   "metadata": {},
   "outputs": [
    {
     "data": {
      "text/plain": [
       "0"
      ]
     },
     "execution_count": 9,
     "metadata": {},
     "output_type": "execute_result"
    }
   ],
   "source": [
    "organisation[['organisation_id', 'organisation_source']].duplicated().sum()"
   ]
  },
  {
   "cell_type": "code",
   "execution_count": 10,
   "metadata": {},
   "outputs": [
    {
     "name": "stderr",
     "output_type": "stream",
     "text": [
      "C:\\Users\\MHil02\\AppData\\Local\\Temp\\ipykernel_13480\\898269222.py:1: SettingWithCopyWarning: \n",
      "A value is trying to be set on a copy of a slice from a DataFrame\n",
      "\n",
      "See the caveats in the documentation: https://pandas.pydata.org/pandas-docs/stable/user_guide/indexing.html#returning-a-view-versus-a-copy\n",
      "  data_select.drop(columns='organisation_source_y', inplace=True)\n",
      "C:\\Users\\MHil02\\AppData\\Local\\Temp\\ipykernel_13480\\898269222.py:2: SettingWithCopyWarning: \n",
      "A value is trying to be set on a copy of a slice from a DataFrame\n",
      "\n",
      "See the caveats in the documentation: https://pandas.pydata.org/pandas-docs/stable/user_guide/indexing.html#returning-a-view-versus-a-copy\n",
      "  data_select.rename(columns={'organisation_source_x':'organisation_source'}, inplace=True)\n"
     ]
    }
   ],
   "source": [
    "data_select.drop(columns='organisation_source_y', inplace=True)\n",
    "data_select.rename(columns={'organisation_source_x':'organisation_source'}, inplace=True)"
   ]
  },
  {
   "cell_type": "code",
   "execution_count": 11,
   "metadata": {},
   "outputs": [],
   "source": [
    "data_merge = pd.merge(data_select, organisation, on=['organisation_id', 'organisation_source'])\n"
   ]
  },
  {
   "cell_type": "code",
   "execution_count": 12,
   "metadata": {},
   "outputs": [],
   "source": [
    "DSTL_pseudonyms = [\"Defence Science & Tech Lab DSTL\", \"Defence Science and Technology Laboratory\", \"DEFENCE SCIENCE AND TECHNOLOGY LABORATORIES (DSTL)\", \"DSTL\"]\n",
    "\n",
    "National_physics_laboratory_pseudonyms = [\"National Physical Laboratory NPL\", \"National Physical Laboratory\", \"NATIONAL PHYSICAL LABORATORY LIMITED\", \"NPL\"]\n",
    "\n",
    "data_select = data_merge.loc[data_merge['organisation_name'].isin(DSTL_pseudonyms) | data_merge['organisation_name'].isin(National_physics_laboratory_pseudonyms)]"
   ]
  },
  {
   "cell_type": "code",
   "execution_count": 13,
   "metadata": {},
   "outputs": [],
   "source": [
    "# take NPL or DSTL opportunities\n",
    "\n",
    "opps = data_select['opportunity_id'].drop_duplicates().to_list()\n",
    "\n",
    "data_merge[data_merge['opportunity_id'].isin(opps)]\n",
    "\n",
    "df_opps = df[df['opportunity_id'].isin(opps)]"
   ]
  },
  {
   "cell_type": "code",
   "execution_count": 14,
   "metadata": {},
   "outputs": [],
   "source": [
    "df_opps # opportunities with NPL or DSTL as an organisation\n",
    "\n",
    "# Select decision date is not null or in the future\n",
    "data_opps_select = df_opps[~df_opps['decision_date'].isna() & (df_opps['decision_date'].dt.date < datetime.date.today()) & (df_opps['application_status'] != 'RO Withdrawn')]"
   ]
  },
  {
   "cell_type": "code",
   "execution_count": 16,
   "metadata": {},
   "outputs": [],
   "source": [
    "data_opps_unique = data_opps_select[(data_opps_select['joint_proposal'] == 'No') | (data_opps_select['parent_award'] == 'Yes')]"
   ]
  },
  {
   "cell_type": "code",
   "execution_count": 17,
   "metadata": {},
   "outputs": [
    {
     "name": "stderr",
     "output_type": "stream",
     "text": [
      "C:\\Users\\MHil02\\AppData\\Local\\Temp\\ipykernel_13480\\2816497502.py:1: SettingWithCopyWarning: \n",
      "A value is trying to be set on a copy of a slice from a DataFrame.\n",
      "Try using .loc[row_indexer,col_indexer] = value instead\n",
      "\n",
      "See the caveats in the documentation: https://pandas.pydata.org/pandas-docs/stable/user_guide/indexing.html#returning-a-view-versus-a-copy\n",
      "  data_opps_unique['app_ref_source'] = data_opps_unique['application_reference'] + '_' + data_opps_unique['application_source']\n"
     ]
    }
   ],
   "source": [
    "data_opps_unique['app_ref_source'] = data_opps_unique['application_reference'] + '_' + data_opps_unique['application_source']"
   ]
  },
  {
   "cell_type": "code",
   "execution_count": 18,
   "metadata": {},
   "outputs": [
    {
     "data": {
      "text/plain": [
       "array(['Successful', 'Rejected'], dtype=object)"
      ]
     },
     "execution_count": 18,
     "metadata": {},
     "output_type": "execute_result"
    }
   ],
   "source": [
    "data_opps_unique['derived_status'].unique()"
   ]
  },
  {
   "cell_type": "code",
   "execution_count": 19,
   "metadata": {},
   "outputs": [
    {
     "name": "stderr",
     "output_type": "stream",
     "text": [
      "C:\\Users\\MHil02\\AppData\\Local\\Temp\\ipykernel_13480\\1938546181.py:1: SettingWithCopyWarning: \n",
      "A value is trying to be set on a copy of a slice from a DataFrame.\n",
      "Try using .loc[row_indexer,col_indexer] = value instead\n",
      "\n",
      "See the caveats in the documentation: https://pandas.pydata.org/pandas-docs/stable/user_guide/indexing.html#returning-a-view-versus-a-copy\n",
      "  data_opps_unique['success_flag'] = 1\n"
     ]
    }
   ],
   "source": [
    "data_opps_unique['success_flag'] = 1\n",
    "\n",
    "data_opps_unique.loc[data_opps_unique['derived_status'] == 'Rejected', 'success_flag'] = 0"
   ]
  },
  {
   "cell_type": "code",
   "execution_count": 20,
   "metadata": {},
   "outputs": [],
   "source": [
    "data_opps_group = data_opps_unique.groupby(['opportunity_id', 'opportunity_name', 'opportunity_source'], as_index=False).agg({'app_ref_source':'nunique', 'success_flag':['sum', 'mean']})\n",
    "\n",
    "\n",
    "data_opps_group.columns = ['_'.join(col) for col in data_opps_group.columns]\n"
   ]
  },
  {
   "cell_type": "code",
   "execution_count": 21,
   "metadata": {},
   "outputs": [],
   "source": [
    "data_opps_sort = data_opps_group.sort_values(by='success_flag_mean', ascending=False)\n",
    "\n"
   ]
  },
  {
   "cell_type": "code",
   "execution_count": 22,
   "metadata": {},
   "outputs": [],
   "source": [
    "opps_non_competative = data_opps_sort[data_opps_sort['success_flag_mean'] > 0.75]['opportunity_id_'].to_list() # not competative"
   ]
  },
  {
   "cell_type": "code",
   "execution_count": 23,
   "metadata": {},
   "outputs": [
    {
     "name": "stderr",
     "output_type": "stream",
     "text": [
      "C:\\Users\\MHil02\\AppData\\Local\\Temp\\ipykernel_13480\\3429989841.py:4: SettingWithCopyWarning: \n",
      "A value is trying to be set on a copy of a slice from a DataFrame.\n",
      "Try using .loc[row_indexer,col_indexer] = value instead\n",
      "\n",
      "See the caveats in the documentation: https://pandas.pydata.org/pandas-docs/stable/user_guide/indexing.html#returning-a-view-versus-a-copy\n",
      "  data_select['competative'] = 'No'\n"
     ]
    }
   ],
   "source": [
    "data_select # NPL and DSTL\n",
    "\n",
    "# select only opportunities which were considered competative\n",
    "data_select['competative'] = 'No'\n",
    "data_select.loc[~data_select['opportunity_id'].isin(opps_non_competative), 'competative'] = 'Yes'"
   ]
  },
  {
   "cell_type": "code",
   "execution_count": 24,
   "metadata": {},
   "outputs": [
    {
     "name": "stderr",
     "output_type": "stream",
     "text": [
      "C:\\Users\\MHil02\\AppData\\Local\\Temp\\ipykernel_13480\\4291790863.py:1: SettingWithCopyWarning: \n",
      "A value is trying to be set on a copy of a slice from a DataFrame.\n",
      "Try using .loc[row_indexer,col_indexer] = value instead\n",
      "\n",
      "See the caveats in the documentation: https://pandas.pydata.org/pandas-docs/stable/user_guide/indexing.html#returning-a-view-versus-a-copy\n",
      "  data_select['success_flag'] = 1\n"
     ]
    }
   ],
   "source": [
    "data_select['success_flag'] = 1\n",
    "\n",
    "data_select.loc[data_select['derived_status'] == 'Rejected', 'success_flag'] = 0"
   ]
  },
  {
   "cell_type": "code",
   "execution_count": 25,
   "metadata": {},
   "outputs": [],
   "source": [
    "data_select.loc[data_select['organisation_name'].isin(DSTL_pseudonyms), 'organisation_name'] = 'DSTL'\n",
    "data_select.loc[data_select['organisation_name'].isin(National_physics_laboratory_pseudonyms), 'organisation_name'] = 'NPL'"
   ]
  },
  {
   "cell_type": "code",
   "execution_count": 26,
   "metadata": {},
   "outputs": [],
   "source": [
    "data_select.groupby(['organisation_name', 'competative'], as_index=False).agg({'application_reference':'nunique', 'success_flag':'mean'}).to_clipboard(index=False)"
   ]
  },
  {
   "cell_type": "code",
   "execution_count": 27,
   "metadata": {},
   "outputs": [],
   "source": [
    "data_select.groupby(['organisation_name', 'success_flag', 'competative'], as_index=False).agg({'amount_applied_for':'sum'}).to_clipboard(index=False)"
   ]
  },
  {
   "cell_type": "code",
   "execution_count": 28,
   "metadata": {},
   "outputs": [
    {
     "data": {
      "text/html": [
       "<div>\n",
       "<style scoped>\n",
       "    .dataframe tbody tr th:only-of-type {\n",
       "        vertical-align: middle;\n",
       "    }\n",
       "\n",
       "    .dataframe tbody tr th {\n",
       "        vertical-align: top;\n",
       "    }\n",
       "\n",
       "    .dataframe thead th {\n",
       "        text-align: right;\n",
       "    }\n",
       "</style>\n",
       "<table border=\"1\" class=\"dataframe\">\n",
       "  <thead>\n",
       "    <tr style=\"text-align: right;\">\n",
       "      <th></th>\n",
       "      <th>organisation_name</th>\n",
       "      <th>success_flag</th>\n",
       "      <th>amount_applied_for</th>\n",
       "    </tr>\n",
       "  </thead>\n",
       "  <tbody>\n",
       "    <tr>\n",
       "      <th>0</th>\n",
       "      <td>DSTL</td>\n",
       "      <td>0</td>\n",
       "      <td>4.619481e+06</td>\n",
       "    </tr>\n",
       "    <tr>\n",
       "      <th>1</th>\n",
       "      <td>NPL</td>\n",
       "      <td>0</td>\n",
       "      <td>1.653081e+07</td>\n",
       "    </tr>\n",
       "    <tr>\n",
       "      <th>2</th>\n",
       "      <td>NPL</td>\n",
       "      <td>1</td>\n",
       "      <td>1.420855e+07</td>\n",
       "    </tr>\n",
       "  </tbody>\n",
       "</table>\n",
       "</div>"
      ],
      "text/plain": [
       "  organisation_name  success_flag  amount_applied_for\n",
       "0              DSTL             0        4.619481e+06\n",
       "1               NPL             0        1.653081e+07\n",
       "2               NPL             1        1.420855e+07"
      ]
     },
     "execution_count": 28,
     "metadata": {},
     "output_type": "execute_result"
    }
   ],
   "source": [
    "data_select.groupby(['organisation_name', 'success_flag'], as_index=False).agg({'amount_applied_for':'sum'})"
   ]
  },
  {
   "cell_type": "code",
   "execution_count": 29,
   "metadata": {},
   "outputs": [
    {
     "data": {
      "text/html": [
       "<div>\n",
       "<style scoped>\n",
       "    .dataframe tbody tr th:only-of-type {\n",
       "        vertical-align: middle;\n",
       "    }\n",
       "\n",
       "    .dataframe tbody tr th {\n",
       "        vertical-align: top;\n",
       "    }\n",
       "\n",
       "    .dataframe thead th {\n",
       "        text-align: right;\n",
       "    }\n",
       "</style>\n",
       "<table border=\"1\" class=\"dataframe\">\n",
       "  <thead>\n",
       "    <tr style=\"text-align: right;\">\n",
       "      <th></th>\n",
       "      <th>application_reference</th>\n",
       "      <th>application_source</th>\n",
       "      <th>decision_owner</th>\n",
       "      <th>decision_date</th>\n",
       "      <th>opportunity_id</th>\n",
       "      <th>opportunity_name</th>\n",
       "      <th>opportunity_source</th>\n",
       "      <th>derived_status</th>\n",
       "      <th>application_status</th>\n",
       "      <th>organisation_source</th>\n",
       "      <th>amount_applied_for</th>\n",
       "      <th>joint_proposal</th>\n",
       "      <th>parent_award</th>\n",
       "      <th>organisation_id</th>\n",
       "      <th>participant_id</th>\n",
       "      <th>organisation_role</th>\n",
       "      <th>organisation_name</th>\n",
       "      <th>competative</th>\n",
       "      <th>success_flag</th>\n",
       "    </tr>\n",
       "  </thead>\n",
       "  <tbody>\n",
       "    <tr>\n",
       "      <th>23543</th>\n",
       "      <td>BB/P011675/1</td>\n",
       "      <td>Siebel</td>\n",
       "      <td>BBSRC</td>\n",
       "      <td>2016-11-16</td>\n",
       "      <td>1-3JSZW9</td>\n",
       "      <td>16CTP</td>\n",
       "      <td>Siebel</td>\n",
       "      <td>Rejected</td>\n",
       "      <td>Rejected</td>\n",
       "      <td>Siebel</td>\n",
       "      <td>NaN</td>\n",
       "      <td>No</td>\n",
       "      <td>No</td>\n",
       "      <td>1311</td>\n",
       "      <td>BB/P011675/1</td>\n",
       "      <td>Participant</td>\n",
       "      <td>DSTL</td>\n",
       "      <td>Yes</td>\n",
       "      <td>0</td>\n",
       "    </tr>\n",
       "    <tr>\n",
       "      <th>438109</th>\n",
       "      <td>16352</td>\n",
       "      <td>IUK - IFS</td>\n",
       "      <td>Innovate UK</td>\n",
       "      <td>2018-08-14</td>\n",
       "      <td>143</td>\n",
       "      <td>143 - Commercialising Quantum Devices: Innovat...</td>\n",
       "      <td>IUK</td>\n",
       "      <td>Rejected</td>\n",
       "      <td>Rejected</td>\n",
       "      <td>IUK</td>\n",
       "      <td>4519795.9</td>\n",
       "      <td>No</td>\n",
       "      <td>No</td>\n",
       "      <td>00158000012WRwBAAW</td>\n",
       "      <td>16352_16380</td>\n",
       "      <td>Participant</td>\n",
       "      <td>DSTL</td>\n",
       "      <td>Yes</td>\n",
       "      <td>0</td>\n",
       "    </tr>\n",
       "    <tr>\n",
       "      <th>543906</th>\n",
       "      <td>10119788</td>\n",
       "      <td>IUK - IFS</td>\n",
       "      <td>Innovate UK</td>\n",
       "      <td>2024-05-08</td>\n",
       "      <td>1844</td>\n",
       "      <td>Knowledge Asset Grant Fund: Expand, Spring 2024</td>\n",
       "      <td>IUK</td>\n",
       "      <td>Rejected</td>\n",
       "      <td>Rejected</td>\n",
       "      <td>IUK</td>\n",
       "      <td>99685.0</td>\n",
       "      <td>No</td>\n",
       "      <td>No</td>\n",
       "      <td>001P3000008oihCIAQ</td>\n",
       "      <td>10119788_108529</td>\n",
       "      <td>Lead Participant</td>\n",
       "      <td>DSTL</td>\n",
       "      <td>Yes</td>\n",
       "      <td>0</td>\n",
       "    </tr>\n",
       "  </tbody>\n",
       "</table>\n",
       "</div>"
      ],
      "text/plain": [
       "       application_reference application_source decision_owner decision_date  \\\n",
       "23543           BB/P011675/1             Siebel          BBSRC    2016-11-16   \n",
       "438109                 16352          IUK - IFS    Innovate UK    2018-08-14   \n",
       "543906              10119788          IUK - IFS    Innovate UK    2024-05-08   \n",
       "\n",
       "       opportunity_id                                   opportunity_name  \\\n",
       "23543        1-3JSZW9                                              16CTP   \n",
       "438109            143  143 - Commercialising Quantum Devices: Innovat...   \n",
       "543906           1844    Knowledge Asset Grant Fund: Expand, Spring 2024   \n",
       "\n",
       "       opportunity_source derived_status application_status  \\\n",
       "23543              Siebel       Rejected           Rejected   \n",
       "438109                IUK       Rejected           Rejected   \n",
       "543906                IUK       Rejected           Rejected   \n",
       "\n",
       "       organisation_source  amount_applied_for joint_proposal parent_award  \\\n",
       "23543               Siebel                 NaN             No           No   \n",
       "438109                 IUK           4519795.9             No           No   \n",
       "543906                 IUK             99685.0             No           No   \n",
       "\n",
       "           organisation_id   participant_id organisation_role  \\\n",
       "23543                 1311     BB/P011675/1       Participant   \n",
       "438109  00158000012WRwBAAW      16352_16380       Participant   \n",
       "543906  001P3000008oihCIAQ  10119788_108529  Lead Participant   \n",
       "\n",
       "       organisation_name competative  success_flag  \n",
       "23543               DSTL         Yes             0  \n",
       "438109              DSTL         Yes             0  \n",
       "543906              DSTL         Yes             0  "
      ]
     },
     "execution_count": 29,
     "metadata": {},
     "output_type": "execute_result"
    }
   ],
   "source": [
    "data_select[data_select['organisation_name'] == 'DSTL']"
   ]
  },
  {
   "cell_type": "code",
   "execution_count": 30,
   "metadata": {},
   "outputs": [
    {
     "data": {
      "text/html": [
       "<div>\n",
       "<style scoped>\n",
       "    .dataframe tbody tr th:only-of-type {\n",
       "        vertical-align: middle;\n",
       "    }\n",
       "\n",
       "    .dataframe tbody tr th {\n",
       "        vertical-align: top;\n",
       "    }\n",
       "\n",
       "    .dataframe thead th {\n",
       "        text-align: right;\n",
       "    }\n",
       "</style>\n",
       "<table border=\"1\" class=\"dataframe\">\n",
       "  <thead>\n",
       "    <tr style=\"text-align: right;\">\n",
       "      <th></th>\n",
       "      <th>organisation_name</th>\n",
       "      <th>amount_applied_for</th>\n",
       "    </tr>\n",
       "  </thead>\n",
       "  <tbody>\n",
       "    <tr>\n",
       "      <th>0</th>\n",
       "      <td>DSTL</td>\n",
       "      <td>4.619481e+06</td>\n",
       "    </tr>\n",
       "    <tr>\n",
       "      <th>1</th>\n",
       "      <td>NPL</td>\n",
       "      <td>3.073936e+07</td>\n",
       "    </tr>\n",
       "  </tbody>\n",
       "</table>\n",
       "</div>"
      ],
      "text/plain": [
       "  organisation_name  amount_applied_for\n",
       "0              DSTL        4.619481e+06\n",
       "1               NPL        3.073936e+07"
      ]
     },
     "execution_count": 30,
     "metadata": {},
     "output_type": "execute_result"
    }
   ],
   "source": [
    "data_select.groupby(['organisation_name'], as_index=False).agg({'amount_applied_for':'sum'})"
   ]
  },
  {
   "cell_type": "code",
   "execution_count": 31,
   "metadata": {},
   "outputs": [
    {
     "data": {
      "text/html": [
       "<div>\n",
       "<style scoped>\n",
       "    .dataframe tbody tr th:only-of-type {\n",
       "        vertical-align: middle;\n",
       "    }\n",
       "\n",
       "    .dataframe tbody tr th {\n",
       "        vertical-align: top;\n",
       "    }\n",
       "\n",
       "    .dataframe thead th {\n",
       "        text-align: right;\n",
       "    }\n",
       "</style>\n",
       "<table border=\"1\" class=\"dataframe\">\n",
       "  <thead>\n",
       "    <tr style=\"text-align: right;\">\n",
       "      <th></th>\n",
       "      <th>organisation_name</th>\n",
       "      <th>competative</th>\n",
       "      <th>amount_applied_for</th>\n",
       "    </tr>\n",
       "  </thead>\n",
       "  <tbody>\n",
       "    <tr>\n",
       "      <th>0</th>\n",
       "      <td>DSTL</td>\n",
       "      <td>Yes</td>\n",
       "      <td>4.619481e+06</td>\n",
       "    </tr>\n",
       "    <tr>\n",
       "      <th>1</th>\n",
       "      <td>NPL</td>\n",
       "      <td>No</td>\n",
       "      <td>5.756753e+06</td>\n",
       "    </tr>\n",
       "    <tr>\n",
       "      <th>2</th>\n",
       "      <td>NPL</td>\n",
       "      <td>Yes</td>\n",
       "      <td>2.498260e+07</td>\n",
       "    </tr>\n",
       "  </tbody>\n",
       "</table>\n",
       "</div>"
      ],
      "text/plain": [
       "  organisation_name competative  amount_applied_for\n",
       "0              DSTL         Yes        4.619481e+06\n",
       "1               NPL          No        5.756753e+06\n",
       "2               NPL         Yes        2.498260e+07"
      ]
     },
     "execution_count": 31,
     "metadata": {},
     "output_type": "execute_result"
    }
   ],
   "source": [
    "data_select.groupby(['organisation_name', 'competative'], as_index=False).agg({'amount_applied_for':'sum'})"
   ]
  },
  {
   "cell_type": "code",
   "execution_count": 32,
   "metadata": {},
   "outputs": [
    {
     "name": "stderr",
     "output_type": "stream",
     "text": [
      "C:\\Users\\MHil02\\AppData\\Local\\Temp\\ipykernel_13480\\1137698173.py:1: UserWarning: pandas only supports SQLAlchemy connectable (engine/connection) or database string URI or sqlite3 DBAPI2 connection. Other DBAPI2 objects are not tested. Please consider using SQLAlchemy.\n",
      "  spend = pd.read_sql(\"SELECT * FROM ukri_ssd_snapshot.2025_04_24_ssd_spend;\", con)\n"
     ]
    }
   ],
   "source": [
    "spend = pd.read_sql(\"SELECT * FROM ukri_ssd_snapshot.2025_04_24_ssd_spend;\", con)"
   ]
  },
  {
   "cell_type": "code",
   "execution_count": 33,
   "metadata": {},
   "outputs": [
    {
     "data": {
      "text/html": [
       "<div>\n",
       "<style scoped>\n",
       "    .dataframe tbody tr th:only-of-type {\n",
       "        vertical-align: middle;\n",
       "    }\n",
       "\n",
       "    .dataframe tbody tr th {\n",
       "        vertical-align: top;\n",
       "    }\n",
       "\n",
       "    .dataframe thead th {\n",
       "        text-align: right;\n",
       "    }\n",
       "</style>\n",
       "<table border=\"1\" class=\"dataframe\">\n",
       "  <thead>\n",
       "    <tr style=\"text-align: right;\">\n",
       "      <th></th>\n",
       "      <th>application_reference</th>\n",
       "      <th>application_source</th>\n",
       "      <th>success_flag</th>\n",
       "      <th>organisation_name</th>\n",
       "    </tr>\n",
       "  </thead>\n",
       "  <tbody>\n",
       "    <tr>\n",
       "      <th>5595</th>\n",
       "      <td>19350</td>\n",
       "      <td>TFS</td>\n",
       "      <td>0</td>\n",
       "      <td>NPL</td>\n",
       "    </tr>\n",
       "    <tr>\n",
       "      <th>9305</th>\n",
       "      <td>36053</td>\n",
       "      <td>TFS</td>\n",
       "      <td>1</td>\n",
       "      <td>NPL</td>\n",
       "    </tr>\n",
       "    <tr>\n",
       "      <th>11001</th>\n",
       "      <td>40817</td>\n",
       "      <td>TFS</td>\n",
       "      <td>1</td>\n",
       "      <td>NPL</td>\n",
       "    </tr>\n",
       "    <tr>\n",
       "      <th>12034</th>\n",
       "      <td>47867</td>\n",
       "      <td>TFS</td>\n",
       "      <td>0</td>\n",
       "      <td>NPL</td>\n",
       "    </tr>\n",
       "    <tr>\n",
       "      <th>12740</th>\n",
       "      <td>44005</td>\n",
       "      <td>TFS</td>\n",
       "      <td>1</td>\n",
       "      <td>NPL</td>\n",
       "    </tr>\n",
       "    <tr>\n",
       "      <th>...</th>\n",
       "      <td>...</td>\n",
       "      <td>...</td>\n",
       "      <td>...</td>\n",
       "      <td>...</td>\n",
       "    </tr>\n",
       "    <tr>\n",
       "      <th>520557</th>\n",
       "      <td>10128555</td>\n",
       "      <td>IUK - IFS</td>\n",
       "      <td>0</td>\n",
       "      <td>NPL</td>\n",
       "    </tr>\n",
       "    <tr>\n",
       "      <th>520558</th>\n",
       "      <td>10129076</td>\n",
       "      <td>IUK - IFS</td>\n",
       "      <td>0</td>\n",
       "      <td>NPL</td>\n",
       "    </tr>\n",
       "    <tr>\n",
       "      <th>520559</th>\n",
       "      <td>10131468</td>\n",
       "      <td>IUK - IFS</td>\n",
       "      <td>0</td>\n",
       "      <td>NPL</td>\n",
       "    </tr>\n",
       "    <tr>\n",
       "      <th>543906</th>\n",
       "      <td>10119788</td>\n",
       "      <td>IUK - IFS</td>\n",
       "      <td>0</td>\n",
       "      <td>DSTL</td>\n",
       "    </tr>\n",
       "    <tr>\n",
       "      <th>561015</th>\n",
       "      <td>10150439</td>\n",
       "      <td>IUK - IFS</td>\n",
       "      <td>0</td>\n",
       "      <td>NPL</td>\n",
       "    </tr>\n",
       "  </tbody>\n",
       "</table>\n",
       "<p>100 rows × 4 columns</p>\n",
       "</div>"
      ],
      "text/plain": [
       "       application_reference application_source  success_flag  \\\n",
       "5595                   19350                TFS             0   \n",
       "9305                   36053                TFS             1   \n",
       "11001                  40817                TFS             1   \n",
       "12034                  47867                TFS             0   \n",
       "12740                  44005                TFS             1   \n",
       "...                      ...                ...           ...   \n",
       "520557              10128555          IUK - IFS             0   \n",
       "520558              10129076          IUK - IFS             0   \n",
       "520559              10131468          IUK - IFS             0   \n",
       "543906              10119788          IUK - IFS             0   \n",
       "561015              10150439          IUK - IFS             0   \n",
       "\n",
       "       organisation_name  \n",
       "5595                 NPL  \n",
       "9305                 NPL  \n",
       "11001                NPL  \n",
       "12034                NPL  \n",
       "12740                NPL  \n",
       "...                  ...  \n",
       "520557               NPL  \n",
       "520558               NPL  \n",
       "520559               NPL  \n",
       "543906              DSTL  \n",
       "561015               NPL  \n",
       "\n",
       "[100 rows x 4 columns]"
      ]
     },
     "execution_count": 33,
     "metadata": {},
     "output_type": "execute_result"
    }
   ],
   "source": [
    "data_select[['application_reference', 'application_source', 'success_flag', 'organisation_name']]"
   ]
  },
  {
   "cell_type": "code",
   "execution_count": 34,
   "metadata": {},
   "outputs": [],
   "source": [
    "data_spend = pd.merge(spend, data_select[['application_reference', 'application_source', 'success_flag', 'organisation_name', 'decision_date']], on=['application_reference', 'application_source'], how='right', indicator=True)\n"
   ]
  },
  {
   "cell_type": "code",
   "execution_count": 35,
   "metadata": {},
   "outputs": [
    {
     "data": {
      "text/html": [
       "<div>\n",
       "<style scoped>\n",
       "    .dataframe tbody tr th:only-of-type {\n",
       "        vertical-align: middle;\n",
       "    }\n",
       "\n",
       "    .dataframe tbody tr th {\n",
       "        vertical-align: top;\n",
       "    }\n",
       "\n",
       "    .dataframe thead th {\n",
       "        text-align: right;\n",
       "    }\n",
       "</style>\n",
       "<table border=\"1\" class=\"dataframe\">\n",
       "  <thead>\n",
       "    <tr style=\"text-align: right;\">\n",
       "      <th></th>\n",
       "      <th>award_reference</th>\n",
       "      <th>transfer_reference</th>\n",
       "      <th>application_reference</th>\n",
       "      <th>paymentdate</th>\n",
       "      <th>paymentdate_financial_year</th>\n",
       "      <th>PaymentQuarterID</th>\n",
       "      <th>ExpenditureType</th>\n",
       "      <th>amount</th>\n",
       "      <th>type</th>\n",
       "      <th>application_source</th>\n",
       "      <th>funder</th>\n",
       "      <th>administrator</th>\n",
       "      <th>payment_type</th>\n",
       "      <th>success_flag</th>\n",
       "      <th>organisation_name</th>\n",
       "      <th>decision_date</th>\n",
       "      <th>_merge</th>\n",
       "    </tr>\n",
       "  </thead>\n",
       "  <tbody>\n",
       "    <tr>\n",
       "      <th>1</th>\n",
       "      <td>NaN</td>\n",
       "      <td>NaN</td>\n",
       "      <td>36053</td>\n",
       "      <td>NaN</td>\n",
       "      <td>NaN</td>\n",
       "      <td>NaN</td>\n",
       "      <td>NaN</td>\n",
       "      <td>NaN</td>\n",
       "      <td>NaN</td>\n",
       "      <td>TFS</td>\n",
       "      <td>NaN</td>\n",
       "      <td>NaN</td>\n",
       "      <td>NaN</td>\n",
       "      <td>1</td>\n",
       "      <td>NPL</td>\n",
       "      <td>2024-10-01 13:11:45</td>\n",
       "      <td>right_only</td>\n",
       "    </tr>\n",
       "    <tr>\n",
       "      <th>2</th>\n",
       "      <td>NaN</td>\n",
       "      <td>NaN</td>\n",
       "      <td>40817</td>\n",
       "      <td>NaN</td>\n",
       "      <td>NaN</td>\n",
       "      <td>NaN</td>\n",
       "      <td>NaN</td>\n",
       "      <td>NaN</td>\n",
       "      <td>NaN</td>\n",
       "      <td>TFS</td>\n",
       "      <td>NaN</td>\n",
       "      <td>NaN</td>\n",
       "      <td>NaN</td>\n",
       "      <td>1</td>\n",
       "      <td>NPL</td>\n",
       "      <td>2024-12-09 16:58:30</td>\n",
       "      <td>right_only</td>\n",
       "    </tr>\n",
       "    <tr>\n",
       "      <th>684</th>\n",
       "      <td>NaN</td>\n",
       "      <td>NaN</td>\n",
       "      <td>25966</td>\n",
       "      <td>NaN</td>\n",
       "      <td>NaN</td>\n",
       "      <td>NaN</td>\n",
       "      <td>NaN</td>\n",
       "      <td>NaN</td>\n",
       "      <td>NaN</td>\n",
       "      <td>IUK - IFS</td>\n",
       "      <td>NaN</td>\n",
       "      <td>NaN</td>\n",
       "      <td>NaN</td>\n",
       "      <td>1</td>\n",
       "      <td>NPL</td>\n",
       "      <td>2018-11-07 00:00:00</td>\n",
       "      <td>right_only</td>\n",
       "    </tr>\n",
       "    <tr>\n",
       "      <th>736</th>\n",
       "      <td>NaN</td>\n",
       "      <td>NaN</td>\n",
       "      <td>10142097</td>\n",
       "      <td>NaN</td>\n",
       "      <td>NaN</td>\n",
       "      <td>NaN</td>\n",
       "      <td>NaN</td>\n",
       "      <td>NaN</td>\n",
       "      <td>NaN</td>\n",
       "      <td>IUK - IFS</td>\n",
       "      <td>NaN</td>\n",
       "      <td>NaN</td>\n",
       "      <td>NaN</td>\n",
       "      <td>1</td>\n",
       "      <td>NPL</td>\n",
       "      <td>2024-11-05 00:00:00</td>\n",
       "      <td>right_only</td>\n",
       "    </tr>\n",
       "    <tr>\n",
       "      <th>747</th>\n",
       "      <td>NaN</td>\n",
       "      <td>NaN</td>\n",
       "      <td>36666</td>\n",
       "      <td>NaN</td>\n",
       "      <td>NaN</td>\n",
       "      <td>NaN</td>\n",
       "      <td>NaN</td>\n",
       "      <td>NaN</td>\n",
       "      <td>NaN</td>\n",
       "      <td>IUK - IFS</td>\n",
       "      <td>NaN</td>\n",
       "      <td>NaN</td>\n",
       "      <td>NaN</td>\n",
       "      <td>1</td>\n",
       "      <td>NPL</td>\n",
       "      <td>2019-07-01 00:00:00</td>\n",
       "      <td>right_only</td>\n",
       "    </tr>\n",
       "    <tr>\n",
       "      <th>752</th>\n",
       "      <td>NaN</td>\n",
       "      <td>NaN</td>\n",
       "      <td>45435</td>\n",
       "      <td>NaN</td>\n",
       "      <td>NaN</td>\n",
       "      <td>NaN</td>\n",
       "      <td>NaN</td>\n",
       "      <td>NaN</td>\n",
       "      <td>NaN</td>\n",
       "      <td>IUK - IFS</td>\n",
       "      <td>NaN</td>\n",
       "      <td>NaN</td>\n",
       "      <td>NaN</td>\n",
       "      <td>1</td>\n",
       "      <td>NPL</td>\n",
       "      <td>2019-12-10 00:00:00</td>\n",
       "      <td>right_only</td>\n",
       "    </tr>\n",
       "    <tr>\n",
       "      <th>760</th>\n",
       "      <td>NaN</td>\n",
       "      <td>NaN</td>\n",
       "      <td>10032640</td>\n",
       "      <td>NaN</td>\n",
       "      <td>NaN</td>\n",
       "      <td>NaN</td>\n",
       "      <td>NaN</td>\n",
       "      <td>NaN</td>\n",
       "      <td>NaN</td>\n",
       "      <td>IUK - IFS</td>\n",
       "      <td>NaN</td>\n",
       "      <td>NaN</td>\n",
       "      <td>NaN</td>\n",
       "      <td>1</td>\n",
       "      <td>NPL</td>\n",
       "      <td>2022-04-27 00:00:00</td>\n",
       "      <td>right_only</td>\n",
       "    </tr>\n",
       "  </tbody>\n",
       "</table>\n",
       "</div>"
      ],
      "text/plain": [
       "    award_reference transfer_reference application_reference paymentdate  \\\n",
       "1               NaN                NaN                 36053         NaN   \n",
       "2               NaN                NaN                 40817         NaN   \n",
       "684             NaN                NaN                 25966         NaN   \n",
       "736             NaN                NaN              10142097         NaN   \n",
       "747             NaN                NaN                 36666         NaN   \n",
       "752             NaN                NaN                 45435         NaN   \n",
       "760             NaN                NaN              10032640         NaN   \n",
       "\n",
       "    paymentdate_financial_year PaymentQuarterID ExpenditureType  amount type  \\\n",
       "1                          NaN              NaN             NaN     NaN  NaN   \n",
       "2                          NaN              NaN             NaN     NaN  NaN   \n",
       "684                        NaN              NaN             NaN     NaN  NaN   \n",
       "736                        NaN              NaN             NaN     NaN  NaN   \n",
       "747                        NaN              NaN             NaN     NaN  NaN   \n",
       "752                        NaN              NaN             NaN     NaN  NaN   \n",
       "760                        NaN              NaN             NaN     NaN  NaN   \n",
       "\n",
       "    application_source funder administrator payment_type  success_flag  \\\n",
       "1                  TFS    NaN           NaN          NaN             1   \n",
       "2                  TFS    NaN           NaN          NaN             1   \n",
       "684          IUK - IFS    NaN           NaN          NaN             1   \n",
       "736          IUK - IFS    NaN           NaN          NaN             1   \n",
       "747          IUK - IFS    NaN           NaN          NaN             1   \n",
       "752          IUK - IFS    NaN           NaN          NaN             1   \n",
       "760          IUK - IFS    NaN           NaN          NaN             1   \n",
       "\n",
       "    organisation_name       decision_date      _merge  \n",
       "1                 NPL 2024-10-01 13:11:45  right_only  \n",
       "2                 NPL 2024-12-09 16:58:30  right_only  \n",
       "684               NPL 2018-11-07 00:00:00  right_only  \n",
       "736               NPL 2024-11-05 00:00:00  right_only  \n",
       "747               NPL 2019-07-01 00:00:00  right_only  \n",
       "752               NPL 2019-12-10 00:00:00  right_only  \n",
       "760               NPL 2022-04-27 00:00:00  right_only  "
      ]
     },
     "execution_count": 35,
     "metadata": {},
     "output_type": "execute_result"
    }
   ],
   "source": [
    "data_spend[(data_spend['_merge'] == 'right_only') & (data_spend['success_flag'] == 1)]"
   ]
  },
  {
   "cell_type": "code",
   "execution_count": 36,
   "metadata": {},
   "outputs": [],
   "source": [
    "data_spend = pd.merge(spend, data_select[['application_reference', 'application_source', 'success_flag', 'organisation_name', 'decision_date']], \n",
    "                      on=['application_reference', 'application_source'])\n"
   ]
  },
  {
   "cell_type": "code",
   "execution_count": 37,
   "metadata": {},
   "outputs": [],
   "source": [
    "data_spend.groupby(['paymentdate_financial_year'], as_index=False).agg({'amount':'sum'}).to_clipboard(index=False)"
   ]
  },
  {
   "cell_type": "code",
   "execution_count": null,
   "metadata": {},
   "outputs": [],
   "source": []
  }
 ],
 "metadata": {
  "kernelspec": {
   "display_name": "base",
   "language": "python",
   "name": "python3"
  },
  "language_info": {
   "codemirror_mode": {
    "name": "ipython",
    "version": 3
   },
   "file_extension": ".py",
   "mimetype": "text/x-python",
   "name": "python",
   "nbconvert_exporter": "python",
   "pygments_lexer": "ipython3",
   "version": "3.12.7"
  }
 },
 "nbformat": 4,
 "nbformat_minor": 2
}
