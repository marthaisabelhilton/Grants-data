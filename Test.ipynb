{
 "cells": [
  {
   "cell_type": "code",
   "execution_count": 1,
   "metadata": {},
   "outputs": [],
   "source": [
    "import pandas as pd\n",
    "import pyodbc"
   ]
  },
  {
   "cell_type": "code",
   "execution_count": 2,
   "metadata": {},
   "outputs": [],
   "source": [
    "# Connect to DataBank\n",
    "connection_string = (\n",
    "    \"DSN=DataBank;\"\n",
    "    \"Trusted_Connection=yes;\"\n",
    ")\n",
    "\n",
    "con = pyodbc.connect(connection_string)"
   ]
  },
  {
   "cell_type": "code",
   "execution_count": 4,
   "metadata": {},
   "outputs": [
    {
     "name": "stderr",
     "output_type": "stream",
     "text": [
      "C:\\Users\\MHil02\\AppData\\Local\\Temp\\ipykernel_20656\\98161138.py:1: UserWarning: pandas only supports SQLAlchemy connectable (engine/connection) or database string URI or sqlite3 DBAPI2 connection. Other DBAPI2 objects are not tested. Please consider using SQLAlchemy.\n",
      "  applications = pd.read_sql(\"SELECT * FROM sra_dw.mv_ssd_application;\", con)\n"
     ]
    }
   ],
   "source": [
    "\n",
    "applications = pd.read_sql(\"SELECT * FROM sra_dw.mv_ssd_application;\", con)"
   ]
  },
  {
   "cell_type": "code",
   "execution_count": 5,
   "metadata": {},
   "outputs": [
    {
     "name": "stderr",
     "output_type": "stream",
     "text": [
      "C:\\Users\\MHil02\\AppData\\Local\\Temp\\ipykernel_20656\\2409300391.py:1: UserWarning: pandas only supports SQLAlchemy connectable (engine/connection) or database string URI or sqlite3 DBAPI2 connection. Other DBAPI2 objects are not tested. Please consider using SQLAlchemy.\n",
      "  organisations = pd.read_sql(\"SELECT * FROM sra_dw.mv_ssd_organisation;\", con)\n"
     ]
    }
   ],
   "source": [
    "\n",
    "organisations = pd.read_sql(\"SELECT * FROM sra_dw.mv_ssd_organisation;\", con)"
   ]
  },
  {
   "cell_type": "code",
   "execution_count": 7,
   "metadata": {},
   "outputs": [
    {
     "data": {
      "text/plain": [
       "Index(['application_reference', 'award_reference', 'funder', 'decision_owner',\n",
       "       'application_source', 'administrator', 'opportunity_id',\n",
       "       'opportunity_source', 'opportunity_name', 'application_category',\n",
       "       'application_status', 'derived_status', 'decision_date',\n",
       "       'lead_organisation_id', 'lead_organisation_department_id',\n",
       "       'application_title', 'amount_applied_for', 'full_economic_cost',\n",
       "       'scheme', 'rejection_reason', 'date_last_received', 'publish_to_gtr',\n",
       "       'application_stage', 'application_stage_status', 'joint_proposal',\n",
       "       'parent_award', 'parent_award_reference', 'redact_abstract_on_gtr',\n",
       "       'organisation_source', 'international_programme'],\n",
       "      dtype='object')"
      ]
     },
     "execution_count": 7,
     "metadata": {},
     "output_type": "execute_result"
    }
   ],
   "source": [
    "applications.columns"
   ]
  },
  {
   "cell_type": "code",
   "execution_count": 8,
   "metadata": {},
   "outputs": [],
   "source": [
    "data_merge = pd.merge(applications, organisations, left_on=['lead_organisation_id', 'organisation_source'], right_on=['organisation_id', 'organisation_source'])\n"
   ]
  },
  {
   "cell_type": "code",
   "execution_count": 9,
   "metadata": {},
   "outputs": [
    {
     "name": "stdout",
     "output_type": "stream",
     "text": [
      "587396\n"
     ]
    }
   ],
   "source": [
    "print(len(applications))"
   ]
  },
  {
   "cell_type": "code",
   "execution_count": 10,
   "metadata": {},
   "outputs": [
    {
     "name": "stdout",
     "output_type": "stream",
     "text": [
      "587396\n"
     ]
    }
   ],
   "source": [
    "print(len(data_merge))"
   ]
  },
  {
   "cell_type": "code",
   "execution_count": 11,
   "metadata": {},
   "outputs": [
    {
     "data": {
      "text/plain": [
       "0"
      ]
     },
     "execution_count": 11,
     "metadata": {},
     "output_type": "execute_result"
    }
   ],
   "source": [
    "organisations[['organisation_id', 'organisation_source']].duplicated().sum()"
   ]
  },
  {
   "cell_type": "code",
   "execution_count": null,
   "metadata": {},
   "outputs": [],
   "source": []
  }
 ],
 "metadata": {
  "kernelspec": {
   "display_name": "base",
   "language": "python",
   "name": "python3"
  },
  "language_info": {
   "codemirror_mode": {
    "name": "ipython",
    "version": 3
   },
   "file_extension": ".py",
   "mimetype": "text/x-python",
   "name": "python",
   "nbconvert_exporter": "python",
   "pygments_lexer": "ipython3",
   "version": "3.12.7"
  }
 },
 "nbformat": 4,
 "nbformat_minor": 2
}
