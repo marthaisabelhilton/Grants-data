{
 "cells": [
  {
   "cell_type": "code",
   "execution_count": 1,
   "metadata": {},
   "outputs": [],
   "source": [
    "import pandas as pd"
   ]
  },
  {
   "cell_type": "code",
   "execution_count": 3,
   "metadata": {},
   "outputs": [],
   "source": [
    "data = pd.read_excel(\"..//OneDrive - UKRI//GGIS_return_23_24_awards_signed_off_13122024.xlsx\", \n",
    "              sheet_name='Awards to publish')"
   ]
  },
  {
   "cell_type": "code",
   "execution_count": 4,
   "metadata": {},
   "outputs": [
    {
     "data": {
      "text/plain": [
       "array(['UK Company', 'UK educational institution', 'UK charity', 'Other',\n",
       "       'International organisation', 'UK public body', 'Charity',\n",
       "       'UK Public body', 'UK Company '], dtype=object)"
      ]
     },
     "execution_count": 4,
     "metadata": {},
     "output_type": "execute_result"
    }
   ],
   "source": [
    "data['Recipient Category'].unique()"
   ]
  },
  {
   "cell_type": "code",
   "execution_count": 6,
   "metadata": {},
   "outputs": [
    {
     "data": {
      "text/plain": [
       "array(['General Grants - Competed'], dtype=object)"
      ]
     },
     "execution_count": 6,
     "metadata": {},
     "output_type": "execute_result"
    }
   ],
   "source": [
    "data['AllocationMethod'].unique()"
   ]
  },
  {
   "cell_type": "code",
   "execution_count": 7,
   "metadata": {},
   "outputs": [],
   "source": [
    "data_select = data.copy()[['OrganisationAward Reference', 'Award Start Year', 'Award End Year', 'Funding agreement value', 'Recipient Name', 'Recipient Category']]"
   ]
  },
  {
   "cell_type": "code",
   "execution_count": 8,
   "metadata": {},
   "outputs": [],
   "source": [
    "data_select['Number of years'] = data_select['Award End Year'] - data_select['Award Start Year'] + 1"
   ]
  },
  {
   "cell_type": "code",
   "execution_count": 9,
   "metadata": {},
   "outputs": [],
   "source": [
    "data_select['Value per year'] = data_select['Funding agreement value']/ data_select['Number of years']"
   ]
  },
  {
   "cell_type": "code",
   "execution_count": 10,
   "metadata": {},
   "outputs": [],
   "source": [
    "def list_years(row):\n",
    "    return list(range(row['Award Start Year'], row['Award End Year'] + 1))"
   ]
  },
  {
   "cell_type": "code",
   "execution_count": 11,
   "metadata": {},
   "outputs": [],
   "source": [
    "data_select['years_active'] = data_select.apply(list_years, axis=1)"
   ]
  },
  {
   "cell_type": "code",
   "execution_count": 12,
   "metadata": {},
   "outputs": [
    {
     "data": {
      "text/html": [
       "<div>\n",
       "<style scoped>\n",
       "    .dataframe tbody tr th:only-of-type {\n",
       "        vertical-align: middle;\n",
       "    }\n",
       "\n",
       "    .dataframe tbody tr th {\n",
       "        vertical-align: top;\n",
       "    }\n",
       "\n",
       "    .dataframe thead th {\n",
       "        text-align: right;\n",
       "    }\n",
       "</style>\n",
       "<table border=\"1\" class=\"dataframe\">\n",
       "  <thead>\n",
       "    <tr style=\"text-align: right;\">\n",
       "      <th></th>\n",
       "      <th>OrganisationAward Reference</th>\n",
       "      <th>Award Start Year</th>\n",
       "      <th>Award End Year</th>\n",
       "      <th>Funding agreement value</th>\n",
       "      <th>Recipient Name</th>\n",
       "      <th>Recipient Category</th>\n",
       "      <th>Number of years</th>\n",
       "      <th>Value per year</th>\n",
       "      <th>years_active</th>\n",
       "    </tr>\n",
       "  </thead>\n",
       "  <tbody>\n",
       "    <tr>\n",
       "      <th>0</th>\n",
       "      <td>10084492</td>\n",
       "      <td>2023</td>\n",
       "      <td>2025</td>\n",
       "      <td>302604.00</td>\n",
       "      <td>&amp;Sisters Ltd</td>\n",
       "      <td>UK Company</td>\n",
       "      <td>3</td>\n",
       "      <td>100868.00</td>\n",
       "      <td>[2023, 2024, 2025]</td>\n",
       "    </tr>\n",
       "    <tr>\n",
       "      <th>1</th>\n",
       "      <td>10044614</td>\n",
       "      <td>2022</td>\n",
       "      <td>2023</td>\n",
       "      <td>13619.00</td>\n",
       "      <td>100Daysofnocode Ltd</td>\n",
       "      <td>UK Company</td>\n",
       "      <td>2</td>\n",
       "      <td>6809.50</td>\n",
       "      <td>[2022, 2023]</td>\n",
       "    </tr>\n",
       "    <tr>\n",
       "      <th>2</th>\n",
       "      <td>10037138</td>\n",
       "      <td>2023</td>\n",
       "      <td>2024</td>\n",
       "      <td>92253.64</td>\n",
       "      <td>10Be5 Ltd.</td>\n",
       "      <td>UK Company</td>\n",
       "      <td>2</td>\n",
       "      <td>46126.82</td>\n",
       "      <td>[2023, 2024]</td>\n",
       "    </tr>\n",
       "    <tr>\n",
       "      <th>3</th>\n",
       "      <td>10077118</td>\n",
       "      <td>2023</td>\n",
       "      <td>2024</td>\n",
       "      <td>24640.50</td>\n",
       "      <td>1749 Ltd.</td>\n",
       "      <td>UK Company</td>\n",
       "      <td>2</td>\n",
       "      <td>12320.25</td>\n",
       "      <td>[2023, 2024]</td>\n",
       "    </tr>\n",
       "    <tr>\n",
       "      <th>4</th>\n",
       "      <td>10034038</td>\n",
       "      <td>2022</td>\n",
       "      <td>2024</td>\n",
       "      <td>200010.00</td>\n",
       "      <td>17Cicada Ltd</td>\n",
       "      <td>UK Company</td>\n",
       "      <td>3</td>\n",
       "      <td>66670.00</td>\n",
       "      <td>[2022, 2023, 2024]</td>\n",
       "    </tr>\n",
       "    <tr>\n",
       "      <th>...</th>\n",
       "      <td>...</td>\n",
       "      <td>...</td>\n",
       "      <td>...</td>\n",
       "      <td>...</td>\n",
       "      <td>...</td>\n",
       "      <td>...</td>\n",
       "      <td>...</td>\n",
       "      <td>...</td>\n",
       "      <td>...</td>\n",
       "    </tr>\n",
       "    <tr>\n",
       "      <th>27690</th>\n",
       "      <td>10043198</td>\n",
       "      <td>2022</td>\n",
       "      <td>2023</td>\n",
       "      <td>45464.00</td>\n",
       "      <td>Zucy Ltd</td>\n",
       "      <td>UK Company</td>\n",
       "      <td>2</td>\n",
       "      <td>22732.00</td>\n",
       "      <td>[2022, 2023]</td>\n",
       "    </tr>\n",
       "    <tr>\n",
       "      <th>27691</th>\n",
       "      <td>10088379</td>\n",
       "      <td>2023</td>\n",
       "      <td>2024</td>\n",
       "      <td>39999.00</td>\n",
       "      <td>Zugbox Limited</td>\n",
       "      <td>UK Company</td>\n",
       "      <td>2</td>\n",
       "      <td>19999.50</td>\n",
       "      <td>[2023, 2024]</td>\n",
       "    </tr>\n",
       "    <tr>\n",
       "      <th>27692</th>\n",
       "      <td>10043951</td>\n",
       "      <td>2022</td>\n",
       "      <td>2023</td>\n",
       "      <td>42662.00</td>\n",
       "      <td>Zuntold Ltd</td>\n",
       "      <td>UK Company</td>\n",
       "      <td>2</td>\n",
       "      <td>21331.00</td>\n",
       "      <td>[2022, 2023]</td>\n",
       "    </tr>\n",
       "    <tr>\n",
       "      <th>27693</th>\n",
       "      <td>10074233</td>\n",
       "      <td>2023</td>\n",
       "      <td>2023</td>\n",
       "      <td>49261.00</td>\n",
       "      <td>Zutrex Limited</td>\n",
       "      <td>UK Company</td>\n",
       "      <td>1</td>\n",
       "      <td>49261.00</td>\n",
       "      <td>[2023]</td>\n",
       "    </tr>\n",
       "    <tr>\n",
       "      <th>27694</th>\n",
       "      <td>10074549</td>\n",
       "      <td>2023</td>\n",
       "      <td>2023</td>\n",
       "      <td>49921.00</td>\n",
       "      <td>Zytca Limited</td>\n",
       "      <td>UK Company</td>\n",
       "      <td>1</td>\n",
       "      <td>49921.00</td>\n",
       "      <td>[2023]</td>\n",
       "    </tr>\n",
       "  </tbody>\n",
       "</table>\n",
       "<p>27695 rows × 9 columns</p>\n",
       "</div>"
      ],
      "text/plain": [
       "      OrganisationAward Reference  Award Start Year  Award End Year  \\\n",
       "0                        10084492              2023            2025   \n",
       "1                        10044614              2022            2023   \n",
       "2                        10037138              2023            2024   \n",
       "3                        10077118              2023            2024   \n",
       "4                        10034038              2022            2024   \n",
       "...                           ...               ...             ...   \n",
       "27690                    10043198              2022            2023   \n",
       "27691                    10088379              2023            2024   \n",
       "27692                    10043951              2022            2023   \n",
       "27693                    10074233              2023            2023   \n",
       "27694                    10074549              2023            2023   \n",
       "\n",
       "       Funding agreement value       Recipient Name Recipient Category  \\\n",
       "0                    302604.00         &Sisters Ltd         UK Company   \n",
       "1                     13619.00  100Daysofnocode Ltd         UK Company   \n",
       "2                     92253.64           10Be5 Ltd.         UK Company   \n",
       "3                     24640.50            1749 Ltd.         UK Company   \n",
       "4                    200010.00         17Cicada Ltd         UK Company   \n",
       "...                        ...                  ...                ...   \n",
       "27690                 45464.00             Zucy Ltd         UK Company   \n",
       "27691                 39999.00       Zugbox Limited         UK Company   \n",
       "27692                 42662.00          Zuntold Ltd         UK Company   \n",
       "27693                 49261.00       Zutrex Limited         UK Company   \n",
       "27694                 49921.00        Zytca Limited         UK Company   \n",
       "\n",
       "       Number of years  Value per year        years_active  \n",
       "0                    3       100868.00  [2023, 2024, 2025]  \n",
       "1                    2         6809.50        [2022, 2023]  \n",
       "2                    2        46126.82        [2023, 2024]  \n",
       "3                    2        12320.25        [2023, 2024]  \n",
       "4                    3        66670.00  [2022, 2023, 2024]  \n",
       "...                ...             ...                 ...  \n",
       "27690                2        22732.00        [2022, 2023]  \n",
       "27691                2        19999.50        [2023, 2024]  \n",
       "27692                2        21331.00        [2022, 2023]  \n",
       "27693                1        49261.00              [2023]  \n",
       "27694                1        49921.00              [2023]  \n",
       "\n",
       "[27695 rows x 9 columns]"
      ]
     },
     "execution_count": 12,
     "metadata": {},
     "output_type": "execute_result"
    }
   ],
   "source": [
    "data_select"
   ]
  },
  {
   "cell_type": "code",
   "execution_count": 13,
   "metadata": {},
   "outputs": [],
   "source": [
    "df_explode = data_select.explode(column='years_active')\n"
   ]
  },
  {
   "cell_type": "code",
   "execution_count": 14,
   "metadata": {},
   "outputs": [],
   "source": [
    "data_company = df_explode.copy()[(data['Recipient Category'] == 'UK Company') & (~df_explode['Recipient Name'].str.contains('Catapult'))]"
   ]
  },
  {
   "cell_type": "code",
   "execution_count": 18,
   "metadata": {},
   "outputs": [],
   "source": [
    "data1 = data_company.groupby('years_active', as_index=False).agg({'OrganisationAward Reference':'nunique', 'Value per year':'sum', 'Recipient Name':'nunique'})"
   ]
  },
  {
   "cell_type": "code",
   "execution_count": 19,
   "metadata": {},
   "outputs": [],
   "source": [
    "data_total = df_explode.groupby('years_active', as_index=False).agg({'OrganisationAward Reference':'nunique', 'Value per year':'sum', 'Recipient Name':'nunique'})"
   ]
  },
  {
   "cell_type": "code",
   "execution_count": 28,
   "metadata": {},
   "outputs": [],
   "source": [
    "data_out = pd.merge(data1, data_total, on='years_active').drop(columns=['OrganisationAward Reference_y', 'Recipient Name_y'])\n",
    "\n",
    "data_out.rename(columns={'years_active':'Year','OrganisationAward Reference_x':'Number of awards', 'Recipient Name_x':'Number of orgs', 'Value per year_x':'Value per year'}, inplace=True)\n",
    "\n",
    "data_out['Value % Total'] = data_out['Value per year']/data_out['Value per year_y']*100\n",
    "\n",
    "data_out.drop(columns='Value per year_y').to_clipboard(index=False)"
   ]
  },
  {
   "cell_type": "code",
   "execution_count": null,
   "metadata": {},
   "outputs": [],
   "source": [
    "data_out = df_explode.groupby('years_active', as_index=False).agg({'OrganisationAward Reference':'nunique', 'Value per year':'sum', 'Recipient Name':'nunique'})\n",
    "data_out.rename(columns={'years_active':'Year','OrganisationAward Reference':'Number of awards', 'Recipient Name':'Number of orgs'}).to_clipboard(index=False)\n",
    "\n"
   ]
  },
  {
   "cell_type": "code",
   "execution_count": 48,
   "metadata": {},
   "outputs": [],
   "source": [
    "data_group = df_explode.groupby(['Recipient Name', 'years_active'], as_index=False).agg({'Value per year':'sum', 'OrganisationAward Reference':'nunique'})\n",
    "\n"
   ]
  },
  {
   "cell_type": "code",
   "execution_count": 50,
   "metadata": {},
   "outputs": [],
   "source": [
    "data_out = data_group.sort_values('Value per year', ascending=False).rename(columns={'years_active':'Year', 'OrganisationAward Reference':'Number of awards'})\n"
   ]
  },
  {
   "cell_type": "code",
   "execution_count": null,
   "metadata": {},
   "outputs": [],
   "source": [
    "data_out[~data_out['Recipient Name'].str.contains('Catapult')].groupby('Year')"
   ]
  },
  {
   "cell_type": "code",
   "execution_count": null,
   "metadata": {},
   "outputs": [],
   "source": [
    "df_explode[df_explode['Recipient Name'].str.contains('Rolls-Royce')]"
   ]
  },
  {
   "cell_type": "code",
   "execution_count": 39,
   "metadata": {},
   "outputs": [],
   "source": [
    "data_company.sort_values(by='Funding agreement value', ascending=False).to_clipboard(index=False)"
   ]
  },
  {
   "cell_type": "code",
   "execution_count": 36,
   "metadata": {},
   "outputs": [
    {
     "data": {
      "text/html": [
       "<div>\n",
       "<style scoped>\n",
       "    .dataframe tbody tr th:only-of-type {\n",
       "        vertical-align: middle;\n",
       "    }\n",
       "\n",
       "    .dataframe tbody tr th {\n",
       "        vertical-align: top;\n",
       "    }\n",
       "\n",
       "    .dataframe thead th {\n",
       "        text-align: right;\n",
       "    }\n",
       "</style>\n",
       "<table border=\"1\" class=\"dataframe\">\n",
       "  <thead>\n",
       "    <tr style=\"text-align: right;\">\n",
       "      <th></th>\n",
       "      <th>Award Start Year</th>\n",
       "      <th>Award End Year</th>\n",
       "      <th>Funding agreement value</th>\n",
       "      <th>Number of years</th>\n",
       "      <th>Value per year</th>\n",
       "    </tr>\n",
       "    <tr>\n",
       "      <th>years_active</th>\n",
       "      <th></th>\n",
       "      <th></th>\n",
       "      <th></th>\n",
       "      <th></th>\n",
       "      <th></th>\n",
       "    </tr>\n",
       "  </thead>\n",
       "  <tbody>\n",
       "    <tr>\n",
       "      <th>2018</th>\n",
       "      <td>4036</td>\n",
       "      <td>4047</td>\n",
       "      <td>9.276814e+07</td>\n",
       "      <td>13</td>\n",
       "      <td>1.542253e+07</td>\n",
       "    </tr>\n",
       "    <tr>\n",
       "      <th>2019</th>\n",
       "      <td>4036</td>\n",
       "      <td>4047</td>\n",
       "      <td>9.276814e+07</td>\n",
       "      <td>13</td>\n",
       "      <td>1.542253e+07</td>\n",
       "    </tr>\n",
       "    <tr>\n",
       "      <th>2020</th>\n",
       "      <td>10096</td>\n",
       "      <td>10119</td>\n",
       "      <td>9.623771e+07</td>\n",
       "      <td>28</td>\n",
       "      <td>1.607541e+07</td>\n",
       "    </tr>\n",
       "    <tr>\n",
       "      <th>2021</th>\n",
       "      <td>18180</td>\n",
       "      <td>18217</td>\n",
       "      <td>1.060068e+08</td>\n",
       "      <td>46</td>\n",
       "      <td>1.824814e+07</td>\n",
       "    </tr>\n",
       "    <tr>\n",
       "      <th>2022</th>\n",
       "      <td>48510</td>\n",
       "      <td>48580</td>\n",
       "      <td>1.117282e+08</td>\n",
       "      <td>94</td>\n",
       "      <td>1.971191e+07</td>\n",
       "    </tr>\n",
       "    <tr>\n",
       "      <th>2023</th>\n",
       "      <td>88970</td>\n",
       "      <td>89084</td>\n",
       "      <td>2.130493e+08</td>\n",
       "      <td>158</td>\n",
       "      <td>3.887275e+07</td>\n",
       "    </tr>\n",
       "    <tr>\n",
       "      <th>2024</th>\n",
       "      <td>80891</td>\n",
       "      <td>80996</td>\n",
       "      <td>1.219259e+08</td>\n",
       "      <td>145</td>\n",
       "      <td>2.358348e+07</td>\n",
       "    </tr>\n",
       "    <tr>\n",
       "      <th>2025</th>\n",
       "      <td>44497</td>\n",
       "      <td>44564</td>\n",
       "      <td>1.092546e+08</td>\n",
       "      <td>89</td>\n",
       "      <td>1.953381e+07</td>\n",
       "    </tr>\n",
       "    <tr>\n",
       "      <th>2026</th>\n",
       "      <td>20227</td>\n",
       "      <td>20264</td>\n",
       "      <td>1.005190e+08</td>\n",
       "      <td>47</td>\n",
       "      <td>1.744713e+07</td>\n",
       "    </tr>\n",
       "    <tr>\n",
       "      <th>2027</th>\n",
       "      <td>6070</td>\n",
       "      <td>6082</td>\n",
       "      <td>9.068239e+07</td>\n",
       "      <td>15</td>\n",
       "      <td>1.528061e+07</td>\n",
       "    </tr>\n",
       "    <tr>\n",
       "      <th>2028</th>\n",
       "      <td>2023</td>\n",
       "      <td>2028</td>\n",
       "      <td>8.733283e+07</td>\n",
       "      <td>6</td>\n",
       "      <td>1.455547e+07</td>\n",
       "    </tr>\n",
       "  </tbody>\n",
       "</table>\n",
       "</div>"
      ],
      "text/plain": [
       "              Award Start Year  Award End Year  Funding agreement value  \\\n",
       "years_active                                                              \n",
       "2018                      4036            4047             9.276814e+07   \n",
       "2019                      4036            4047             9.276814e+07   \n",
       "2020                     10096           10119             9.623771e+07   \n",
       "2021                     18180           18217             1.060068e+08   \n",
       "2022                     48510           48580             1.117282e+08   \n",
       "2023                     88970           89084             2.130493e+08   \n",
       "2024                     80891           80996             1.219259e+08   \n",
       "2025                     44497           44564             1.092546e+08   \n",
       "2026                     20227           20264             1.005190e+08   \n",
       "2027                      6070            6082             9.068239e+07   \n",
       "2028                      2023            2028             8.733283e+07   \n",
       "\n",
       "              Number of years  Value per year  \n",
       "years_active                                   \n",
       "2018                       13    1.542253e+07  \n",
       "2019                       13    1.542253e+07  \n",
       "2020                       28    1.607541e+07  \n",
       "2021                       46    1.824814e+07  \n",
       "2022                       94    1.971191e+07  \n",
       "2023                      158    3.887275e+07  \n",
       "2024                      145    2.358348e+07  \n",
       "2025                       89    1.953381e+07  \n",
       "2026                       47    1.744713e+07  \n",
       "2027                       15    1.528061e+07  \n",
       "2028                        6    1.455547e+07  "
      ]
     },
     "execution_count": 36,
     "metadata": {},
     "output_type": "execute_result"
    }
   ],
   "source": [
    "data_company[data_company['Recipient Name'] == 'The Manufacturing Technology Centre Limited'].groupby('years_active').sum(numeric_only=True)"
   ]
  },
  {
   "cell_type": "code",
   "execution_count": 38,
   "metadata": {},
   "outputs": [
    {
     "data": {
      "text/plain": [
       "3.79746835443038"
      ]
     },
     "execution_count": 38,
     "metadata": {},
     "output_type": "execute_result"
    }
   ],
   "source": [
    "39/1027*100\n"
   ]
  },
  {
   "cell_type": "code",
   "execution_count": 41,
   "metadata": {},
   "outputs": [
    {
     "data": {
      "text/plain": [
       "0.19847567635620156"
      ]
     },
     "execution_count": 41,
     "metadata": {},
     "output_type": "execute_result"
    }
   ],
   "source": [
    "203997656.7/1027821950"
   ]
  },
  {
   "cell_type": "code",
   "execution_count": 44,
   "metadata": {},
   "outputs": [
    {
     "data": {
      "text/plain": [
       "array(['Cell Therapy Catapult Limited',\n",
       "       'Compound Semiconductor Applications Catapult Limited',\n",
       "       'Connected Places Catapult', 'Digital Catapult',\n",
       "       'Energy Systems Catapult Limited',\n",
       "       'High Value Manufacturing Catapult',\n",
       "       'Medicines Discovery Catapult Limited',\n",
       "       'Offshore Renewable Energy Catapult',\n",
       "       'Satellite Applications Catapult Limited',\n",
       "       'Satellite Applications Catapult Services Limited'], dtype=object)"
      ]
     },
     "execution_count": 44,
     "metadata": {},
     "output_type": "execute_result"
    }
   ],
   "source": [
    "data[data['Recipient Name'].str.contains('Catapult')]['Recipient Name'].unique()"
   ]
  },
  {
   "cell_type": "code",
   "execution_count": 46,
   "metadata": {},
   "outputs": [
    {
     "data": {
      "text/html": [
       "<div>\n",
       "<style scoped>\n",
       "    .dataframe tbody tr th:only-of-type {\n",
       "        vertical-align: middle;\n",
       "    }\n",
       "\n",
       "    .dataframe tbody tr th {\n",
       "        vertical-align: top;\n",
       "    }\n",
       "\n",
       "    .dataframe thead th {\n",
       "        text-align: right;\n",
       "    }\n",
       "</style>\n",
       "<table border=\"1\" class=\"dataframe\">\n",
       "  <thead>\n",
       "    <tr style=\"text-align: right;\">\n",
       "      <th></th>\n",
       "      <th>Award Start Year</th>\n",
       "      <th>Award End Year</th>\n",
       "      <th>Funding agreement value</th>\n",
       "      <th>Number of years</th>\n",
       "      <th>Value per year</th>\n",
       "    </tr>\n",
       "    <tr>\n",
       "      <th>years_active</th>\n",
       "      <th></th>\n",
       "      <th></th>\n",
       "      <th></th>\n",
       "      <th></th>\n",
       "      <th></th>\n",
       "    </tr>\n",
       "  </thead>\n",
       "  <tbody>\n",
       "    <tr>\n",
       "      <th>2018</th>\n",
       "      <td>16144</td>\n",
       "      <td>16184</td>\n",
       "      <td>6.002408e+08</td>\n",
       "      <td>48</td>\n",
       "      <td>1.000401e+08</td>\n",
       "    </tr>\n",
       "    <tr>\n",
       "      <th>2019</th>\n",
       "      <td>20182</td>\n",
       "      <td>20231</td>\n",
       "      <td>6.946432e+08</td>\n",
       "      <td>59</td>\n",
       "      <td>1.188974e+08</td>\n",
       "    </tr>\n",
       "    <tr>\n",
       "      <th>2020</th>\n",
       "      <td>34322</td>\n",
       "      <td>34399</td>\n",
       "      <td>8.271066e+08</td>\n",
       "      <td>94</td>\n",
       "      <td>1.411382e+08</td>\n",
       "    </tr>\n",
       "    <tr>\n",
       "      <th>2021</th>\n",
       "      <td>58574</td>\n",
       "      <td>58690</td>\n",
       "      <td>8.444226e+08</td>\n",
       "      <td>145</td>\n",
       "      <td>1.447700e+08</td>\n",
       "    </tr>\n",
       "    <tr>\n",
       "      <th>2022</th>\n",
       "      <td>151586</td>\n",
       "      <td>151815</td>\n",
       "      <td>8.697285e+08</td>\n",
       "      <td>304</td>\n",
       "      <td>1.516177e+08</td>\n",
       "    </tr>\n",
       "    <tr>\n",
       "      <th>2023</th>\n",
       "      <td>274989</td>\n",
       "      <td>275346</td>\n",
       "      <td>1.582119e+09</td>\n",
       "      <td>493</td>\n",
       "      <td>2.752830e+08</td>\n",
       "    </tr>\n",
       "    <tr>\n",
       "      <th>2024</th>\n",
       "      <td>218412</td>\n",
       "      <td>218707</td>\n",
       "      <td>8.850026e+08</td>\n",
       "      <td>403</td>\n",
       "      <td>1.550352e+08</td>\n",
       "    </tr>\n",
       "    <tr>\n",
       "      <th>2025</th>\n",
       "      <td>145618</td>\n",
       "      <td>145843</td>\n",
       "      <td>8.724086e+08</td>\n",
       "      <td>297</td>\n",
       "      <td>1.511558e+08</td>\n",
       "    </tr>\n",
       "    <tr>\n",
       "      <th>2026</th>\n",
       "      <td>38432</td>\n",
       "      <td>38518</td>\n",
       "      <td>6.978361e+08</td>\n",
       "      <td>105</td>\n",
       "      <td>1.167640e+08</td>\n",
       "    </tr>\n",
       "    <tr>\n",
       "      <th>2027</th>\n",
       "      <td>26297</td>\n",
       "      <td>26362</td>\n",
       "      <td>6.867217e+08</td>\n",
       "      <td>78</td>\n",
       "      <td>1.144351e+08</td>\n",
       "    </tr>\n",
       "    <tr>\n",
       "      <th>2028</th>\n",
       "      <td>22253</td>\n",
       "      <td>22308</td>\n",
       "      <td>6.856243e+08</td>\n",
       "      <td>66</td>\n",
       "      <td>1.142707e+08</td>\n",
       "    </tr>\n",
       "  </tbody>\n",
       "</table>\n",
       "</div>"
      ],
      "text/plain": [
       "              Award Start Year  Award End Year  Funding agreement value  \\\n",
       "years_active                                                              \n",
       "2018                     16144           16184             6.002408e+08   \n",
       "2019                     20182           20231             6.946432e+08   \n",
       "2020                     34322           34399             8.271066e+08   \n",
       "2021                     58574           58690             8.444226e+08   \n",
       "2022                    151586          151815             8.697285e+08   \n",
       "2023                    274989          275346             1.582119e+09   \n",
       "2024                    218412          218707             8.850026e+08   \n",
       "2025                    145618          145843             8.724086e+08   \n",
       "2026                     38432           38518             6.978361e+08   \n",
       "2027                     26297           26362             6.867217e+08   \n",
       "2028                     22253           22308             6.856243e+08   \n",
       "\n",
       "              Number of years  Value per year  \n",
       "years_active                                   \n",
       "2018                       48    1.000401e+08  \n",
       "2019                       59    1.188974e+08  \n",
       "2020                       94    1.411382e+08  \n",
       "2021                      145    1.447700e+08  \n",
       "2022                      304    1.516177e+08  \n",
       "2023                      493    2.752830e+08  \n",
       "2024                      403    1.550352e+08  \n",
       "2025                      297    1.511558e+08  \n",
       "2026                      105    1.167640e+08  \n",
       "2027                       78    1.144351e+08  \n",
       "2028                       66    1.142707e+08  "
      ]
     },
     "execution_count": 46,
     "metadata": {},
     "output_type": "execute_result"
    }
   ],
   "source": [
    "df_explode[df_explode['Recipient Name'].str.contains('Catapult')].groupby('years_active').sum(numeric_only=True)"
   ]
  },
  {
   "cell_type": "code",
   "execution_count": 47,
   "metadata": {},
   "outputs": [
    {
     "data": {
      "text/plain": [
       "0.275"
      ]
     },
     "execution_count": 47,
     "metadata": {},
     "output_type": "execute_result"
    }
   ],
   "source": [
    "275/1000"
   ]
  },
  {
   "cell_type": "code",
   "execution_count": null,
   "metadata": {},
   "outputs": [],
   "source": []
  }
 ],
 "metadata": {
  "kernelspec": {
   "display_name": "base",
   "language": "python",
   "name": "python3"
  },
  "language_info": {
   "codemirror_mode": {
    "name": "ipython",
    "version": 3
   },
   "file_extension": ".py",
   "mimetype": "text/x-python",
   "name": "python",
   "nbconvert_exporter": "python",
   "pygments_lexer": "ipython3",
   "version": "3.12.7"
  }
 },
 "nbformat": 4,
 "nbformat_minor": 2
}
