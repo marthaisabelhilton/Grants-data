{
 "cells": [
  {
   "cell_type": "code",
   "execution_count": 1,
   "metadata": {},
   "outputs": [],
   "source": [
    "import pandas as pd\n",
    "import pyodbc"
   ]
  },
  {
   "cell_type": "code",
   "execution_count": 2,
   "metadata": {},
   "outputs": [],
   "source": [
    "# Connect to DataBank\n",
    "connection_string = (\n",
    "    \"DSN=DataBank;\"\n",
    "    \"Trusted_Connection=yes;\"\n",
    ")\n",
    "\n",
    "con = pyodbc.connect(connection_string)"
   ]
  },
  {
   "cell_type": "code",
   "execution_count": 3,
   "metadata": {},
   "outputs": [
    {
     "name": "stderr",
     "output_type": "stream",
     "text": [
      "C:\\Users\\MHil02\\AppData\\Local\\Temp\\ipykernel_27056\\2744576192.py:5: UserWarning: pandas only supports SQLAlchemy connectable (engine/connection) or database string URI or sqlite3 DBAPI2 connection. Other DBAPI2 objects are not tested. Please consider using SQLAlchemy.\n",
      "  df= pd.read_sql(qry, con)\n"
     ]
    }
   ],
   "source": [
    "# Write sql query\n",
    "qry = \"SELECT * FROM ukri_ssd_snapshot.2024_10_04_ssd_award_profiles;\"\n",
    "\n",
    "# Read sql query\n",
    "df= pd.read_sql(qry, con)"
   ]
  },
  {
   "cell_type": "code",
   "execution_count": 4,
   "metadata": {},
   "outputs": [
    {
     "data": {
      "text/plain": [
       "0"
      ]
     },
     "execution_count": 4,
     "metadata": {},
     "output_type": "execute_result"
    }
   ],
   "source": [
    "df['award_reference'].isna().sum()"
   ]
  },
  {
   "cell_type": "code",
   "execution_count": 5,
   "metadata": {},
   "outputs": [
    {
     "name": "stderr",
     "output_type": "stream",
     "text": [
      "C:\\Users\\MHil02\\AppData\\Local\\Temp\\ipykernel_27056\\746504601.py:5: UserWarning: pandas only supports SQLAlchemy connectable (engine/connection) or database string URI or sqlite3 DBAPI2 connection. Other DBAPI2 objects are not tested. Please consider using SQLAlchemy.\n",
      "  df_applications = pd.read_sql(qry, con)\n"
     ]
    }
   ],
   "source": [
    "# Write sql query\n",
    "qry = \"SELECT * FROM ukri_ssd_snapshot.2024_10_04_ssd_application;\"\n",
    "\n",
    "# Read sql query\n",
    "df_applications = pd.read_sql(qry, con)"
   ]
  },
  {
   "cell_type": "code",
   "execution_count": 6,
   "metadata": {},
   "outputs": [
    {
     "data": {
      "text/plain": [
       "291"
      ]
     },
     "execution_count": 6,
     "metadata": {},
     "output_type": "execute_result"
    }
   ],
   "source": [
    "df_applications[['application_reference', 'award_reference', 'application_source']].duplicated().sum()"
   ]
  },
  {
   "cell_type": "code",
   "execution_count": 7,
   "metadata": {},
   "outputs": [
    {
     "data": {
      "text/plain": [
       "Index(['application_reference', 'award_reference', 'funder', 'decision_owner',\n",
       "       'application_source', 'administrator', 'opportunity_id',\n",
       "       'opportunity_name', 'application_category', 'application_status',\n",
       "       'derived_status', 'decision_date', 'lead_organisation_id',\n",
       "       'lead_organisation_department_id', 'application_title',\n",
       "       'amount_applied_for', 'full_economic_cost', 'scheme',\n",
       "       'rejection_reason', 'date_last_received', 'publish_to_gtr',\n",
       "       'application_stage', 'application_stage_status', 'joint_proposal',\n",
       "       'parent_award', 'parent_award_reference', 'redact_abstract_on_gtr',\n",
       "       'organisation_source', 'international_programme'],\n",
       "      dtype='object')"
      ]
     },
     "execution_count": 7,
     "metadata": {},
     "output_type": "execute_result"
    }
   ],
   "source": [
    "df_applications.columns"
   ]
  },
  {
   "cell_type": "code",
   "execution_count": 8,
   "metadata": {},
   "outputs": [],
   "source": [
    "df_app = df_applications[['application_reference', 'award_reference', 'application_source', 'funder', 'application_category']].drop_duplicates(keep=False)\n"
   ]
  },
  {
   "cell_type": "code",
   "execution_count": 9,
   "metadata": {},
   "outputs": [],
   "source": [
    "data_merge = pd.merge(df, df_app, on=['award_reference', 'application_source'], how='left', indicator=True)\n"
   ]
  },
  {
   "cell_type": "code",
   "execution_count": 10,
   "metadata": {},
   "outputs": [
    {
     "data": {
      "text/plain": [
       "77266092921.94936"
      ]
     },
     "execution_count": 10,
     "metadata": {},
     "output_type": "execute_result"
    }
   ],
   "source": [
    "data_merge['amount'].sum()"
   ]
  },
  {
   "cell_type": "code",
   "execution_count": 11,
   "metadata": {},
   "outputs": [
    {
     "data": {
      "text/plain": [
       "525199279.9159"
      ]
     },
     "execution_count": 11,
     "metadata": {},
     "output_type": "execute_result"
    }
   ],
   "source": [
    "data_merge[data_merge['_merge'] == 'left_only']['amount'].sum()"
   ]
  },
  {
   "cell_type": "code",
   "execution_count": 12,
   "metadata": {},
   "outputs": [
    {
     "data": {
      "text/plain": [
       "0.6797280152969972"
      ]
     },
     "execution_count": 12,
     "metadata": {},
     "output_type": "execute_result"
    }
   ],
   "source": [
    "525199279.9159/77266092921.94936*100  # < 1% so can exclude"
   ]
  },
  {
   "cell_type": "code",
   "execution_count": 13,
   "metadata": {},
   "outputs": [],
   "source": [
    "data_both = data_merge.copy()[data_merge['_merge'] == 'both']\n"
   ]
  },
  {
   "cell_type": "code",
   "execution_count": 14,
   "metadata": {},
   "outputs": [
    {
     "data": {
      "text/plain": [
       "array(['Fellowship', 'Research Grant', 'Training Grant', 'Intramural',\n",
       "       'P&Cs', 'Research and Innovation', 'Other Grant', 'Studentship',\n",
       "       None, 'Feasibility Studies', 'Collaborative R&D',\n",
       "       'GRD Development of Prototype', 'GRD Proof of Market', 'Vouchers',\n",
       "       'GRD Proof of Concept', 'Small Business Research Initiative',\n",
       "       'Knowledge Transfer Partnership', 'EU-Funded',\n",
       "       'BEIS-Funded Programmes', 'Fast Track', 'Legacy RDA Grant for R&D',\n",
       "       'Study', 'Procurement', 'Grant for R&D', 'Demonstrator',\n",
       "       'CR&D Bilateral', 'SME Support', 'Large Project',\n",
       "       'Knowledge Transfer Network', 'Launchpad', 'Centres',\n",
       "       'Innovation Loans', 'Responsive Strategy and Planning',\n",
       "       'Special Interest Group', 'Legacy RDA Collaborative R&D',\n",
       "       'European Enterprise Network',\n",
       "       'Legacy Department of Trade & Industry', 'Missions',\n",
       "       'Investment Accelerator', 'Business Connect',\n",
       "       'Department for Science, Innovation & Technology',\n",
       "       'Memorandum of Agreement'], dtype=object)"
      ]
     },
     "execution_count": 14,
     "metadata": {},
     "output_type": "execute_result"
    }
   ],
   "source": [
    "data_both['application_category'].unique()"
   ]
  },
  {
   "cell_type": "code",
   "execution_count": 15,
   "metadata": {},
   "outputs": [],
   "source": [
    "data_both.drop(columns=['transfer_reference', 'payment_profile_quarter_id', '_merge', 'application_reference_y'], inplace=True)"
   ]
  },
  {
   "cell_type": "code",
   "execution_count": 16,
   "metadata": {},
   "outputs": [],
   "source": [
    "data_both.rename(columns={'application_reference_x':'application_reference'}, inplace=True)"
   ]
  },
  {
   "cell_type": "code",
   "execution_count": 17,
   "metadata": {},
   "outputs": [
    {
     "name": "stderr",
     "output_type": "stream",
     "text": [
      "C:\\Users\\MHil02\\AppData\\Local\\Temp\\ipykernel_27056\\2747524204.py:5: UserWarning: pandas only supports SQLAlchemy connectable (engine/connection) or database string URI or sqlite3 DBAPI2 connection. Other DBAPI2 objects are not tested. Please consider using SQLAlchemy.\n",
      "  df_awards = pd.read_sql(qry, con)\n"
     ]
    }
   ],
   "source": [
    "# Write sql query\n",
    "qry = \"SELECT * FROM ukri_ssd_snapshot.2024_10_04_ssd_award;\"\n",
    "\n",
    "# Read sql query\n",
    "df_awards = pd.read_sql(qry, con)"
   ]
  },
  {
   "cell_type": "code",
   "execution_count": 18,
   "metadata": {},
   "outputs": [
    {
     "data": {
      "text/plain": [
       "261"
      ]
     },
     "execution_count": 18,
     "metadata": {},
     "output_type": "execute_result"
    }
   ],
   "source": [
    "df_awards[['award_reference', 'application_source']].duplicated().sum()"
   ]
  },
  {
   "cell_type": "code",
   "execution_count": 19,
   "metadata": {},
   "outputs": [
    {
     "name": "stdout",
     "output_type": "stream",
     "text": [
      "0.1261505844657307\n",
      "0.1517036963978507\n"
     ]
    }
   ],
   "source": [
    "df_awards['award_reference'] = df_awards['award_reference'].replace('Unknown', None)\n",
    "\n",
    "print(df_awards['award_reference'].isna().sum()/len(df_awards)*100)\n",
    "\n",
    "# Only represents 0.13% of awards\n",
    "\n",
    "print(df_awards[df_awards['award_reference'].isna()]['funded_amount'].sum()/df_awards['funded_amount'].sum()*100)\n",
    "\n",
    "# or 0.15% of total funded amount so we can neglect\n",
    "df_dropna = df_awards[~df_awards['award_reference'].isna()]"
   ]
  },
  {
   "cell_type": "code",
   "execution_count": 20,
   "metadata": {},
   "outputs": [
    {
     "data": {
      "text/plain": [
       "0.3187965192515037"
      ]
     },
     "execution_count": 20,
     "metadata": {},
     "output_type": "execute_result"
    }
   ],
   "source": [
    "# award_reference is not Null and is duplicated\n",
    "df_dropna[df_dropna['award_reference'].duplicated(keep=False)].sort_values(by='award_reference')['funded_amount'].sum()/df_awards['funded_amount'].sum()*100"
   ]
  },
  {
   "cell_type": "code",
   "execution_count": 21,
   "metadata": {},
   "outputs": [
    {
     "name": "stderr",
     "output_type": "stream",
     "text": [
      "C:\\Users\\MHil02\\AppData\\Local\\Temp\\ipykernel_27056\\1863951632.py:3: SettingWithCopyWarning: \n",
      "A value is trying to be set on a copy of a slice from a DataFrame\n",
      "\n",
      "See the caveats in the documentation: https://pandas.pydata.org/pandas-docs/stable/user_guide/indexing.html#returning-a-view-versus-a-copy\n",
      "  df_dropna.drop_duplicates(subset='award_reference', keep=False, inplace=True)\n"
     ]
    }
   ],
   "source": [
    "# Those duplicated represent 0.32% of total funded amount so we neglect\n",
    "\n",
    "df_dropna.drop_duplicates(subset='award_reference', keep=False, inplace=True)"
   ]
  },
  {
   "cell_type": "code",
   "execution_count": 22,
   "metadata": {},
   "outputs": [
    {
     "data": {
      "text/plain": [
       "1.3501916844453263"
      ]
     },
     "execution_count": 22,
     "metadata": {},
     "output_type": "execute_result"
    }
   ],
   "source": [
    "df_dropna[df_dropna['start_date'].isna() & df_dropna['end_date'].isna()]['funded_amount'].sum() / df_awards['funded_amount'].sum()*100\n",
    "# Awards where there are no start or end date (so we cannot tell if they are active or not) represent 1.35% of the total funded value"
   ]
  },
  {
   "cell_type": "code",
   "execution_count": 23,
   "metadata": {},
   "outputs": [
    {
     "data": {
      "text/plain": [
       "98.15924984814613"
      ]
     },
     "execution_count": 23,
     "metadata": {},
     "output_type": "execute_result"
    }
   ],
   "source": [
    "df_dropna = df_dropna[~(df_dropna['start_date'].isna() & df_dropna['end_date'].isna())]\n",
    "df_dropna = df_dropna[~df_dropna['end_date'].isna()]\n",
    "df_dropna = df_dropna[df_dropna['start_date'] < df_dropna['end_date']]\n",
    "\n",
    "df_dropna['funded_amount'].sum() / df_awards['funded_amount'].sum()*100\n",
    "# in total we are looking at 98% of the funded amount"
   ]
  },
  {
   "cell_type": "code",
   "execution_count": 24,
   "metadata": {},
   "outputs": [],
   "source": [
    "df_dropna.drop(columns=['project_cost', 'profiled_amount', 'announced_start_date'], inplace=True)"
   ]
  },
  {
   "cell_type": "code",
   "execution_count": 25,
   "metadata": {},
   "outputs": [
    {
     "data": {
      "text/plain": [
       "0"
      ]
     },
     "execution_count": 25,
     "metadata": {},
     "output_type": "execute_result"
    }
   ],
   "source": [
    "df_dropna[['award_reference', 'application_reference']].duplicated().sum()"
   ]
  },
  {
   "cell_type": "code",
   "execution_count": 26,
   "metadata": {},
   "outputs": [],
   "source": [
    "data_merge = pd.merge(data_both, df_dropna, on=['award_reference', 'application_source'])"
   ]
  },
  {
   "cell_type": "code",
   "execution_count": 27,
   "metadata": {},
   "outputs": [
    {
     "name": "stdout",
     "output_type": "stream",
     "text": [
      "6850332\n",
      "6853335\n"
     ]
    }
   ],
   "source": [
    "print(len(data_merge))\n",
    "print(len(data_both))"
   ]
  },
  {
   "cell_type": "code",
   "execution_count": 28,
   "metadata": {},
   "outputs": [],
   "source": [
    "data_merge.drop(columns=['application_reference_x', 'termination_date', 'funder_y', 'application_reference_y', 'administrator', 'end_date', 'funded_amount'], inplace=True)"
   ]
  },
  {
   "cell_type": "code",
   "execution_count": 29,
   "metadata": {},
   "outputs": [
    {
     "data": {
      "text/plain": [
       "array(['Paid', 'Cancelled', 'Pending', 'Due', 'Held', None], dtype=object)"
      ]
     },
     "execution_count": 29,
     "metadata": {},
     "output_type": "execute_result"
    }
   ],
   "source": [
    "data_merge['payment_status'].unique()"
   ]
  },
  {
   "cell_type": "code",
   "execution_count": 30,
   "metadata": {},
   "outputs": [],
   "source": [
    "data_drop = data_merge[data_merge['payment_status'].isin(['Paid', 'Pending', 'Due', 'Held'])]\n",
    "# payment status is Paid, Pending, Due or Held"
   ]
  },
  {
   "cell_type": "code",
   "execution_count": 31,
   "metadata": {},
   "outputs": [],
   "source": [
    "data_drop['funding_stream'].unique()\n",
    "# Tbc whether to filter to Main or not?\n",
    "\n",
    "data_drop = data_drop.loc[data_drop['funding_stream'] == 'Main']"
   ]
  },
  {
   "cell_type": "code",
   "execution_count": 32,
   "metadata": {},
   "outputs": [
    {
     "data": {
      "text/plain": [
       "award_reference                           object\n",
       "payment_profile_financial_year             int64\n",
       "expenditure_type                          object\n",
       "amount                                   float64\n",
       "payment_status                            object\n",
       "funding_stream                            object\n",
       "payment_type                              object\n",
       "application_source                        object\n",
       "funder_x                                  object\n",
       "application_category                      object\n",
       "start_date                        datetime64[ns]\n",
       "dtype: object"
      ]
     },
     "execution_count": 32,
     "metadata": {},
     "output_type": "execute_result"
    }
   ],
   "source": [
    "data_drop.dtypes"
   ]
  },
  {
   "cell_type": "code",
   "execution_count": 33,
   "metadata": {},
   "outputs": [],
   "source": [
    "data_drop['start_year'] = data_drop['start_date'].dt.year\n"
   ]
  },
  {
   "cell_type": "code",
   "execution_count": 34,
   "metadata": {},
   "outputs": [],
   "source": [
    "data_drop['award_id'] = data_drop['award_reference'] + data_drop['application_source']"
   ]
  },
  {
   "cell_type": "code",
   "execution_count": 35,
   "metadata": {},
   "outputs": [
    {
     "data": {
      "text/plain": [
       "array(['Fellowship', 'Research Grant', 'Training Grant', 'Intramural',\n",
       "       'Research and Innovation'], dtype=object)"
      ]
     },
     "execution_count": 35,
     "metadata": {},
     "output_type": "execute_result"
    }
   ],
   "source": [
    "data_drop['application_category'].unique()"
   ]
  },
  {
   "cell_type": "code",
   "execution_count": 36,
   "metadata": {},
   "outputs": [
    {
     "data": {
      "text/plain": [
       "array(['NERC', 'AHRC', 'EPSRC', 'BBSRC', 'MRC', 'GCRF', 'STFC', 'ESRC',\n",
       "       'Newton Fund', 'NC3Rs', 'Unknown', 'Disputed', 'ISCF', 'UUI',\n",
       "       'SPF', 'FLF', 'FIC', 'Infrastructure Fund', 'ISPF', 'HEG',\n",
       "       'Open Access Block Grant', 'COVID', 'TMF'], dtype=object)"
      ]
     },
     "execution_count": 36,
     "metadata": {},
     "output_type": "execute_result"
    }
   ],
   "source": [
    "data_drop['funder_x'].unique()"
   ]
  },
  {
   "cell_type": "code",
   "execution_count": 98,
   "metadata": {},
   "outputs": [],
   "source": []
  },
  {
   "cell_type": "code",
   "execution_count": 37,
   "metadata": {},
   "outputs": [],
   "source": [
    "# Adjust to real prices\n",
    "data_gdp = pd.read_excel(\"..//TRAC-data-deep-dive//GDP_Deflators_Budget_March_2024_update.xlsx\", header=6)\n",
    "\n",
    "data_adj = data_gdp[['Financial year',  '2022-23 = 100']].dropna().iloc[:-14] # Deflator per year\n",
    "\n",
    "data_adj.rename(columns={'2022-23 = 100':'Deflator'}, inplace=True)\n",
    "\n",
    "# Calendar year\n",
    "data_adj = data_gdp[['Calendar year',  '2023 = 100']].dropna().iloc[:-5] # Deflator per year\n",
    "\n",
    "data_adj.rename(columns={'2023 = 100':'Deflator'}, inplace=True)\n",
    "\n",
    "data_adj['Calendar year'] = data_adj['Calendar year'].astype(int)"
   ]
  },
  {
   "cell_type": "code",
   "execution_count": 38,
   "metadata": {},
   "outputs": [],
   "source": [
    "data_merge = pd.merge(data_drop, data_adj, left_on='start_year', right_on='Calendar year')\n",
    "\n",
    "data_merge['adjusted_amount'] = data_merge['amount']/(data_merge['Deflator']/100)\n",
    "\n",
    "data_group = data_merge.groupby('start_year', as_index=False).agg({'award_id':'nunique', 'amount':'sum', 'adjusted_amount':'sum'})\n",
    "\n",
    "error = data_merge.groupby('start_year', as_index=False).agg({'adjusted_amount':'std'}).rename(columns={'adjusted_amount':'std'})\n",
    "\n",
    "data_group = pd.merge(data_group, error, on='start_year')\n"
   ]
  },
  {
   "cell_type": "code",
   "execution_count": 39,
   "metadata": {},
   "outputs": [],
   "source": [
    "data_group['cost_per_grant'] = data_group['amount']/data_group['award_id']\n",
    "data_group['adj_cost_per_grant'] = data_group['adjusted_amount']/data_group['award_id']\n",
    "\n",
    "data_plot = data_group.copy()"
   ]
  },
  {
   "cell_type": "code",
   "execution_count": 40,
   "metadata": {},
   "outputs": [],
   "source": [
    "data_plot = data_plot[data_plot['start_year'] > 2009]"
   ]
  },
  {
   "cell_type": "code",
   "execution_count": 41,
   "metadata": {},
   "outputs": [],
   "source": [
    "import seaborn as sns\n",
    "import matplotlib.pyplot as plt\n",
    "\n",
    "sns.set_theme()\n",
    "# Create an array with the colors you want to use\n",
    "colors = [\"#2E2D62\", \"#FF6900\", \"#00A788\", \"#1E5DF8\", \"#E355EC\", \"#3E863E\", \"#BE2BBB\", \"#008AAD\", \"#005E54\", \"#C13D33\"]\n",
    "# Set your custom color palette\n",
    "sns.set_palette(sns.color_palette(colors))\n",
    "\n",
    "sns.color_palette()\n",
    "\n",
    "import matplotlib.pyplot as plt\n",
    "import matplotlib.ticker as ticker\n",
    "\n",
    "style_dict = {'axes.facecolor': 'white',\n",
    "              'axes.edgecolor': '.15',\n",
    " 'axes.grid': True,\n",
    " 'axes.axisbelow': True,\n",
    " 'axes.labelcolor': '.15',\n",
    " 'figure.facecolor': 'white',\n",
    " 'grid.color': '.8',\n",
    " 'grid.linestyle': '-',\n",
    " 'text.color': '.15',\n",
    " 'xtick.color': '.15',\n",
    " 'ytick.color': '.15',\n",
    " 'xtick.direction': 'out',\n",
    " 'ytick.direction': 'out',\n",
    " 'patch.edgecolor': 'w',\n",
    " 'patch.force_edgecolor': True,\n",
    " 'image.cmap': 'rocket',\n",
    " 'font.family': ['sans-serif'],\n",
    " 'font.sans-serif': ['Arial',\n",
    "  'DejaVu Sans',\n",
    "  'Liberation Sans',\n",
    "  'Bitstream Vera Sans',\n",
    "  'sans-serif'],\n",
    " 'xtick.bottom': True,\n",
    " 'xtick.top': False,\n",
    " 'ytick.left': False,\n",
    " 'ytick.right': False,\n",
    " 'axes.spines.left': False,\n",
    " 'axes.spines.bottom': True,\n",
    " 'axes.spines.right': False,\n",
    " 'axes.spines.top': False}\n",
    "\n",
    "sns.set_style(\"whitegrid\", style_dict)"
   ]
  },
  {
   "cell_type": "code",
   "execution_count": 42,
   "metadata": {},
   "outputs": [
    {
     "data": {
      "image/png": "[encoded data removed]",
      "text/plain": [
       "<Figure size 800x400 with 1 Axes>"
      ]
     },
     "metadata": {},
     "output_type": "display_data"
    }
   ],
   "source": [
    "plt.figure(figsize=(8,4))\n",
    "\n",
    "sns.lineplot(data=data_plot, x='start_year', y='cost_per_grant', marker='o', markersize=8, ax=plt.gca())\n",
    "\n",
    "plt.grid(axis='x')\n",
    "plt.gca().yaxis.set_major_formatter(ticker.FuncFormatter(lambda x, p: format(int(x), ',')))\n",
    "\n",
    "plt.ylabel('Average cost per grant (£)')\n",
    "plt.xlabel('Financial year')\n",
    "\n",
    "plt.ylim(bottom=0)\n",
    "\n",
    "plt.tight_layout()\n",
    "plt.show()"
   ]
  },
  {
   "cell_type": "code",
   "execution_count": 43,
   "metadata": {},
   "outputs": [
    {
     "data": {
      "image/png": "[encoded data removed]",
      "text/plain": [
       "<Figure size 800x400 with 1 Axes>"
      ]
     },
     "metadata": {},
     "output_type": "display_data"
    }
   ],
   "source": [
    "plt.figure(figsize=(8,4))\n",
    "\n",
    "sns.lineplot(data=data_plot, x='start_year', y='adj_cost_per_grant', marker='o', markersize=8, ax=plt.gca(), label='Real 2023 prices')\n",
    "sns.lineplot(data=data_plot, x='start_year', y='cost_per_grant', marker='o', markersize=8, ax=plt.gca(), linestyle='--', label='Nominal prices')\n",
    "\n",
    "plt.ylim(bottom=0)\n",
    "plt.grid(axis='x')\n",
    "plt.gca().yaxis.set_major_formatter(ticker.FuncFormatter(lambda x, p: format(int(x), ',')))\n",
    "\n",
    "plt.ylabel('Average cost per grant (£)')\n",
    "plt.xlabel('Calendar year')\n",
    "plt.xticks(data_plot['start_year'])\n",
    "plt.legend(loc = 'lower right')\n",
    "\n",
    "plt.tight_layout()\n",
    "plt.show()"
   ]
  },
  {
   "cell_type": "code",
   "execution_count": 44,
   "metadata": {},
   "outputs": [],
   "source": [
    "from sklearn.linear_model import LinearRegression\n"
   ]
  },
  {
   "cell_type": "code",
   "execution_count": 45,
   "metadata": {},
   "outputs": [],
   "source": [
    "model = LinearRegression()"
   ]
  },
  {
   "cell_type": "code",
   "execution_count": 46,
   "metadata": {},
   "outputs": [
    {
     "data": {
      "text/html": [
       "<style>#sk-container-id-1 {\n",
       "  /* Definition of color scheme common for light and dark mode */\n",
       "  --sklearn-color-text: black;\n",
       "  --sklearn-color-line: gray;\n",
       "  /* Definition of color scheme for unfitted estimators */\n",
       "  --sklearn-color-unfitted-level-0: #fff5e6;\n",
       "  --sklearn-color-unfitted-level-1: #f6e4d2;\n",
       "  --sklearn-color-unfitted-level-2: #ffe0b3;\n",
       "  --sklearn-color-unfitted-level-3: chocolate;\n",
       "  /* Definition of color scheme for fitted estimators */\n",
       "  --sklearn-color-fitted-level-0: #f0f8ff;\n",
       "  --sklearn-color-fitted-level-1: #d4ebff;\n",
       "  --sklearn-color-fitted-level-2: #b3dbfd;\n",
       "  --sklearn-color-fitted-level-3: cornflowerblue;\n",
       "\n",
       "  /* Specific color for light theme */\n",
       "  --sklearn-color-text-on-default-background: var(--sg-text-color, var(--theme-code-foreground, var(--jp-content-font-color1, black)));\n",
       "  --sklearn-color-background: var(--sg-background-color, var(--theme-background, var(--jp-layout-color0, white)));\n",
       "  --sklearn-color-border-box: var(--sg-text-color, var(--theme-code-foreground, var(--jp-content-font-color1, black)));\n",
       "  --sklearn-color-icon: #696969;\n",
       "\n",
       "  @media (prefers-color-scheme: dark) {\n",
       "    /* Redefinition of color scheme for dark theme */\n",
       "    --sklearn-color-text-on-default-background: var(--sg-text-color, var(--theme-code-foreground, var(--jp-content-font-color1, white)));\n",
       "    --sklearn-color-background: var(--sg-background-color, var(--theme-background, var(--jp-layout-color0, #111)));\n",
       "    --sklearn-color-border-box: var(--sg-text-color, var(--theme-code-foreground, var(--jp-content-font-color1, white)));\n",
       "    --sklearn-color-icon: #878787;\n",
       "  }\n",
       "}\n",
       "\n",
       "#sk-container-id-1 {\n",
       "  color: var(--sklearn-color-text);\n",
       "}\n",
       "\n",
       "#sk-container-id-1 pre {\n",
       "  padding: 0;\n",
       "}\n",
       "\n",
       "#sk-container-id-1 input.sk-hidden--visually {\n",
       "  border: 0;\n",
       "  clip: rect(1px 1px 1px 1px);\n",
       "  clip: rect(1px, 1px, 1px, 1px);\n",
       "  height: 1px;\n",
       "  margin: -1px;\n",
       "  overflow: hidden;\n",
       "  padding: 0;\n",
       "  position: absolute;\n",
       "  width: 1px;\n",
       "}\n",
       "\n",
       "#sk-container-id-1 div.sk-dashed-wrapped {\n",
       "  border: 1px dashed var(--sklearn-color-line);\n",
       "  margin: 0 0.4em 0.5em 0.4em;\n",
       "  box-sizing: border-box;\n",
       "  padding-bottom: 0.4em;\n",
       "  background-color: var(--sklearn-color-background);\n",
       "}\n",
       "\n",
       "#sk-container-id-1 div.sk-container {\n",
       "  /* jupyter's `normalize.less` sets `[hidden] { display: none; }`\n",
       "     but bootstrap.min.css set `[hidden] { display: none !important; }`\n",
       "     so we also need the `!important` here to be able to override the\n",
       "     default hidden behavior on the sphinx rendered scikit-learn.org.\n",
       "     See: https://github.com/scikit-learn/scikit-learn/issues/21755 */\n",
       "  display: inline-block !important;\n",
       "  position: relative;\n",
       "}\n",
       "\n",
       "#sk-container-id-1 div.sk-text-repr-fallback {\n",
       "  display: none;\n",
       "}\n",
       "\n",
       "div.sk-parallel-item,\n",
       "div.sk-serial,\n",
       "div.sk-item {\n",
       "  /* draw centered vertical line to link estimators */\n",
       "  background-image: linear-gradient(var(--sklearn-color-text-on-default-background), var(--sklearn-color-text-on-default-background));\n",
       "  background-size: 2px 100%;\n",
       "  background-repeat: no-repeat;\n",
       "  background-position: center center;\n",
       "}\n",
       "\n",
       "/* Parallel-specific style estimator block */\n",
       "\n",
       "#sk-container-id-1 div.sk-parallel-item::after {\n",
       "  content: \"\";\n",
       "  width: 100%;\n",
       "  border-bottom: 2px solid var(--sklearn-color-text-on-default-background);\n",
       "  flex-grow: 1;\n",
       "}\n",
       "\n",
       "#sk-container-id-1 div.sk-parallel {\n",
       "  display: flex;\n",
       "  align-items: stretch;\n",
       "  justify-content: center;\n",
       "  background-color: var(--sklearn-color-background);\n",
       "  position: relative;\n",
       "}\n",
       "\n",
       "#sk-container-id-1 div.sk-parallel-item {\n",
       "  display: flex;\n",
       "  flex-direction: column;\n",
       "}\n",
       "\n",
       "#sk-container-id-1 div.sk-parallel-item:first-child::after {\n",
       "  align-self: flex-end;\n",
       "  width: 50%;\n",
       "}\n",
       "\n",
       "#sk-container-id-1 div.sk-parallel-item:last-child::after {\n",
       "  align-self: flex-start;\n",
       "  width: 50%;\n",
       "}\n",
       "\n",
       "#sk-container-id-1 div.sk-parallel-item:only-child::after {\n",
       "  width: 0;\n",
       "}\n",
       "\n",
       "/* Serial-specific style estimator block */\n",
       "\n",
       "#sk-container-id-1 div.sk-serial {\n",
       "  display: flex;\n",
       "  flex-direction: column;\n",
       "  align-items: center;\n",
       "  background-color: var(--sklearn-color-background);\n",
       "  padding-right: 1em;\n",
       "  padding-left: 1em;\n",
       "}\n",
       "\n",
       "\n",
       "/* Toggleable style: style used for estimator/Pipeline/ColumnTransformer box that is\n",
       "clickable and can be expanded/collapsed.\n",
       "- Pipeline and ColumnTransformer use this feature and define the default style\n",
       "- Estimators will overwrite some part of the style using the `sk-estimator` class\n",
       "*/\n",
       "\n",
       "/* Pipeline and ColumnTransformer style (default) */\n",
       "\n",
       "#sk-container-id-1 div.sk-toggleable {\n",
       "  /* Default theme specific background. It is overwritten whether we have a\n",
       "  specific estimator or a Pipeline/ColumnTransformer */\n",
       "  background-color: var(--sklearn-color-background);\n",
       "}\n",
       "\n",
       "/* Toggleable label */\n",
       "#sk-container-id-1 label.sk-toggleable__label {\n",
       "  cursor: pointer;\n",
       "  display: block;\n",
       "  width: 100%;\n",
       "  margin-bottom: 0;\n",
       "  padding: 0.5em;\n",
       "  box-sizing: border-box;\n",
       "  text-align: center;\n",
       "}\n",
       "\n",
       "#sk-container-id-1 label.sk-toggleable__label-arrow:before {\n",
       "  /* Arrow on the left of the label */\n",
       "  content: \"▸\";\n",
       "  float: left;\n",
       "  margin-right: 0.25em;\n",
       "  color: var(--sklearn-color-icon);\n",
       "}\n",
       "\n",
       "#sk-container-id-1 label.sk-toggleable__label-arrow:hover:before {\n",
       "  color: var(--sklearn-color-text);\n",
       "}\n",
       "\n",
       "/* Toggleable content - dropdown */\n",
       "\n",
       "#sk-container-id-1 div.sk-toggleable__content {\n",
       "  max-height: 0;\n",
       "  max-width: 0;\n",
       "  overflow: hidden;\n",
       "  text-align: left;\n",
       "  /* unfitted */\n",
       "  background-color: var(--sklearn-color-unfitted-level-0);\n",
       "}\n",
       "\n",
       "#sk-container-id-1 div.sk-toggleable__content.fitted {\n",
       "  /* fitted */\n",
       "  background-color: var(--sklearn-color-fitted-level-0);\n",
       "}\n",
       "\n",
       "#sk-container-id-1 div.sk-toggleable__content pre {\n",
       "  margin: 0.2em;\n",
       "  border-radius: 0.25em;\n",
       "  color: var(--sklearn-color-text);\n",
       "  /* unfitted */\n",
       "  background-color: var(--sklearn-color-unfitted-level-0);\n",
       "}\n",
       "\n",
       "#sk-container-id-1 div.sk-toggleable__content.fitted pre {\n",
       "  /* unfitted */\n",
       "  background-color: var(--sklearn-color-fitted-level-0);\n",
       "}\n",
       "\n",
       "#sk-container-id-1 input.sk-toggleable__control:checked~div.sk-toggleable__content {\n",
       "  /* Expand drop-down */\n",
       "  max-height: 200px;\n",
       "  max-width: 100%;\n",
       "  overflow: auto;\n",
       "}\n",
       "\n",
       "#sk-container-id-1 input.sk-toggleable__control:checked~label.sk-toggleable__label-arrow:before {\n",
       "  content: \"▾\";\n",
       "}\n",
       "\n",
       "/* Pipeline/ColumnTransformer-specific style */\n",
       "\n",
       "#sk-container-id-1 div.sk-label input.sk-toggleable__control:checked~label.sk-toggleable__label {\n",
       "  color: var(--sklearn-color-text);\n",
       "  background-color: var(--sklearn-color-unfitted-level-2);\n",
       "}\n",
       "\n",
       "#sk-container-id-1 div.sk-label.fitted input.sk-toggleable__control:checked~label.sk-toggleable__label {\n",
       "  background-color: var(--sklearn-color-fitted-level-2);\n",
       "}\n",
       "\n",
       "/* Estimator-specific style */\n",
       "\n",
       "/* Colorize estimator box */\n",
       "#sk-container-id-1 div.sk-estimator input.sk-toggleable__control:checked~label.sk-toggleable__label {\n",
       "  /* unfitted */\n",
       "  background-color: var(--sklearn-color-unfitted-level-2);\n",
       "}\n",
       "\n",
       "#sk-container-id-1 div.sk-estimator.fitted input.sk-toggleable__control:checked~label.sk-toggleable__label {\n",
       "  /* fitted */\n",
       "  background-color: var(--sklearn-color-fitted-level-2);\n",
       "}\n",
       "\n",
       "#sk-container-id-1 div.sk-label label.sk-toggleable__label,\n",
       "#sk-container-id-1 div.sk-label label {\n",
       "  /* The background is the default theme color */\n",
       "  color: var(--sklearn-color-text-on-default-background);\n",
       "}\n",
       "\n",
       "/* On hover, darken the color of the background */\n",
       "#sk-container-id-1 div.sk-label:hover label.sk-toggleable__label {\n",
       "  color: var(--sklearn-color-text);\n",
       "  background-color: var(--sklearn-color-unfitted-level-2);\n",
       "}\n",
       "\n",
       "/* Label box, darken color on hover, fitted */\n",
       "#sk-container-id-1 div.sk-label.fitted:hover label.sk-toggleable__label.fitted {\n",
       "  color: var(--sklearn-color-text);\n",
       "  background-color: var(--sklearn-color-fitted-level-2);\n",
       "}\n",
       "\n",
       "/* Estimator label */\n",
       "\n",
       "#sk-container-id-1 div.sk-label label {\n",
       "  font-family: monospace;\n",
       "  font-weight: bold;\n",
       "  display: inline-block;\n",
       "  line-height: 1.2em;\n",
       "}\n",
       "\n",
       "#sk-container-id-1 div.sk-label-container {\n",
       "  text-align: center;\n",
       "}\n",
       "\n",
       "/* Estimator-specific */\n",
       "#sk-container-id-1 div.sk-estimator {\n",
       "  font-family: monospace;\n",
       "  border: 1px dotted var(--sklearn-color-border-box);\n",
       "  border-radius: 0.25em;\n",
       "  box-sizing: border-box;\n",
       "  margin-bottom: 0.5em;\n",
       "  /* unfitted */\n",
       "  background-color: var(--sklearn-color-unfitted-level-0);\n",
       "}\n",
       "\n",
       "#sk-container-id-1 div.sk-estimator.fitted {\n",
       "  /* fitted */\n",
       "  background-color: var(--sklearn-color-fitted-level-0);\n",
       "}\n",
       "\n",
       "/* on hover */\n",
       "#sk-container-id-1 div.sk-estimator:hover {\n",
       "  /* unfitted */\n",
       "  background-color: var(--sklearn-color-unfitted-level-2);\n",
       "}\n",
       "\n",
       "#sk-container-id-1 div.sk-estimator.fitted:hover {\n",
       "  /* fitted */\n",
       "  background-color: var(--sklearn-color-fitted-level-2);\n",
       "}\n",
       "\n",
       "/* Specification for estimator info (e.g. \"i\" and \"?\") */\n",
       "\n",
       "/* Common style for \"i\" and \"?\" */\n",
       "\n",
       ".sk-estimator-doc-link,\n",
       "a:link.sk-estimator-doc-link,\n",
       "a:visited.sk-estimator-doc-link {\n",
       "  float: right;\n",
       "  font-size: smaller;\n",
       "  line-height: 1em;\n",
       "  font-family: monospace;\n",
       "  background-color: var(--sklearn-color-background);\n",
       "  border-radius: 1em;\n",
       "  height: 1em;\n",
       "  width: 1em;\n",
       "  text-decoration: none !important;\n",
       "  margin-left: 1ex;\n",
       "  /* unfitted */\n",
       "  border: var(--sklearn-color-unfitted-level-1) 1pt solid;\n",
       "  color: var(--sklearn-color-unfitted-level-1);\n",
       "}\n",
       "\n",
       ".sk-estimator-doc-link.fitted,\n",
       "a:link.sk-estimator-doc-link.fitted,\n",
       "a:visited.sk-estimator-doc-link.fitted {\n",
       "  /* fitted */\n",
       "  border: var(--sklearn-color-fitted-level-1) 1pt solid;\n",
       "  color: var(--sklearn-color-fitted-level-1);\n",
       "}\n",
       "\n",
       "/* On hover */\n",
       "div.sk-estimator:hover .sk-estimator-doc-link:hover,\n",
       ".sk-estimator-doc-link:hover,\n",
       "div.sk-label-container:hover .sk-estimator-doc-link:hover,\n",
       ".sk-estimator-doc-link:hover {\n",
       "  /* unfitted */\n",
       "  background-color: var(--sklearn-color-unfitted-level-3);\n",
       "  color: var(--sklearn-color-background);\n",
       "  text-decoration: none;\n",
       "}\n",
       "\n",
       "div.sk-estimator.fitted:hover .sk-estimator-doc-link.fitted:hover,\n",
       ".sk-estimator-doc-link.fitted:hover,\n",
       "div.sk-label-container:hover .sk-estimator-doc-link.fitted:hover,\n",
       ".sk-estimator-doc-link.fitted:hover {\n",
       "  /* fitted */\n",
       "  background-color: var(--sklearn-color-fitted-level-3);\n",
       "  color: var(--sklearn-color-background);\n",
       "  text-decoration: none;\n",
       "}\n",
       "\n",
       "/* Span, style for the box shown on hovering the info icon */\n",
       ".sk-estimator-doc-link span {\n",
       "  display: none;\n",
       "  z-index: 9999;\n",
       "  position: relative;\n",
       "  font-weight: normal;\n",
       "  right: .2ex;\n",
       "  padding: .5ex;\n",
       "  margin: .5ex;\n",
       "  width: min-content;\n",
       "  min-width: 20ex;\n",
       "  max-width: 50ex;\n",
       "  color: var(--sklearn-color-text);\n",
       "  box-shadow: 2pt 2pt 4pt #999;\n",
       "  /* unfitted */\n",
       "  background: var(--sklearn-color-unfitted-level-0);\n",
       "  border: .5pt solid var(--sklearn-color-unfitted-level-3);\n",
       "}\n",
       "\n",
       ".sk-estimator-doc-link.fitted span {\n",
       "  /* fitted */\n",
       "  background: var(--sklearn-color-fitted-level-0);\n",
       "  border: var(--sklearn-color-fitted-level-3);\n",
       "}\n",
       "\n",
       ".sk-estimator-doc-link:hover span {\n",
       "  display: block;\n",
       "}\n",
       "\n",
       "/* \"?\"-specific style due to the `<a>` HTML tag */\n",
       "\n",
       "#sk-container-id-1 a.estimator_doc_link {\n",
       "  float: right;\n",
       "  font-size: 1rem;\n",
       "  line-height: 1em;\n",
       "  font-family: monospace;\n",
       "  background-color: var(--sklearn-color-background);\n",
       "  border-radius: 1rem;\n",
       "  height: 1rem;\n",
       "  width: 1rem;\n",
       "  text-decoration: none;\n",
       "  /* unfitted */\n",
       "  color: var(--sklearn-color-unfitted-level-1);\n",
       "  border: var(--sklearn-color-unfitted-level-1) 1pt solid;\n",
       "}\n",
       "\n",
       "#sk-container-id-1 a.estimator_doc_link.fitted {\n",
       "  /* fitted */\n",
       "  border: var(--sklearn-color-fitted-level-1) 1pt solid;\n",
       "  color: var(--sklearn-color-fitted-level-1);\n",
       "}\n",
       "\n",
       "/* On hover */\n",
       "#sk-container-id-1 a.estimator_doc_link:hover {\n",
       "  /* unfitted */\n",
       "  background-color: var(--sklearn-color-unfitted-level-3);\n",
       "  color: var(--sklearn-color-background);\n",
       "  text-decoration: none;\n",
       "}\n",
       "\n",
       "#sk-container-id-1 a.estimator_doc_link.fitted:hover {\n",
       "  /* fitted */\n",
       "  background-color: var(--sklearn-color-fitted-level-3);\n",
       "}\n",
       "</style><div id=\"sk-container-id-1\" class=\"sk-top-container\"><div class=\"sk-text-repr-fallback\"><pre>LinearRegression()</pre><b>In a Jupyter environment, please rerun this cell to show the HTML representation or trust the notebook. <br />On GitHub, the HTML representation is unable to render, please try loading this page with nbviewer.org.</b></div><div class=\"sk-container\" hidden><div class=\"sk-item\"><div class=\"sk-estimator fitted sk-toggleable\"><input class=\"sk-toggleable__control sk-hidden--visually\" id=\"sk-estimator-id-1\" type=\"checkbox\" checked><label for=\"sk-estimator-id-1\" class=\"sk-toggleable__label fitted sk-toggleable__label-arrow fitted\">&nbsp;&nbsp;LinearRegression<a class=\"sk-estimator-doc-link fitted\" rel=\"noreferrer\" target=\"_blank\" href=\"https://scikit-learn.org/1.5/modules/generated/sklearn.linear_model.LinearRegression.html\">?<span>Documentation for LinearRegression</span></a><span class=\"sk-estimator-doc-link fitted\">i<span>Fitted</span></span></label><div class=\"sk-toggleable__content fitted\"><pre>LinearRegression()</pre></div> </div></div></div></div>"
      ],
      "text/plain": [
       "LinearRegression()"
      ]
     },
     "execution_count": 46,
     "metadata": {},
     "output_type": "execute_result"
    }
   ],
   "source": [
    "model.fit(data_plot[['start_year']], data_plot[['adj_cost_per_grant']])"
   ]
  },
  {
   "cell_type": "code",
   "execution_count": 47,
   "metadata": {},
   "outputs": [],
   "source": [
    "model = LinearRegression().fit(data_plot[['start_year']], data_plot[['adj_cost_per_grant']], sample_weight=1/data_plot['std'])"
   ]
  },
  {
   "cell_type": "code",
   "execution_count": 48,
   "metadata": {},
   "outputs": [
    {
     "name": "stdout",
     "output_type": "stream",
     "text": [
      "coefficient of determination: 0.3623381176400744\n"
     ]
    }
   ],
   "source": [
    "r_sq = model.score(data_plot[['start_year']], data_plot[['adj_cost_per_grant']])\n",
    "print(f\"coefficient of determination: {r_sq}\")"
   ]
  },
  {
   "cell_type": "code",
   "execution_count": 49,
   "metadata": {},
   "outputs": [],
   "source": [
    "y_pred = model.predict(data_plot[['start_year']])"
   ]
  },
  {
   "cell_type": "code",
   "execution_count": 50,
   "metadata": {},
   "outputs": [],
   "source": [
    "data_plot['y_pred'] = y_pred"
   ]
  },
  {
   "cell_type": "code",
   "execution_count": 51,
   "metadata": {},
   "outputs": [
    {
     "name": "stderr",
     "output_type": "stream",
     "text": [
      "C:\\Users\\MHil02\\AppData\\Local\\Temp\\ipykernel_27056\\1645752606.py:5: UserWarning: marker is redundantly defined by the 'marker' keyword argument and the fmt string \"o\" (-> marker='o'). The keyword argument will take precedence.\n",
      "  plt.errorbar(x=data_plot['start_year'], y=data_plot['adj_cost_per_grant'], yerr=data_plot['std'], label='Real 2022 prices', marker='o', capsize=5, fmt='o')\n"
     ]
    },
    {
     "data": {
      "image/png": "[encoded data removed]",
      "text/plain": [
       "<Figure size 800x400 with 1 Axes>"
      ]
     },
     "metadata": {},
     "output_type": "display_data"
    }
   ],
   "source": [
    "plt.figure(figsize=(8,4))\n",
    "\n",
    "#sns.lineplot(data=data_plot, x='start_year', y='adj_cost_per_grant', marker='o', markersize=8, ax=plt.gca(), label='Real 2023 prices')\n",
    "\n",
    "plt.errorbar(x=data_plot['start_year'], y=data_plot['adj_cost_per_grant'], yerr=data_plot['std'], label='Real 2022 prices', marker='o', capsize=5, fmt='o')\n",
    "\n",
    "sns.lineplot(data=data_plot, x='start_year', y='y_pred', ax=plt.gca(), linestyle='--', label='Fit')\n",
    "\n",
    "\n",
    "plt.ylim(bottom=0)\n",
    "plt.grid(axis='x')\n",
    "plt.gca().yaxis.set_major_formatter(ticker.FuncFormatter(lambda x, p: format(int(x), ',')))\n",
    "\n",
    "plt.ylabel('Average cost per grant (£)')\n",
    "plt.xlabel('Calendar year')\n",
    "plt.xticks(data_plot['start_year'])\n",
    "plt.legend(loc = 'lower right')\n",
    "\n",
    "plt.tight_layout()\n",
    "plt.show()"
   ]
  },
  {
   "cell_type": "code",
   "execution_count": 52,
   "metadata": {},
   "outputs": [],
   "source": [
    "# model.fit(x_data, y_data, sample_weight=1/y_err)"
   ]
  },
  {
   "cell_type": "code",
   "execution_count": 53,
   "metadata": {},
   "outputs": [
    {
     "data": {
      "text/plain": [
       "26     7706.917659\n",
       "27     3883.083179\n",
       "28      103.720224\n",
       "29        7.987322\n",
       "30    33303.959384\n",
       "31      853.268485\n",
       "32     3749.071641\n",
       "33      671.533442\n",
       "34       27.683978\n",
       "35    69778.828084\n",
       "36      327.609542\n",
       "37     9233.310458\n",
       "38      596.368296\n",
       "39     4168.922855\n",
       "dtype: object"
      ]
     },
     "execution_count": 53,
     "metadata": {},
     "output_type": "execute_result"
    }
   ],
   "source": [
    "((data_plot['adj_cost_per_grant'] - data_plot['y_pred'])*(data_plot['adj_cost_per_grant'] - data_plot['y_pred'])/data_plot['y_pred'])"
   ]
  },
  {
   "cell_type": "code",
   "execution_count": 54,
   "metadata": {},
   "outputs": [],
   "source": [
    "import scipy.stats as stats\n",
    "import numpy as np"
   ]
  },
  {
   "cell_type": "code",
   "execution_count": 55,
   "metadata": {},
   "outputs": [
    {
     "name": "stdout",
     "output_type": "stream",
     "text": [
      "Residual Sum of Squares (RSS): adj_cost_per_grant    84581577993.495697\n",
      "dtype: object\n"
     ]
    },
    {
     "name": "stderr",
     "output_type": "stream",
     "text": [
      "c:\\ProgramData\\anaconda3\\Lib\\site-packages\\numpy\\core\\fromnumeric.py:86: FutureWarning: The behavior of DataFrame.sum with axis=None is deprecated, in a future version this will reduce over both axes and return a scalar. To retain the old behavior, pass axis=0 (or do not pass axis)\n",
      "  return reduction(axis=axis, out=out, **passkwargs)\n"
     ]
    }
   ],
   "source": [
    "# Calculate the residuals\n",
    "residuals = data_plot[['adj_cost_per_grant']] - y_pred\n",
    "\n",
    "# Compute the residual sum of squares (RSS)\n",
    "rss = np.sum(residuals**2)\n",
    "\n",
    "print(f\"Residual Sum of Squares (RSS): {rss}\")"
   ]
  },
  {
   "cell_type": "code",
   "execution_count": 56,
   "metadata": {},
   "outputs": [],
   "source": [
    "mydict = {\n",
    "    \"DA - Estate Costs\":\"Estates Costs\",\n",
    "    \"DI - Staff\":\"Staff Costs\",\n",
    "    \"Exception - Staff\":\"Staff Costs\",\n",
    "    \"Total - Staff\":\"Staff Costs\",\n",
    "    \"DI - Equipment\":\"Equipment Costs\", \n",
    "    \"Exception - Equipment\":\"Equipment Costs\",\n",
    "    \"Total - Consumables\":\"Equipment Costs\",\n",
    "    \"Total - Equipment\":\"Equipment Costs\",\n",
    "\n",
    "    \"DA - Investigators\":\"Investigators Costs\", \n",
    "    \"DI - T&S\":\"T&S Costs\",\n",
    "    \"Exception - T&S\":\"T&S Costs\",\n",
    "    \"Total - T&S\":\"T&S Costs\", \n",
    "\n",
    "    \"DA - Other Directly Allocated\":\"Other Costs\",\n",
    "    \"DI - Other Costs\":\"Other Costs\", \n",
    "    \"Total - Other Costs\":\"Other Costs\", \n",
    "    \"Exception - Other Costs\":\"Other Costs\",\n",
    "\n",
    "    \"Total - Fieldwork\":\"Direct expenses\",\n",
    "    \"Total - Fees\":\"Direct expenses\",\n",
    "\n",
    "    \"Indirect - Indirect Costs\":\"Indirect Costs\",\n",
    "    \"Total - Indirect Costs\":\"Indirect Costs\",\n",
    "\n",
    "    \"Total - RTSG (Research Training Support Grant)\":\"Training Costs\",\n",
    "    \"Total - RTSG\":\"Training Costs\",\n",
    "    \"Total - Robert Skills\":\"Training Costs\",\n",
    "    \"Total - Student Stipend\":\"Training Costs\",\n",
    "    \"Total - DSA (Disabled Students Allowance)\":\"Training Costs\",\n",
    "    \"Total - DSA\":\"Training Costs\"\n",
    "}"
   ]
  },
  {
   "cell_type": "code",
   "execution_count": 57,
   "metadata": {},
   "outputs": [
    {
     "data": {
      "text/plain": [
       "array(['Total - Other Costs', 'Total - Staff', 'Total - T&S',\n",
       "       'Total - Equipment', 'Total - Indirect Costs', 'DA - Estate Costs',\n",
       "       'DA - Investigators', 'DI - Other Costs', 'DI - Staff', 'DI - T&S',\n",
       "       'Indirect - Indirect Costs', 'DI - Equipment',\n",
       "       'DA - Other Directly Allocated', 'Total - Consumables',\n",
       "       'Exception - Other Costs', 'Exception - Staff',\n",
       "       'Exception - Equipment', 'Total - Fees', 'Total - RTSG',\n",
       "       'Total - Student Stipend', 'Exception - T&S', 'Total - Fieldwork',\n",
       "       'Total - Absence', 'Total - DSA', 'Total - Large Capital',\n",
       "       'DI - Absence', 'Total - Robert Skills'], dtype=object)"
      ]
     },
     "execution_count": 57,
     "metadata": {},
     "output_type": "execute_result"
    }
   ],
   "source": [
    "data_merge['expenditure_type'].unique()"
   ]
  },
  {
   "cell_type": "code",
   "execution_count": 62,
   "metadata": {},
   "outputs": [],
   "source": [
    "data_2009 = data_merge[data_merge['start_year'] > 2009]\n"
   ]
  },
  {
   "cell_type": "code",
   "execution_count": 63,
   "metadata": {},
   "outputs": [
    {
     "name": "stderr",
     "output_type": "stream",
     "text": [
      "C:\\Users\\MHil02\\AppData\\Local\\Temp\\ipykernel_27056\\1179155736.py:1: SettingWithCopyWarning: \n",
      "A value is trying to be set on a copy of a slice from a DataFrame.\n",
      "Try using .loc[row_indexer,col_indexer] = value instead\n",
      "\n",
      "See the caveats in the documentation: https://pandas.pydata.org/pandas-docs/stable/user_guide/indexing.html#returning-a-view-versus-a-copy\n",
      "  data_2009['expenditure_mapped'] = data_2009['expenditure_type'].apply(lambda x: mydict[x])\n"
     ]
    }
   ],
   "source": [
    "data_2009['expenditure_mapped'] = data_2009['expenditure_type'].apply(lambda x: mydict[x])"
   ]
  },
  {
   "cell_type": "code",
   "execution_count": 64,
   "metadata": {},
   "outputs": [],
   "source": [
    "data_category = data_2009.groupby(['start_year', 'expenditure_mapped'], as_index=False).agg({'adjusted_amount':'sum', 'award_id':'nunique'})\n",
    "data_category['adj_cost_per_grant'] = data_category['adjusted_amount']/data_category['award_id']"
   ]
  },
  {
   "cell_type": "code",
   "execution_count": 66,
   "metadata": {},
   "outputs": [
    {
     "data": {
      "text/plain": [
       "<Axes: xlabel='start_year', ylabel='adj_cost_per_grant'>"
      ]
     },
     "execution_count": 66,
     "metadata": {},
     "output_type": "execute_result"
    },
    {
     "data": {
      "image/png": "[encoded data removed]",
      "text/plain": [
       "<Figure size 640x480 with 1 Axes>"
      ]
     },
     "metadata": {},
     "output_type": "display_data"
    }
   ],
   "source": [
    "\n",
    "sns.lineplot(data=data_category, x='start_year', y='adj_cost_per_grant', hue='expenditure_mapped')"
   ]
  },
  {
   "cell_type": "code",
   "execution_count": null,
   "metadata": {},
   "outputs": [],
   "source": []
  }
 ],
 "metadata": {
  "kernelspec": {
   "display_name": "base",
   "language": "python",
   "name": "python3"
  },
  "language_info": {
   "codemirror_mode": {
    "name": "ipython",
    "version": 3
   },
   "file_extension": ".py",
   "mimetype": "text/x-python",
   "name": "python",
   "nbconvert_exporter": "python",
   "pygments_lexer": "ipython3",
   "version": "3.12.7"
  }
 },
 "nbformat": 4,
 "nbformat_minor": 2
}
