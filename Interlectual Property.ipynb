{
 "cells": [
  {
   "cell_type": "code",
   "execution_count": 1,
   "metadata": {},
   "outputs": [],
   "source": [
    "import pandas as pd\n",
    "import pyodbc"
   ]
  },
  {
   "cell_type": "code",
   "execution_count": 2,
   "metadata": {},
   "outputs": [],
   "source": [
    "# Connect to DataBank\n",
    "connection_string = (\n",
    "    \"DSN=DataBank;\"\n",
    "    \"Trusted_Connection=yes;\"\n",
    ")\n",
    "\n",
    "con = pyodbc.connect(connection_string)"
   ]
  },
  {
   "cell_type": "code",
   "execution_count": 3,
   "metadata": {},
   "outputs": [
    {
     "name": "stderr",
     "output_type": "stream",
     "text": [
      "C:\\Users\\MHil02\\AppData\\Local\\Temp\\ipykernel_4604\\1573845778.py:5: UserWarning: pandas only supports SQLAlchemy connectable (engine/connection) or database string URI or sqlite3 DBAPI2 connection. Other DBAPI2 objects are not tested. Please consider using SQLAlchemy.\n",
      "  df= pd.read_sql(qry, con)\n"
     ]
    }
   ],
   "source": [
    "# Write sql query\n",
    "qry = \"SELECT * FROM ukri_ssd_snapshot.2024_10_04_ssd_outcome_intellectual_property;\"\n",
    "\n",
    "# Read sql query\n",
    "df= pd.read_sql(qry, con)"
   ]
  },
  {
   "cell_type": "code",
   "execution_count": 4,
   "metadata": {},
   "outputs": [
    {
     "data": {
      "text/plain": [
       "array(['Patent granted', 'Protection not required',\n",
       "       'Copyrighted (e.g. software)', 'Patent application published',\n",
       "       'Trade Mark', 'Protection Not Required',\n",
       "       'Patent / Patent application'], dtype=object)"
      ]
     },
     "execution_count": 4,
     "metadata": {},
     "output_type": "execute_result"
    }
   ],
   "source": [
    "df['protection'].unique()"
   ]
  },
  {
   "cell_type": "code",
   "execution_count": 5,
   "metadata": {},
   "outputs": [
    {
     "data": {
      "text/plain": [
       "array(['No', 'Yes', 'Commercial In Confidence', None], dtype=object)"
      ]
     },
     "execution_count": 5,
     "metadata": {},
     "output_type": "execute_result"
    }
   ],
   "source": [
    "df['licensed'].unique()"
   ]
  },
  {
   "cell_type": "code",
   "execution_count": 6,
   "metadata": {},
   "outputs": [
    {
     "name": "stderr",
     "output_type": "stream",
     "text": [
      "C:\\Users\\MHil02\\AppData\\Local\\Temp\\ipykernel_4604\\2917795902.py:1: FutureWarning: A value is trying to be set on a copy of a DataFrame or Series through chained assignment using an inplace method.\n",
      "The behavior will change in pandas 3.0. This inplace method will never work because the intermediate object on which we are setting values always behaves as a copy.\n",
      "\n",
      "For example, when doing 'df[col].method(value, inplace=True)', try using 'df.method({col: value}, inplace=True)' or df[col] = df[col].method(value) instead, to perform the operation inplace on the original object.\n",
      "\n",
      "\n",
      "  df['application_reference'].replace(\"Unknown\", None, inplace=True)\n"
     ]
    }
   ],
   "source": [
    "df['application_reference'].replace(\"Unknown\", None, inplace=True)"
   ]
  },
  {
   "cell_type": "code",
   "execution_count": 7,
   "metadata": {},
   "outputs": [
    {
     "data": {
      "text/plain": [
       "14.922737306843267"
      ]
     },
     "execution_count": 7,
     "metadata": {},
     "output_type": "execute_result"
    }
   ],
   "source": [
    "df['application_reference'].isna().sum()/len(df)*100\n",
    "\n",
    "# 14.9% have Null application reference"
   ]
  },
  {
   "cell_type": "code",
   "execution_count": 8,
   "metadata": {},
   "outputs": [
    {
     "data": {
      "text/plain": [
       "3936"
      ]
     },
     "execution_count": 8,
     "metadata": {},
     "output_type": "execute_result"
    }
   ],
   "source": [
    "df.dropna(subset='application_reference')['application_reference'].duplicated().sum()"
   ]
  },
  {
   "cell_type": "code",
   "execution_count": 9,
   "metadata": {},
   "outputs": [
    {
     "name": "stderr",
     "output_type": "stream",
     "text": [
      "C:\\Users\\MHil02\\AppData\\Local\\Temp\\ipykernel_4604\\3848588355.py:1: UserWarning: pandas only supports SQLAlchemy connectable (engine/connection) or database string URI or sqlite3 DBAPI2 connection. Other DBAPI2 objects are not tested. Please consider using SQLAlchemy.\n",
      "  df_application = pd.read_sql(\"SELECT * FROM ukri_ssd_snapshot.2024_10_04_ssd_application;\", con)\n"
     ]
    }
   ],
   "source": [
    "df_application = pd.read_sql(\"SELECT * FROM ukri_ssd_snapshot.2024_10_04_ssd_application;\", con)"
   ]
  },
  {
   "cell_type": "code",
   "execution_count": 10,
   "metadata": {},
   "outputs": [
    {
     "data": {
      "text/plain": [
       "7230"
      ]
     },
     "execution_count": 10,
     "metadata": {},
     "output_type": "execute_result"
    }
   ],
   "source": [
    "df_application['application_reference'].duplicated().sum()"
   ]
  },
  {
   "cell_type": "code",
   "execution_count": 11,
   "metadata": {},
   "outputs": [],
   "source": [
    "data_ = df_application.drop_duplicates(subset='application_reference', keep=False)\n"
   ]
  },
  {
   "cell_type": "code",
   "execution_count": 12,
   "metadata": {},
   "outputs": [
    {
     "data": {
      "text/html": [
       "<div>\n",
       "<style scoped>\n",
       "    .dataframe tbody tr th:only-of-type {\n",
       "        vertical-align: middle;\n",
       "    }\n",
       "\n",
       "    .dataframe tbody tr th {\n",
       "        vertical-align: top;\n",
       "    }\n",
       "\n",
       "    .dataframe thead th {\n",
       "        text-align: right;\n",
       "    }\n",
       "</style>\n",
       "<table border=\"1\" class=\"dataframe\">\n",
       "  <thead>\n",
       "    <tr style=\"text-align: right;\">\n",
       "      <th></th>\n",
       "      <th>application_reference</th>\n",
       "      <th>award_reference</th>\n",
       "      <th>lead_organisation_id</th>\n",
       "      <th>organisation_source</th>\n",
       "    </tr>\n",
       "  </thead>\n",
       "  <tbody>\n",
       "    <tr>\n",
       "      <th>1</th>\n",
       "      <td>10000</td>\n",
       "      <td>None</td>\n",
       "      <td>469</td>\n",
       "      <td>TFS</td>\n",
       "    </tr>\n",
       "    <tr>\n",
       "      <th>2</th>\n",
       "      <td>10001</td>\n",
       "      <td>None</td>\n",
       "      <td>34</td>\n",
       "      <td>TFS</td>\n",
       "    </tr>\n",
       "    <tr>\n",
       "      <th>5</th>\n",
       "      <td>10011</td>\n",
       "      <td>MR/Z503976/1</td>\n",
       "      <td>16608</td>\n",
       "      <td>Siebel</td>\n",
       "    </tr>\n",
       "    <tr>\n",
       "      <th>6</th>\n",
       "      <td>10013</td>\n",
       "      <td>None</td>\n",
       "      <td>22</td>\n",
       "      <td>TFS</td>\n",
       "    </tr>\n",
       "    <tr>\n",
       "      <th>7</th>\n",
       "      <td>10019</td>\n",
       "      <td>None</td>\n",
       "      <td>23</td>\n",
       "      <td>TFS</td>\n",
       "    </tr>\n",
       "    <tr>\n",
       "      <th>...</th>\n",
       "      <td>...</td>\n",
       "      <td>...</td>\n",
       "      <td>...</td>\n",
       "      <td>...</td>\n",
       "    </tr>\n",
       "    <tr>\n",
       "      <th>575933</th>\n",
       "      <td>1184</td>\n",
       "      <td>None</td>\n",
       "      <td>10007799</td>\n",
       "      <td>Unknown</td>\n",
       "    </tr>\n",
       "    <tr>\n",
       "      <th>575939</th>\n",
       "      <td>1213</td>\n",
       "      <td>CCF ST:Innovation Catalysed &amp; Enabled (ICE) Le...</td>\n",
       "      <td>10007796</td>\n",
       "      <td>Unknown</td>\n",
       "    </tr>\n",
       "    <tr>\n",
       "      <th>575940</th>\n",
       "      <td>1212</td>\n",
       "      <td>CCF ST:AI SuperConnector</td>\n",
       "      <td>10003270</td>\n",
       "      <td>Unknown</td>\n",
       "    </tr>\n",
       "    <tr>\n",
       "      <th>575941</th>\n",
       "      <td>1211</td>\n",
       "      <td>CCF ST:North West Cyber Security Connect for C...</td>\n",
       "      <td>10007768</td>\n",
       "      <td>Unknown</td>\n",
       "    </tr>\n",
       "    <tr>\n",
       "      <th>575942</th>\n",
       "      <td>1219</td>\n",
       "      <td>CCF ST:Inclusive Financial Technology Hub (INF...</td>\n",
       "      <td>10007154</td>\n",
       "      <td>Unknown</td>\n",
       "    </tr>\n",
       "  </tbody>\n",
       "</table>\n",
       "<p>561549 rows × 4 columns</p>\n",
       "</div>"
      ],
      "text/plain": [
       "       application_reference  \\\n",
       "1                      10000   \n",
       "2                      10001   \n",
       "5                      10011   \n",
       "6                      10013   \n",
       "7                      10019   \n",
       "...                      ...   \n",
       "575933                  1184   \n",
       "575939                  1213   \n",
       "575940                  1212   \n",
       "575941                  1211   \n",
       "575942                  1219   \n",
       "\n",
       "                                          award_reference  \\\n",
       "1                                                    None   \n",
       "2                                                    None   \n",
       "5                                            MR/Z503976/1   \n",
       "6                                                    None   \n",
       "7                                                    None   \n",
       "...                                                   ...   \n",
       "575933                                               None   \n",
       "575939  CCF ST:Innovation Catalysed & Enabled (ICE) Le...   \n",
       "575940                           CCF ST:AI SuperConnector   \n",
       "575941  CCF ST:North West Cyber Security Connect for C...   \n",
       "575942  CCF ST:Inclusive Financial Technology Hub (INF...   \n",
       "\n",
       "       lead_organisation_id organisation_source  \n",
       "1                       469                 TFS  \n",
       "2                        34                 TFS  \n",
       "5                     16608              Siebel  \n",
       "6                        22                 TFS  \n",
       "7                        23                 TFS  \n",
       "...                     ...                 ...  \n",
       "575933             10007799             Unknown  \n",
       "575939             10007796             Unknown  \n",
       "575940             10003270             Unknown  \n",
       "575941             10007768             Unknown  \n",
       "575942             10007154             Unknown  \n",
       "\n",
       "[561549 rows x 4 columns]"
      ]
     },
     "execution_count": 12,
     "metadata": {},
     "output_type": "execute_result"
    }
   ],
   "source": [
    "data_.columns\n",
    "\n",
    "data_[['application_reference', 'award_reference', 'lead_organisation_id', 'organisation_source']]"
   ]
  },
  {
   "cell_type": "code",
   "execution_count": 13,
   "metadata": {},
   "outputs": [],
   "source": [
    "data_merge = pd.merge(df, data_[['application_reference', 'award_reference', 'lead_organisation_id', 'organisation_source']],\n",
    "          on='application_reference', how='left', indicator=True)"
   ]
  },
  {
   "cell_type": "code",
   "execution_count": 14,
   "metadata": {},
   "outputs": [],
   "source": [
    "data_both = data_merge[data_merge['_merge'] == 'both']\n"
   ]
  },
  {
   "cell_type": "code",
   "execution_count": 15,
   "metadata": {},
   "outputs": [
    {
     "name": "stdout",
     "output_type": "stream",
     "text": [
      "83.42163355408388\n"
     ]
    }
   ],
   "source": [
    "print(len(data_both)/len(df)*100)"
   ]
  },
  {
   "cell_type": "code",
   "execution_count": 16,
   "metadata": {},
   "outputs": [
    {
     "name": "stderr",
     "output_type": "stream",
     "text": [
      "C:\\Users\\MHil02\\AppData\\Local\\Temp\\ipykernel_4604\\2732986568.py:1: UserWarning: pandas only supports SQLAlchemy connectable (engine/connection) or database string URI or sqlite3 DBAPI2 connection. Other DBAPI2 objects are not tested. Please consider using SQLAlchemy.\n",
      "  ssd_organisation = pd.read_sql(\"SELECT * FROM ukri_ssd_snapshot.2024_10_04_ssd_organisation;\", con)\n"
     ]
    }
   ],
   "source": [
    "ssd_organisation = pd.read_sql(\"SELECT * FROM ukri_ssd_snapshot.2024_10_04_ssd_organisation;\", con)"
   ]
  },
  {
   "cell_type": "code",
   "execution_count": 17,
   "metadata": {},
   "outputs": [
    {
     "data": {
      "text/plain": [
       "Index(['application_reference', 'award_reference_x', 'funder', 'administrator',\n",
       "       'outcome_base_id', 'outcome_first_submitted', 'outcome_last_submitted',\n",
       "       'year_protection_granted', 'protection', 'patent_id', 'description',\n",
       "       'licensed', 'impact', 'url', 'record_title', 'award_reference_y',\n",
       "       'lead_organisation_id', 'organisation_source', '_merge'],\n",
       "      dtype='object')"
      ]
     },
     "execution_count": 17,
     "metadata": {},
     "output_type": "execute_result"
    }
   ],
   "source": [
    "data_both.columns"
   ]
  },
  {
   "cell_type": "code",
   "execution_count": 18,
   "metadata": {},
   "outputs": [
    {
     "data": {
      "text/plain": [
       "Index(['organisation_id', 'ukprn', 'organisation_city', 'organisation_country',\n",
       "       'organisation_name', 'organisation_postcode', 'organisation_type',\n",
       "       'organisation_status', 'itl1_id', 'itl1_name', 'itl2_id', 'itl2_name',\n",
       "       'itl3_id', 'itl3_name', 'constituency_id', 'constituency_name',\n",
       "       'organisation_source'],\n",
       "      dtype='object')"
      ]
     },
     "execution_count": 18,
     "metadata": {},
     "output_type": "execute_result"
    }
   ],
   "source": [
    "ssd_organisation.columns"
   ]
  },
  {
   "cell_type": "code",
   "execution_count": 27,
   "metadata": {},
   "outputs": [
    {
     "name": "stderr",
     "output_type": "stream",
     "text": [
      "C:\\Users\\MHil02\\AppData\\Local\\Temp\\ipykernel_4604\\2809252394.py:1: SettingWithCopyWarning: \n",
      "A value is trying to be set on a copy of a slice from a DataFrame\n",
      "\n",
      "See the caveats in the documentation: https://pandas.pydata.org/pandas-docs/stable/user_guide/indexing.html#returning-a-view-versus-a-copy\n",
      "  data_both.drop(columns='_merge', inplace=True)\n"
     ]
    }
   ],
   "source": [
    "data_both.drop(columns='_merge', inplace=True)"
   ]
  },
  {
   "cell_type": "code",
   "execution_count": 28,
   "metadata": {},
   "outputs": [],
   "source": [
    "data_w_org = pd.merge(data_both, ssd_organisation, left_on=['lead_organisation_id', 'organisation_source'], right_on=['organisation_id', 'organisation_source'], \n",
    "                      how='left', indicator=True)"
   ]
  },
  {
   "cell_type": "code",
   "execution_count": 30,
   "metadata": {},
   "outputs": [
    {
     "data": {
      "text/html": [
       "<div>\n",
       "<style scoped>\n",
       "    .dataframe tbody tr th:only-of-type {\n",
       "        vertical-align: middle;\n",
       "    }\n",
       "\n",
       "    .dataframe tbody tr th {\n",
       "        vertical-align: top;\n",
       "    }\n",
       "\n",
       "    .dataframe thead th {\n",
       "        text-align: right;\n",
       "    }\n",
       "</style>\n",
       "<table border=\"1\" class=\"dataframe\">\n",
       "  <thead>\n",
       "    <tr style=\"text-align: right;\">\n",
       "      <th></th>\n",
       "      <th>application_reference</th>\n",
       "      <th>award_reference_x</th>\n",
       "      <th>funder</th>\n",
       "      <th>administrator</th>\n",
       "      <th>outcome_base_id</th>\n",
       "      <th>outcome_first_submitted</th>\n",
       "      <th>outcome_last_submitted</th>\n",
       "      <th>year_protection_granted</th>\n",
       "      <th>protection</th>\n",
       "      <th>patent_id</th>\n",
       "      <th>...</th>\n",
       "      <th>organisation_status</th>\n",
       "      <th>itl1_id</th>\n",
       "      <th>itl1_name</th>\n",
       "      <th>itl2_id</th>\n",
       "      <th>itl2_name</th>\n",
       "      <th>itl3_id</th>\n",
       "      <th>itl3_name</th>\n",
       "      <th>constituency_id</th>\n",
       "      <th>constituency_name</th>\n",
       "      <th>_merge</th>\n",
       "    </tr>\n",
       "  </thead>\n",
       "  <tbody>\n",
       "  </tbody>\n",
       "</table>\n",
       "<p>0 rows × 35 columns</p>\n",
       "</div>"
      ],
      "text/plain": [
       "Empty DataFrame\n",
       "Columns: [application_reference, award_reference_x, funder, administrator, outcome_base_id, outcome_first_submitted, outcome_last_submitted, year_protection_granted, protection, patent_id, description, licensed, impact, url, record_title, award_reference_y, lead_organisation_id, organisation_source, organisation_id, ukprn, organisation_city, organisation_country, organisation_name, organisation_postcode, organisation_type, organisation_status, itl1_id, itl1_name, itl2_id, itl2_name, itl3_id, itl3_name, constituency_id, constituency_name, _merge]\n",
       "Index: []\n",
       "\n",
       "[0 rows x 35 columns]"
      ]
     },
     "execution_count": 30,
     "metadata": {},
     "output_type": "execute_result"
    }
   ],
   "source": [
    "data_w_org[data_w_org['_merge'] == 'left_only']"
   ]
  },
  {
   "cell_type": "code",
   "execution_count": 31,
   "metadata": {},
   "outputs": [
    {
     "name": "stdout",
     "output_type": "stream",
     "text": [
      "7558\n",
      "7558\n"
     ]
    }
   ],
   "source": [
    "print(len(data_both))\n",
    "print(len(data_w_org))"
   ]
  },
  {
   "cell_type": "code",
   "execution_count": 32,
   "metadata": {},
   "outputs": [
    {
     "data": {
      "text/plain": [
       "83.42163355408388"
      ]
     },
     "execution_count": 32,
     "metadata": {},
     "output_type": "execute_result"
    }
   ],
   "source": [
    "len(data_w_org)/len(df)*100"
   ]
  },
  {
   "cell_type": "code",
   "execution_count": 34,
   "metadata": {},
   "outputs": [
    {
     "name": "stdout",
     "output_type": "stream",
     "text": [
      "7558\n"
     ]
    }
   ],
   "source": [
    "print(len(data_w_org))"
   ]
  },
  {
   "cell_type": "code",
   "execution_count": 35,
   "metadata": {},
   "outputs": [
    {
     "name": "stdout",
     "output_type": "stream",
     "text": [
      "9060\n"
     ]
    }
   ],
   "source": [
    "print(len(df))"
   ]
  },
  {
   "cell_type": "code",
   "execution_count": 38,
   "metadata": {},
   "outputs": [
    {
     "name": "stdout",
     "output_type": "stream",
     "text": [
      "1352\n"
     ]
    }
   ],
   "source": [
    "print(df['application_reference'].isna().sum())"
   ]
  },
  {
   "cell_type": "code",
   "execution_count": null,
   "metadata": {},
   "outputs": [],
   "source": []
  }
 ],
 "metadata": {
  "kernelspec": {
   "display_name": "base",
   "language": "python",
   "name": "python3"
  },
  "language_info": {
   "codemirror_mode": {
    "name": "ipython",
    "version": 3
   },
   "file_extension": ".py",
   "mimetype": "text/x-python",
   "name": "python",
   "nbconvert_exporter": "python",
   "pygments_lexer": "ipython3",
   "version": "3.12.7"
  }
 },
 "nbformat": 4,
 "nbformat_minor": 2
}
