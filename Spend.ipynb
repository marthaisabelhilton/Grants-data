{
 "cells": [
  {
   "cell_type": "code",
   "execution_count": 2,
   "metadata": {},
   "outputs": [],
   "source": [
    "import pandas as pd\n",
    "import pyodbc"
   ]
  },
  {
   "cell_type": "code",
   "execution_count": 3,
   "metadata": {},
   "outputs": [],
   "source": [
    "# Connect to DataBank\n",
    "connection_string = (\n",
    "    \"DSN=DataBank;\"\n",
    "    \"Trusted_Connection=yes;\"\n",
    ")\n",
    "\n",
    "con = pyodbc.connect(connection_string)"
   ]
  },
  {
   "cell_type": "code",
   "execution_count": 4,
   "metadata": {},
   "outputs": [
    {
     "name": "stderr",
     "output_type": "stream",
     "text": [
      "C:\\Users\\MHil02\\AppData\\Local\\Temp\\ipykernel_30460\\684459653.py:1: UserWarning: pandas only supports SQLAlchemy connectable (engine/connection) or database string URI or sqlite3 DBAPI2 connection. Other DBAPI2 objects are not tested. Please consider using SQLAlchemy.\n",
      "  spend = pd.read_sql(\"SELECT * FROM ukri_ssd_snapshot.2025_01_09_ssd_spend;\", con)\n"
     ]
    }
   ],
   "source": [
    "spend = pd.read_sql(\"SELECT * FROM ukri_ssd_snapshot.2025_01_09_ssd_spend;\", con)"
   ]
  },
  {
   "cell_type": "code",
   "execution_count": 6,
   "metadata": {},
   "outputs": [
    {
     "name": "stderr",
     "output_type": "stream",
     "text": [
      "C:\\Users\\MHil02\\AppData\\Local\\Temp\\ipykernel_30460\\1554799385.py:1: UserWarning: pandas only supports SQLAlchemy connectable (engine/connection) or database string URI or sqlite3 DBAPI2 connection. Other DBAPI2 objects are not tested. Please consider using SQLAlchemy.\n",
      "  dim_opportunity = pd.read_sql(\"SELECT * FROM databank.dim_opportunity;\", con)\n"
     ]
    }
   ],
   "source": [
    "dim_opportunity = pd.read_sql(\"SELECT * FROM databank.dim_opportunity;\", con)"
   ]
  },
  {
   "cell_type": "code",
   "execution_count": 7,
   "metadata": {},
   "outputs": [],
   "source": [
    "dim_opportunity.drop_duplicates(subset=['OpportunityName', 'OpportunityNumber', 'OpportunityOriginSource'], inplace=True)"
   ]
  },
  {
   "cell_type": "code",
   "execution_count": 9,
   "metadata": {},
   "outputs": [
    {
     "name": "stderr",
     "output_type": "stream",
     "text": [
      "C:\\Users\\MHil02\\AppData\\Local\\Temp\\ipykernel_30460\\108949258.py:1: UserWarning: pandas only supports SQLAlchemy connectable (engine/connection) or database string URI or sqlite3 DBAPI2 connection. Other DBAPI2 objects are not tested. Please consider using SQLAlchemy.\n",
      "  df_application = pd.read_sql(\"SELECT * FROM ukri_ssd_snapshot.2025_01_09_ssd_application;\", con)\n"
     ]
    }
   ],
   "source": [
    "df_application = pd.read_sql(\"SELECT * FROM ukri_ssd_snapshot.2025_01_09_ssd_application;\", con)"
   ]
  },
  {
   "cell_type": "code",
   "execution_count": 11,
   "metadata": {},
   "outputs": [],
   "source": [
    "data_merge = pd.merge(df_application, dim_opportunity, left_on=['opportunity_name', 'opportunity_id', 'application_source'],\n",
    "                      right_on=['OpportunityName', 'OpportunityNumber', 'OpportunityOriginSource'], how='left', indicator=True)"
   ]
  },
  {
   "cell_type": "code",
   "execution_count": 12,
   "metadata": {},
   "outputs": [],
   "source": [
    "data_merge.drop(columns=['_merge', 'application_status', 'derived_status', 'decision_date', 'lead_organisation_department_id', 'rejection_reason', \n",
    "                        'date_last_received', 'OpportunityStartDate', 'OpportunityEndDate', 'OpportunityCloseDate', 'international_programme', 'OpportunitySKey',\n",
    "                        'OpportunityName', 'parent_award', 'parent_award_reference', 'redact_abstract_on_gtr', 'application_stage', 'application_stage_status',\n",
    "                        'joint_proposal', 'OpportunityNumber', 'OpportunityOriginSource', 'publish_to_gtr'], inplace=True)"
   ]
  },
  {
   "cell_type": "code",
   "execution_count": 14,
   "metadata": {},
   "outputs": [
    {
     "data": {
      "text/plain": [
       "19"
      ]
     },
     "execution_count": 14,
     "metadata": {},
     "output_type": "execute_result"
    }
   ],
   "source": [
    "df_application[['application_reference', 'application_source']].duplicated().sum()"
   ]
  },
  {
   "cell_type": "code",
   "execution_count": 15,
   "metadata": {},
   "outputs": [],
   "source": [
    "data_w_opp = pd.merge(spend, data_merge.drop_duplicates(subset=['application_reference', 'application_source'], keep=False), \n",
    "                      on=['application_reference', 'application_source'])"
   ]
  },
  {
   "cell_type": "code",
   "execution_count": 17,
   "metadata": {},
   "outputs": [],
   "source": [
    "data_app = data_w_opp[data_w_opp['ApplicantLedOrTargeted'] == 'Applicant-Led']\n"
   ]
  },
  {
   "cell_type": "code",
   "execution_count": 22,
   "metadata": {},
   "outputs": [
    {
     "data": {
      "text/html": [
       "<div>\n",
       "<style scoped>\n",
       "    .dataframe tbody tr th:only-of-type {\n",
       "        vertical-align: middle;\n",
       "    }\n",
       "\n",
       "    .dataframe tbody tr th {\n",
       "        vertical-align: top;\n",
       "    }\n",
       "\n",
       "    .dataframe thead th {\n",
       "        text-align: right;\n",
       "    }\n",
       "</style>\n",
       "<table border=\"1\" class=\"dataframe\">\n",
       "  <thead>\n",
       "    <tr style=\"text-align: right;\">\n",
       "      <th></th>\n",
       "      <th></th>\n",
       "      <th>amount</th>\n",
       "    </tr>\n",
       "    <tr>\n",
       "      <th>paymentdate_financial_year</th>\n",
       "      <th>application_category</th>\n",
       "      <th></th>\n",
       "    </tr>\n",
       "  </thead>\n",
       "  <tbody>\n",
       "    <tr>\n",
       "      <th>1994/95</th>\n",
       "      <th>Research Grant</th>\n",
       "      <td>1.849680e+05</td>\n",
       "    </tr>\n",
       "    <tr>\n",
       "      <th>1995/96</th>\n",
       "      <th>Research Grant</th>\n",
       "      <td>3.289460e+06</td>\n",
       "    </tr>\n",
       "    <tr>\n",
       "      <th>1996/97</th>\n",
       "      <th>Research Grant</th>\n",
       "      <td>1.527537e+07</td>\n",
       "    </tr>\n",
       "    <tr>\n",
       "      <th>1997/98</th>\n",
       "      <th>Research Grant</th>\n",
       "      <td>2.809381e+07</td>\n",
       "    </tr>\n",
       "    <tr>\n",
       "      <th>1998/99</th>\n",
       "      <th>Research Grant</th>\n",
       "      <td>4.398211e+07</td>\n",
       "    </tr>\n",
       "    <tr>\n",
       "      <th>1999/00</th>\n",
       "      <th>Research Grant</th>\n",
       "      <td>5.965369e+07</td>\n",
       "    </tr>\n",
       "    <tr>\n",
       "      <th>2000/01</th>\n",
       "      <th>Research Grant</th>\n",
       "      <td>6.820408e+07</td>\n",
       "    </tr>\n",
       "    <tr>\n",
       "      <th>2001/02</th>\n",
       "      <th>Research Grant</th>\n",
       "      <td>7.996408e+07</td>\n",
       "    </tr>\n",
       "    <tr>\n",
       "      <th>2002/03</th>\n",
       "      <th>Research Grant</th>\n",
       "      <td>9.278506e+07</td>\n",
       "    </tr>\n",
       "    <tr>\n",
       "      <th>2003/04</th>\n",
       "      <th>Research Grant</th>\n",
       "      <td>1.008362e+08</td>\n",
       "    </tr>\n",
       "    <tr>\n",
       "      <th>2004/05</th>\n",
       "      <th>Research Grant</th>\n",
       "      <td>9.302941e+07</td>\n",
       "    </tr>\n",
       "    <tr>\n",
       "      <th>2005/06</th>\n",
       "      <th>Research Grant</th>\n",
       "      <td>6.311770e+07</td>\n",
       "    </tr>\n",
       "    <tr>\n",
       "      <th>2006/07</th>\n",
       "      <th>Research Grant</th>\n",
       "      <td>6.093321e+07</td>\n",
       "    </tr>\n",
       "    <tr>\n",
       "      <th>2007/08</th>\n",
       "      <th>Research Grant</th>\n",
       "      <td>1.224831e+08</td>\n",
       "    </tr>\n",
       "    <tr>\n",
       "      <th>2008/09</th>\n",
       "      <th>Research Grant</th>\n",
       "      <td>1.981310e+08</td>\n",
       "    </tr>\n",
       "    <tr>\n",
       "      <th>2009/10</th>\n",
       "      <th>Research Grant</th>\n",
       "      <td>2.425071e+08</td>\n",
       "    </tr>\n",
       "    <tr>\n",
       "      <th>2010/11</th>\n",
       "      <th>Research Grant</th>\n",
       "      <td>2.738329e+08</td>\n",
       "    </tr>\n",
       "    <tr>\n",
       "      <th>2011/12</th>\n",
       "      <th>Research Grant</th>\n",
       "      <td>2.987169e+08</td>\n",
       "    </tr>\n",
       "    <tr>\n",
       "      <th>2012/13</th>\n",
       "      <th>Research Grant</th>\n",
       "      <td>4.009775e+08</td>\n",
       "    </tr>\n",
       "    <tr>\n",
       "      <th>2013/14</th>\n",
       "      <th>Research Grant</th>\n",
       "      <td>5.576747e+08</td>\n",
       "    </tr>\n",
       "    <tr>\n",
       "      <th>2014/15</th>\n",
       "      <th>Research Grant</th>\n",
       "      <td>6.853374e+08</td>\n",
       "    </tr>\n",
       "    <tr>\n",
       "      <th>2015/16</th>\n",
       "      <th>Research Grant</th>\n",
       "      <td>6.943863e+08</td>\n",
       "    </tr>\n",
       "    <tr>\n",
       "      <th>2016/17</th>\n",
       "      <th>Research Grant</th>\n",
       "      <td>7.072410e+08</td>\n",
       "    </tr>\n",
       "    <tr>\n",
       "      <th>2017/18</th>\n",
       "      <th>Research Grant</th>\n",
       "      <td>7.679779e+08</td>\n",
       "    </tr>\n",
       "    <tr>\n",
       "      <th>2018/19</th>\n",
       "      <th>Research Grant</th>\n",
       "      <td>8.432742e+08</td>\n",
       "    </tr>\n",
       "    <tr>\n",
       "      <th>2019/20</th>\n",
       "      <th>Research Grant</th>\n",
       "      <td>8.721262e+08</td>\n",
       "    </tr>\n",
       "    <tr>\n",
       "      <th>2020/21</th>\n",
       "      <th>Research Grant</th>\n",
       "      <td>9.683280e+08</td>\n",
       "    </tr>\n",
       "    <tr>\n",
       "      <th>2021/22</th>\n",
       "      <th>Research Grant</th>\n",
       "      <td>8.804565e+08</td>\n",
       "    </tr>\n",
       "    <tr>\n",
       "      <th>2022/23</th>\n",
       "      <th>Research Grant</th>\n",
       "      <td>9.190483e+08</td>\n",
       "    </tr>\n",
       "    <tr>\n",
       "      <th>2023/24</th>\n",
       "      <th>Research Grant</th>\n",
       "      <td>9.865684e+08</td>\n",
       "    </tr>\n",
       "    <tr>\n",
       "      <th>2024/25</th>\n",
       "      <th>Research Grant</th>\n",
       "      <td>7.174298e+08</td>\n",
       "    </tr>\n",
       "  </tbody>\n",
       "</table>\n",
       "</div>"
      ],
      "text/plain": [
       "                                                       amount\n",
       "paymentdate_financial_year application_category              \n",
       "1994/95                    Research Grant        1.849680e+05\n",
       "1995/96                    Research Grant        3.289460e+06\n",
       "1996/97                    Research Grant        1.527537e+07\n",
       "1997/98                    Research Grant        2.809381e+07\n",
       "1998/99                    Research Grant        4.398211e+07\n",
       "1999/00                    Research Grant        5.965369e+07\n",
       "2000/01                    Research Grant        6.820408e+07\n",
       "2001/02                    Research Grant        7.996408e+07\n",
       "2002/03                    Research Grant        9.278506e+07\n",
       "2003/04                    Research Grant        1.008362e+08\n",
       "2004/05                    Research Grant        9.302941e+07\n",
       "2005/06                    Research Grant        6.311770e+07\n",
       "2006/07                    Research Grant        6.093321e+07\n",
       "2007/08                    Research Grant        1.224831e+08\n",
       "2008/09                    Research Grant        1.981310e+08\n",
       "2009/10                    Research Grant        2.425071e+08\n",
       "2010/11                    Research Grant        2.738329e+08\n",
       "2011/12                    Research Grant        2.987169e+08\n",
       "2012/13                    Research Grant        4.009775e+08\n",
       "2013/14                    Research Grant        5.576747e+08\n",
       "2014/15                    Research Grant        6.853374e+08\n",
       "2015/16                    Research Grant        6.943863e+08\n",
       "2016/17                    Research Grant        7.072410e+08\n",
       "2017/18                    Research Grant        7.679779e+08\n",
       "2018/19                    Research Grant        8.432742e+08\n",
       "2019/20                    Research Grant        8.721262e+08\n",
       "2020/21                    Research Grant        9.683280e+08\n",
       "2021/22                    Research Grant        8.804565e+08\n",
       "2022/23                    Research Grant        9.190483e+08\n",
       "2023/24                    Research Grant        9.865684e+08\n",
       "2024/25                    Research Grant        7.174298e+08"
      ]
     },
     "execution_count": 22,
     "metadata": {},
     "output_type": "execute_result"
    }
   ],
   "source": [
    "data_app[data_app['application_category'] == 'Research Grant'].groupby(['paymentdate_financial_year', 'application_category']).agg({'amount':'sum'})"
   ]
  },
  {
   "cell_type": "code",
   "execution_count": null,
   "metadata": {},
   "outputs": [],
   "source": []
  }
 ],
 "metadata": {
  "kernelspec": {
   "display_name": "base",
   "language": "python",
   "name": "python3"
  },
  "language_info": {
   "codemirror_mode": {
    "name": "ipython",
    "version": 3
   },
   "file_extension": ".py",
   "mimetype": "text/x-python",
   "name": "python",
   "nbconvert_exporter": "python",
   "pygments_lexer": "ipython3",
   "version": "3.12.7"
  }
 },
 "nbformat": 4,
 "nbformat_minor": 2
}
