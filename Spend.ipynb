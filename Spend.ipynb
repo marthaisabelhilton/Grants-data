{
 "cells": [
  {
   "cell_type": "code",
   "execution_count": 1,
   "metadata": {},
   "outputs": [],
   "source": [
    "import pandas as pd\n",
    "import pyodbc"
   ]
  },
  {
   "cell_type": "code",
   "execution_count": 2,
   "metadata": {},
   "outputs": [],
   "source": [
    "# Connect to DataBank\n",
    "connection_string = (\n",
    "    \"DSN=DataBank;\"\n",
    "    \"Trusted_Connection=yes;\"\n",
    ")\n",
    "\n",
    "con = pyodbc.connect(connection_string)"
   ]
  },
  {
   "cell_type": "code",
   "execution_count": 3,
   "metadata": {},
   "outputs": [
    {
     "name": "stderr",
     "output_type": "stream",
     "text": [
      "C:\\Users\\MHil02\\AppData\\Local\\Temp\\ipykernel_2848\\684459653.py:1: UserWarning: pandas only supports SQLAlchemy connectable (engine/connection) or database string URI or sqlite3 DBAPI2 connection. Other DBAPI2 objects are not tested. Please consider using SQLAlchemy.\n",
      "  spend = pd.read_sql(\"SELECT * FROM ukri_ssd_snapshot.2025_01_09_ssd_spend;\", con)\n"
     ]
    }
   ],
   "source": [
    "spend = pd.read_sql(\"SELECT * FROM ukri_ssd_snapshot.2025_01_09_ssd_spend;\", con)"
   ]
  },
  {
   "cell_type": "code",
   "execution_count": 4,
   "metadata": {},
   "outputs": [
    {
     "name": "stdout",
     "output_type": "stream",
     "text": [
      "1241783511.5\n",
      "74191853092.41724\n"
     ]
    },
    {
     "data": {
      "text/plain": [
       "0.016737464556292585"
      ]
     },
     "execution_count": 4,
     "metadata": {},
     "output_type": "execute_result"
    }
   ],
   "source": [
    "spend['paymentdate_financial_year'].isna().sum()\n",
    "\n",
    "(spend['paymentdate_financial_year'] == 'Unknown').sum()\n",
    "\n",
    "print(spend[spend['paymentdate_financial_year'] == 'Unknown']['amount'].sum())\n",
    "\n",
    "print(spend['amount'].sum())\n",
    "\n",
    "1241783511.5/74191853092.41724 # ~2% of spend on the SSD has Unknown date so can't be accounted for "
   ]
  },
  {
   "cell_type": "code",
   "execution_count": 5,
   "metadata": {},
   "outputs": [],
   "source": [
    "spend1 = spend.loc[spend['paymentdate_financial_year'] != 'Unknown']\n",
    "\n",
    "spend2 = spend1.loc[spend1['paymentdate_financial_year'].str[:4].astype(float) > 2018] # spend from fy 2018/19 onwards\n"
   ]
  },
  {
   "cell_type": "code",
   "execution_count": 6,
   "metadata": {},
   "outputs": [
    {
     "name": "stderr",
     "output_type": "stream",
     "text": [
      "C:\\Users\\MHil02\\AppData\\Local\\Temp\\ipykernel_2848\\108949258.py:1: UserWarning: pandas only supports SQLAlchemy connectable (engine/connection) or database string URI or sqlite3 DBAPI2 connection. Other DBAPI2 objects are not tested. Please consider using SQLAlchemy.\n",
      "  df_application = pd.read_sql(\"SELECT * FROM ukri_ssd_snapshot.2025_01_09_ssd_application;\", con)\n"
     ]
    }
   ],
   "source": [
    "df_application = pd.read_sql(\"SELECT * FROM ukri_ssd_snapshot.2025_01_09_ssd_application;\", con)"
   ]
  },
  {
   "cell_type": "code",
   "execution_count": 7,
   "metadata": {},
   "outputs": [
    {
     "data": {
      "text/plain": [
       "19"
      ]
     },
     "execution_count": 7,
     "metadata": {},
     "output_type": "execute_result"
    }
   ],
   "source": [
    "df_application[['application_reference', 'application_source']].duplicated().sum()"
   ]
  },
  {
   "cell_type": "code",
   "execution_count": 8,
   "metadata": {},
   "outputs": [],
   "source": [
    "df_research = df_application.loc[df_application['application_category'] == 'Research Grant'] # Research Grant only"
   ]
  },
  {
   "cell_type": "code",
   "execution_count": 9,
   "metadata": {},
   "outputs": [],
   "source": [
    "data_w_spend = pd.merge(spend2, df_research.drop_duplicates(subset=['application_reference', 'application_source'], keep=False), \n",
    "                      on=['application_reference', 'application_source'], how='outer', indicator=True)"
   ]
  },
  {
   "cell_type": "code",
   "execution_count": 10,
   "metadata": {},
   "outputs": [
    {
     "data": {
      "text/plain": [
       "17704138704.775696"
      ]
     },
     "execution_count": 10,
     "metadata": {},
     "output_type": "execute_result"
    }
   ],
   "source": [
    "data_w_spend[data_w_spend['_merge'] == 'left_only']['amount'].sum() # £4.6M spend not linked to application"
   ]
  },
  {
   "cell_type": "code",
   "execution_count": 11,
   "metadata": {},
   "outputs": [],
   "source": [
    "data_both = data_w_spend.loc[data_w_spend['_merge'] == 'both']"
   ]
  },
  {
   "cell_type": "code",
   "execution_count": 12,
   "metadata": {},
   "outputs": [],
   "source": [
    "data_select = data_both[['award_reference_x', 'application_reference', 'paymentdate_financial_year', 'ExpenditureType', 'amount', 'application_source', \n",
    "              'funder_x', 'application_category', 'decision_date']]"
   ]
  },
  {
   "cell_type": "code",
   "execution_count": 13,
   "metadata": {},
   "outputs": [
    {
     "data": {
      "text/plain": [
       "102955"
      ]
     },
     "execution_count": 13,
     "metadata": {},
     "output_type": "execute_result"
    }
   ],
   "source": [
    "df_application['decision_date'].isna().sum()"
   ]
  },
  {
   "cell_type": "code",
   "execution_count": 14,
   "metadata": {},
   "outputs": [
    {
     "data": {
      "text/plain": [
       "582874"
      ]
     },
     "execution_count": 14,
     "metadata": {},
     "output_type": "execute_result"
    }
   ],
   "source": [
    "len(df_application)"
   ]
  },
  {
   "cell_type": "code",
   "execution_count": 15,
   "metadata": {},
   "outputs": [
    {
     "data": {
      "text/plain": [
       "0.1766333718779702"
      ]
     },
     "execution_count": 15,
     "metadata": {},
     "output_type": "execute_result"
    }
   ],
   "source": [
    "102955/582874"
   ]
  },
  {
   "cell_type": "code",
   "execution_count": 16,
   "metadata": {},
   "outputs": [
    {
     "name": "stdout",
     "output_type": "stream",
     "text": [
      "91\n",
      "26814\n"
     ]
    },
    {
     "data": {
      "text/plain": [
       "0.33937495338256135"
      ]
     },
     "execution_count": 16,
     "metadata": {},
     "output_type": "execute_result"
    }
   ],
   "source": [
    "print(data_select[['application_reference', 'application_source', 'decision_date']].drop_duplicates()['decision_date'].isna().sum())\n",
    "\n",
    "print(len(data_select[['application_reference', 'application_source', 'decision_date']].drop_duplicates()))\n",
    "\n",
    "91/26814*100"
   ]
  },
  {
   "cell_type": "code",
   "execution_count": 17,
   "metadata": {},
   "outputs": [],
   "source": [
    "councils = ['NERC', 'BBSRC', 'STFC', 'MRC', 'ESRC', 'AHRC', 'EPSRC']\n",
    "\n",
    "data_councils = data_select.loc[data_select['funder_x'].isin(councils)]\n"
   ]
  },
  {
   "cell_type": "code",
   "execution_count": 18,
   "metadata": {},
   "outputs": [
    {
     "name": "stdout",
     "output_type": "stream",
     "text": [
      "90\n",
      "22021\n"
     ]
    },
    {
     "data": {
      "text/plain": [
       "0.40870078561373235"
      ]
     },
     "execution_count": 18,
     "metadata": {},
     "output_type": "execute_result"
    }
   ],
   "source": [
    "print(data_councils[['application_reference', 'application_source', 'decision_date']].drop_duplicates()['decision_date'].isna().sum())\n",
    "\n",
    "print(len(data_councils[['application_reference', 'application_source', 'decision_date']].drop_duplicates()))\n",
    "\n",
    "90/22021*100"
   ]
  },
  {
   "cell_type": "code",
   "execution_count": 41,
   "metadata": {},
   "outputs": [
    {
     "name": "stdout",
     "output_type": "stream",
     "text": [
      "30602739.89\n",
      "9072451116.976799\n"
     ]
    },
    {
     "name": "stderr",
     "output_type": "stream",
     "text": [
      "C:\\Users\\MHil02\\AppData\\Local\\Temp\\ipykernel_2848\\3658491330.py:5: SettingWithCopyWarning: \n",
      "A value is trying to be set on a copy of a slice from a DataFrame\n",
      "\n",
      "See the caveats in the documentation: https://pandas.pydata.org/pandas-docs/stable/user_guide/indexing.html#returning-a-view-versus-a-copy\n",
      "  data_councils.dropna(subset='decision_date', inplace=True)\n"
     ]
    },
    {
     "data": {
      "text/plain": [
       "0.33731501548390497"
      ]
     },
     "execution_count": 41,
     "metadata": {},
     "output_type": "execute_result"
    }
   ],
   "source": [
    "print(data_councils[data_councils['decision_date'].isna()]['amount'].sum())\n",
    "\n",
    "print(data_councils['amount'].sum())\n",
    "\n",
    "data_councils.dropna(subset='decision_date', inplace=True)\n",
    "\n",
    "30602739.89/9072451116.976799*100 # <1% of amount decision date is nan so can neglect"
   ]
  },
  {
   "cell_type": "code",
   "execution_count": 42,
   "metadata": {},
   "outputs": [
    {
     "name": "stderr",
     "output_type": "stream",
     "text": [
      "C:\\Users\\MHil02\\AppData\\Local\\Temp\\ipykernel_2848\\2050925763.py:1: SettingWithCopyWarning: \n",
      "A value is trying to be set on a copy of a slice from a DataFrame.\n",
      "Try using .loc[row_indexer,col_indexer] = value instead\n",
      "\n",
      "See the caveats in the documentation: https://pandas.pydata.org/pandas-docs/stable/user_guide/indexing.html#returning-a-view-versus-a-copy\n",
      "  data_councils['app_ref_source'] = data_councils['application_reference'] + '_' + data_councils['application_source']\n"
     ]
    }
   ],
   "source": [
    "data_councils['app_ref_source'] = data_councils['application_reference'] + '_' + data_councils['application_source']\n",
    "\n",
    "data_1 = data_councils.groupby('paymentdate_financial_year', as_index=False).agg({'app_ref_source':'nunique', 'amount':'sum'})"
   ]
  },
  {
   "cell_type": "code",
   "execution_count": 43,
   "metadata": {},
   "outputs": [
    {
     "name": "stderr",
     "output_type": "stream",
     "text": [
      "C:\\Users\\MHil02\\AppData\\Local\\Temp\\ipykernel_2848\\842042223.py:1: SettingWithCopyWarning: \n",
      "A value is trying to be set on a copy of a slice from a DataFrame.\n",
      "Try using .loc[row_indexer,col_indexer] = value instead\n",
      "\n",
      "See the caveats in the documentation: https://pandas.pydata.org/pandas-docs/stable/user_guide/indexing.html#returning-a-view-versus-a-copy\n",
      "  data_councils['decision_fy'] = data_councils['decision_date'].dt.year\n"
     ]
    }
   ],
   "source": [
    "data_councils['decision_fy'] = data_councils['decision_date'].dt.year\n",
    "\n",
    "data_councils.loc[data_councils['decision_date'].dt.month <= 3, 'decision_fy'] = data_councils['decision_date'].dt.year -1\n",
    "\n",
    "data_2 = data_councils.groupby('decision_fy', as_index=False).agg({'app_ref_source':'nunique', 'amount':'sum'})"
   ]
  },
  {
   "cell_type": "code",
   "execution_count": 44,
   "metadata": {},
   "outputs": [],
   "source": [
    "data_2['Financial Year'] = data_2['decision_fy'].astype(int).astype(str) + '/' + (data_2['decision_fy'].astype(int)+1).astype(str).str[2:]\n"
   ]
  },
  {
   "cell_type": "code",
   "execution_count": 45,
   "metadata": {},
   "outputs": [],
   "source": [
    "data_2.drop(columns='decision_fy', inplace=True)\n",
    "data_2.rename(columns={'app_ref_source':'Decisions', 'amount':'Spend (on decisions)'}, inplace=True)"
   ]
  },
  {
   "cell_type": "code",
   "execution_count": 46,
   "metadata": {},
   "outputs": [],
   "source": [
    "data_2\n",
    "\n",
    "data_1.rename(columns={'paymentdate_financial_year':'Financial Year', 'app_ref_source':'Active Awards', 'amount':'Spend'}, inplace=True)"
   ]
  },
  {
   "cell_type": "code",
   "execution_count": 47,
   "metadata": {},
   "outputs": [],
   "source": [
    "pd.merge(data_1, data_2, on='Financial Year').to_clipboard(index=False)"
   ]
  },
  {
   "cell_type": "code",
   "execution_count": 48,
   "metadata": {},
   "outputs": [
    {
     "data": {
      "text/plain": [
       "578308564.3219999"
      ]
     },
     "execution_count": 48,
     "metadata": {},
     "output_type": "execute_result"
    }
   ],
   "source": [
    "data_councils.groupby(['app_ref_source'], as_index=False).agg({'amount':'sum'}).sort_values(by='amount', ascending=False).head(20)['amount'].sum()"
   ]
  },
  {
   "cell_type": "code",
   "execution_count": 49,
   "metadata": {},
   "outputs": [
    {
     "data": {
      "text/html": [
       "<div>\n",
       "<style scoped>\n",
       "    .dataframe tbody tr th:only-of-type {\n",
       "        vertical-align: middle;\n",
       "    }\n",
       "\n",
       "    .dataframe tbody tr th {\n",
       "        vertical-align: top;\n",
       "    }\n",
       "\n",
       "    .dataframe thead th {\n",
       "        text-align: right;\n",
       "    }\n",
       "</style>\n",
       "<table border=\"1\" class=\"dataframe\">\n",
       "  <thead>\n",
       "    <tr style=\"text-align: right;\">\n",
       "      <th></th>\n",
       "      <th>Financial Year</th>\n",
       "      <th>Active Awards</th>\n",
       "      <th>Spend</th>\n",
       "    </tr>\n",
       "  </thead>\n",
       "  <tbody>\n",
       "    <tr>\n",
       "      <th>0</th>\n",
       "      <td>2019/20</td>\n",
       "      <td>10148</td>\n",
       "      <td>1.583662e+09</td>\n",
       "    </tr>\n",
       "    <tr>\n",
       "      <th>1</th>\n",
       "      <td>2020/21</td>\n",
       "      <td>9143</td>\n",
       "      <td>1.581732e+09</td>\n",
       "    </tr>\n",
       "    <tr>\n",
       "      <th>2</th>\n",
       "      <td>2021/22</td>\n",
       "      <td>9690</td>\n",
       "      <td>1.422793e+09</td>\n",
       "    </tr>\n",
       "    <tr>\n",
       "      <th>3</th>\n",
       "      <td>2022/23</td>\n",
       "      <td>10105</td>\n",
       "      <td>1.590199e+09</td>\n",
       "    </tr>\n",
       "    <tr>\n",
       "      <th>4</th>\n",
       "      <td>2023/24</td>\n",
       "      <td>10007</td>\n",
       "      <td>1.616437e+09</td>\n",
       "    </tr>\n",
       "    <tr>\n",
       "      <th>5</th>\n",
       "      <td>2024/25</td>\n",
       "      <td>8385</td>\n",
       "      <td>1.247025e+09</td>\n",
       "    </tr>\n",
       "  </tbody>\n",
       "</table>\n",
       "</div>"
      ],
      "text/plain": [
       "  Financial Year  Active Awards         Spend\n",
       "0        2019/20          10148  1.583662e+09\n",
       "1        2020/21           9143  1.581732e+09\n",
       "2        2021/22           9690  1.422793e+09\n",
       "3        2022/23          10105  1.590199e+09\n",
       "4        2023/24          10007  1.616437e+09\n",
       "5        2024/25           8385  1.247025e+09"
      ]
     },
     "execution_count": 49,
     "metadata": {},
     "output_type": "execute_result"
    }
   ],
   "source": [
    "data_1"
   ]
  },
  {
   "cell_type": "code",
   "execution_count": 50,
   "metadata": {},
   "outputs": [
    {
     "data": {
      "text/html": [
       "<div>\n",
       "<style scoped>\n",
       "    .dataframe tbody tr th:only-of-type {\n",
       "        vertical-align: middle;\n",
       "    }\n",
       "\n",
       "    .dataframe tbody tr th {\n",
       "        vertical-align: top;\n",
       "    }\n",
       "\n",
       "    .dataframe thead th {\n",
       "        text-align: right;\n",
       "    }\n",
       "</style>\n",
       "<table border=\"1\" class=\"dataframe\">\n",
       "  <thead>\n",
       "    <tr style=\"text-align: right;\">\n",
       "      <th></th>\n",
       "      <th>Decisions</th>\n",
       "      <th>Spend (on decisions)</th>\n",
       "      <th>Financial Year</th>\n",
       "    </tr>\n",
       "  </thead>\n",
       "  <tbody>\n",
       "    <tr>\n",
       "      <th>0</th>\n",
       "      <td>1</td>\n",
       "      <td>0.000000e+00</td>\n",
       "      <td>2006/07</td>\n",
       "    </tr>\n",
       "    <tr>\n",
       "      <th>1</th>\n",
       "      <td>2</td>\n",
       "      <td>-4.770023e+04</td>\n",
       "      <td>2008/09</td>\n",
       "    </tr>\n",
       "    <tr>\n",
       "      <th>2</th>\n",
       "      <td>4</td>\n",
       "      <td>4.910987e+04</td>\n",
       "      <td>2009/10</td>\n",
       "    </tr>\n",
       "    <tr>\n",
       "      <th>3</th>\n",
       "      <td>7</td>\n",
       "      <td>8.132512e+05</td>\n",
       "      <td>2010/11</td>\n",
       "    </tr>\n",
       "    <tr>\n",
       "      <th>4</th>\n",
       "      <td>26</td>\n",
       "      <td>2.552055e+05</td>\n",
       "      <td>2011/12</td>\n",
       "    </tr>\n",
       "    <tr>\n",
       "      <th>5</th>\n",
       "      <td>162</td>\n",
       "      <td>2.605585e+07</td>\n",
       "      <td>2012/13</td>\n",
       "    </tr>\n",
       "    <tr>\n",
       "      <th>6</th>\n",
       "      <td>335</td>\n",
       "      <td>3.536517e+07</td>\n",
       "      <td>2013/14</td>\n",
       "    </tr>\n",
       "    <tr>\n",
       "      <th>7</th>\n",
       "      <td>776</td>\n",
       "      <td>1.115579e+08</td>\n",
       "      <td>2014/15</td>\n",
       "    </tr>\n",
       "    <tr>\n",
       "      <th>8</th>\n",
       "      <td>1688</td>\n",
       "      <td>2.250017e+08</td>\n",
       "      <td>2015/16</td>\n",
       "    </tr>\n",
       "    <tr>\n",
       "      <th>9</th>\n",
       "      <td>2331</td>\n",
       "      <td>6.646956e+08</td>\n",
       "      <td>2016/17</td>\n",
       "    </tr>\n",
       "    <tr>\n",
       "      <th>10</th>\n",
       "      <td>2177</td>\n",
       "      <td>8.343544e+08</td>\n",
       "      <td>2017/18</td>\n",
       "    </tr>\n",
       "    <tr>\n",
       "      <th>11</th>\n",
       "      <td>2406</td>\n",
       "      <td>1.291853e+09</td>\n",
       "      <td>2018/19</td>\n",
       "    </tr>\n",
       "    <tr>\n",
       "      <th>12</th>\n",
       "      <td>2260</td>\n",
       "      <td>1.538015e+09</td>\n",
       "      <td>2019/20</td>\n",
       "    </tr>\n",
       "    <tr>\n",
       "      <th>13</th>\n",
       "      <td>2273</td>\n",
       "      <td>1.243350e+09</td>\n",
       "      <td>2020/21</td>\n",
       "    </tr>\n",
       "    <tr>\n",
       "      <th>14</th>\n",
       "      <td>2606</td>\n",
       "      <td>1.441960e+09</td>\n",
       "      <td>2021/22</td>\n",
       "    </tr>\n",
       "    <tr>\n",
       "      <th>15</th>\n",
       "      <td>2694</td>\n",
       "      <td>9.931255e+08</td>\n",
       "      <td>2022/23</td>\n",
       "    </tr>\n",
       "    <tr>\n",
       "      <th>16</th>\n",
       "      <td>2013</td>\n",
       "      <td>6.041856e+08</td>\n",
       "      <td>2023/24</td>\n",
       "    </tr>\n",
       "    <tr>\n",
       "      <th>17</th>\n",
       "      <td>170</td>\n",
       "      <td>3.125881e+07</td>\n",
       "      <td>2024/25</td>\n",
       "    </tr>\n",
       "  </tbody>\n",
       "</table>\n",
       "</div>"
      ],
      "text/plain": [
       "    Decisions  Spend (on decisions) Financial Year\n",
       "0           1          0.000000e+00        2006/07\n",
       "1           2         -4.770023e+04        2008/09\n",
       "2           4          4.910987e+04        2009/10\n",
       "3           7          8.132512e+05        2010/11\n",
       "4          26          2.552055e+05        2011/12\n",
       "5         162          2.605585e+07        2012/13\n",
       "6         335          3.536517e+07        2013/14\n",
       "7         776          1.115579e+08        2014/15\n",
       "8        1688          2.250017e+08        2015/16\n",
       "9        2331          6.646956e+08        2016/17\n",
       "10       2177          8.343544e+08        2017/18\n",
       "11       2406          1.291853e+09        2018/19\n",
       "12       2260          1.538015e+09        2019/20\n",
       "13       2273          1.243350e+09        2020/21\n",
       "14       2606          1.441960e+09        2021/22\n",
       "15       2694          9.931255e+08        2022/23\n",
       "16       2013          6.041856e+08        2023/24\n",
       "17        170          3.125881e+07        2024/25"
      ]
     },
     "execution_count": 50,
     "metadata": {},
     "output_type": "execute_result"
    }
   ],
   "source": [
    "data_2"
   ]
  },
  {
   "cell_type": "code",
   "execution_count": 51,
   "metadata": {},
   "outputs": [
    {
     "data": {
      "text/html": [
       "<div>\n",
       "<style scoped>\n",
       "    .dataframe tbody tr th:only-of-type {\n",
       "        vertical-align: middle;\n",
       "    }\n",
       "\n",
       "    .dataframe tbody tr th {\n",
       "        vertical-align: top;\n",
       "    }\n",
       "\n",
       "    .dataframe thead th {\n",
       "        text-align: right;\n",
       "    }\n",
       "</style>\n",
       "<table border=\"1\" class=\"dataframe\">\n",
       "  <thead>\n",
       "    <tr style=\"text-align: right;\">\n",
       "      <th></th>\n",
       "      <th>decision_fy</th>\n",
       "      <th>app_ref_source</th>\n",
       "      <th>amount</th>\n",
       "    </tr>\n",
       "  </thead>\n",
       "  <tbody>\n",
       "    <tr>\n",
       "      <th>0</th>\n",
       "      <td>2006</td>\n",
       "      <td>1</td>\n",
       "      <td>0.000000e+00</td>\n",
       "    </tr>\n",
       "    <tr>\n",
       "      <th>1</th>\n",
       "      <td>2008</td>\n",
       "      <td>2</td>\n",
       "      <td>-4.770023e+04</td>\n",
       "    </tr>\n",
       "    <tr>\n",
       "      <th>2</th>\n",
       "      <td>2009</td>\n",
       "      <td>4</td>\n",
       "      <td>4.910987e+04</td>\n",
       "    </tr>\n",
       "    <tr>\n",
       "      <th>3</th>\n",
       "      <td>2010</td>\n",
       "      <td>7</td>\n",
       "      <td>8.132512e+05</td>\n",
       "    </tr>\n",
       "    <tr>\n",
       "      <th>4</th>\n",
       "      <td>2011</td>\n",
       "      <td>26</td>\n",
       "      <td>2.552055e+05</td>\n",
       "    </tr>\n",
       "    <tr>\n",
       "      <th>5</th>\n",
       "      <td>2012</td>\n",
       "      <td>162</td>\n",
       "      <td>2.605585e+07</td>\n",
       "    </tr>\n",
       "    <tr>\n",
       "      <th>6</th>\n",
       "      <td>2013</td>\n",
       "      <td>335</td>\n",
       "      <td>3.536517e+07</td>\n",
       "    </tr>\n",
       "    <tr>\n",
       "      <th>7</th>\n",
       "      <td>2014</td>\n",
       "      <td>776</td>\n",
       "      <td>1.115579e+08</td>\n",
       "    </tr>\n",
       "    <tr>\n",
       "      <th>8</th>\n",
       "      <td>2015</td>\n",
       "      <td>1688</td>\n",
       "      <td>2.250017e+08</td>\n",
       "    </tr>\n",
       "    <tr>\n",
       "      <th>9</th>\n",
       "      <td>2016</td>\n",
       "      <td>2331</td>\n",
       "      <td>6.646956e+08</td>\n",
       "    </tr>\n",
       "    <tr>\n",
       "      <th>10</th>\n",
       "      <td>2017</td>\n",
       "      <td>2177</td>\n",
       "      <td>8.343544e+08</td>\n",
       "    </tr>\n",
       "    <tr>\n",
       "      <th>11</th>\n",
       "      <td>2018</td>\n",
       "      <td>2406</td>\n",
       "      <td>1.291853e+09</td>\n",
       "    </tr>\n",
       "    <tr>\n",
       "      <th>12</th>\n",
       "      <td>2019</td>\n",
       "      <td>2260</td>\n",
       "      <td>1.538015e+09</td>\n",
       "    </tr>\n",
       "    <tr>\n",
       "      <th>13</th>\n",
       "      <td>2020</td>\n",
       "      <td>2273</td>\n",
       "      <td>1.243350e+09</td>\n",
       "    </tr>\n",
       "    <tr>\n",
       "      <th>14</th>\n",
       "      <td>2021</td>\n",
       "      <td>2606</td>\n",
       "      <td>1.441960e+09</td>\n",
       "    </tr>\n",
       "    <tr>\n",
       "      <th>15</th>\n",
       "      <td>2022</td>\n",
       "      <td>2694</td>\n",
       "      <td>9.931255e+08</td>\n",
       "    </tr>\n",
       "    <tr>\n",
       "      <th>16</th>\n",
       "      <td>2023</td>\n",
       "      <td>2013</td>\n",
       "      <td>6.041856e+08</td>\n",
       "    </tr>\n",
       "    <tr>\n",
       "      <th>17</th>\n",
       "      <td>2024</td>\n",
       "      <td>170</td>\n",
       "      <td>3.125881e+07</td>\n",
       "    </tr>\n",
       "  </tbody>\n",
       "</table>\n",
       "</div>"
      ],
      "text/plain": [
       "    decision_fy  app_ref_source        amount\n",
       "0          2006               1  0.000000e+00\n",
       "1          2008               2 -4.770023e+04\n",
       "2          2009               4  4.910987e+04\n",
       "3          2010               7  8.132512e+05\n",
       "4          2011              26  2.552055e+05\n",
       "5          2012             162  2.605585e+07\n",
       "6          2013             335  3.536517e+07\n",
       "7          2014             776  1.115579e+08\n",
       "8          2015            1688  2.250017e+08\n",
       "9          2016            2331  6.646956e+08\n",
       "10         2017            2177  8.343544e+08\n",
       "11         2018            2406  1.291853e+09\n",
       "12         2019            2260  1.538015e+09\n",
       "13         2020            2273  1.243350e+09\n",
       "14         2021            2606  1.441960e+09\n",
       "15         2022            2694  9.931255e+08\n",
       "16         2023            2013  6.041856e+08\n",
       "17         2024             170  3.125881e+07"
      ]
     },
     "execution_count": 51,
     "metadata": {},
     "output_type": "execute_result"
    }
   ],
   "source": [
    "data_councils\n",
    "\n",
    "data_councils.groupby('decision_fy', as_index=False).agg({'app_ref_source':'nunique', 'amount':'sum'})"
   ]
  },
  {
   "cell_type": "code",
   "execution_count": 52,
   "metadata": {},
   "outputs": [
    {
     "data": {
      "text/plain": [
       "0"
      ]
     },
     "execution_count": 52,
     "metadata": {},
     "output_type": "execute_result"
    }
   ],
   "source": [
    "data_councils['decision_fy'].isna().sum()\n"
   ]
  },
  {
   "cell_type": "code",
   "execution_count": 54,
   "metadata": {},
   "outputs": [
    {
     "name": "stderr",
     "output_type": "stream",
     "text": [
      "C:\\Users\\MHil02\\AppData\\Local\\Temp\\ipykernel_2848\\3713263867.py:3: SettingWithCopyWarning: \n",
      "A value is trying to be set on a copy of a slice from a DataFrame.\n",
      "Try using .loc[row_indexer,col_indexer] = value instead\n",
      "\n",
      "See the caveats in the documentation: https://pandas.pydata.org/pandas-docs/stable/user_guide/indexing.html#returning-a-view-versus-a-copy\n",
      "  data_councils['Financial Year'] = data_councils['decision_fy'].astype(int).astype(str) + '/' + (data_councils['decision_fy'].astype(int)+1).astype(str).str[2:]\n"
     ]
    }
   ],
   "source": [
    "data_councils\n",
    "\n",
    "data_councils['Financial Year'] = data_councils['decision_fy'].astype(int).astype(str) + '/' + (data_councils['decision_fy'].astype(int)+1).astype(str).str[2:]\n"
   ]
  },
  {
   "cell_type": "code",
   "execution_count": 59,
   "metadata": {},
   "outputs": [],
   "source": [
    "data_councils.loc[data_councils['Financial Year'] == data_councils['paymentdate_financial_year']].groupby('Financial Year', as_index=False).agg({'app_ref_source':'nunique', 'amount':'sum'}).to_clipboard(index=False)\n"
   ]
  },
  {
   "cell_type": "code",
   "execution_count": 60,
   "metadata": {},
   "outputs": [
    {
     "data": {
      "text/html": [
       "<div>\n",
       "<style scoped>\n",
       "    .dataframe tbody tr th:only-of-type {\n",
       "        vertical-align: middle;\n",
       "    }\n",
       "\n",
       "    .dataframe tbody tr th {\n",
       "        vertical-align: top;\n",
       "    }\n",
       "\n",
       "    .dataframe thead th {\n",
       "        text-align: right;\n",
       "    }\n",
       "</style>\n",
       "<table border=\"1\" class=\"dataframe\">\n",
       "  <thead>\n",
       "    <tr style=\"text-align: right;\">\n",
       "      <th></th>\n",
       "      <th>Financial Year</th>\n",
       "      <th>app_ref_source</th>\n",
       "      <th>amount</th>\n",
       "    </tr>\n",
       "  </thead>\n",
       "  <tbody>\n",
       "    <tr>\n",
       "      <th>0</th>\n",
       "      <td>2006/07</td>\n",
       "      <td>1</td>\n",
       "      <td>0.000000e+00</td>\n",
       "    </tr>\n",
       "    <tr>\n",
       "      <th>1</th>\n",
       "      <td>2008/09</td>\n",
       "      <td>2</td>\n",
       "      <td>-4.770023e+04</td>\n",
       "    </tr>\n",
       "    <tr>\n",
       "      <th>2</th>\n",
       "      <td>2009/10</td>\n",
       "      <td>4</td>\n",
       "      <td>4.910987e+04</td>\n",
       "    </tr>\n",
       "    <tr>\n",
       "      <th>3</th>\n",
       "      <td>2010/11</td>\n",
       "      <td>7</td>\n",
       "      <td>8.132512e+05</td>\n",
       "    </tr>\n",
       "    <tr>\n",
       "      <th>4</th>\n",
       "      <td>2011/12</td>\n",
       "      <td>26</td>\n",
       "      <td>2.552055e+05</td>\n",
       "    </tr>\n",
       "    <tr>\n",
       "      <th>5</th>\n",
       "      <td>2012/13</td>\n",
       "      <td>162</td>\n",
       "      <td>2.605585e+07</td>\n",
       "    </tr>\n",
       "    <tr>\n",
       "      <th>6</th>\n",
       "      <td>2013/14</td>\n",
       "      <td>335</td>\n",
       "      <td>3.536517e+07</td>\n",
       "    </tr>\n",
       "    <tr>\n",
       "      <th>7</th>\n",
       "      <td>2014/15</td>\n",
       "      <td>776</td>\n",
       "      <td>1.115579e+08</td>\n",
       "    </tr>\n",
       "    <tr>\n",
       "      <th>8</th>\n",
       "      <td>2015/16</td>\n",
       "      <td>1688</td>\n",
       "      <td>2.250017e+08</td>\n",
       "    </tr>\n",
       "    <tr>\n",
       "      <th>9</th>\n",
       "      <td>2016/17</td>\n",
       "      <td>2331</td>\n",
       "      <td>6.646956e+08</td>\n",
       "    </tr>\n",
       "    <tr>\n",
       "      <th>10</th>\n",
       "      <td>2017/18</td>\n",
       "      <td>2177</td>\n",
       "      <td>8.343544e+08</td>\n",
       "    </tr>\n",
       "    <tr>\n",
       "      <th>11</th>\n",
       "      <td>2018/19</td>\n",
       "      <td>2406</td>\n",
       "      <td>1.291853e+09</td>\n",
       "    </tr>\n",
       "    <tr>\n",
       "      <th>12</th>\n",
       "      <td>2019/20</td>\n",
       "      <td>2260</td>\n",
       "      <td>1.538015e+09</td>\n",
       "    </tr>\n",
       "    <tr>\n",
       "      <th>13</th>\n",
       "      <td>2020/21</td>\n",
       "      <td>2273</td>\n",
       "      <td>1.243350e+09</td>\n",
       "    </tr>\n",
       "    <tr>\n",
       "      <th>14</th>\n",
       "      <td>2021/22</td>\n",
       "      <td>2606</td>\n",
       "      <td>1.441960e+09</td>\n",
       "    </tr>\n",
       "    <tr>\n",
       "      <th>15</th>\n",
       "      <td>2022/23</td>\n",
       "      <td>2694</td>\n",
       "      <td>9.931255e+08</td>\n",
       "    </tr>\n",
       "    <tr>\n",
       "      <th>16</th>\n",
       "      <td>2023/24</td>\n",
       "      <td>2013</td>\n",
       "      <td>6.041856e+08</td>\n",
       "    </tr>\n",
       "    <tr>\n",
       "      <th>17</th>\n",
       "      <td>2024/25</td>\n",
       "      <td>170</td>\n",
       "      <td>3.125881e+07</td>\n",
       "    </tr>\n",
       "  </tbody>\n",
       "</table>\n",
       "</div>"
      ],
      "text/plain": [
       "   Financial Year  app_ref_source        amount\n",
       "0         2006/07               1  0.000000e+00\n",
       "1         2008/09               2 -4.770023e+04\n",
       "2         2009/10               4  4.910987e+04\n",
       "3         2010/11               7  8.132512e+05\n",
       "4         2011/12              26  2.552055e+05\n",
       "5         2012/13             162  2.605585e+07\n",
       "6         2013/14             335  3.536517e+07\n",
       "7         2014/15             776  1.115579e+08\n",
       "8         2015/16            1688  2.250017e+08\n",
       "9         2016/17            2331  6.646956e+08\n",
       "10        2017/18            2177  8.343544e+08\n",
       "11        2018/19            2406  1.291853e+09\n",
       "12        2019/20            2260  1.538015e+09\n",
       "13        2020/21            2273  1.243350e+09\n",
       "14        2021/22            2606  1.441960e+09\n",
       "15        2022/23            2694  9.931255e+08\n",
       "16        2023/24            2013  6.041856e+08\n",
       "17        2024/25             170  3.125881e+07"
      ]
     },
     "execution_count": 60,
     "metadata": {},
     "output_type": "execute_result"
    }
   ],
   "source": [
    "data_councils.groupby('Financial Year', as_index=False).agg({'app_ref_source':'nunique', 'amount':'sum'})\n"
   ]
  },
  {
   "cell_type": "code",
   "execution_count": 61,
   "metadata": {},
   "outputs": [
    {
     "data": {
      "text/html": [
       "<div>\n",
       "<style scoped>\n",
       "    .dataframe tbody tr th:only-of-type {\n",
       "        vertical-align: middle;\n",
       "    }\n",
       "\n",
       "    .dataframe tbody tr th {\n",
       "        vertical-align: top;\n",
       "    }\n",
       "\n",
       "    .dataframe thead th {\n",
       "        text-align: right;\n",
       "    }\n",
       "</style>\n",
       "<table border=\"1\" class=\"dataframe\">\n",
       "  <thead>\n",
       "    <tr style=\"text-align: right;\">\n",
       "      <th></th>\n",
       "      <th>award_reference_x</th>\n",
       "      <th>application_reference</th>\n",
       "      <th>paymentdate_financial_year</th>\n",
       "      <th>ExpenditureType</th>\n",
       "      <th>amount</th>\n",
       "      <th>application_source</th>\n",
       "      <th>funder_x</th>\n",
       "      <th>application_category</th>\n",
       "      <th>decision_date</th>\n",
       "      <th>app_ref_source</th>\n",
       "      <th>decision_fy</th>\n",
       "      <th>Financial Year</th>\n",
       "    </tr>\n",
       "  </thead>\n",
       "  <tbody>\n",
       "    <tr>\n",
       "      <th>222329</th>\n",
       "      <td>AH/J006513/1</td>\n",
       "      <td>AH/J006513/1</td>\n",
       "      <td>2019/20</td>\n",
       "      <td>Exception - Staff</td>\n",
       "      <td>0.00</td>\n",
       "      <td>Siebel</td>\n",
       "      <td>AHRC</td>\n",
       "      <td>Research Grant</td>\n",
       "      <td>2012-05-31</td>\n",
       "      <td>AH/J006513/1_Siebel</td>\n",
       "      <td>2012</td>\n",
       "      <td>2012/13</td>\n",
       "    </tr>\n",
       "    <tr>\n",
       "      <th>222330</th>\n",
       "      <td>AH/J006513/1</td>\n",
       "      <td>AH/J006513/1</td>\n",
       "      <td>2019/20</td>\n",
       "      <td>Indirect - Indirect Costs</td>\n",
       "      <td>0.29</td>\n",
       "      <td>Siebel</td>\n",
       "      <td>AHRC</td>\n",
       "      <td>Research Grant</td>\n",
       "      <td>2012-05-31</td>\n",
       "      <td>AH/J006513/1_Siebel</td>\n",
       "      <td>2012</td>\n",
       "      <td>2012/13</td>\n",
       "    </tr>\n",
       "    <tr>\n",
       "      <th>222331</th>\n",
       "      <td>AH/J006513/1</td>\n",
       "      <td>AH/J006513/1</td>\n",
       "      <td>2019/20</td>\n",
       "      <td>DA - Other Directly Allocated</td>\n",
       "      <td>0.00</td>\n",
       "      <td>Siebel</td>\n",
       "      <td>AHRC</td>\n",
       "      <td>Research Grant</td>\n",
       "      <td>2012-05-31</td>\n",
       "      <td>AH/J006513/1_Siebel</td>\n",
       "      <td>2012</td>\n",
       "      <td>2012/13</td>\n",
       "    </tr>\n",
       "    <tr>\n",
       "      <th>222332</th>\n",
       "      <td>AH/J006513/1</td>\n",
       "      <td>AH/J006513/1</td>\n",
       "      <td>2019/20</td>\n",
       "      <td>DI - T&amp;S</td>\n",
       "      <td>-843.88</td>\n",
       "      <td>Siebel</td>\n",
       "      <td>AHRC</td>\n",
       "      <td>Research Grant</td>\n",
       "      <td>2012-05-31</td>\n",
       "      <td>AH/J006513/1_Siebel</td>\n",
       "      <td>2012</td>\n",
       "      <td>2012/13</td>\n",
       "    </tr>\n",
       "    <tr>\n",
       "      <th>222333</th>\n",
       "      <td>AH/J006513/1</td>\n",
       "      <td>AH/J006513/1</td>\n",
       "      <td>2019/20</td>\n",
       "      <td>DA - Investigators</td>\n",
       "      <td>0.00</td>\n",
       "      <td>Siebel</td>\n",
       "      <td>AHRC</td>\n",
       "      <td>Research Grant</td>\n",
       "      <td>2012-05-31</td>\n",
       "      <td>AH/J006513/1_Siebel</td>\n",
       "      <td>2012</td>\n",
       "      <td>2012/13</td>\n",
       "    </tr>\n",
       "    <tr>\n",
       "      <th>...</th>\n",
       "      <td>...</td>\n",
       "      <td>...</td>\n",
       "      <td>...</td>\n",
       "      <td>...</td>\n",
       "      <td>...</td>\n",
       "      <td>...</td>\n",
       "      <td>...</td>\n",
       "      <td>...</td>\n",
       "      <td>...</td>\n",
       "      <td>...</td>\n",
       "      <td>...</td>\n",
       "      <td>...</td>\n",
       "    </tr>\n",
       "    <tr>\n",
       "      <th>2047995</th>\n",
       "      <td>ST/Z000300/1</td>\n",
       "      <td>ST/Z000300/1</td>\n",
       "      <td>2024/25</td>\n",
       "      <td>DI - Equipment</td>\n",
       "      <td>8000.00</td>\n",
       "      <td>Siebel</td>\n",
       "      <td>STFC</td>\n",
       "      <td>Research Grant</td>\n",
       "      <td>2024-02-14</td>\n",
       "      <td>ST/Z000300/1_Siebel</td>\n",
       "      <td>2023</td>\n",
       "      <td>2023/24</td>\n",
       "    </tr>\n",
       "    <tr>\n",
       "      <th>2047996</th>\n",
       "      <td>ST/Z000424/1</td>\n",
       "      <td>ST/Z000424/1</td>\n",
       "      <td>2024/25</td>\n",
       "      <td>DI - T&amp;S</td>\n",
       "      <td>520.09</td>\n",
       "      <td>Siebel</td>\n",
       "      <td>STFC</td>\n",
       "      <td>Research Grant</td>\n",
       "      <td>2024-03-22</td>\n",
       "      <td>ST/Z000424/1_Siebel</td>\n",
       "      <td>2023</td>\n",
       "      <td>2023/24</td>\n",
       "    </tr>\n",
       "    <tr>\n",
       "      <th>2047997</th>\n",
       "      <td>ST/Z000424/1</td>\n",
       "      <td>ST/Z000424/1</td>\n",
       "      <td>2024/25</td>\n",
       "      <td>DI - T&amp;S</td>\n",
       "      <td>520.09</td>\n",
       "      <td>Siebel</td>\n",
       "      <td>STFC</td>\n",
       "      <td>Research Grant</td>\n",
       "      <td>2024-03-22</td>\n",
       "      <td>ST/Z000424/1_Siebel</td>\n",
       "      <td>2023</td>\n",
       "      <td>2023/24</td>\n",
       "    </tr>\n",
       "    <tr>\n",
       "      <th>2047998</th>\n",
       "      <td>ST/Z000424/1</td>\n",
       "      <td>ST/Z000424/1</td>\n",
       "      <td>2024/25</td>\n",
       "      <td>DI - T&amp;S</td>\n",
       "      <td>520.09</td>\n",
       "      <td>Siebel</td>\n",
       "      <td>STFC</td>\n",
       "      <td>Research Grant</td>\n",
       "      <td>2024-03-22</td>\n",
       "      <td>ST/Z000424/1_Siebel</td>\n",
       "      <td>2023</td>\n",
       "      <td>2023/24</td>\n",
       "    </tr>\n",
       "    <tr>\n",
       "      <th>2047999</th>\n",
       "      <td>ST/Z000424/1</td>\n",
       "      <td>ST/Z000424/1</td>\n",
       "      <td>2024/25</td>\n",
       "      <td>DI - T&amp;S</td>\n",
       "      <td>520.09</td>\n",
       "      <td>Siebel</td>\n",
       "      <td>STFC</td>\n",
       "      <td>Research Grant</td>\n",
       "      <td>2024-03-22</td>\n",
       "      <td>ST/Z000424/1_Siebel</td>\n",
       "      <td>2023</td>\n",
       "      <td>2023/24</td>\n",
       "    </tr>\n",
       "  </tbody>\n",
       "</table>\n",
       "<p>963707 rows × 12 columns</p>\n",
       "</div>"
      ],
      "text/plain": [
       "        award_reference_x application_reference paymentdate_financial_year  \\\n",
       "222329       AH/J006513/1          AH/J006513/1                    2019/20   \n",
       "222330       AH/J006513/1          AH/J006513/1                    2019/20   \n",
       "222331       AH/J006513/1          AH/J006513/1                    2019/20   \n",
       "222332       AH/J006513/1          AH/J006513/1                    2019/20   \n",
       "222333       AH/J006513/1          AH/J006513/1                    2019/20   \n",
       "...                   ...                   ...                        ...   \n",
       "2047995      ST/Z000300/1          ST/Z000300/1                    2024/25   \n",
       "2047996      ST/Z000424/1          ST/Z000424/1                    2024/25   \n",
       "2047997      ST/Z000424/1          ST/Z000424/1                    2024/25   \n",
       "2047998      ST/Z000424/1          ST/Z000424/1                    2024/25   \n",
       "2047999      ST/Z000424/1          ST/Z000424/1                    2024/25   \n",
       "\n",
       "                       ExpenditureType   amount application_source funder_x  \\\n",
       "222329               Exception - Staff     0.00             Siebel     AHRC   \n",
       "222330       Indirect - Indirect Costs     0.29             Siebel     AHRC   \n",
       "222331   DA - Other Directly Allocated     0.00             Siebel     AHRC   \n",
       "222332                        DI - T&S  -843.88             Siebel     AHRC   \n",
       "222333              DA - Investigators     0.00             Siebel     AHRC   \n",
       "...                                ...      ...                ...      ...   \n",
       "2047995                 DI - Equipment  8000.00             Siebel     STFC   \n",
       "2047996                       DI - T&S   520.09             Siebel     STFC   \n",
       "2047997                       DI - T&S   520.09             Siebel     STFC   \n",
       "2047998                       DI - T&S   520.09             Siebel     STFC   \n",
       "2047999                       DI - T&S   520.09             Siebel     STFC   \n",
       "\n",
       "        application_category decision_date       app_ref_source  decision_fy  \\\n",
       "222329        Research Grant    2012-05-31  AH/J006513/1_Siebel         2012   \n",
       "222330        Research Grant    2012-05-31  AH/J006513/1_Siebel         2012   \n",
       "222331        Research Grant    2012-05-31  AH/J006513/1_Siebel         2012   \n",
       "222332        Research Grant    2012-05-31  AH/J006513/1_Siebel         2012   \n",
       "222333        Research Grant    2012-05-31  AH/J006513/1_Siebel         2012   \n",
       "...                      ...           ...                  ...          ...   \n",
       "2047995       Research Grant    2024-02-14  ST/Z000300/1_Siebel         2023   \n",
       "2047996       Research Grant    2024-03-22  ST/Z000424/1_Siebel         2023   \n",
       "2047997       Research Grant    2024-03-22  ST/Z000424/1_Siebel         2023   \n",
       "2047998       Research Grant    2024-03-22  ST/Z000424/1_Siebel         2023   \n",
       "2047999       Research Grant    2024-03-22  ST/Z000424/1_Siebel         2023   \n",
       "\n",
       "        Financial Year  \n",
       "222329         2012/13  \n",
       "222330         2012/13  \n",
       "222331         2012/13  \n",
       "222332         2012/13  \n",
       "222333         2012/13  \n",
       "...                ...  \n",
       "2047995        2023/24  \n",
       "2047996        2023/24  \n",
       "2047997        2023/24  \n",
       "2047998        2023/24  \n",
       "2047999        2023/24  \n",
       "\n",
       "[963707 rows x 12 columns]"
      ]
     },
     "execution_count": 61,
     "metadata": {},
     "output_type": "execute_result"
    }
   ],
   "source": [
    "data_councils.loc[data_councils['Financial Year'] != data_councils['paymentdate_financial_year']]"
   ]
  },
  {
   "cell_type": "code",
   "execution_count": 63,
   "metadata": {},
   "outputs": [
    {
     "data": {
      "text/html": [
       "<div>\n",
       "<style scoped>\n",
       "    .dataframe tbody tr th:only-of-type {\n",
       "        vertical-align: middle;\n",
       "    }\n",
       "\n",
       "    .dataframe tbody tr th {\n",
       "        vertical-align: top;\n",
       "    }\n",
       "\n",
       "    .dataframe thead th {\n",
       "        text-align: right;\n",
       "    }\n",
       "</style>\n",
       "<table border=\"1\" class=\"dataframe\">\n",
       "  <thead>\n",
       "    <tr style=\"text-align: right;\">\n",
       "      <th></th>\n",
       "      <th>award_reference_x</th>\n",
       "      <th>application_reference</th>\n",
       "      <th>paymentdate_financial_year</th>\n",
       "      <th>ExpenditureType</th>\n",
       "      <th>amount</th>\n",
       "      <th>application_source</th>\n",
       "      <th>funder_x</th>\n",
       "      <th>application_category</th>\n",
       "      <th>decision_date</th>\n",
       "      <th>app_ref_source</th>\n",
       "      <th>decision_fy</th>\n",
       "      <th>Financial Year</th>\n",
       "    </tr>\n",
       "  </thead>\n",
       "  <tbody>\n",
       "    <tr>\n",
       "      <th>222329</th>\n",
       "      <td>AH/J006513/1</td>\n",
       "      <td>AH/J006513/1</td>\n",
       "      <td>2019/20</td>\n",
       "      <td>Exception - Staff</td>\n",
       "      <td>0.00</td>\n",
       "      <td>Siebel</td>\n",
       "      <td>AHRC</td>\n",
       "      <td>Research Grant</td>\n",
       "      <td>2012-05-31</td>\n",
       "      <td>AH/J006513/1_Siebel</td>\n",
       "      <td>2012</td>\n",
       "      <td>2012/13</td>\n",
       "    </tr>\n",
       "    <tr>\n",
       "      <th>222330</th>\n",
       "      <td>AH/J006513/1</td>\n",
       "      <td>AH/J006513/1</td>\n",
       "      <td>2019/20</td>\n",
       "      <td>Indirect - Indirect Costs</td>\n",
       "      <td>0.29</td>\n",
       "      <td>Siebel</td>\n",
       "      <td>AHRC</td>\n",
       "      <td>Research Grant</td>\n",
       "      <td>2012-05-31</td>\n",
       "      <td>AH/J006513/1_Siebel</td>\n",
       "      <td>2012</td>\n",
       "      <td>2012/13</td>\n",
       "    </tr>\n",
       "    <tr>\n",
       "      <th>222331</th>\n",
       "      <td>AH/J006513/1</td>\n",
       "      <td>AH/J006513/1</td>\n",
       "      <td>2019/20</td>\n",
       "      <td>DA - Other Directly Allocated</td>\n",
       "      <td>0.00</td>\n",
       "      <td>Siebel</td>\n",
       "      <td>AHRC</td>\n",
       "      <td>Research Grant</td>\n",
       "      <td>2012-05-31</td>\n",
       "      <td>AH/J006513/1_Siebel</td>\n",
       "      <td>2012</td>\n",
       "      <td>2012/13</td>\n",
       "    </tr>\n",
       "    <tr>\n",
       "      <th>222332</th>\n",
       "      <td>AH/J006513/1</td>\n",
       "      <td>AH/J006513/1</td>\n",
       "      <td>2019/20</td>\n",
       "      <td>DI - T&amp;S</td>\n",
       "      <td>-843.88</td>\n",
       "      <td>Siebel</td>\n",
       "      <td>AHRC</td>\n",
       "      <td>Research Grant</td>\n",
       "      <td>2012-05-31</td>\n",
       "      <td>AH/J006513/1_Siebel</td>\n",
       "      <td>2012</td>\n",
       "      <td>2012/13</td>\n",
       "    </tr>\n",
       "    <tr>\n",
       "      <th>222333</th>\n",
       "      <td>AH/J006513/1</td>\n",
       "      <td>AH/J006513/1</td>\n",
       "      <td>2019/20</td>\n",
       "      <td>DA - Investigators</td>\n",
       "      <td>0.00</td>\n",
       "      <td>Siebel</td>\n",
       "      <td>AHRC</td>\n",
       "      <td>Research Grant</td>\n",
       "      <td>2012-05-31</td>\n",
       "      <td>AH/J006513/1_Siebel</td>\n",
       "      <td>2012</td>\n",
       "      <td>2012/13</td>\n",
       "    </tr>\n",
       "    <tr>\n",
       "      <th>222334</th>\n",
       "      <td>AH/J006513/1</td>\n",
       "      <td>AH/J006513/1</td>\n",
       "      <td>2019/20</td>\n",
       "      <td>DI - Staff</td>\n",
       "      <td>-0.02</td>\n",
       "      <td>Siebel</td>\n",
       "      <td>AHRC</td>\n",
       "      <td>Research Grant</td>\n",
       "      <td>2012-05-31</td>\n",
       "      <td>AH/J006513/1_Siebel</td>\n",
       "      <td>2012</td>\n",
       "      <td>2012/13</td>\n",
       "    </tr>\n",
       "    <tr>\n",
       "      <th>222335</th>\n",
       "      <td>AH/J006513/1</td>\n",
       "      <td>AH/J006513/1</td>\n",
       "      <td>2019/20</td>\n",
       "      <td>DI - Other Costs</td>\n",
       "      <td>-1676.16</td>\n",
       "      <td>Siebel</td>\n",
       "      <td>AHRC</td>\n",
       "      <td>Research Grant</td>\n",
       "      <td>2012-05-31</td>\n",
       "      <td>AH/J006513/1_Siebel</td>\n",
       "      <td>2012</td>\n",
       "      <td>2012/13</td>\n",
       "    </tr>\n",
       "    <tr>\n",
       "      <th>222336</th>\n",
       "      <td>AH/J006513/1</td>\n",
       "      <td>AH/J006513/1</td>\n",
       "      <td>2019/20</td>\n",
       "      <td>Exception - Other Costs</td>\n",
       "      <td>0.00</td>\n",
       "      <td>Siebel</td>\n",
       "      <td>AHRC</td>\n",
       "      <td>Research Grant</td>\n",
       "      <td>2012-05-31</td>\n",
       "      <td>AH/J006513/1_Siebel</td>\n",
       "      <td>2012</td>\n",
       "      <td>2012/13</td>\n",
       "    </tr>\n",
       "    <tr>\n",
       "      <th>222337</th>\n",
       "      <td>AH/J006513/1</td>\n",
       "      <td>AH/J006513/1</td>\n",
       "      <td>2019/20</td>\n",
       "      <td>DA - Estate Costs</td>\n",
       "      <td>0.00</td>\n",
       "      <td>Siebel</td>\n",
       "      <td>AHRC</td>\n",
       "      <td>Research Grant</td>\n",
       "      <td>2012-05-31</td>\n",
       "      <td>AH/J006513/1_Siebel</td>\n",
       "      <td>2012</td>\n",
       "      <td>2012/13</td>\n",
       "    </tr>\n",
       "    <tr>\n",
       "      <th>222338</th>\n",
       "      <td>AH/J006513/1</td>\n",
       "      <td>AH/J006513/1</td>\n",
       "      <td>2019/20</td>\n",
       "      <td>DI - Absence</td>\n",
       "      <td>0.00</td>\n",
       "      <td>Siebel</td>\n",
       "      <td>AHRC</td>\n",
       "      <td>Research Grant</td>\n",
       "      <td>2012-05-31</td>\n",
       "      <td>AH/J006513/1_Siebel</td>\n",
       "      <td>2012</td>\n",
       "      <td>2012/13</td>\n",
       "    </tr>\n",
       "    <tr>\n",
       "      <th>222339</th>\n",
       "      <td>AH/J006513/1</td>\n",
       "      <td>AH/J006513/1</td>\n",
       "      <td>2019/20</td>\n",
       "      <td>DI - Equipment</td>\n",
       "      <td>0.00</td>\n",
       "      <td>Siebel</td>\n",
       "      <td>AHRC</td>\n",
       "      <td>Research Grant</td>\n",
       "      <td>2012-05-31</td>\n",
       "      <td>AH/J006513/1_Siebel</td>\n",
       "      <td>2012</td>\n",
       "      <td>2012/13</td>\n",
       "    </tr>\n",
       "    <tr>\n",
       "      <th>222340</th>\n",
       "      <td>AH/J006513/1</td>\n",
       "      <td>AH/J006513/1</td>\n",
       "      <td>2019/20</td>\n",
       "      <td>Exception - Equipment</td>\n",
       "      <td>0.00</td>\n",
       "      <td>Siebel</td>\n",
       "      <td>AHRC</td>\n",
       "      <td>Research Grant</td>\n",
       "      <td>2012-05-31</td>\n",
       "      <td>AH/J006513/1_Siebel</td>\n",
       "      <td>2012</td>\n",
       "      <td>2012/13</td>\n",
       "    </tr>\n",
       "  </tbody>\n",
       "</table>\n",
       "</div>"
      ],
      "text/plain": [
       "       award_reference_x application_reference paymentdate_financial_year  \\\n",
       "222329      AH/J006513/1          AH/J006513/1                    2019/20   \n",
       "222330      AH/J006513/1          AH/J006513/1                    2019/20   \n",
       "222331      AH/J006513/1          AH/J006513/1                    2019/20   \n",
       "222332      AH/J006513/1          AH/J006513/1                    2019/20   \n",
       "222333      AH/J006513/1          AH/J006513/1                    2019/20   \n",
       "222334      AH/J006513/1          AH/J006513/1                    2019/20   \n",
       "222335      AH/J006513/1          AH/J006513/1                    2019/20   \n",
       "222336      AH/J006513/1          AH/J006513/1                    2019/20   \n",
       "222337      AH/J006513/1          AH/J006513/1                    2019/20   \n",
       "222338      AH/J006513/1          AH/J006513/1                    2019/20   \n",
       "222339      AH/J006513/1          AH/J006513/1                    2019/20   \n",
       "222340      AH/J006513/1          AH/J006513/1                    2019/20   \n",
       "\n",
       "                      ExpenditureType   amount application_source funder_x  \\\n",
       "222329              Exception - Staff     0.00             Siebel     AHRC   \n",
       "222330      Indirect - Indirect Costs     0.29             Siebel     AHRC   \n",
       "222331  DA - Other Directly Allocated     0.00             Siebel     AHRC   \n",
       "222332                       DI - T&S  -843.88             Siebel     AHRC   \n",
       "222333             DA - Investigators     0.00             Siebel     AHRC   \n",
       "222334                     DI - Staff    -0.02             Siebel     AHRC   \n",
       "222335               DI - Other Costs -1676.16             Siebel     AHRC   \n",
       "222336        Exception - Other Costs     0.00             Siebel     AHRC   \n",
       "222337              DA - Estate Costs     0.00             Siebel     AHRC   \n",
       "222338                   DI - Absence     0.00             Siebel     AHRC   \n",
       "222339                 DI - Equipment     0.00             Siebel     AHRC   \n",
       "222340          Exception - Equipment     0.00             Siebel     AHRC   \n",
       "\n",
       "       application_category decision_date       app_ref_source  decision_fy  \\\n",
       "222329       Research Grant    2012-05-31  AH/J006513/1_Siebel         2012   \n",
       "222330       Research Grant    2012-05-31  AH/J006513/1_Siebel         2012   \n",
       "222331       Research Grant    2012-05-31  AH/J006513/1_Siebel         2012   \n",
       "222332       Research Grant    2012-05-31  AH/J006513/1_Siebel         2012   \n",
       "222333       Research Grant    2012-05-31  AH/J006513/1_Siebel         2012   \n",
       "222334       Research Grant    2012-05-31  AH/J006513/1_Siebel         2012   \n",
       "222335       Research Grant    2012-05-31  AH/J006513/1_Siebel         2012   \n",
       "222336       Research Grant    2012-05-31  AH/J006513/1_Siebel         2012   \n",
       "222337       Research Grant    2012-05-31  AH/J006513/1_Siebel         2012   \n",
       "222338       Research Grant    2012-05-31  AH/J006513/1_Siebel         2012   \n",
       "222339       Research Grant    2012-05-31  AH/J006513/1_Siebel         2012   \n",
       "222340       Research Grant    2012-05-31  AH/J006513/1_Siebel         2012   \n",
       "\n",
       "       Financial Year  \n",
       "222329        2012/13  \n",
       "222330        2012/13  \n",
       "222331        2012/13  \n",
       "222332        2012/13  \n",
       "222333        2012/13  \n",
       "222334        2012/13  \n",
       "222335        2012/13  \n",
       "222336        2012/13  \n",
       "222337        2012/13  \n",
       "222338        2012/13  \n",
       "222339        2012/13  \n",
       "222340        2012/13  "
      ]
     },
     "execution_count": 63,
     "metadata": {},
     "output_type": "execute_result"
    }
   ],
   "source": [
    "data_councils[data_councils['application_reference'] == 'AH/J006513/1']"
   ]
  },
  {
   "cell_type": "code",
   "execution_count": null,
   "metadata": {},
   "outputs": [],
   "source": []
  }
 ],
 "metadata": {
  "kernelspec": {
   "display_name": "base",
   "language": "python",
   "name": "python3"
  },
  "language_info": {
   "codemirror_mode": {
    "name": "ipython",
    "version": 3
   },
   "file_extension": ".py",
   "mimetype": "text/x-python",
   "name": "python",
   "nbconvert_exporter": "python",
   "pygments_lexer": "ipython3",
   "version": "3.12.7"
  }
 },
 "nbformat": 4,
 "nbformat_minor": 2
}
