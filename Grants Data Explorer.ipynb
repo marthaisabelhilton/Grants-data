{
 "cells": [
  {
   "cell_type": "code",
   "execution_count": 1,
   "metadata": {},
   "outputs": [
    {
     "name": "stdout",
     "output_type": "stream",
     "text": [
      "Hello World\n"
     ]
    }
   ],
   "source": [
    "print(\"Hello World\")"
   ]
  },
  {
   "cell_type": "code",
   "execution_count": 2,
   "metadata": {},
   "outputs": [],
   "source": [
    "import pandas as pd\n",
    "import pyodbc"
   ]
  },
  {
   "cell_type": "code",
   "execution_count": 3,
   "metadata": {},
   "outputs": [],
   "source": [
    "# Connect to DataBank\n",
    "connection_string = (\n",
    "    \"DSN=DataBank;\"\n",
    "    \"Trusted_Connection=yes;\"\n",
    ")\n",
    "\n",
    "con = pyodbc.connect(connection_string)"
   ]
  },
  {
   "cell_type": "code",
   "execution_count": 4,
   "metadata": {},
   "outputs": [
    {
     "name": "stderr",
     "output_type": "stream",
     "text": [
      "C:\\Users\\MHil02\\AppData\\Local\\Temp\\ipykernel_32620\\4121153418.py:5: UserWarning: pandas only supports SQLAlchemy connectable (engine/connection) or database string URI or sqlite3 DBAPI2 connection. Other DBAPI2 objects are not tested. Please consider using SQLAlchemy.\n",
      "  df= pd.read_sql(qry, con)\n"
     ]
    }
   ],
   "source": [
    "# Write sql query\n",
    "qry = \"SELECT * FROM ukri_ssd_snapshot.2024_10_04_ssd_award;\"\n",
    "\n",
    "# Read sql query\n",
    "df= pd.read_sql(qry, con)"
   ]
  },
  {
   "cell_type": "code",
   "execution_count": 5,
   "metadata": {},
   "outputs": [
    {
     "data": {
      "text/plain": [
       "251"
      ]
     },
     "execution_count": 5,
     "metadata": {},
     "output_type": "execute_result"
    }
   ],
   "source": [
    "df['award_reference'].isna().sum()"
   ]
  },
  {
   "cell_type": "code",
   "execution_count": 6,
   "metadata": {},
   "outputs": [],
   "source": [
    "df['award_reference'] = df['award_reference'].replace('Unknown', None)\n"
   ]
  },
  {
   "cell_type": "code",
   "execution_count": 7,
   "metadata": {},
   "outputs": [
    {
     "name": "stdout",
     "output_type": "stream",
     "text": [
      "0.1261505844657307\n"
     ]
    },
    {
     "data": {
      "text/plain": [
       "0.1517036963978507"
      ]
     },
     "execution_count": 7,
     "metadata": {},
     "output_type": "execute_result"
    }
   ],
   "source": [
    "df[df['award_reference'].isna()]\n",
    "\n",
    "print(df['award_reference'].isna().sum()/len(df)*100)\n",
    "\n",
    "# Only represents 0.13% of awards\n",
    "\n",
    "df[df['award_reference'].isna()]['funded_amount'].sum()/df['funded_amount'].sum()*100\n",
    "\n",
    "# or 0.15% of total funded amount so we can neglect"
   ]
  },
  {
   "cell_type": "code",
   "execution_count": 8,
   "metadata": {},
   "outputs": [],
   "source": [
    "df_dropna = df[~df['award_reference'].isna()]"
   ]
  },
  {
   "cell_type": "code",
   "execution_count": 9,
   "metadata": {},
   "outputs": [
    {
     "data": {
      "text/plain": [
       "0.3187965192515037"
      ]
     },
     "execution_count": 9,
     "metadata": {},
     "output_type": "execute_result"
    }
   ],
   "source": [
    "# award_reference is not Null and is duplicated\n",
    "df_dropna[df_dropna['award_reference'].duplicated(keep=False)].sort_values(by='award_reference')['funded_amount'].sum()/df['funded_amount'].sum()*100"
   ]
  },
  {
   "cell_type": "code",
   "execution_count": 10,
   "metadata": {},
   "outputs": [],
   "source": [
    "df_dropna[df_dropna['award_reference'].duplicated(keep=False)].sort_values(by='award_reference').to_clipboard(index=False)"
   ]
  },
  {
   "cell_type": "code",
   "execution_count": 11,
   "metadata": {},
   "outputs": [
    {
     "name": "stderr",
     "output_type": "stream",
     "text": [
      "C:\\Users\\MHil02\\AppData\\Local\\Temp\\ipykernel_32620\\1863951632.py:3: SettingWithCopyWarning: \n",
      "A value is trying to be set on a copy of a slice from a DataFrame\n",
      "\n",
      "See the caveats in the documentation: https://pandas.pydata.org/pandas-docs/stable/user_guide/indexing.html#returning-a-view-versus-a-copy\n",
      "  df_dropna.drop_duplicates(subset='award_reference', keep=False, inplace=True)\n"
     ]
    }
   ],
   "source": [
    "# Those duplicated represent 0.32% of total funded amount so we neglect\n",
    "\n",
    "df_dropna.drop_duplicates(subset='award_reference', keep=False, inplace=True)"
   ]
  },
  {
   "cell_type": "code",
   "execution_count": 12,
   "metadata": {},
   "outputs": [
    {
     "data": {
      "text/plain": [
       "1.3501916844453263"
      ]
     },
     "execution_count": 12,
     "metadata": {},
     "output_type": "execute_result"
    }
   ],
   "source": [
    "df_dropna[df_dropna['start_date'].isna() & df_dropna['end_date'].isna()]['funded_amount'].sum() / df['funded_amount'].sum()*100"
   ]
  },
  {
   "cell_type": "code",
   "execution_count": 13,
   "metadata": {},
   "outputs": [],
   "source": [
    "# Awards where there are no start or end date (so we cannot tell if they are active or not) represent 1.35% of the total funded value"
   ]
  },
  {
   "cell_type": "code",
   "execution_count": 14,
   "metadata": {},
   "outputs": [],
   "source": [
    "df_dropna = df_dropna[~(df_dropna['start_date'].isna() & df_dropna['end_date'].isna())]\n"
   ]
  },
  {
   "cell_type": "code",
   "execution_count": 15,
   "metadata": {},
   "outputs": [
    {
     "data": {
      "text/html": [
       "<div>\n",
       "<style scoped>\n",
       "    .dataframe tbody tr th:only-of-type {\n",
       "        vertical-align: middle;\n",
       "    }\n",
       "\n",
       "    .dataframe tbody tr th {\n",
       "        vertical-align: top;\n",
       "    }\n",
       "\n",
       "    .dataframe thead th {\n",
       "        text-align: right;\n",
       "    }\n",
       "</style>\n",
       "<table border=\"1\" class=\"dataframe\">\n",
       "  <thead>\n",
       "    <tr style=\"text-align: right;\">\n",
       "      <th></th>\n",
       "      <th>application_reference</th>\n",
       "      <th>award_reference</th>\n",
       "      <th>funder</th>\n",
       "      <th>administrator</th>\n",
       "      <th>application_source</th>\n",
       "      <th>announced_start_date</th>\n",
       "      <th>start_date</th>\n",
       "      <th>end_date</th>\n",
       "      <th>funded_amount</th>\n",
       "      <th>profiled_amount</th>\n",
       "      <th>project_cost</th>\n",
       "      <th>termination_date</th>\n",
       "    </tr>\n",
       "  </thead>\n",
       "  <tbody>\n",
       "  </tbody>\n",
       "</table>\n",
       "</div>"
      ],
      "text/plain": [
       "Empty DataFrame\n",
       "Columns: [application_reference, award_reference, funder, administrator, application_source, announced_start_date, start_date, end_date, funded_amount, profiled_amount, project_cost, termination_date]\n",
       "Index: []"
      ]
     },
     "execution_count": 15,
     "metadata": {},
     "output_type": "execute_result"
    }
   ],
   "source": [
    "df_dropna[df_dropna['start_date'].isna()]"
   ]
  },
  {
   "cell_type": "code",
   "execution_count": 16,
   "metadata": {},
   "outputs": [
    {
     "data": {
      "text/plain": [
       "0.0"
      ]
     },
     "execution_count": 16,
     "metadata": {},
     "output_type": "execute_result"
    }
   ],
   "source": [
    "df_dropna[df_dropna['end_date'].isna()]['funded_amount'].sum() # Those with end date is NaN are 0 funded amount so can neglect"
   ]
  },
  {
   "cell_type": "code",
   "execution_count": 17,
   "metadata": {},
   "outputs": [],
   "source": [
    "df_dropna = df_dropna[~df_dropna['end_date'].isna()]"
   ]
  },
  {
   "cell_type": "code",
   "execution_count": 18,
   "metadata": {},
   "outputs": [
    {
     "data": {
      "text/plain": [
       "0.00099942482526111"
      ]
     },
     "execution_count": 18,
     "metadata": {},
     "output_type": "execute_result"
    }
   ],
   "source": [
    "df_dropna[df_dropna['start_date'] > df_dropna['end_date']]['funded_amount'].sum() / df['funded_amount'].sum()*100 # negligable"
   ]
  },
  {
   "cell_type": "code",
   "execution_count": 19,
   "metadata": {},
   "outputs": [],
   "source": [
    "df_dropna = df_dropna[df_dropna['start_date'] < df_dropna['end_date']]\n"
   ]
  },
  {
   "cell_type": "code",
   "execution_count": 20,
   "metadata": {},
   "outputs": [
    {
     "data": {
      "text/plain": [
       "98.15924984814613"
      ]
     },
     "execution_count": 20,
     "metadata": {},
     "output_type": "execute_result"
    }
   ],
   "source": [
    "df_dropna['funded_amount'].sum() / df['funded_amount'].sum()*100"
   ]
  },
  {
   "cell_type": "code",
   "execution_count": 21,
   "metadata": {},
   "outputs": [],
   "source": [
    "def list_years(row):\n",
    "    return list(range(row['start_year'], row['end_year'] + 1))"
   ]
  },
  {
   "cell_type": "code",
   "execution_count": 22,
   "metadata": {},
   "outputs": [
    {
     "data": {
      "text/html": [
       "<div>\n",
       "<style scoped>\n",
       "    .dataframe tbody tr th:only-of-type {\n",
       "        vertical-align: middle;\n",
       "    }\n",
       "\n",
       "    .dataframe tbody tr th {\n",
       "        vertical-align: top;\n",
       "    }\n",
       "\n",
       "    .dataframe thead th {\n",
       "        text-align: right;\n",
       "    }\n",
       "</style>\n",
       "<table border=\"1\" class=\"dataframe\">\n",
       "  <thead>\n",
       "    <tr style=\"text-align: right;\">\n",
       "      <th></th>\n",
       "      <th>award_reference</th>\n",
       "      <th>start_date</th>\n",
       "      <th>end_date</th>\n",
       "      <th>funded_amount</th>\n",
       "      <th>start_year</th>\n",
       "      <th>end_year</th>\n",
       "      <th>number_years</th>\n",
       "      <th>years_active</th>\n",
       "    </tr>\n",
       "  </thead>\n",
       "  <tbody>\n",
       "    <tr>\n",
       "      <th>0</th>\n",
       "      <td>MR/Z503976/1</td>\n",
       "      <td>2024-08-01</td>\n",
       "      <td>2026-01-31</td>\n",
       "      <td>154977.54</td>\n",
       "      <td>2024</td>\n",
       "      <td>2026</td>\n",
       "      <td>3</td>\n",
       "      <td>[2024, 2025, 2026]</td>\n",
       "    </tr>\n",
       "    <tr>\n",
       "      <th>1</th>\n",
       "      <td>BB/Y513878/1</td>\n",
       "      <td>2024-02-14</td>\n",
       "      <td>2025-05-13</td>\n",
       "      <td>236363.08</td>\n",
       "      <td>2024</td>\n",
       "      <td>2025</td>\n",
       "      <td>2</td>\n",
       "      <td>[2024, 2025]</td>\n",
       "    </tr>\n",
       "    <tr>\n",
       "      <th>2</th>\n",
       "      <td>EP/Z53285X/1</td>\n",
       "      <td>2024-09-02</td>\n",
       "      <td>2031-09-01</td>\n",
       "      <td>11857652.76</td>\n",
       "      <td>2024</td>\n",
       "      <td>2031</td>\n",
       "      <td>8</td>\n",
       "      <td>[2024, 2025, 2026, 2027, 2028, 2029, 2030, 2031]</td>\n",
       "    </tr>\n",
       "    <tr>\n",
       "      <th>4</th>\n",
       "      <td>BB/Y513891/1</td>\n",
       "      <td>2024-02-14</td>\n",
       "      <td>2025-08-13</td>\n",
       "      <td>258239.42</td>\n",
       "      <td>2024</td>\n",
       "      <td>2025</td>\n",
       "      <td>2</td>\n",
       "      <td>[2024, 2025]</td>\n",
       "    </tr>\n",
       "    <tr>\n",
       "      <th>5</th>\n",
       "      <td>ST/Y510002/1</td>\n",
       "      <td>2024-04-01</td>\n",
       "      <td>2027-03-31</td>\n",
       "      <td>502072.99</td>\n",
       "      <td>2024</td>\n",
       "      <td>2027</td>\n",
       "      <td>4</td>\n",
       "      <td>[2024, 2025, 2026, 2027]</td>\n",
       "    </tr>\n",
       "    <tr>\n",
       "      <th>...</th>\n",
       "      <td>...</td>\n",
       "      <td>...</td>\n",
       "      <td>...</td>\n",
       "      <td>...</td>\n",
       "      <td>...</td>\n",
       "      <td>...</td>\n",
       "      <td>...</td>\n",
       "      <td>...</td>\n",
       "    </tr>\n",
       "    <tr>\n",
       "      <th>208476</th>\n",
       "      <td>CCF ST:London Social Venture Fund</td>\n",
       "      <td>2023-12-01</td>\n",
       "      <td>2025-11-01</td>\n",
       "      <td>1499500.00</td>\n",
       "      <td>2023</td>\n",
       "      <td>2025</td>\n",
       "      <td>3</td>\n",
       "      <td>[2023, 2024, 2025]</td>\n",
       "    </tr>\n",
       "    <tr>\n",
       "      <th>208477</th>\n",
       "      <td>CCF ST:Innovation Catalysed &amp; Enabled (ICE) Le...</td>\n",
       "      <td>2023-12-01</td>\n",
       "      <td>2024-11-01</td>\n",
       "      <td>329292.00</td>\n",
       "      <td>2023</td>\n",
       "      <td>2024</td>\n",
       "      <td>2</td>\n",
       "      <td>[2023, 2024]</td>\n",
       "    </tr>\n",
       "    <tr>\n",
       "      <th>208478</th>\n",
       "      <td>CCF ST:AI SuperConnector</td>\n",
       "      <td>2024-01-01</td>\n",
       "      <td>2025-07-01</td>\n",
       "      <td>1444479.00</td>\n",
       "      <td>2024</td>\n",
       "      <td>2025</td>\n",
       "      <td>2</td>\n",
       "      <td>[2024, 2025]</td>\n",
       "    </tr>\n",
       "    <tr>\n",
       "      <th>208479</th>\n",
       "      <td>CCF ST:North West Cyber Security Connect for C...</td>\n",
       "      <td>2023-12-01</td>\n",
       "      <td>2025-11-01</td>\n",
       "      <td>1230917.00</td>\n",
       "      <td>2023</td>\n",
       "      <td>2025</td>\n",
       "      <td>3</td>\n",
       "      <td>[2023, 2024, 2025]</td>\n",
       "    </tr>\n",
       "    <tr>\n",
       "      <th>208480</th>\n",
       "      <td>CCF ST:Inclusive Financial Technology Hub (INF...</td>\n",
       "      <td>2024-02-01</td>\n",
       "      <td>2025-08-01</td>\n",
       "      <td>1373671.00</td>\n",
       "      <td>2024</td>\n",
       "      <td>2025</td>\n",
       "      <td>2</td>\n",
       "      <td>[2024, 2025]</td>\n",
       "    </tr>\n",
       "  </tbody>\n",
       "</table>\n",
       "<p>204896 rows × 8 columns</p>\n",
       "</div>"
      ],
      "text/plain": [
       "                                          award_reference start_date  \\\n",
       "0                                            MR/Z503976/1 2024-08-01   \n",
       "1                                            BB/Y513878/1 2024-02-14   \n",
       "2                                            EP/Z53285X/1 2024-09-02   \n",
       "4                                            BB/Y513891/1 2024-02-14   \n",
       "5                                            ST/Y510002/1 2024-04-01   \n",
       "...                                                   ...        ...   \n",
       "208476                  CCF ST:London Social Venture Fund 2023-12-01   \n",
       "208477  CCF ST:Innovation Catalysed & Enabled (ICE) Le... 2023-12-01   \n",
       "208478                           CCF ST:AI SuperConnector 2024-01-01   \n",
       "208479  CCF ST:North West Cyber Security Connect for C... 2023-12-01   \n",
       "208480  CCF ST:Inclusive Financial Technology Hub (INF... 2024-02-01   \n",
       "\n",
       "         end_date  funded_amount  start_year  end_year  number_years  \\\n",
       "0      2026-01-31      154977.54        2024      2026             3   \n",
       "1      2025-05-13      236363.08        2024      2025             2   \n",
       "2      2031-09-01    11857652.76        2024      2031             8   \n",
       "4      2025-08-13      258239.42        2024      2025             2   \n",
       "5      2027-03-31      502072.99        2024      2027             4   \n",
       "...           ...            ...         ...       ...           ...   \n",
       "208476 2025-11-01     1499500.00        2023      2025             3   \n",
       "208477 2024-11-01      329292.00        2023      2024             2   \n",
       "208478 2025-07-01     1444479.00        2024      2025             2   \n",
       "208479 2025-11-01     1230917.00        2023      2025             3   \n",
       "208480 2025-08-01     1373671.00        2024      2025             2   \n",
       "\n",
       "                                            years_active  \n",
       "0                                     [2024, 2025, 2026]  \n",
       "1                                           [2024, 2025]  \n",
       "2       [2024, 2025, 2026, 2027, 2028, 2029, 2030, 2031]  \n",
       "4                                           [2024, 2025]  \n",
       "5                               [2024, 2025, 2026, 2027]  \n",
       "...                                                  ...  \n",
       "208476                                [2023, 2024, 2025]  \n",
       "208477                                      [2023, 2024]  \n",
       "208478                                      [2024, 2025]  \n",
       "208479                                [2023, 2024, 2025]  \n",
       "208480                                      [2024, 2025]  \n",
       "\n",
       "[204896 rows x 8 columns]"
      ]
     },
     "execution_count": 22,
     "metadata": {},
     "output_type": "execute_result"
    }
   ],
   "source": [
    "df_dropna['award_reference'].duplicated().sum(0)\n",
    "\n",
    "data_table = df_dropna.copy()[['award_reference', 'start_date', 'end_date', 'funded_amount']]\n",
    "\n",
    "data_table['start_year'] = data_table['start_date'].dt.year\n",
    "data_table['end_year'] = data_table['end_date'].dt.year\n",
    "\n",
    "data_table['number_years'] = data_table['end_year'] - data_table['start_year'] + 1\n",
    "\n",
    "data_table['years_active'] = data_table.apply(list_years, axis=1)\n",
    "\n",
    "data_table"
   ]
  },
  {
   "cell_type": "code",
   "execution_count": 23,
   "metadata": {},
   "outputs": [
    {
     "data": {
      "text/html": [
       "<div>\n",
       "<style scoped>\n",
       "    .dataframe tbody tr th:only-of-type {\n",
       "        vertical-align: middle;\n",
       "    }\n",
       "\n",
       "    .dataframe tbody tr th {\n",
       "        vertical-align: top;\n",
       "    }\n",
       "\n",
       "    .dataframe thead th {\n",
       "        text-align: right;\n",
       "    }\n",
       "</style>\n",
       "<table border=\"1\" class=\"dataframe\">\n",
       "  <thead>\n",
       "    <tr style=\"text-align: right;\">\n",
       "      <th></th>\n",
       "      <th>award_reference</th>\n",
       "      <th>start_date</th>\n",
       "      <th>end_date</th>\n",
       "      <th>funded_amount</th>\n",
       "      <th>start_year</th>\n",
       "      <th>end_year</th>\n",
       "      <th>number_years</th>\n",
       "      <th>years_active</th>\n",
       "    </tr>\n",
       "  </thead>\n",
       "  <tbody>\n",
       "    <tr>\n",
       "      <th>164822</th>\n",
       "      <td>MC_U153026901</td>\n",
       "      <td>1951-01-01</td>\n",
       "      <td>1994-03-31</td>\n",
       "      <td>NaN</td>\n",
       "      <td>1951</td>\n",
       "      <td>1994</td>\n",
       "      <td>44</td>\n",
       "      <td>[1951, 1952, 1953, 1954, 1955, 1956, 1957, 195...</td>\n",
       "    </tr>\n",
       "    <tr>\n",
       "      <th>164200</th>\n",
       "      <td>MC_U147526898</td>\n",
       "      <td>1951-01-01</td>\n",
       "      <td>1994-03-31</td>\n",
       "      <td>NaN</td>\n",
       "      <td>1951</td>\n",
       "      <td>1994</td>\n",
       "      <td>44</td>\n",
       "      <td>[1951, 1952, 1953, 1954, 1955, 1956, 1957, 195...</td>\n",
       "    </tr>\n",
       "    <tr>\n",
       "      <th>13382</th>\n",
       "      <td>G5800055/1</td>\n",
       "      <td>1958-10-15</td>\n",
       "      <td>1994-04-30</td>\n",
       "      <td>413712.000</td>\n",
       "      <td>1958</td>\n",
       "      <td>1994</td>\n",
       "      <td>37</td>\n",
       "      <td>[1958, 1959, 1960, 1961, 1962, 1963, 1964, 196...</td>\n",
       "    </tr>\n",
       "    <tr>\n",
       "      <th>164910</th>\n",
       "      <td>MC_U117532065</td>\n",
       "      <td>1963-03-01</td>\n",
       "      <td>1995-09-30</td>\n",
       "      <td>NaN</td>\n",
       "      <td>1963</td>\n",
       "      <td>1995</td>\n",
       "      <td>33</td>\n",
       "      <td>[1963, 1964, 1965, 1966, 1967, 1968, 1969, 197...</td>\n",
       "    </tr>\n",
       "    <tr>\n",
       "      <th>11608</th>\n",
       "      <td>G6401740/1</td>\n",
       "      <td>1964-10-01</td>\n",
       "      <td>1992-09-30</td>\n",
       "      <td>0.000</td>\n",
       "      <td>1964</td>\n",
       "      <td>1992</td>\n",
       "      <td>29</td>\n",
       "      <td>[1964, 1965, 1966, 1967, 1968, 1969, 1970, 197...</td>\n",
       "    </tr>\n",
       "    <tr>\n",
       "      <th>...</th>\n",
       "      <td>...</td>\n",
       "      <td>...</td>\n",
       "      <td>...</td>\n",
       "      <td>...</td>\n",
       "      <td>...</td>\n",
       "      <td>...</td>\n",
       "      <td>...</td>\n",
       "      <td>...</td>\n",
       "    </tr>\n",
       "    <tr>\n",
       "      <th>55070</th>\n",
       "      <td>NE/Y000811/1</td>\n",
       "      <td>2026-06-01</td>\n",
       "      <td>2029-05-31</td>\n",
       "      <td>429536.560</td>\n",
       "      <td>2026</td>\n",
       "      <td>2029</td>\n",
       "      <td>4</td>\n",
       "      <td>[2026, 2027, 2028, 2029]</td>\n",
       "    </tr>\n",
       "    <tr>\n",
       "      <th>143341</th>\n",
       "      <td>ST/Y004795/1</td>\n",
       "      <td>2026-04-01</td>\n",
       "      <td>2028-03-31</td>\n",
       "      <td>85594.198</td>\n",
       "      <td>2026</td>\n",
       "      <td>2028</td>\n",
       "      <td>3</td>\n",
       "      <td>[2026, 2027, 2028]</td>\n",
       "    </tr>\n",
       "    <tr>\n",
       "      <th>1090</th>\n",
       "      <td>MR/Z505031/1</td>\n",
       "      <td>2026-02-01</td>\n",
       "      <td>2029-01-31</td>\n",
       "      <td>379182.640</td>\n",
       "      <td>2026</td>\n",
       "      <td>2029</td>\n",
       "      <td>4</td>\n",
       "      <td>[2026, 2027, 2028, 2029]</td>\n",
       "    </tr>\n",
       "    <tr>\n",
       "      <th>54629</th>\n",
       "      <td>NE/Y001338/1</td>\n",
       "      <td>2026-06-01</td>\n",
       "      <td>2029-05-31</td>\n",
       "      <td>502872.598</td>\n",
       "      <td>2026</td>\n",
       "      <td>2029</td>\n",
       "      <td>4</td>\n",
       "      <td>[2026, 2027, 2028, 2029]</td>\n",
       "    </tr>\n",
       "    <tr>\n",
       "      <th>1074</th>\n",
       "      <td>MR/Z505626/1</td>\n",
       "      <td>2027-04-01</td>\n",
       "      <td>2029-09-30</td>\n",
       "      <td>1341726.650</td>\n",
       "      <td>2027</td>\n",
       "      <td>2029</td>\n",
       "      <td>3</td>\n",
       "      <td>[2027, 2028, 2029]</td>\n",
       "    </tr>\n",
       "  </tbody>\n",
       "</table>\n",
       "<p>204896 rows × 8 columns</p>\n",
       "</div>"
      ],
      "text/plain": [
       "       award_reference start_date   end_date  funded_amount  start_year  \\\n",
       "164822   MC_U153026901 1951-01-01 1994-03-31            NaN        1951   \n",
       "164200   MC_U147526898 1951-01-01 1994-03-31            NaN        1951   \n",
       "13382       G5800055/1 1958-10-15 1994-04-30     413712.000        1958   \n",
       "164910   MC_U117532065 1963-03-01 1995-09-30            NaN        1963   \n",
       "11608       G6401740/1 1964-10-01 1992-09-30          0.000        1964   \n",
       "...                ...        ...        ...            ...         ...   \n",
       "55070     NE/Y000811/1 2026-06-01 2029-05-31     429536.560        2026   \n",
       "143341    ST/Y004795/1 2026-04-01 2028-03-31      85594.198        2026   \n",
       "1090      MR/Z505031/1 2026-02-01 2029-01-31     379182.640        2026   \n",
       "54629     NE/Y001338/1 2026-06-01 2029-05-31     502872.598        2026   \n",
       "1074      MR/Z505626/1 2027-04-01 2029-09-30    1341726.650        2027   \n",
       "\n",
       "        end_year  number_years  \\\n",
       "164822      1994            44   \n",
       "164200      1994            44   \n",
       "13382       1994            37   \n",
       "164910      1995            33   \n",
       "11608       1992            29   \n",
       "...          ...           ...   \n",
       "55070       2029             4   \n",
       "143341      2028             3   \n",
       "1090        2029             4   \n",
       "54629       2029             4   \n",
       "1074        2029             3   \n",
       "\n",
       "                                             years_active  \n",
       "164822  [1951, 1952, 1953, 1954, 1955, 1956, 1957, 195...  \n",
       "164200  [1951, 1952, 1953, 1954, 1955, 1956, 1957, 195...  \n",
       "13382   [1958, 1959, 1960, 1961, 1962, 1963, 1964, 196...  \n",
       "164910  [1963, 1964, 1965, 1966, 1967, 1968, 1969, 197...  \n",
       "11608   [1964, 1965, 1966, 1967, 1968, 1969, 1970, 197...  \n",
       "...                                                   ...  \n",
       "55070                            [2026, 2027, 2028, 2029]  \n",
       "143341                                 [2026, 2027, 2028]  \n",
       "1090                             [2026, 2027, 2028, 2029]  \n",
       "54629                            [2026, 2027, 2028, 2029]  \n",
       "1074                                   [2027, 2028, 2029]  \n",
       "\n",
       "[204896 rows x 8 columns]"
      ]
     },
     "execution_count": 23,
     "metadata": {},
     "output_type": "execute_result"
    }
   ],
   "source": [
    "data_table.sort_values(by='start_year')"
   ]
  },
  {
   "cell_type": "code",
   "execution_count": 24,
   "metadata": {},
   "outputs": [
    {
     "data": {
      "text/plain": [
       "23185"
      ]
     },
     "execution_count": 24,
     "metadata": {},
     "output_type": "execute_result"
    }
   ],
   "source": [
    "data_table['funded_amount'].isna().sum()"
   ]
  },
  {
   "cell_type": "code",
   "execution_count": 25,
   "metadata": {},
   "outputs": [
    {
     "data": {
      "text/plain": [
       "1247"
      ]
     },
     "execution_count": 25,
     "metadata": {},
     "output_type": "execute_result"
    }
   ],
   "source": [
    "(data_table['funded_amount'] == 0).sum()"
   ]
  },
  {
   "cell_type": "code",
   "execution_count": 26,
   "metadata": {},
   "outputs": [
    {
     "data": {
      "text/plain": [
       "11.924098079025457"
      ]
     },
     "execution_count": 26,
     "metadata": {},
     "output_type": "execute_result"
    }
   ],
   "source": [
    "(23185+1247)/len(data_table)*100"
   ]
  },
  {
   "cell_type": "code",
   "execution_count": 27,
   "metadata": {},
   "outputs": [],
   "source": [
    "data_table.dropna(subset='funded_amount', inplace=True)\n"
   ]
  },
  {
   "cell_type": "code",
   "execution_count": 28,
   "metadata": {},
   "outputs": [],
   "source": [
    "data_table =  data_table.copy()[data_table['funded_amount'] != 0]"
   ]
  },
  {
   "cell_type": "code",
   "execution_count": 29,
   "metadata": {},
   "outputs": [
    {
     "data": {
      "text/html": [
       "<div>\n",
       "<style scoped>\n",
       "    .dataframe tbody tr th:only-of-type {\n",
       "        vertical-align: middle;\n",
       "    }\n",
       "\n",
       "    .dataframe tbody tr th {\n",
       "        vertical-align: top;\n",
       "    }\n",
       "\n",
       "    .dataframe thead th {\n",
       "        text-align: right;\n",
       "    }\n",
       "</style>\n",
       "<table border=\"1\" class=\"dataframe\">\n",
       "  <thead>\n",
       "    <tr style=\"text-align: right;\">\n",
       "      <th></th>\n",
       "      <th>award_reference</th>\n",
       "      <th>start_date</th>\n",
       "      <th>end_date</th>\n",
       "      <th>funded_amount</th>\n",
       "      <th>start_year</th>\n",
       "      <th>end_year</th>\n",
       "      <th>number_years</th>\n",
       "      <th>years_active</th>\n",
       "    </tr>\n",
       "  </thead>\n",
       "  <tbody>\n",
       "    <tr>\n",
       "      <th>101937</th>\n",
       "      <td>ES/I900845/1</td>\n",
       "      <td>2011-04-01</td>\n",
       "      <td>2011-06-01</td>\n",
       "      <td>26841.56</td>\n",
       "      <td>2011</td>\n",
       "      <td>2011</td>\n",
       "      <td>1</td>\n",
       "      <td>[2011]</td>\n",
       "    </tr>\n",
       "    <tr>\n",
       "      <th>31534</th>\n",
       "      <td>GR/J94839/01</td>\n",
       "      <td>1994-08-17</td>\n",
       "      <td>1994-11-16</td>\n",
       "      <td>5000.00</td>\n",
       "      <td>1994</td>\n",
       "      <td>1994</td>\n",
       "      <td>1</td>\n",
       "      <td>[1994]</td>\n",
       "    </tr>\n",
       "    <tr>\n",
       "      <th>193070</th>\n",
       "      <td>73596</td>\n",
       "      <td>2020-06-01</td>\n",
       "      <td>2020-11-30</td>\n",
       "      <td>39990.00</td>\n",
       "      <td>2020</td>\n",
       "      <td>2020</td>\n",
       "      <td>1</td>\n",
       "      <td>[2020]</td>\n",
       "    </tr>\n",
       "    <tr>\n",
       "      <th>31538</th>\n",
       "      <td>GR/J94891/01</td>\n",
       "      <td>1994-06-01</td>\n",
       "      <td>1994-08-31</td>\n",
       "      <td>3600.00</td>\n",
       "      <td>1994</td>\n",
       "      <td>1994</td>\n",
       "      <td>1</td>\n",
       "      <td>[1994]</td>\n",
       "    </tr>\n",
       "    <tr>\n",
       "      <th>110812</th>\n",
       "      <td>AH/I026162/1</td>\n",
       "      <td>2011-02-14</td>\n",
       "      <td>2011-09-01</td>\n",
       "      <td>24416.00</td>\n",
       "      <td>2011</td>\n",
       "      <td>2011</td>\n",
       "      <td>1</td>\n",
       "      <td>[2011]</td>\n",
       "    </tr>\n",
       "    <tr>\n",
       "      <th>...</th>\n",
       "      <td>...</td>\n",
       "      <td>...</td>\n",
       "      <td>...</td>\n",
       "      <td>...</td>\n",
       "      <td>...</td>\n",
       "      <td>...</td>\n",
       "      <td>...</td>\n",
       "      <td>...</td>\n",
       "    </tr>\n",
       "    <tr>\n",
       "      <th>11610</th>\n",
       "      <td>G7103979/1</td>\n",
       "      <td>1971-10-01</td>\n",
       "      <td>1996-09-30</td>\n",
       "      <td>1648074.00</td>\n",
       "      <td>1971</td>\n",
       "      <td>1996</td>\n",
       "      <td>26</td>\n",
       "      <td>[1971, 1972, 1973, 1974, 1975, 1976, 1977, 197...</td>\n",
       "    </tr>\n",
       "    <tr>\n",
       "      <th>162080</th>\n",
       "      <td>MC_48701003</td>\n",
       "      <td>1982-08-01</td>\n",
       "      <td>2007-07-31</td>\n",
       "      <td>178360.00</td>\n",
       "      <td>1982</td>\n",
       "      <td>2007</td>\n",
       "      <td>26</td>\n",
       "      <td>[1982, 1983, 1984, 1985, 1986, 1987, 1988, 198...</td>\n",
       "    </tr>\n",
       "    <tr>\n",
       "      <th>14109</th>\n",
       "      <td>G6901864/1</td>\n",
       "      <td>1969-07-14</td>\n",
       "      <td>1994-07-13</td>\n",
       "      <td>673710.00</td>\n",
       "      <td>1969</td>\n",
       "      <td>1994</td>\n",
       "      <td>26</td>\n",
       "      <td>[1969, 1970, 1971, 1972, 1973, 1974, 1975, 197...</td>\n",
       "    </tr>\n",
       "    <tr>\n",
       "      <th>162095</th>\n",
       "      <td>MC_48701002</td>\n",
       "      <td>1982-08-01</td>\n",
       "      <td>2007-07-31</td>\n",
       "      <td>195155.00</td>\n",
       "      <td>1982</td>\n",
       "      <td>2007</td>\n",
       "      <td>26</td>\n",
       "      <td>[1982, 1983, 1984, 1985, 1986, 1987, 1988, 198...</td>\n",
       "    </tr>\n",
       "    <tr>\n",
       "      <th>13382</th>\n",
       "      <td>G5800055/1</td>\n",
       "      <td>1958-10-15</td>\n",
       "      <td>1994-04-30</td>\n",
       "      <td>413712.00</td>\n",
       "      <td>1958</td>\n",
       "      <td>1994</td>\n",
       "      <td>37</td>\n",
       "      <td>[1958, 1959, 1960, 1961, 1962, 1963, 1964, 196...</td>\n",
       "    </tr>\n",
       "  </tbody>\n",
       "</table>\n",
       "<p>180464 rows × 8 columns</p>\n",
       "</div>"
      ],
      "text/plain": [
       "       award_reference start_date   end_date  funded_amount  start_year  \\\n",
       "101937    ES/I900845/1 2011-04-01 2011-06-01       26841.56        2011   \n",
       "31534     GR/J94839/01 1994-08-17 1994-11-16        5000.00        1994   \n",
       "193070           73596 2020-06-01 2020-11-30       39990.00        2020   \n",
       "31538     GR/J94891/01 1994-06-01 1994-08-31        3600.00        1994   \n",
       "110812    AH/I026162/1 2011-02-14 2011-09-01       24416.00        2011   \n",
       "...                ...        ...        ...            ...         ...   \n",
       "11610       G7103979/1 1971-10-01 1996-09-30     1648074.00        1971   \n",
       "162080     MC_48701003 1982-08-01 2007-07-31      178360.00        1982   \n",
       "14109       G6901864/1 1969-07-14 1994-07-13      673710.00        1969   \n",
       "162095     MC_48701002 1982-08-01 2007-07-31      195155.00        1982   \n",
       "13382       G5800055/1 1958-10-15 1994-04-30      413712.00        1958   \n",
       "\n",
       "        end_year  number_years  \\\n",
       "101937      2011             1   \n",
       "31534       1994             1   \n",
       "193070      2020             1   \n",
       "31538       1994             1   \n",
       "110812      2011             1   \n",
       "...          ...           ...   \n",
       "11610       1996            26   \n",
       "162080      2007            26   \n",
       "14109       1994            26   \n",
       "162095      2007            26   \n",
       "13382       1994            37   \n",
       "\n",
       "                                             years_active  \n",
       "101937                                             [2011]  \n",
       "31534                                              [1994]  \n",
       "193070                                             [2020]  \n",
       "31538                                              [1994]  \n",
       "110812                                             [2011]  \n",
       "...                                                   ...  \n",
       "11610   [1971, 1972, 1973, 1974, 1975, 1976, 1977, 197...  \n",
       "162080  [1982, 1983, 1984, 1985, 1986, 1987, 1988, 198...  \n",
       "14109   [1969, 1970, 1971, 1972, 1973, 1974, 1975, 197...  \n",
       "162095  [1982, 1983, 1984, 1985, 1986, 1987, 1988, 198...  \n",
       "13382   [1958, 1959, 1960, 1961, 1962, 1963, 1964, 196...  \n",
       "\n",
       "[180464 rows x 8 columns]"
      ]
     },
     "execution_count": 29,
     "metadata": {},
     "output_type": "execute_result"
    }
   ],
   "source": [
    "data_table.sort_values(by='number_years')"
   ]
  },
  {
   "cell_type": "code",
   "execution_count": 30,
   "metadata": {},
   "outputs": [
    {
     "data": {
      "text/html": [
       "<div>\n",
       "<style scoped>\n",
       "    .dataframe tbody tr th:only-of-type {\n",
       "        vertical-align: middle;\n",
       "    }\n",
       "\n",
       "    .dataframe tbody tr th {\n",
       "        vertical-align: top;\n",
       "    }\n",
       "\n",
       "    .dataframe thead th {\n",
       "        text-align: right;\n",
       "    }\n",
       "</style>\n",
       "<table border=\"1\" class=\"dataframe\">\n",
       "  <thead>\n",
       "    <tr style=\"text-align: right;\">\n",
       "      <th></th>\n",
       "      <th>award_reference</th>\n",
       "      <th>start_date</th>\n",
       "      <th>end_date</th>\n",
       "      <th>funded_amount</th>\n",
       "      <th>start_year</th>\n",
       "      <th>end_year</th>\n",
       "      <th>number_years</th>\n",
       "      <th>years_active</th>\n",
       "    </tr>\n",
       "  </thead>\n",
       "  <tbody>\n",
       "    <tr>\n",
       "      <th>173519</th>\n",
       "      <td>971448</td>\n",
       "      <td>2016-03-01</td>\n",
       "      <td>2016-11-30</td>\n",
       "      <td>149500.000</td>\n",
       "      <td>2016</td>\n",
       "      <td>2016</td>\n",
       "      <td>1</td>\n",
       "      <td>[2016]</td>\n",
       "    </tr>\n",
       "    <tr>\n",
       "      <th>167617</th>\n",
       "      <td>72442</td>\n",
       "      <td>2020-06-01</td>\n",
       "      <td>2020-11-30</td>\n",
       "      <td>226497.000</td>\n",
       "      <td>2020</td>\n",
       "      <td>2020</td>\n",
       "      <td>1</td>\n",
       "      <td>[2020]</td>\n",
       "    </tr>\n",
       "    <tr>\n",
       "      <th>194323</th>\n",
       "      <td>73451</td>\n",
       "      <td>2020-06-01</td>\n",
       "      <td>2020-11-30</td>\n",
       "      <td>19053.000</td>\n",
       "      <td>2020</td>\n",
       "      <td>2020</td>\n",
       "      <td>1</td>\n",
       "      <td>[2020]</td>\n",
       "    </tr>\n",
       "    <tr>\n",
       "      <th>194316</th>\n",
       "      <td>56407</td>\n",
       "      <td>2020-06-01</td>\n",
       "      <td>2020-08-31</td>\n",
       "      <td>47242.000</td>\n",
       "      <td>2020</td>\n",
       "      <td>2020</td>\n",
       "      <td>1</td>\n",
       "      <td>[2020]</td>\n",
       "    </tr>\n",
       "    <tr>\n",
       "      <th>48404</th>\n",
       "      <td>BB/R005311/1</td>\n",
       "      <td>2017-06-05</td>\n",
       "      <td>2017-07-04</td>\n",
       "      <td>2310.000</td>\n",
       "      <td>2017</td>\n",
       "      <td>2017</td>\n",
       "      <td>1</td>\n",
       "      <td>[2017]</td>\n",
       "    </tr>\n",
       "    <tr>\n",
       "      <th>...</th>\n",
       "      <td>...</td>\n",
       "      <td>...</td>\n",
       "      <td>...</td>\n",
       "      <td>...</td>\n",
       "      <td>...</td>\n",
       "      <td>...</td>\n",
       "      <td>...</td>\n",
       "      <td>...</td>\n",
       "    </tr>\n",
       "    <tr>\n",
       "      <th>134251</th>\n",
       "      <td>NE/K010700/1</td>\n",
       "      <td>2013-09-01</td>\n",
       "      <td>2027-07-01</td>\n",
       "      <td>1018974.506</td>\n",
       "      <td>2013</td>\n",
       "      <td>2027</td>\n",
       "      <td>15</td>\n",
       "      <td>[2013, 2014, 2015, 2016, 2017, 2018, 2019, 202...</td>\n",
       "    </tr>\n",
       "    <tr>\n",
       "      <th>160476</th>\n",
       "      <td>MC_qA137916</td>\n",
       "      <td>2003-04-01</td>\n",
       "      <td>2017-12-31</td>\n",
       "      <td>150000.000</td>\n",
       "      <td>2003</td>\n",
       "      <td>2017</td>\n",
       "      <td>15</td>\n",
       "      <td>[2003, 2004, 2005, 2006, 2007, 2008, 2009, 201...</td>\n",
       "    </tr>\n",
       "    <tr>\n",
       "      <th>11393</th>\n",
       "      <td>G1100525/1</td>\n",
       "      <td>2010-10-01</td>\n",
       "      <td>2025-09-30</td>\n",
       "      <td>825455.000</td>\n",
       "      <td>2010</td>\n",
       "      <td>2025</td>\n",
       "      <td>16</td>\n",
       "      <td>[2010, 2011, 2012, 2013, 2014, 2015, 2016, 201...</td>\n",
       "    </tr>\n",
       "    <tr>\n",
       "      <th>124605</th>\n",
       "      <td>G1001147/1</td>\n",
       "      <td>2011-10-01</td>\n",
       "      <td>2027-03-31</td>\n",
       "      <td>4602857.200</td>\n",
       "      <td>2011</td>\n",
       "      <td>2027</td>\n",
       "      <td>17</td>\n",
       "      <td>[2011, 2012, 2013, 2014, 2015, 2016, 2017, 201...</td>\n",
       "    </tr>\n",
       "    <tr>\n",
       "      <th>159232</th>\n",
       "      <td>MC_qA137857</td>\n",
       "      <td>2005-04-01</td>\n",
       "      <td>2024-03-31</td>\n",
       "      <td>3002616.000</td>\n",
       "      <td>2005</td>\n",
       "      <td>2024</td>\n",
       "      <td>20</td>\n",
       "      <td>[2005, 2006, 2007, 2008, 2009, 2010, 2011, 201...</td>\n",
       "    </tr>\n",
       "  </tbody>\n",
       "</table>\n",
       "<p>78239 rows × 8 columns</p>\n",
       "</div>"
      ],
      "text/plain": [
       "       award_reference start_date   end_date  funded_amount  start_year  \\\n",
       "173519          971448 2016-03-01 2016-11-30     149500.000        2016   \n",
       "167617           72442 2020-06-01 2020-11-30     226497.000        2020   \n",
       "194323           73451 2020-06-01 2020-11-30      19053.000        2020   \n",
       "194316           56407 2020-06-01 2020-08-31      47242.000        2020   \n",
       "48404     BB/R005311/1 2017-06-05 2017-07-04       2310.000        2017   \n",
       "...                ...        ...        ...            ...         ...   \n",
       "134251    NE/K010700/1 2013-09-01 2027-07-01    1018974.506        2013   \n",
       "160476     MC_qA137916 2003-04-01 2017-12-31     150000.000        2003   \n",
       "11393       G1100525/1 2010-10-01 2025-09-30     825455.000        2010   \n",
       "124605      G1001147/1 2011-10-01 2027-03-31    4602857.200        2011   \n",
       "159232     MC_qA137857 2005-04-01 2024-03-31    3002616.000        2005   \n",
       "\n",
       "        end_year  number_years  \\\n",
       "173519      2016             1   \n",
       "167617      2020             1   \n",
       "194323      2020             1   \n",
       "194316      2020             1   \n",
       "48404       2017             1   \n",
       "...          ...           ...   \n",
       "134251      2027            15   \n",
       "160476      2017            15   \n",
       "11393       2025            16   \n",
       "124605      2027            17   \n",
       "159232      2024            20   \n",
       "\n",
       "                                             years_active  \n",
       "173519                                             [2016]  \n",
       "167617                                             [2020]  \n",
       "194323                                             [2020]  \n",
       "194316                                             [2020]  \n",
       "48404                                              [2017]  \n",
       "...                                                   ...  \n",
       "134251  [2013, 2014, 2015, 2016, 2017, 2018, 2019, 202...  \n",
       "160476  [2003, 2004, 2005, 2006, 2007, 2008, 2009, 201...  \n",
       "11393   [2010, 2011, 2012, 2013, 2014, 2015, 2016, 201...  \n",
       "124605  [2011, 2012, 2013, 2014, 2015, 2016, 2017, 201...  \n",
       "159232  [2005, 2006, 2007, 2008, 2009, 2010, 2011, 201...  \n",
       "\n",
       "[78239 rows x 8 columns]"
      ]
     },
     "execution_count": 30,
     "metadata": {},
     "output_type": "execute_result"
    }
   ],
   "source": [
    "data_table[data_table['end_year'] > 2015].sort_values(by='number_years')"
   ]
  },
  {
   "cell_type": "code",
   "execution_count": 31,
   "metadata": {},
   "outputs": [
    {
     "data": {
      "text/html": [
       "<div>\n",
       "<style scoped>\n",
       "    .dataframe tbody tr th:only-of-type {\n",
       "        vertical-align: middle;\n",
       "    }\n",
       "\n",
       "    .dataframe tbody tr th {\n",
       "        vertical-align: top;\n",
       "    }\n",
       "\n",
       "    .dataframe thead th {\n",
       "        text-align: right;\n",
       "    }\n",
       "</style>\n",
       "<table border=\"1\" class=\"dataframe\">\n",
       "  <thead>\n",
       "    <tr style=\"text-align: right;\">\n",
       "      <th></th>\n",
       "      <th>funded_amount</th>\n",
       "      <th>start_year</th>\n",
       "      <th>end_year</th>\n",
       "      <th>number_years</th>\n",
       "      <th>amount_per_year</th>\n",
       "    </tr>\n",
       "    <tr>\n",
       "      <th>years_active</th>\n",
       "      <th></th>\n",
       "      <th></th>\n",
       "      <th></th>\n",
       "      <th></th>\n",
       "      <th></th>\n",
       "    </tr>\n",
       "  </thead>\n",
       "  <tbody>\n",
       "    <tr>\n",
       "      <th>1958</th>\n",
       "      <td>4.137120e+05</td>\n",
       "      <td>1958.000000</td>\n",
       "      <td>1994.000000</td>\n",
       "      <td>37.000000</td>\n",
       "      <td>11181.405405</td>\n",
       "    </tr>\n",
       "    <tr>\n",
       "      <th>1959</th>\n",
       "      <td>4.137120e+05</td>\n",
       "      <td>1958.000000</td>\n",
       "      <td>1994.000000</td>\n",
       "      <td>37.000000</td>\n",
       "      <td>11181.405405</td>\n",
       "    </tr>\n",
       "    <tr>\n",
       "      <th>1960</th>\n",
       "      <td>4.137120e+05</td>\n",
       "      <td>1958.000000</td>\n",
       "      <td>1994.000000</td>\n",
       "      <td>37.000000</td>\n",
       "      <td>11181.405405</td>\n",
       "    </tr>\n",
       "    <tr>\n",
       "      <th>1961</th>\n",
       "      <td>4.137120e+05</td>\n",
       "      <td>1958.000000</td>\n",
       "      <td>1994.000000</td>\n",
       "      <td>37.000000</td>\n",
       "      <td>11181.405405</td>\n",
       "    </tr>\n",
       "    <tr>\n",
       "      <th>1962</th>\n",
       "      <td>4.137120e+05</td>\n",
       "      <td>1958.000000</td>\n",
       "      <td>1994.000000</td>\n",
       "      <td>37.000000</td>\n",
       "      <td>11181.405405</td>\n",
       "    </tr>\n",
       "    <tr>\n",
       "      <th>...</th>\n",
       "      <td>...</td>\n",
       "      <td>...</td>\n",
       "      <td>...</td>\n",
       "      <td>...</td>\n",
       "      <td>...</td>\n",
       "    </tr>\n",
       "    <tr>\n",
       "      <th>2029</th>\n",
       "      <td>4.353030e+06</td>\n",
       "      <td>2023.778614</td>\n",
       "      <td>2029.621988</td>\n",
       "      <td>6.843373</td>\n",
       "      <td>602750.518963</td>\n",
       "    </tr>\n",
       "    <tr>\n",
       "      <th>2030</th>\n",
       "      <td>6.932060e+06</td>\n",
       "      <td>2023.869565</td>\n",
       "      <td>2031.244565</td>\n",
       "      <td>8.375000</td>\n",
       "      <td>825720.017688</td>\n",
       "    </tr>\n",
       "    <tr>\n",
       "      <th>2031</th>\n",
       "      <td>8.681270e+06</td>\n",
       "      <td>2023.823009</td>\n",
       "      <td>2032.026549</td>\n",
       "      <td>9.203540</td>\n",
       "      <td>981883.252826</td>\n",
       "    </tr>\n",
       "    <tr>\n",
       "      <th>2032</th>\n",
       "      <td>7.352413e+06</td>\n",
       "      <td>2023.925532</td>\n",
       "      <td>2032.234043</td>\n",
       "      <td>9.308511</td>\n",
       "      <td>796742.135185</td>\n",
       "    </tr>\n",
       "    <tr>\n",
       "      <th>2033</th>\n",
       "      <td>7.816158e+06</td>\n",
       "      <td>2024.181818</td>\n",
       "      <td>2033.000000</td>\n",
       "      <td>9.818182</td>\n",
       "      <td>797267.309960</td>\n",
       "    </tr>\n",
       "  </tbody>\n",
       "</table>\n",
       "<p>76 rows × 5 columns</p>\n",
       "</div>"
      ],
      "text/plain": [
       "              funded_amount   start_year     end_year  number_years  \\\n",
       "years_active                                                          \n",
       "1958           4.137120e+05  1958.000000  1994.000000     37.000000   \n",
       "1959           4.137120e+05  1958.000000  1994.000000     37.000000   \n",
       "1960           4.137120e+05  1958.000000  1994.000000     37.000000   \n",
       "1961           4.137120e+05  1958.000000  1994.000000     37.000000   \n",
       "1962           4.137120e+05  1958.000000  1994.000000     37.000000   \n",
       "...                     ...          ...          ...           ...   \n",
       "2029           4.353030e+06  2023.778614  2029.621988      6.843373   \n",
       "2030           6.932060e+06  2023.869565  2031.244565      8.375000   \n",
       "2031           8.681270e+06  2023.823009  2032.026549      9.203540   \n",
       "2032           7.352413e+06  2023.925532  2032.234043      9.308511   \n",
       "2033           7.816158e+06  2024.181818  2033.000000      9.818182   \n",
       "\n",
       "              amount_per_year  \n",
       "years_active                   \n",
       "1958             11181.405405  \n",
       "1959             11181.405405  \n",
       "1960             11181.405405  \n",
       "1961             11181.405405  \n",
       "1962             11181.405405  \n",
       "...                       ...  \n",
       "2029            602750.518963  \n",
       "2030            825720.017688  \n",
       "2031            981883.252826  \n",
       "2032            796742.135185  \n",
       "2033            797267.309960  \n",
       "\n",
       "[76 rows x 5 columns]"
      ]
     },
     "execution_count": 31,
     "metadata": {},
     "output_type": "execute_result"
    }
   ],
   "source": [
    "data_table['amount_per_year'] = data_table['funded_amount']/data_table['number_years']\n",
    "\n",
    "df_explode = data_table.explode(column='years_active')\n",
    "\n",
    "df_explode.groupby('years_active').mean(numeric_only=True)"
   ]
  },
  {
   "cell_type": "code",
   "execution_count": 32,
   "metadata": {},
   "outputs": [
    {
     "name": "stdout",
     "output_type": "stream",
     "text": [
      "Today's date: 2025-02-12\n"
     ]
    }
   ],
   "source": [
    "# So in total we can look at 98.2% of the total funded value, 1.8% is excluded\n",
    "\n",
    "from datetime import date\n",
    "\n",
    "today = date.today()\n",
    "print(\"Today's date:\", today)\n",
    "\n",
    "# Active grants - start_date <= today and end_date >= today\n",
    "\n",
    "data_ = df_dropna.copy()\n",
    "\n",
    "data_['Active'] = 'Active'\n",
    "\n",
    "data_.loc[data_.start_date > pd.to_datetime(today), 'Active'] = 'Future'\n",
    "\n",
    "data_.loc[data_.end_date < pd.to_datetime(today), 'Active'] = 'Past'"
   ]
  },
  {
   "cell_type": "code",
   "execution_count": null,
   "metadata": {},
   "outputs": [],
   "source": []
  },
  {
   "cell_type": "code",
   "execution_count": 33,
   "metadata": {},
   "outputs": [
    {
     "name": "stderr",
     "output_type": "stream",
     "text": [
      "C:\\Users\\MHil02\\AppData\\Local\\Temp\\ipykernel_32620\\3848588355.py:1: UserWarning: pandas only supports SQLAlchemy connectable (engine/connection) or database string URI or sqlite3 DBAPI2 connection. Other DBAPI2 objects are not tested. Please consider using SQLAlchemy.\n",
      "  df_application = pd.read_sql(\"SELECT * FROM ukri_ssd_snapshot.2024_10_04_ssd_application;\", con)\n"
     ]
    }
   ],
   "source": [
    "df_application = pd.read_sql(\"SELECT * FROM ukri_ssd_snapshot.2024_10_04_ssd_application;\", con)"
   ]
  },
  {
   "cell_type": "code",
   "execution_count": 37,
   "metadata": {},
   "outputs": [
    {
     "data": {
      "text/plain": [
       "array(['New Generation Thinkers 2022',\n",
       "       'MRC Infections and immunity Sep 2023: responsive mode: research grant',\n",
       "       'EPSRC open fellowship May 2023', ..., 'UKRPIF: Net Zero',\n",
       "       'Improve access and participation for Black, Asian and minority ethnic groups in postgraduate research study',\n",
       "       'CCF RED'], dtype=object)"
      ]
     },
     "execution_count": 37,
     "metadata": {},
     "output_type": "execute_result"
    }
   ],
   "source": [
    "df_application['application_category'].unique()\n",
    "df_application.columns\n",
    "\n",
    "df_application['opportunity_name'].unique()"
   ]
  },
  {
   "cell_type": "code",
   "execution_count": 38,
   "metadata": {},
   "outputs": [
    {
     "data": {
      "text/html": [
       "<div>\n",
       "<style scoped>\n",
       "    .dataframe tbody tr th:only-of-type {\n",
       "        vertical-align: middle;\n",
       "    }\n",
       "\n",
       "    .dataframe tbody tr th {\n",
       "        vertical-align: top;\n",
       "    }\n",
       "\n",
       "    .dataframe thead th {\n",
       "        text-align: right;\n",
       "    }\n",
       "</style>\n",
       "<table border=\"1\" class=\"dataframe\">\n",
       "  <thead>\n",
       "    <tr style=\"text-align: right;\">\n",
       "      <th></th>\n",
       "      <th>opportunity_id</th>\n",
       "      <th>opportunity_name</th>\n",
       "    </tr>\n",
       "  </thead>\n",
       "  <tbody>\n",
       "    <tr>\n",
       "      <th>0</th>\n",
       "      <td>34</td>\n",
       "      <td>New Generation Thinkers 2022</td>\n",
       "    </tr>\n",
       "    <tr>\n",
       "      <th>1</th>\n",
       "      <td>171</td>\n",
       "      <td>MRC Infections and immunity Sep 2023: responsi...</td>\n",
       "    </tr>\n",
       "    <tr>\n",
       "      <th>2</th>\n",
       "      <td>139</td>\n",
       "      <td>EPSRC open fellowship May 2023</td>\n",
       "    </tr>\n",
       "    <tr>\n",
       "      <th>3</th>\n",
       "      <td>147</td>\n",
       "      <td>ESRC responsive mode: secondary data analysis ...</td>\n",
       "    </tr>\n",
       "    <tr>\n",
       "      <th>5</th>\n",
       "      <td>156</td>\n",
       "      <td>MRC: Public Health Intervention Development (P...</td>\n",
       "    </tr>\n",
       "    <tr>\n",
       "      <th>...</th>\n",
       "      <td>...</td>\n",
       "      <td>...</td>\n",
       "    </tr>\n",
       "    <tr>\n",
       "      <th>575917</th>\n",
       "      <td>UKRPIF7</td>\n",
       "      <td>UKRPIF</td>\n",
       "    </tr>\n",
       "    <tr>\n",
       "      <th>575918</th>\n",
       "      <td>CCF ST</td>\n",
       "      <td>CCF RED</td>\n",
       "    </tr>\n",
       "    <tr>\n",
       "      <th>575923</th>\n",
       "      <td>RED28</td>\n",
       "      <td>RED Fund</td>\n",
       "    </tr>\n",
       "    <tr>\n",
       "      <th>575928</th>\n",
       "      <td>RED30</td>\n",
       "      <td>RED Fund</td>\n",
       "    </tr>\n",
       "    <tr>\n",
       "      <th>575929</th>\n",
       "      <td>RED29</td>\n",
       "      <td>RED Fund</td>\n",
       "    </tr>\n",
       "  </tbody>\n",
       "</table>\n",
       "<p>9138 rows × 2 columns</p>\n",
       "</div>"
      ],
      "text/plain": [
       "       opportunity_id                                   opportunity_name\n",
       "0                  34                       New Generation Thinkers 2022\n",
       "1                 171  MRC Infections and immunity Sep 2023: responsi...\n",
       "2                 139                     EPSRC open fellowship May 2023\n",
       "3                 147  ESRC responsive mode: secondary data analysis ...\n",
       "5                 156  MRC: Public Health Intervention Development (P...\n",
       "...               ...                                                ...\n",
       "575917        UKRPIF7                                             UKRPIF\n",
       "575918         CCF ST                                            CCF RED\n",
       "575923          RED28                                           RED Fund\n",
       "575928          RED30                                           RED Fund\n",
       "575929          RED29                                           RED Fund\n",
       "\n",
       "[9138 rows x 2 columns]"
      ]
     },
     "execution_count": 38,
     "metadata": {},
     "output_type": "execute_result"
    }
   ],
   "source": [
    "df_application[['opportunity_id', 'opportunity_name']].drop_duplicates()"
   ]
  },
  {
   "cell_type": "code",
   "execution_count": 39,
   "metadata": {},
   "outputs": [
    {
     "name": "stderr",
     "output_type": "stream",
     "text": [
      "C:\\Users\\MHil02\\AppData\\Local\\Temp\\ipykernel_32620\\1554799385.py:1: UserWarning: pandas only supports SQLAlchemy connectable (engine/connection) or database string URI or sqlite3 DBAPI2 connection. Other DBAPI2 objects are not tested. Please consider using SQLAlchemy.\n",
      "  dim_opportunity = pd.read_sql(\"SELECT * FROM databank.dim_opportunity;\", con)\n"
     ]
    }
   ],
   "source": [
    "dim_opportunity = pd.read_sql(\"SELECT * FROM databank.dim_opportunity;\", con)"
   ]
  },
  {
   "cell_type": "code",
   "execution_count": 42,
   "metadata": {},
   "outputs": [
    {
     "data": {
      "text/plain": [
       "1"
      ]
     },
     "execution_count": 42,
     "metadata": {},
     "output_type": "execute_result"
    }
   ],
   "source": [
    "dim_opportunity[['OpportunityName', 'OpportunityNumber', 'OpportunityOriginSource']].duplicated().sum()"
   ]
  },
  {
   "cell_type": "code",
   "execution_count": 44,
   "metadata": {},
   "outputs": [
    {
     "data": {
      "text/html": [
       "<div>\n",
       "<style scoped>\n",
       "    .dataframe tbody tr th:only-of-type {\n",
       "        vertical-align: middle;\n",
       "    }\n",
       "\n",
       "    .dataframe tbody tr th {\n",
       "        vertical-align: top;\n",
       "    }\n",
       "\n",
       "    .dataframe thead th {\n",
       "        text-align: right;\n",
       "    }\n",
       "</style>\n",
       "<table border=\"1\" class=\"dataframe\">\n",
       "  <thead>\n",
       "    <tr style=\"text-align: right;\">\n",
       "      <th></th>\n",
       "      <th>OpportunitySKey</th>\n",
       "      <th>OpportunityName</th>\n",
       "      <th>OpportunityNumber</th>\n",
       "      <th>OpportunityStartDate</th>\n",
       "      <th>OpportunityEndDate</th>\n",
       "      <th>OpportunityCloseDate</th>\n",
       "      <th>OpportunityMode_AHRC</th>\n",
       "      <th>OpportunityOriginSource</th>\n",
       "      <th>OpportunityComments</th>\n",
       "      <th>ApplicantLedOrTargeted</th>\n",
       "      <th>IsResponsive</th>\n",
       "    </tr>\n",
       "  </thead>\n",
       "  <tbody>\n",
       "    <tr>\n",
       "      <th>10079</th>\n",
       "      <td>3517200</td>\n",
       "      <td>Accelerating Innovation in Rail Round 5 (12 Mo...</td>\n",
       "      <td>61</td>\n",
       "      <td>2017-09-18 00:00:00</td>\n",
       "      <td>None</td>\n",
       "      <td>2017-11-15 12:00:00</td>\n",
       "      <td>None</td>\n",
       "      <td>IUK</td>\n",
       "      <td>None</td>\n",
       "      <td>Unassigned</td>\n",
       "      <td>Unassigned</td>\n",
       "    </tr>\n",
       "    <tr>\n",
       "      <th>10252</th>\n",
       "      <td>3517373</td>\n",
       "      <td>Accelerating Innovation in Rail Round 5 (12 Mo...</td>\n",
       "      <td>61</td>\n",
       "      <td>2017-09-18 00:00:00</td>\n",
       "      <td>None</td>\n",
       "      <td>2017-11-15 12:00:00</td>\n",
       "      <td>None</td>\n",
       "      <td>IUK</td>\n",
       "      <td>None</td>\n",
       "      <td>Unassigned</td>\n",
       "      <td>Unassigned</td>\n",
       "    </tr>\n",
       "  </tbody>\n",
       "</table>\n",
       "</div>"
      ],
      "text/plain": [
       "       OpportunitySKey                                    OpportunityName  \\\n",
       "10079          3517200  Accelerating Innovation in Rail Round 5 (12 Mo...   \n",
       "10252          3517373  Accelerating Innovation in Rail Round 5 (12 Mo...   \n",
       "\n",
       "      OpportunityNumber OpportunityStartDate OpportunityEndDate  \\\n",
       "10079                61  2017-09-18 00:00:00               None   \n",
       "10252                61  2017-09-18 00:00:00               None   \n",
       "\n",
       "      OpportunityCloseDate OpportunityMode_AHRC OpportunityOriginSource  \\\n",
       "10079  2017-11-15 12:00:00                 None                     IUK   \n",
       "10252  2017-11-15 12:00:00                 None                     IUK   \n",
       "\n",
       "      OpportunityComments ApplicantLedOrTargeted IsResponsive  \n",
       "10079                None             Unassigned   Unassigned  \n",
       "10252                None             Unassigned   Unassigned  "
      ]
     },
     "execution_count": 44,
     "metadata": {},
     "output_type": "execute_result"
    }
   ],
   "source": [
    "dim_opportunity[dim_opportunity[['OpportunityName', 'OpportunityNumber', 'OpportunityOriginSource']].duplicated(keep=False)]"
   ]
  },
  {
   "cell_type": "code",
   "execution_count": null,
   "metadata": {},
   "outputs": [],
   "source": [
    "\n",
    "data_application = df_application[['application_reference', 'application_source', 'application_title', 'decision_owner', \n",
    "                                   'application_category', 'lead_organisation_id', 'organisation_source']]"
   ]
  },
  {
   "cell_type": "code",
   "execution_count": null,
   "metadata": {},
   "outputs": [],
   "source": [
    "print(data_application[['application_reference', 'application_source']].duplicated().sum())\n",
    "\n",
    "print(data_[['application_reference', 'application_source']].duplicated().sum())\n",
    "# application_reference and application_source are duplicated"
   ]
  },
  {
   "cell_type": "code",
   "execution_count": null,
   "metadata": {},
   "outputs": [],
   "source": [
    "df_application['award_reference'] = df_application['award_reference'].replace('Unknown', None) # replace Unknown with NaN"
   ]
  },
  {
   "cell_type": "code",
   "execution_count": null,
   "metadata": {},
   "outputs": [],
   "source": [
    "len(data_[data_[['application_reference', 'application_source']].duplicated(keep=False)].sort_values(by='application_reference'))\n",
    "\n",
    "num = data_[data_[['application_reference', 'application_source']].duplicated(keep=False)].sort_values(by='application_reference')['funded_amount'].sum()\n",
    "\n",
    "num / df['funded_amount'].sum()*100 # negligable"
   ]
  },
  {
   "cell_type": "code",
   "execution_count": null,
   "metadata": {},
   "outputs": [],
   "source": [
    "data_.drop_duplicates(subset=['application_reference', 'application_source'], keep=False, inplace=True)"
   ]
  },
  {
   "cell_type": "code",
   "execution_count": null,
   "metadata": {},
   "outputs": [],
   "source": [
    "data_merge = pd.merge(data_, data_application.drop_duplicates(subset=['application_reference', 'application_source'], keep=False), \n",
    "                      on=['application_reference', 'application_source'], how='left', indicator=True)"
   ]
  },
  {
   "cell_type": "code",
   "execution_count": null,
   "metadata": {},
   "outputs": [],
   "source": [
    "data_merge[data_merge['_merge'] == 'left_only']['funded_amount'].sum() / df['funded_amount'].sum()*100 # negligable"
   ]
  },
  {
   "cell_type": "code",
   "execution_count": null,
   "metadata": {},
   "outputs": [],
   "source": [
    "print(len(data_merge))\n",
    "print(len(data_))"
   ]
  },
  {
   "cell_type": "code",
   "execution_count": null,
   "metadata": {},
   "outputs": [],
   "source": [
    "data_both = data_merge[data_merge['_merge'] == 'both']"
   ]
  },
  {
   "cell_type": "code",
   "execution_count": null,
   "metadata": {},
   "outputs": [],
   "source": [
    "data_both.drop(columns=['announced_start_date', 'termination_date', '_merge'], inplace=True)"
   ]
  },
  {
   "cell_type": "code",
   "execution_count": null,
   "metadata": {},
   "outputs": [],
   "source": [
    "ssd_organisation = pd.read_sql(\"SELECT * FROM ukri_ssd_snapshot.2024_10_04_ssd_organisation;\", con)"
   ]
  },
  {
   "cell_type": "code",
   "execution_count": null,
   "metadata": {},
   "outputs": [],
   "source": [
    "data_both[['application_reference', 'application_source']].duplicated().sum()"
   ]
  },
  {
   "cell_type": "code",
   "execution_count": null,
   "metadata": {},
   "outputs": [],
   "source": [
    "data_both['funded_amount'].sum() / df['funded_amount'].sum() # currently looking at 98% of the total funded amount 2% is excluded"
   ]
  },
  {
   "cell_type": "code",
   "execution_count": null,
   "metadata": {},
   "outputs": [],
   "source": [
    "ssd_organisation[['organisation_id', 'organisation_source']].duplicated().sum()"
   ]
  },
  {
   "cell_type": "code",
   "execution_count": null,
   "metadata": {},
   "outputs": [],
   "source": [
    "data_both.columns"
   ]
  },
  {
   "cell_type": "code",
   "execution_count": null,
   "metadata": {},
   "outputs": [],
   "source": [
    "ssd_organisation.columns"
   ]
  },
  {
   "cell_type": "code",
   "execution_count": null,
   "metadata": {},
   "outputs": [],
   "source": [
    "data_merge = pd.merge(data_both, ssd_organisation[['organisation_id', 'organisation_name', 'ukprn', 'organisation_source']], \n",
    "                      left_on=['lead_organisation_id', 'organisation_source'], \n",
    "                      right_on=['organisation_id', 'organisation_source'], \n",
    "                      how='left', indicator=True)"
   ]
  },
  {
   "cell_type": "code",
   "execution_count": null,
   "metadata": {},
   "outputs": [],
   "source": [
    "print(len(data_merge))\n",
    "print(len(data_both))\n"
   ]
  },
  {
   "cell_type": "code",
   "execution_count": null,
   "metadata": {},
   "outputs": [],
   "source": [
    "data_merge.dtypes\n",
    "\n",
    "data_merge['application_reference_source'] = data_merge['application_reference'] + '_' + data_merge['application_source']"
   ]
  },
  {
   "cell_type": "code",
   "execution_count": null,
   "metadata": {},
   "outputs": [],
   "source": [
    "data_merge[data_merge['_merge'] == 'left_only'] # these don't have an organisation listed\n",
    "\n",
    "data_both = data_merge[data_merge['_merge'] == 'both']"
   ]
  },
  {
   "cell_type": "code",
   "execution_count": null,
   "metadata": {},
   "outputs": [],
   "source": [
    "# look at TRAC providers by TRAC group\n",
    "path = \"C:\\\\Users\\\\MHil02\\\\OneDrive - UKRI\\\\Research Financial Sustainability\\\\TRAC data\\\\raw_TRAC\"\n",
    "trac_providers = pd.read_excel(path[:-8] + 'trac_providers.xlsx', header=2)\n"
   ]
  },
  {
   "cell_type": "code",
   "execution_count": null,
   "metadata": {},
   "outputs": [],
   "source": [
    "data_merge[data_merge['_merge'] == 'left_only'] # these don't have an organisation listed\n",
    "\n",
    "data_left = data_merge[data_merge['_merge'] == 'left_only']"
   ]
  },
  {
   "cell_type": "code",
   "execution_count": null,
   "metadata": {},
   "outputs": [],
   "source": [
    "ssd_organisation[ssd_organisation['organisation_id'] == '10007855']\n",
    "\n",
    "data_left = data_left.dropna(how='all', axis=1).drop(columns='_merge')"
   ]
  },
  {
   "cell_type": "code",
   "execution_count": null,
   "metadata": {},
   "outputs": [],
   "source": [
    "data_merge = pd.merge(data_left, ssd_organisation[['organisation_id', 'organisation_name', 'ukprn', 'organisation_source']],\n",
    "                      left_on='lead_organisation_id', right_on='organisation_id') # join remaining on organisation id"
   ]
  },
  {
   "cell_type": "code",
   "execution_count": null,
   "metadata": {},
   "outputs": [],
   "source": [
    "print(len(data_merge))\n",
    "print(len(data_left))"
   ]
  },
  {
   "cell_type": "code",
   "execution_count": null,
   "metadata": {},
   "outputs": [],
   "source": [
    "data_both\n",
    "\n",
    "data_merge = data_merge.drop(columns='organisation_source_x').rename(columns={'organisation_source_y':'organisation_source'})\n"
   ]
  },
  {
   "cell_type": "code",
   "execution_count": null,
   "metadata": {},
   "outputs": [],
   "source": [
    "data_merge['ukprn'] = data_merge['organisation_id']\n"
   ]
  },
  {
   "cell_type": "code",
   "execution_count": null,
   "metadata": {},
   "outputs": [],
   "source": [
    "data_concat = pd.concat([data_both, data_merge])"
   ]
  },
  {
   "cell_type": "code",
   "execution_count": null,
   "metadata": {},
   "outputs": [],
   "source": [
    "data_concat.drop(columns=['profiled_amount', 'project_cost', 'lead_organisation_id', '_merge'], inplace=True)"
   ]
  },
  {
   "cell_type": "code",
   "execution_count": null,
   "metadata": {},
   "outputs": [],
   "source": [
    "data_concat['funded_amount'].sum() / df['funded_amount'].sum()*100"
   ]
  },
  {
   "cell_type": "code",
   "execution_count": null,
   "metadata": {},
   "outputs": [],
   "source": [
    "trac_providers['UKPRN'] = trac_providers['UKPRN'].astype(str)"
   ]
  },
  {
   "cell_type": "code",
   "execution_count": null,
   "metadata": {},
   "outputs": [],
   "source": [
    "data_concat[data_concat['organisation_name'].str.contains('Dundee')]['ukprn'].unique()\n",
    "\n",
    "data_concat[data_concat['organisation_name'] == 'University of Dundee'] # 1347\n",
    "data_concat[data_concat['ukprn'] == '10007852'] # 1347\n",
    "\n",
    "data_dundee = data_concat.copy()[data_concat['organisation_name'] == 'University of Dundee']\n",
    "\n",
    "data_dundee['application_reference_source'].duplicated().sum()\n",
    "\n",
    "councils = ['AHRC', 'BBSRC', 'EPSRC', 'ESRC', 'MRC', 'NERC', 'RE', 'STFC', 'HEG', 'All']\n",
    "\n",
    "data_dundee['council'] = data_dundee['funder']\n",
    "\n",
    "data_dundee.loc[~data_dundee['council'].isin(councils), 'council'] = 'Other'\n",
    "\n",
    "data_dundee_group = data_dundee.groupby(['council', 'Active', 'organisation_name'], as_index=False).agg({'funded_amount':'sum', \n",
    "                                                                                                         'application_reference_source':'nunique'})\n",
    "\n",
    "data_dundee1 = data_dundee_group.copy()[data_dundee_group['Active'] != 'Past']\n",
    "\n",
    "data_dundee1.loc['Total'] = data_dundee1.sum(numeric_only=True)\n",
    "\n",
    "data_dundee1.to_clipboard(index=False)\n",
    "\n",
    "data_dundee[data_dundee['Active'] != 'Past'][['council', 'funded_amount', 'Active', 'application_title', 'end_date']]\n",
    "\n",
    "print(len(data_concat))\n",
    "\n",
    "data_concat['funded_amount'].isna().sum() / len(data_concat) *100"
   ]
  },
  {
   "cell_type": "code",
   "execution_count": null,
   "metadata": {},
   "outputs": [],
   "source": [
    "data_dundee[data_dundee['Active'] != 'Past'][['award_reference', 'council', 'funded_amount', 'Active', 'application_title', 'end_date']].sort_values(by='funded_amount', ascending=False).to_clipboard(index=False)\n"
   ]
  },
  {
   "cell_type": "code",
   "execution_count": null,
   "metadata": {},
   "outputs": [],
   "source": [
    "# Ulster and Aberystwyth put in ukprns\n",
    "data_concat.loc[data_concat['organisation_name'].str.contains('Ulster') & data_concat['organisation_name'].str.contains('University'), 'ukprn'] = '10007807'\n",
    "\n",
    "data_concat.loc[data_concat['organisation_name'].str.contains('Aberystwyth'), 'ukprn'] = '10007856'"
   ]
  },
  {
   "cell_type": "code",
   "execution_count": null,
   "metadata": {},
   "outputs": [],
   "source": [
    "data_ = pd.merge(data_concat, trac_providers[['UKPRN', 'Institution Name', 'TRAC Peer Group']], left_on='ukprn', right_on='UKPRN',\n",
    "                 how='outer', indicator=True)"
   ]
  },
  {
   "cell_type": "code",
   "execution_count": null,
   "metadata": {},
   "outputs": [],
   "source": [
    "data_left = data_[data_['_merge'] == 'left_only'].dropna(how='all', axis=1)\n",
    "\n",
    "data_[data_['_merge'] == 'right_only'].dropna(how='all', axis=1)\n",
    "# these are still missing but TRAC Bs are covered"
   ]
  },
  {
   "cell_type": "code",
   "execution_count": null,
   "metadata": {},
   "outputs": [],
   "source": [
    "data_both = data_[data_['_merge'] == 'both']"
   ]
  },
  {
   "cell_type": "code",
   "execution_count": null,
   "metadata": {},
   "outputs": [],
   "source": [
    "data_check = data_both[['organisation_name', 'ukprn']].drop_duplicates()\n",
    "\n",
    "data_check[data_check['ukprn'].duplicated(keep=False)].to_clipboard(index=False) # checked"
   ]
  },
  {
   "cell_type": "code",
   "execution_count": null,
   "metadata": {},
   "outputs": [],
   "source": [
    "trac_providers[trac_providers['TRAC Peer Group'] == 'B'] # quick check and most of these seem to be captured \n",
    "\n",
    "# look at TRAC B universities, if want to look at other TRAC groups need to check names and UKPRNs in data\n",
    "\n",
    "data_b = data_both[data_both['TRAC Peer Group'] == 'B']\n",
    "\n",
    "data_group = data_b.groupby(['funder', 'Active', 'Institution Name'], as_index=False).agg({'funded_amount':'sum','application_reference_source':'nunique'})"
   ]
  },
  {
   "cell_type": "code",
   "execution_count": null,
   "metadata": {},
   "outputs": [],
   "source": [
    "data_group.to_clipboard(index=False)"
   ]
  },
  {
   "cell_type": "code",
   "execution_count": null,
   "metadata": {},
   "outputs": [],
   "source": [
    "data_tmp = data_group.groupby(['Active', 'Institution Name'], as_index=False).sum(numeric_only=True)\n",
    "data_tmp['funder'] = 'All'\n",
    "\n",
    "data_out = pd.concat([data_group, data_tmp])"
   ]
  },
  {
   "cell_type": "code",
   "execution_count": null,
   "metadata": {},
   "outputs": [],
   "source": [
    "data_out.to_clipboard(index=False)"
   ]
  },
  {
   "cell_type": "code",
   "execution_count": null,
   "metadata": {},
   "outputs": [],
   "source": [
    "data_out"
   ]
  },
  {
   "cell_type": "code",
   "execution_count": null,
   "metadata": {},
   "outputs": [],
   "source": [
    "data_out.groupby(['funder', 'Active'], as_index=False).quantile(0.5, numeric_only=True)\n",
    "\n",
    "data_av = data_out[(data_out['funder'] == 'All') & (data_out['Active'] == 'Active')]\n",
    "\n",
    "low = data_av['funded_amount'].quantile(0.25)\n",
    "upp = data_av['funded_amount'].quantile(0.75)\n",
    "\n",
    "data_av['Quantile'] = 'Middle'\n",
    "\n",
    "data_av.loc[data_av['funded_amount'] < low, 'Quantile'] = 'Lower'\n",
    "data_av.loc[data_av['funded_amount'] > upp, 'Quantile'] = 'Upper'"
   ]
  },
  {
   "cell_type": "code",
   "execution_count": null,
   "metadata": {},
   "outputs": [],
   "source": [
    "unis = data_av.sort_values(by='funded_amount').loc[data_av['Quantile'] == 'Middle'][['Institution Name']]"
   ]
  },
  {
   "cell_type": "code",
   "execution_count": null,
   "metadata": {},
   "outputs": [],
   "source": [
    "unis"
   ]
  },
  {
   "cell_type": "code",
   "execution_count": null,
   "metadata": {},
   "outputs": [],
   "source": [
    "data_merge = pd.merge(data_out, unis, on='Institution Name')"
   ]
  },
  {
   "cell_type": "code",
   "execution_count": null,
   "metadata": {},
   "outputs": [],
   "source": [
    "data_merge['funder'].unique()"
   ]
  },
  {
   "cell_type": "code",
   "execution_count": null,
   "metadata": {},
   "outputs": [],
   "source": [
    "councils = ['AHRC', 'BBSRC', 'EPSRC', 'ESRC', 'MRC', 'NERC', 'RE', 'STFC', 'HEG', 'All']\n",
    "\n",
    "data_merge.loc[~data_merge['funder'].isin(councils), 'funder'] = 'Other'"
   ]
  },
  {
   "cell_type": "code",
   "execution_count": null,
   "metadata": {},
   "outputs": [],
   "source": [
    "# Studentships\n",
    "\n",
    "data_students = pd.read_excel(\"C:\\\\Users\\\\MHil02\\\\UKRI\\\\RICN - UKRI Research & Innovation Careers Network - 01_Core_talent_tables\\\\UKRI studentship counts and expenditure (Oct 24 SSD snapshot).xlsx\", sheet_name='FY Organisation')"
   ]
  },
  {
   "cell_type": "code",
   "execution_count": null,
   "metadata": {},
   "outputs": [],
   "source": [
    "data_2425 = data_students[data_students['Financial Year'] == '2023-24']\n",
    "\n",
    "data_2425['Council'].unique()"
   ]
  },
  {
   "cell_type": "code",
   "execution_count": null,
   "metadata": {},
   "outputs": [],
   "source": [
    "# active lead org\n",
    "data_select = data_2425.copy()[['Council', 'Organisation', 'active_host_org']]\n",
    "data_select['Council'] = data_select['Council'].replace('All UKRI', 'All')\n",
    "\n",
    "data_select.loc[~data_select['Council'].isin(councils), 'Council'] = 'Other'"
   ]
  },
  {
   "cell_type": "code",
   "execution_count": null,
   "metadata": {},
   "outputs": [],
   "source": [
    "data_select['Organisation'].isna().sum()\n",
    "\n",
    "data_select[data_select['Organisation'].isna()]\n",
    "\n",
    "data_dundee = data_select.dropna(subset='Organisation')\n",
    "\n",
    "data_dundee = data_dundee[data_dundee['Organisation'].str.contains('Dundee')]\n",
    "\n",
    "data = pd.concat([data_dundee[~data_dundee['Council'].isin(['All', 'Other'])],\n",
    "           data_dundee[data_dundee['Council'] == 'Other'],\n",
    "           data_dundee[data_dundee['Council'] == 'All']])\n",
    "\n",
    "data.to_clipboard(index=False)"
   ]
  },
  {
   "cell_type": "code",
   "execution_count": null,
   "metadata": {},
   "outputs": [],
   "source": [
    "data_select\n",
    "\n",
    "data1 = data_merge.loc[data_merge['Active'] != 'Past'].groupby(['funder', 'Active', 'Institution Name'], as_index=False).sum()"
   ]
  },
  {
   "cell_type": "code",
   "execution_count": null,
   "metadata": {},
   "outputs": [],
   "source": [
    "data2 = data_select.groupby(['Council', 'Organisation'], as_index=False).sum()\n"
   ]
  },
  {
   "cell_type": "code",
   "execution_count": null,
   "metadata": {},
   "outputs": [],
   "source": [
    "data1.columns"
   ]
  },
  {
   "cell_type": "code",
   "execution_count": null,
   "metadata": {},
   "outputs": [],
   "source": [
    "data1['Institution Name'].unique()"
   ]
  },
  {
   "cell_type": "code",
   "execution_count": null,
   "metadata": {},
   "outputs": [],
   "source": [
    "data2['Organisation'].unique()\n",
    "\n",
    "data2[data2['Organisation'].str.contains('Brunel ')]\n",
    "data2.rename(columns={'Organisation':'Institution Name'}, inplace=True)"
   ]
  },
  {
   "cell_type": "code",
   "execution_count": null,
   "metadata": {},
   "outputs": [],
   "source": [
    "# Replace Aberystwyth\n",
    "data1.loc[data1['Institution Name'].str.contains('Aberystwyth'), 'Institution Name'] = 'Aberystwyth University'\n",
    "data2.loc[data2['Institution Name'].str.contains('Economics'), 'Institution Name'] = 'The London School of Economics and Political Science'\n",
    "data2.loc[data2['Institution Name'].str.contains('East Anglia'), 'Institution Name'] = 'The University of East Anglia'\n",
    "data2.loc[data2['Institution Name'].str.contains('Kent'), 'Institution Name'] = 'The University of Kent'\n",
    "data2.loc[data2['Institution Name'].str.contains('Reading'), 'Institution Name'] = 'The University of Reading'\n",
    "data2.loc[data2['Institution Name'].str.contains('Surrey'), 'Institution Name'] = 'The University of Surrey'\n"
   ]
  },
  {
   "cell_type": "code",
   "execution_count": null,
   "metadata": {},
   "outputs": [],
   "source": [
    "data1.rename(columns={'funder':'Council'}, inplace=True)"
   ]
  },
  {
   "cell_type": "code",
   "execution_count": null,
   "metadata": {},
   "outputs": [],
   "source": [
    "data1 = data1.rename(columns={'funded_amount':'Funded Amount', 'application_reference_source':'Number'})\n"
   ]
  },
  {
   "cell_type": "code",
   "execution_count": null,
   "metadata": {},
   "outputs": [],
   "source": [
    "\n",
    "data2.rename(columns={'active_host_org':'Studentships'}, inplace=True)\n",
    "data2['Active'] = 'Active'"
   ]
  },
  {
   "cell_type": "code",
   "execution_count": null,
   "metadata": {},
   "outputs": [],
   "source": [
    "# Select Institutions\n",
    "data2 = pd.merge(data2, unis, on='Institution Name')\n"
   ]
  },
  {
   "cell_type": "code",
   "execution_count": null,
   "metadata": {},
   "outputs": [],
   "source": [
    "data_merge = pd.merge(data1, data2, on=['Active', 'Council', 'Institution Name'], how='outer', indicator=True)"
   ]
  },
  {
   "cell_type": "code",
   "execution_count": null,
   "metadata": {},
   "outputs": [],
   "source": [
    "data_merge[data_merge['_merge'] == 'left_only']\n",
    "\n",
    "data_merge[data_merge['_merge'] == 'right_only'].loc[data_merge['Institution Name'].str.contains('Stirling')]\n"
   ]
  },
  {
   "cell_type": "code",
   "execution_count": null,
   "metadata": {},
   "outputs": [],
   "source": [
    "data_merge.dtypes\n",
    "data_merge.drop(columns='_merge', inplace=True)\n",
    "data_merge.fillna(0, inplace=True)"
   ]
  },
  {
   "cell_type": "code",
   "execution_count": null,
   "metadata": {},
   "outputs": [],
   "source": [
    "data_out = data_merge.groupby(['Council', 'Active'], as_index=False).mean(numeric_only=True)\n"
   ]
  },
  {
   "cell_type": "code",
   "execution_count": null,
   "metadata": {},
   "outputs": [],
   "source": [
    "data_sort = data_out.sort_values(by=['Council', 'Active'])\n",
    "\n",
    "data = pd.concat([data_sort[~data_sort['Council'].isin(['All', 'Other'])],\n",
    "           data_sort[data_sort['Council'] == 'Other'],\n",
    "           data_sort[data_sort['Council'] == 'All']])\n"
   ]
  },
  {
   "cell_type": "code",
   "execution_count": null,
   "metadata": {},
   "outputs": [],
   "source": [
    "data.to_clipboard(index=False)"
   ]
  },
  {
   "cell_type": "code",
   "execution_count": null,
   "metadata": {},
   "outputs": [],
   "source": [
    "data_merge.loc[data_merge['Council'] == 'AHRC'].sum(numeric_only=True)"
   ]
  },
  {
   "cell_type": "code",
   "execution_count": null,
   "metadata": {},
   "outputs": [],
   "source": [
    "data_merge.loc[data_merge['Council'] == 'AHRC']"
   ]
  },
  {
   "cell_type": "code",
   "execution_count": null,
   "metadata": {},
   "outputs": [],
   "source": [
    "198/11"
   ]
  },
  {
   "cell_type": "code",
   "execution_count": null,
   "metadata": {},
   "outputs": [],
   "source": [
    "data"
   ]
  },
  {
   "cell_type": "code",
   "execution_count": null,
   "metadata": {},
   "outputs": [],
   "source": []
  }
 ],
 "metadata": {
  "kernelspec": {
   "display_name": "base",
   "language": "python",
   "name": "python3"
  },
  "language_info": {
   "codemirror_mode": {
    "name": "ipython",
    "version": 3
   },
   "file_extension": ".py",
   "mimetype": "text/x-python",
   "name": "python",
   "nbconvert_exporter": "python",
   "pygments_lexer": "ipython3",
   "version": "3.12.7"
  }
 },
 "nbformat": 4,
 "nbformat_minor": 2
}
