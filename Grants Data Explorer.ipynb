{
 "cells": [
  {
   "cell_type": "code",
   "execution_count": null,
   "metadata": {},
   "outputs": [],
   "source": [
    "print(\"Hello World\")"
   ]
  },
  {
   "cell_type": "code",
   "execution_count": null,
   "metadata": {},
   "outputs": [],
   "source": [
    "import pandas as pd\n",
    "import pyodbc"
   ]
  },
  {
   "cell_type": "code",
   "execution_count": null,
   "metadata": {},
   "outputs": [],
   "source": [
    "# Connect to DataBank\n",
    "connection_string = (\n",
    "    \"DSN=DataBank;\"\n",
    "    \"Trusted_Connection=yes;\"\n",
    ")\n",
    "\n",
    "con = pyodbc.connect(connection_string)"
   ]
  },
  {
   "cell_type": "code",
   "execution_count": null,
   "metadata": {},
   "outputs": [],
   "source": [
    "# Write sql query\n",
    "qry = \"SELECT * FROM ukri_ssd_snapshot.2024_10_04_ssd_award;\"\n",
    "\n",
    "# Read sql query\n",
    "df= pd.read_sql(qry, con)"
   ]
  },
  {
   "cell_type": "code",
   "execution_count": null,
   "metadata": {},
   "outputs": [],
   "source": [
    "df['award_reference'].isna().sum()"
   ]
  },
  {
   "cell_type": "code",
   "execution_count": null,
   "metadata": {},
   "outputs": [],
   "source": [
    "df['award_reference'] = df['award_reference'].replace('Unknown', None)\n"
   ]
  },
  {
   "cell_type": "code",
   "execution_count": null,
   "metadata": {},
   "outputs": [],
   "source": [
    "df[df['award_reference'].isna()]\n",
    "\n",
    "print(df['award_reference'].isna().sum()/len(df)*100)\n",
    "\n",
    "# Only represents 0.13% of awards\n",
    "\n",
    "df[df['award_reference'].isna()]['funded_amount'].sum()/df['funded_amount'].sum()*100\n",
    "\n",
    "# or 0.15% of total funded amount so we can neglect"
   ]
  },
  {
   "cell_type": "code",
   "execution_count": null,
   "metadata": {},
   "outputs": [],
   "source": [
    "df_dropna = df[~df['award_reference'].isna()]"
   ]
  },
  {
   "cell_type": "code",
   "execution_count": null,
   "metadata": {},
   "outputs": [],
   "source": [
    "# award_reference is not Null and is duplicated\n",
    "df_dropna[df_dropna['award_reference'].duplicated(keep=False)].sort_values(by='award_reference')['funded_amount'].sum()/df['funded_amount'].sum()*100"
   ]
  },
  {
   "cell_type": "code",
   "execution_count": null,
   "metadata": {},
   "outputs": [],
   "source": [
    "df_dropna[df_dropna['award_reference'].duplicated(keep=False)].sort_values(by='award_reference').to_clipboard(index=False)"
   ]
  },
  {
   "cell_type": "code",
   "execution_count": null,
   "metadata": {},
   "outputs": [],
   "source": [
    "# Those duplicated represent 0.32% of total funded amount so we neglect\n",
    "\n",
    "df_dropna.drop_duplicates(subset='award_reference', keep=False, inplace=True)"
   ]
  },
  {
   "cell_type": "code",
   "execution_count": null,
   "metadata": {},
   "outputs": [],
   "source": [
    "df_dropna[df_dropna['start_date'].isna() & df_dropna['end_date'].isna()]['funded_amount'].sum() / df['funded_amount'].sum()*100"
   ]
  },
  {
   "cell_type": "code",
   "execution_count": null,
   "metadata": {},
   "outputs": [],
   "source": [
    "# Awards where there are no start or end date (so we cannot tell if they are active or not) represent 1.35% of the total funded value"
   ]
  },
  {
   "cell_type": "code",
   "execution_count": null,
   "metadata": {},
   "outputs": [],
   "source": [
    "df_dropna = df_dropna[~(df_dropna['start_date'].isna() & df_dropna['end_date'].isna())]\n"
   ]
  },
  {
   "cell_type": "code",
   "execution_count": null,
   "metadata": {},
   "outputs": [],
   "source": [
    "df_dropna[df_dropna['start_date'].isna()]"
   ]
  },
  {
   "cell_type": "code",
   "execution_count": null,
   "metadata": {},
   "outputs": [],
   "source": [
    "df_dropna[df_dropna['end_date'].isna()]['funded_amount'].sum() # Those with end date is NaN are 0 funded amount so can neglect"
   ]
  },
  {
   "cell_type": "code",
   "execution_count": null,
   "metadata": {},
   "outputs": [],
   "source": [
    "df_dropna = df_dropna[~df_dropna['end_date'].isna()]"
   ]
  },
  {
   "cell_type": "code",
   "execution_count": null,
   "metadata": {},
   "outputs": [],
   "source": [
    "df_dropna[df_dropna['start_date'] > df_dropna['end_date']]['funded_amount'].sum() / df['funded_amount'].sum()*100 # negligable"
   ]
  },
  {
   "cell_type": "code",
   "execution_count": null,
   "metadata": {},
   "outputs": [],
   "source": [
    "df_dropna = df_dropna[df_dropna['start_date'] < df_dropna['end_date']]\n"
   ]
  },
  {
   "cell_type": "code",
   "execution_count": null,
   "metadata": {},
   "outputs": [],
   "source": [
    "df_dropna['funded_amount'].sum() / df['funded_amount'].sum()*100"
   ]
  },
  {
   "cell_type": "code",
   "execution_count": null,
   "metadata": {},
   "outputs": [],
   "source": []
  },
  {
   "cell_type": "code",
   "execution_count": null,
   "metadata": {},
   "outputs": [],
   "source": [
    "df_application = pd.read_sql(\"SELECT * FROM ukri_ssd_snapshot.2024_10_04_ssd_application;\", con)"
   ]
  },
  {
   "cell_type": "code",
   "execution_count": null,
   "metadata": {},
   "outputs": [],
   "source": [
    "df_application['application_category'].unique()\n",
    "df_application.columns\n",
    "\n",
    "df_application['opportunity_name'].unique()"
   ]
  },
  {
   "cell_type": "code",
   "execution_count": null,
   "metadata": {},
   "outputs": [],
   "source": [
    "df_application[['opportunity_id', 'opportunity_name']].drop_duplicates()"
   ]
  },
  {
   "cell_type": "code",
   "execution_count": null,
   "metadata": {},
   "outputs": [],
   "source": [
    "\n",
    "data_application = df_application[['application_reference', 'application_source', 'application_title', 'decision_owner', \n",
    "                                   'application_category', 'lead_organisation_id', 'organisation_source']]"
   ]
  },
  {
   "cell_type": "code",
   "execution_count": null,
   "metadata": {},
   "outputs": [],
   "source": [
    "print(data_application[['application_reference', 'application_source']].duplicated().sum())\n",
    "\n",
    "print(df_dropna[['application_reference', 'application_source']].duplicated().sum())\n",
    "# application_reference and application_source are duplicated"
   ]
  },
  {
   "cell_type": "code",
   "execution_count": null,
   "metadata": {},
   "outputs": [],
   "source": [
    "df_application['award_reference'] = df_application['award_reference'].replace('Unknown', None) # replace Unknown with NaN"
   ]
  },
  {
   "cell_type": "code",
   "execution_count": null,
   "metadata": {},
   "outputs": [],
   "source": [
    "\n",
    "num = df_dropna[df_dropna[['application_reference', 'application_source']].duplicated(keep=False)].sort_values(by='application_reference')['funded_amount'].sum()\n",
    "\n",
    "num / df['funded_amount'].sum()*100 # negligable"
   ]
  },
  {
   "cell_type": "code",
   "execution_count": null,
   "metadata": {},
   "outputs": [],
   "source": [
    "df_dropna.drop_duplicates(subset=['application_reference', 'application_source'], keep=False, inplace=True)"
   ]
  },
  {
   "cell_type": "code",
   "execution_count": null,
   "metadata": {},
   "outputs": [],
   "source": [
    "data_merge = pd.merge(df_dropna, data_application.drop_duplicates(subset=['application_reference', 'application_source'], keep=False), \n",
    "                      on=['application_reference', 'application_source'], how='left', indicator=True)"
   ]
  },
  {
   "cell_type": "code",
   "execution_count": null,
   "metadata": {},
   "outputs": [],
   "source": [
    "data_merge[data_merge['_merge'] == 'left_only']['funded_amount'].sum() / df['funded_amount'].sum()*100 # negligable"
   ]
  },
  {
   "cell_type": "code",
   "execution_count": null,
   "metadata": {},
   "outputs": [],
   "source": [
    "print(len(data_merge))\n",
    "print(len(df_dropna))"
   ]
  },
  {
   "cell_type": "code",
   "execution_count": null,
   "metadata": {},
   "outputs": [],
   "source": [
    "def list_financial_years(start_date, end_date):\n",
    "    # Convert the input dates to pandas datetime\n",
    "    start_date = pd.to_datetime(start_date, dayfirst=True)\n",
    "    end_date = pd.to_datetime(end_date, dayfirst=True)\n",
    "    \n",
    "    # Generate a range of dates between start_date and end_date\n",
    "    date_range = pd.date_range(start=start_date, end=end_date, freq='D')\n",
    "    \n",
    "    # Extract the financial years from the date range\n",
    "    financial_years = date_range.to_series().apply(lambda x: x.year if x.month < 4 else x.year + 1).unique()\n",
    "    \n",
    "    return financial_years\n",
    "\n",
    "# Example usage\n",
    "start_date = '01/02/2024'\n",
    "end_date = '02/07/2024'\n",
    "\n",
    "financial_years = list_financial_years(start_date, end_date)\n",
    "print(\"Financial years active between the dates:\", financial_years) # where 2024 means FY 23/24 and 2025 means financial year 24/25"
   ]
  },
  {
   "cell_type": "code",
   "execution_count": null,
   "metadata": {},
   "outputs": [],
   "source": [
    "def list_years(row):\n",
    "    return list(range(row['start_year'], row['end_year'] + 1))"
   ]
  },
  {
   "cell_type": "code",
   "execution_count": null,
   "metadata": {},
   "outputs": [],
   "source": [
    "data_merge['start_year'] = data_merge['start_date'].dt.to_period('Q-MAR').dt.qyear\n",
    "data_merge['end_year'] = data_merge['end_date'].dt.to_period('Q-MAR').dt.qyear\n",
    "\n",
    "# where 2024-08-01 is FY 2025 for example\n",
    "# and 2026-01-31 is FY 2026"
   ]
  },
  {
   "cell_type": "code",
   "execution_count": null,
   "metadata": {},
   "outputs": [],
   "source": [
    "data_merge['years_active'] = data_merge.apply(list_years, axis=1)\n"
   ]
  },
  {
   "cell_type": "code",
   "execution_count": null,
   "metadata": {},
   "outputs": [],
   "source": [
    "data_merge['funder'].unique()"
   ]
  },
  {
   "cell_type": "code",
   "execution_count": null,
   "metadata": {},
   "outputs": [],
   "source": [
    "data_merge['application_category'].unique()"
   ]
  },
  {
   "cell_type": "code",
   "execution_count": null,
   "metadata": {},
   "outputs": [],
   "source": []
  }
 ],
 "metadata": {
  "kernelspec": {
   "display_name": "base",
   "language": "python",
   "name": "python3"
  },
  "language_info": {
   "codemirror_mode": {
    "name": "ipython",
    "version": 3
   },
   "file_extension": ".py",
   "mimetype": "text/x-python",
   "name": "python",
   "nbconvert_exporter": "python",
   "pygments_lexer": "ipython3",
   "version": "3.12.7"
  }
 },
 "nbformat": 4,
 "nbformat_minor": 2
}
