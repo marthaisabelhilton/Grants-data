{
 "cells": [
  {
   "cell_type": "code",
   "execution_count": 1,
   "metadata": {},
   "outputs": [
    {
     "name": "stdout",
     "output_type": "stream",
     "text": [
      "Hello World\n"
     ]
    }
   ],
   "source": [
    "print(\"Hello World\")"
   ]
  },
  {
   "cell_type": "code",
   "execution_count": 2,
   "metadata": {},
   "outputs": [],
   "source": [
    "import pandas as pd\n",
    "import pyodbc"
   ]
  },
  {
   "cell_type": "code",
   "execution_count": 3,
   "metadata": {},
   "outputs": [],
   "source": [
    "# Connect to DataBank\n",
    "connection_string = (\n",
    "    \"DSN=DataBank;\"\n",
    "    \"Trusted_Connection=yes;\"\n",
    ")\n",
    "\n",
    "con = pyodbc.connect(connection_string)"
   ]
  },
  {
   "cell_type": "code",
   "execution_count": 4,
   "metadata": {},
   "outputs": [
    {
     "name": "stderr",
     "output_type": "stream",
     "text": [
      "C:\\Users\\MHil02\\AppData\\Local\\Temp\\ipykernel_12120\\1863516591.py:5: UserWarning: pandas only supports SQLAlchemy connectable (engine/connection) or database string URI or sqlite3 DBAPI2 connection. Other DBAPI2 objects are not tested. Please consider using SQLAlchemy.\n",
      "  df= pd.read_sql(qry, con)\n"
     ]
    }
   ],
   "source": [
    "# Write sql query\n",
    "qry = \"SELECT * FROM ukri_ssd_snapshot.2025_01_09_ssd_award;\"\n",
    "\n",
    "# Read sql query\n",
    "df= pd.read_sql(qry, con)"
   ]
  },
  {
   "cell_type": "code",
   "execution_count": 5,
   "metadata": {},
   "outputs": [
    {
     "data": {
      "text/plain": [
       "440"
      ]
     },
     "execution_count": 5,
     "metadata": {},
     "output_type": "execute_result"
    }
   ],
   "source": [
    "df['award_reference'].isna().sum()"
   ]
  },
  {
   "cell_type": "code",
   "execution_count": 6,
   "metadata": {},
   "outputs": [],
   "source": [
    "df['award_reference'] = df['award_reference'].replace('Unknown', None)"
   ]
  },
  {
   "cell_type": "code",
   "execution_count": 7,
   "metadata": {},
   "outputs": [
    {
     "name": "stdout",
     "output_type": "stream",
     "text": [
      "0.20971854817568694\n"
     ]
    },
    {
     "data": {
      "text/plain": [
       "0.0"
      ]
     },
     "execution_count": 7,
     "metadata": {},
     "output_type": "execute_result"
    }
   ],
   "source": [
    "df[df['award_reference'].isna()]\n",
    "\n",
    "print(df['award_reference'].isna().sum()/len(df)*100)\n",
    "\n",
    "# Only represents 0.21% of awards\n",
    "\n",
    "df[df['award_reference'].isna()]['funded_amount'].sum()/df['funded_amount'].sum()*100\n",
    "\n",
    "# or 0 of total funded amount so we can neglect"
   ]
  },
  {
   "cell_type": "code",
   "execution_count": 8,
   "metadata": {},
   "outputs": [],
   "source": [
    "df_dropna = df[~df['award_reference'].isna()]"
   ]
  },
  {
   "cell_type": "code",
   "execution_count": 9,
   "metadata": {},
   "outputs": [
    {
     "data": {
      "text/plain": [
       "0.46772907392315577"
      ]
     },
     "execution_count": 9,
     "metadata": {},
     "output_type": "execute_result"
    }
   ],
   "source": [
    "# award_reference is not Null and is duplicated\n",
    "df_dropna[df_dropna['award_reference'].duplicated(keep=False)].sort_values(by='award_reference')['funded_amount'].sum()/df['funded_amount'].sum()*100"
   ]
  },
  {
   "cell_type": "code",
   "execution_count": 10,
   "metadata": {},
   "outputs": [],
   "source": [
    "df_dropna[df_dropna['award_reference'].duplicated(keep=False)].sort_values(by='award_reference').to_clipboard(index=False)"
   ]
  },
  {
   "cell_type": "code",
   "execution_count": 11,
   "metadata": {},
   "outputs": [
    {
     "name": "stderr",
     "output_type": "stream",
     "text": [
      "C:\\Users\\MHil02\\AppData\\Local\\Temp\\ipykernel_12120\\3630405099.py:3: SettingWithCopyWarning: \n",
      "A value is trying to be set on a copy of a slice from a DataFrame\n",
      "\n",
      "See the caveats in the documentation: https://pandas.pydata.org/pandas-docs/stable/user_guide/indexing.html#returning-a-view-versus-a-copy\n",
      "  df_dropna.drop_duplicates(subset='award_reference', keep=False, inplace=True)\n"
     ]
    }
   ],
   "source": [
    "# Those duplicated represent 0.47% of total funded amount so we neglect\n",
    "\n",
    "df_dropna.drop_duplicates(subset='award_reference', keep=False, inplace=True)"
   ]
  },
  {
   "cell_type": "code",
   "execution_count": 12,
   "metadata": {},
   "outputs": [
    {
     "data": {
      "text/plain": [
       "1.2092344278765894"
      ]
     },
     "execution_count": 12,
     "metadata": {},
     "output_type": "execute_result"
    }
   ],
   "source": [
    "df_dropna[df_dropna['start_date'].isna() & df_dropna['end_date'].isna()]['funded_amount'].sum() / df['funded_amount'].sum()*100"
   ]
  },
  {
   "cell_type": "code",
   "execution_count": 13,
   "metadata": {},
   "outputs": [],
   "source": [
    "# Awards where there are no start or end date (so we cannot tell if they are active or not) represent 1.21% of the total funded value"
   ]
  },
  {
   "cell_type": "code",
   "execution_count": 14,
   "metadata": {},
   "outputs": [],
   "source": [
    "df_dropna = df_dropna[~(df_dropna['start_date'].isna() & df_dropna['end_date'].isna())]\n"
   ]
  },
  {
   "cell_type": "code",
   "execution_count": 15,
   "metadata": {},
   "outputs": [
    {
     "data": {
      "text/html": [
       "<div>\n",
       "<style scoped>\n",
       "    .dataframe tbody tr th:only-of-type {\n",
       "        vertical-align: middle;\n",
       "    }\n",
       "\n",
       "    .dataframe tbody tr th {\n",
       "        vertical-align: top;\n",
       "    }\n",
       "\n",
       "    .dataframe thead th {\n",
       "        text-align: right;\n",
       "    }\n",
       "</style>\n",
       "<table border=\"1\" class=\"dataframe\">\n",
       "  <thead>\n",
       "    <tr style=\"text-align: right;\">\n",
       "      <th></th>\n",
       "      <th>application_reference</th>\n",
       "      <th>award_reference</th>\n",
       "      <th>funder</th>\n",
       "      <th>administrator</th>\n",
       "      <th>application_source</th>\n",
       "      <th>announced_start_date</th>\n",
       "      <th>start_date</th>\n",
       "      <th>end_date</th>\n",
       "      <th>funded_amount</th>\n",
       "      <th>profiled_amount</th>\n",
       "      <th>project_cost</th>\n",
       "      <th>termination_date</th>\n",
       "    </tr>\n",
       "  </thead>\n",
       "  <tbody>\n",
       "  </tbody>\n",
       "</table>\n",
       "</div>"
      ],
      "text/plain": [
       "Empty DataFrame\n",
       "Columns: [application_reference, award_reference, funder, administrator, application_source, announced_start_date, start_date, end_date, funded_amount, profiled_amount, project_cost, termination_date]\n",
       "Index: []"
      ]
     },
     "execution_count": 15,
     "metadata": {},
     "output_type": "execute_result"
    }
   ],
   "source": [
    "df_dropna[df_dropna['start_date'].isna()]"
   ]
  },
  {
   "cell_type": "code",
   "execution_count": 16,
   "metadata": {},
   "outputs": [
    {
     "data": {
      "text/plain": [
       "0.0"
      ]
     },
     "execution_count": 16,
     "metadata": {},
     "output_type": "execute_result"
    }
   ],
   "source": [
    "df_dropna[df_dropna['end_date'].isna()]['funded_amount'].sum() # Those with end date is NaN are 0 funded amount so can neglect"
   ]
  },
  {
   "cell_type": "code",
   "execution_count": 17,
   "metadata": {},
   "outputs": [],
   "source": [
    "df_dropna = df_dropna[~df_dropna['end_date'].isna()]"
   ]
  },
  {
   "cell_type": "code",
   "execution_count": 18,
   "metadata": {},
   "outputs": [
    {
     "data": {
      "text/plain": [
       "0.0010179126235217288"
      ]
     },
     "execution_count": 18,
     "metadata": {},
     "output_type": "execute_result"
    }
   ],
   "source": [
    "df_dropna[df_dropna['start_date'] > df_dropna['end_date']]['funded_amount'].sum() / df['funded_amount'].sum()*100 # negligable"
   ]
  },
  {
   "cell_type": "code",
   "execution_count": 19,
   "metadata": {},
   "outputs": [],
   "source": [
    "df_dropna = df_dropna[df_dropna['start_date'] < df_dropna['end_date']]\n"
   ]
  },
  {
   "cell_type": "code",
   "execution_count": 20,
   "metadata": {},
   "outputs": [
    {
     "data": {
      "text/plain": [
       "98.30318678376592"
      ]
     },
     "execution_count": 20,
     "metadata": {},
     "output_type": "execute_result"
    }
   ],
   "source": [
    "df_dropna['funded_amount'].sum() / df['funded_amount'].sum()*100"
   ]
  },
  {
   "cell_type": "code",
   "execution_count": 21,
   "metadata": {},
   "outputs": [
    {
     "name": "stdout",
     "output_type": "stream",
     "text": [
      "Today's date: 2025-02-28\n"
     ]
    }
   ],
   "source": [
    "# So in total we can look at 98.2% of the total funded value, 1.8% is excluded\n",
    "\n",
    "from datetime import date\n",
    "\n",
    "today = date.today()\n",
    "print(\"Today's date:\", today)\n",
    "\n",
    "# Active grants - start_date <= today and end_date >= today\n",
    "\n",
    "data_ = df_dropna.copy()\n",
    "\n",
    "data_['Active'] = 'Active'\n",
    "\n",
    "data_.loc[data_.start_date > pd.to_datetime(today), 'Active'] = 'Future'\n",
    "\n",
    "data_.loc[data_.end_date < pd.to_datetime(today), 'Active'] = 'Past'"
   ]
  },
  {
   "cell_type": "code",
   "execution_count": 22,
   "metadata": {},
   "outputs": [],
   "source": [
    "data_.drop(columns=['announced_start_date', 'profiled_amount', 'project_cost', 'termination_date'], inplace=True)"
   ]
  },
  {
   "cell_type": "code",
   "execution_count": 23,
   "metadata": {},
   "outputs": [
    {
     "name": "stdout",
     "output_type": "stream",
     "text": [
      "0.9821643907437859\n"
     ]
    }
   ],
   "source": [
    "data_ # this is awards data\n",
    "\n",
    "print(len(data_['funded_amount'])/len(df['funded_amount'])) # 98% of funded amount"
   ]
  },
  {
   "cell_type": "code",
   "execution_count": 24,
   "metadata": {},
   "outputs": [
    {
     "name": "stderr",
     "output_type": "stream",
     "text": [
      "C:\\Users\\MHil02\\AppData\\Local\\Temp\\ipykernel_12120\\108949258.py:1: UserWarning: pandas only supports SQLAlchemy connectable (engine/connection) or database string URI or sqlite3 DBAPI2 connection. Other DBAPI2 objects are not tested. Please consider using SQLAlchemy.\n",
      "  df_application = pd.read_sql(\"SELECT * FROM ukri_ssd_snapshot.2025_01_09_ssd_application;\", con)\n"
     ]
    }
   ],
   "source": [
    "df_application = pd.read_sql(\"SELECT * FROM ukri_ssd_snapshot.2025_01_09_ssd_application;\", con)"
   ]
  },
  {
   "cell_type": "code",
   "execution_count": 25,
   "metadata": {},
   "outputs": [
    {
     "name": "stderr",
     "output_type": "stream",
     "text": [
      "C:\\Users\\MHil02\\AppData\\Local\\Temp\\ipykernel_12120\\1554799385.py:1: UserWarning: pandas only supports SQLAlchemy connectable (engine/connection) or database string URI or sqlite3 DBAPI2 connection. Other DBAPI2 objects are not tested. Please consider using SQLAlchemy.\n",
      "  dim_opportunity = pd.read_sql(\"SELECT * FROM databank.dim_opportunity;\", con)\n"
     ]
    }
   ],
   "source": [
    "dim_opportunity = pd.read_sql(\"SELECT * FROM databank.dim_opportunity;\", con)"
   ]
  },
  {
   "cell_type": "code",
   "execution_count": 26,
   "metadata": {},
   "outputs": [
    {
     "data": {
      "text/plain": [
       "1"
      ]
     },
     "execution_count": 26,
     "metadata": {},
     "output_type": "execute_result"
    }
   ],
   "source": [
    "dim_opportunity[['OpportunityName', 'OpportunityNumber', 'OpportunityOriginSource']].duplicated().sum()"
   ]
  },
  {
   "cell_type": "code",
   "execution_count": 27,
   "metadata": {},
   "outputs": [
    {
     "data": {
      "text/html": [
       "<div>\n",
       "<style scoped>\n",
       "    .dataframe tbody tr th:only-of-type {\n",
       "        vertical-align: middle;\n",
       "    }\n",
       "\n",
       "    .dataframe tbody tr th {\n",
       "        vertical-align: top;\n",
       "    }\n",
       "\n",
       "    .dataframe thead th {\n",
       "        text-align: right;\n",
       "    }\n",
       "</style>\n",
       "<table border=\"1\" class=\"dataframe\">\n",
       "  <thead>\n",
       "    <tr style=\"text-align: right;\">\n",
       "      <th></th>\n",
       "      <th>OpportunitySKey</th>\n",
       "      <th>OpportunityName</th>\n",
       "      <th>OpportunityNumber</th>\n",
       "      <th>OpportunityStartDate</th>\n",
       "      <th>OpportunityEndDate</th>\n",
       "      <th>OpportunityCloseDate</th>\n",
       "      <th>OpportunityMode_AHRC</th>\n",
       "      <th>OpportunityOriginSource</th>\n",
       "      <th>OpportunityComments</th>\n",
       "      <th>ApplicantLedOrTargeted</th>\n",
       "      <th>IsResponsive</th>\n",
       "    </tr>\n",
       "  </thead>\n",
       "  <tbody>\n",
       "    <tr>\n",
       "      <th>10091</th>\n",
       "      <td>3636717</td>\n",
       "      <td>Accelerating Innovation in Rail Round 5 (12 Mo...</td>\n",
       "      <td>61</td>\n",
       "      <td>2017-09-18 00:00:00</td>\n",
       "      <td>None</td>\n",
       "      <td>2017-11-15 12:00:00</td>\n",
       "      <td>None</td>\n",
       "      <td>IUK</td>\n",
       "      <td>None</td>\n",
       "      <td>Unassigned</td>\n",
       "      <td>Unassigned</td>\n",
       "    </tr>\n",
       "    <tr>\n",
       "      <th>10264</th>\n",
       "      <td>3636890</td>\n",
       "      <td>Accelerating Innovation in Rail Round 5 (12 Mo...</td>\n",
       "      <td>61</td>\n",
       "      <td>2017-09-18 00:00:00</td>\n",
       "      <td>None</td>\n",
       "      <td>2017-11-15 12:00:00</td>\n",
       "      <td>None</td>\n",
       "      <td>IUK</td>\n",
       "      <td>None</td>\n",
       "      <td>Unassigned</td>\n",
       "      <td>Unassigned</td>\n",
       "    </tr>\n",
       "  </tbody>\n",
       "</table>\n",
       "</div>"
      ],
      "text/plain": [
       "       OpportunitySKey                                    OpportunityName  \\\n",
       "10091          3636717  Accelerating Innovation in Rail Round 5 (12 Mo...   \n",
       "10264          3636890  Accelerating Innovation in Rail Round 5 (12 Mo...   \n",
       "\n",
       "      OpportunityNumber OpportunityStartDate OpportunityEndDate  \\\n",
       "10091                61  2017-09-18 00:00:00               None   \n",
       "10264                61  2017-09-18 00:00:00               None   \n",
       "\n",
       "      OpportunityCloseDate OpportunityMode_AHRC OpportunityOriginSource  \\\n",
       "10091  2017-11-15 12:00:00                 None                     IUK   \n",
       "10264  2017-11-15 12:00:00                 None                     IUK   \n",
       "\n",
       "      OpportunityComments ApplicantLedOrTargeted IsResponsive  \n",
       "10091                None             Unassigned   Unassigned  \n",
       "10264                None             Unassigned   Unassigned  "
      ]
     },
     "execution_count": 27,
     "metadata": {},
     "output_type": "execute_result"
    }
   ],
   "source": [
    "dim_opportunity[dim_opportunity[['OpportunityName', 'OpportunityNumber', 'OpportunityOriginSource']].duplicated(keep=False)]"
   ]
  },
  {
   "cell_type": "code",
   "execution_count": 28,
   "metadata": {},
   "outputs": [],
   "source": [
    "dim_opportunity.drop_duplicates(subset=['OpportunityName', 'OpportunityNumber', 'OpportunityOriginSource'], inplace=True)"
   ]
  },
  {
   "cell_type": "code",
   "execution_count": 29,
   "metadata": {},
   "outputs": [],
   "source": [
    "data_merge = pd.merge(df_application, dim_opportunity, left_on=['opportunity_name', 'opportunity_id', 'application_source'],\n",
    "                      right_on=['OpportunityName', 'OpportunityNumber', 'OpportunityOriginSource'], how='left', indicator=True)"
   ]
  },
  {
   "cell_type": "code",
   "execution_count": 30,
   "metadata": {},
   "outputs": [],
   "source": [
    "data_merge.drop(columns=['_merge', 'application_status', 'derived_status', 'decision_date', 'lead_organisation_department_id', 'rejection_reason', \n",
    "                        'date_last_received', 'OpportunityStartDate', 'OpportunityEndDate', 'OpportunityCloseDate', 'international_programme', 'OpportunitySKey',\n",
    "                        'OpportunityName', 'parent_award', 'parent_award_reference', 'redact_abstract_on_gtr', 'application_stage', 'application_stage_status',\n",
    "                        'joint_proposal', 'OpportunityNumber', 'OpportunityOriginSource', 'publish_to_gtr'], inplace=True)"
   ]
  },
  {
   "cell_type": "code",
   "execution_count": 31,
   "metadata": {},
   "outputs": [
    {
     "name": "stdout",
     "output_type": "stream",
     "text": [
      "18\n"
     ]
    }
   ],
   "source": [
    "\n",
    "print(data_[['application_reference', 'application_source']].duplicated().sum())\n",
    "# application_reference and application_source are duplicated"
   ]
  },
  {
   "cell_type": "code",
   "execution_count": 32,
   "metadata": {},
   "outputs": [],
   "source": [
    "data_merge['award_reference'] = data_merge['award_reference'].replace('Unknown', None) # replace Unknown with NaN"
   ]
  },
  {
   "cell_type": "code",
   "execution_count": 33,
   "metadata": {},
   "outputs": [
    {
     "data": {
      "text/plain": [
       "0.025595324812522236"
      ]
     },
     "execution_count": 33,
     "metadata": {},
     "output_type": "execute_result"
    }
   ],
   "source": [
    "len(data_[data_[['application_reference', 'application_source']].duplicated(keep=False)].sort_values(by='application_reference'))\n",
    "\n",
    "num = data_[data_[['application_reference', 'application_source']].duplicated(keep=False)].sort_values(by='application_reference')['funded_amount'].sum()\n",
    "\n",
    "num / df['funded_amount'].sum()*100 # negligable"
   ]
  },
  {
   "cell_type": "code",
   "execution_count": 34,
   "metadata": {},
   "outputs": [],
   "source": [
    "data_.drop_duplicates(subset=['application_reference', 'application_source'], keep=False, inplace=True)"
   ]
  },
  {
   "cell_type": "code",
   "execution_count": 35,
   "metadata": {},
   "outputs": [],
   "source": [
    "data_ # awards data\n",
    "\n",
    "data_merge.drop(columns=['OpportunityComments', 'OpportunityMode_AHRC', 'scheme', 'full_economic_cost', 'application_title', 'decision_owner', 'administrator'],\n",
    "                inplace=True)"
   ]
  },
  {
   "cell_type": "code",
   "execution_count": 36,
   "metadata": {},
   "outputs": [
    {
     "data": {
      "text/html": [
       "<div>\n",
       "<style scoped>\n",
       "    .dataframe tbody tr th:only-of-type {\n",
       "        vertical-align: middle;\n",
       "    }\n",
       "\n",
       "    .dataframe tbody tr th {\n",
       "        vertical-align: top;\n",
       "    }\n",
       "\n",
       "    .dataframe thead th {\n",
       "        text-align: right;\n",
       "    }\n",
       "</style>\n",
       "<table border=\"1\" class=\"dataframe\">\n",
       "  <thead>\n",
       "    <tr style=\"text-align: right;\">\n",
       "      <th></th>\n",
       "      <th>application_reference</th>\n",
       "      <th>award_reference</th>\n",
       "      <th>funder</th>\n",
       "      <th>application_source</th>\n",
       "      <th>opportunity_id</th>\n",
       "      <th>opportunity_name</th>\n",
       "      <th>application_category</th>\n",
       "      <th>lead_organisation_id</th>\n",
       "      <th>amount_applied_for</th>\n",
       "      <th>organisation_source</th>\n",
       "      <th>ApplicantLedOrTargeted</th>\n",
       "      <th>IsResponsive</th>\n",
       "    </tr>\n",
       "  </thead>\n",
       "  <tbody>\n",
       "    <tr>\n",
       "      <th>0</th>\n",
       "      <td>1000</td>\n",
       "      <td>None</td>\n",
       "      <td>None</td>\n",
       "      <td>TFS</td>\n",
       "      <td>34</td>\n",
       "      <td>New Generation Thinkers 2022</td>\n",
       "      <td>Research and Innovation</td>\n",
       "      <td>2</td>\n",
       "      <td>NaN</td>\n",
       "      <td>TFS</td>\n",
       "      <td>Applicant-Led</td>\n",
       "      <td>Yes</td>\n",
       "    </tr>\n",
       "    <tr>\n",
       "      <th>1</th>\n",
       "      <td>10000</td>\n",
       "      <td>None</td>\n",
       "      <td>None</td>\n",
       "      <td>TFS</td>\n",
       "      <td>171</td>\n",
       "      <td>MRC Infections and immunity Sep 2023: responsi...</td>\n",
       "      <td>Research and Innovation</td>\n",
       "      <td>469</td>\n",
       "      <td>741068.0</td>\n",
       "      <td>TFS</td>\n",
       "      <td>Applicant-Led</td>\n",
       "      <td>Yes</td>\n",
       "    </tr>\n",
       "    <tr>\n",
       "      <th>2</th>\n",
       "      <td>10001</td>\n",
       "      <td>None</td>\n",
       "      <td>None</td>\n",
       "      <td>TFS</td>\n",
       "      <td>139</td>\n",
       "      <td>EPSRC open fellowship May 2023</td>\n",
       "      <td>Fellowship</td>\n",
       "      <td>34</td>\n",
       "      <td>1271665.6</td>\n",
       "      <td>TFS</td>\n",
       "      <td>Applicant-Led</td>\n",
       "      <td>Yes</td>\n",
       "    </tr>\n",
       "    <tr>\n",
       "      <th>3</th>\n",
       "      <td>10003</td>\n",
       "      <td>None</td>\n",
       "      <td>None</td>\n",
       "      <td>TFS</td>\n",
       "      <td>147</td>\n",
       "      <td>ESRC responsive mode: secondary data analysis ...</td>\n",
       "      <td>Research and Innovation</td>\n",
       "      <td>265</td>\n",
       "      <td>239954.4</td>\n",
       "      <td>TFS</td>\n",
       "      <td>Applicant-Led</td>\n",
       "      <td>Yes</td>\n",
       "    </tr>\n",
       "    <tr>\n",
       "      <th>4</th>\n",
       "      <td>1001</td>\n",
       "      <td>None</td>\n",
       "      <td>None</td>\n",
       "      <td>TFS</td>\n",
       "      <td>34</td>\n",
       "      <td>New Generation Thinkers 2022</td>\n",
       "      <td>Research and Innovation</td>\n",
       "      <td>17</td>\n",
       "      <td>NaN</td>\n",
       "      <td>TFS</td>\n",
       "      <td>Applicant-Led</td>\n",
       "      <td>Yes</td>\n",
       "    </tr>\n",
       "    <tr>\n",
       "      <th>...</th>\n",
       "      <td>...</td>\n",
       "      <td>...</td>\n",
       "      <td>...</td>\n",
       "      <td>...</td>\n",
       "      <td>...</td>\n",
       "      <td>...</td>\n",
       "      <td>...</td>\n",
       "      <td>...</td>\n",
       "      <td>...</td>\n",
       "      <td>...</td>\n",
       "      <td>...</td>\n",
       "      <td>...</td>\n",
       "    </tr>\n",
       "    <tr>\n",
       "      <th>582869</th>\n",
       "      <td>1214</td>\n",
       "      <td>CCF ST:London Social Venture Fund</td>\n",
       "      <td>RE</td>\n",
       "      <td>Offsystem</td>\n",
       "      <td>CCF ST</td>\n",
       "      <td>CCF RED</td>\n",
       "      <td>Research and Innovation Grant</td>\n",
       "      <td>10007775</td>\n",
       "      <td>1499500.0</td>\n",
       "      <td>Unknown</td>\n",
       "      <td>Unassigned</td>\n",
       "      <td>Unassigned</td>\n",
       "    </tr>\n",
       "    <tr>\n",
       "      <th>582870</th>\n",
       "      <td>1213</td>\n",
       "      <td>CCF ST:Innovation Catalysed &amp; Enabled (ICE) Le...</td>\n",
       "      <td>RE</td>\n",
       "      <td>Offsystem</td>\n",
       "      <td>CCF ST</td>\n",
       "      <td>CCF RED</td>\n",
       "      <td>Research and Innovation Grant</td>\n",
       "      <td>10007796</td>\n",
       "      <td>329292.0</td>\n",
       "      <td>Unknown</td>\n",
       "      <td>Unassigned</td>\n",
       "      <td>Unassigned</td>\n",
       "    </tr>\n",
       "    <tr>\n",
       "      <th>582871</th>\n",
       "      <td>1212</td>\n",
       "      <td>CCF ST:AI SuperConnector</td>\n",
       "      <td>RE</td>\n",
       "      <td>Offsystem</td>\n",
       "      <td>CCF ST</td>\n",
       "      <td>CCF RED</td>\n",
       "      <td>Research and Innovation Grant</td>\n",
       "      <td>10003270</td>\n",
       "      <td>1444479.0</td>\n",
       "      <td>Unknown</td>\n",
       "      <td>Unassigned</td>\n",
       "      <td>Unassigned</td>\n",
       "    </tr>\n",
       "    <tr>\n",
       "      <th>582872</th>\n",
       "      <td>1211</td>\n",
       "      <td>CCF ST:North West Cyber Security Connect for C...</td>\n",
       "      <td>RE</td>\n",
       "      <td>Offsystem</td>\n",
       "      <td>CCF ST</td>\n",
       "      <td>CCF RED</td>\n",
       "      <td>Research and Innovation Grant</td>\n",
       "      <td>10007768</td>\n",
       "      <td>1230917.0</td>\n",
       "      <td>Unknown</td>\n",
       "      <td>Unassigned</td>\n",
       "      <td>Unassigned</td>\n",
       "    </tr>\n",
       "    <tr>\n",
       "      <th>582873</th>\n",
       "      <td>1219</td>\n",
       "      <td>CCF ST:Inclusive Financial Technology Hub (INF...</td>\n",
       "      <td>RE</td>\n",
       "      <td>Offsystem</td>\n",
       "      <td>CCF ST</td>\n",
       "      <td>CCF RED</td>\n",
       "      <td>Research and Innovation Grant</td>\n",
       "      <td>10007154</td>\n",
       "      <td>1373671.0</td>\n",
       "      <td>Unknown</td>\n",
       "      <td>Unassigned</td>\n",
       "      <td>Unassigned</td>\n",
       "    </tr>\n",
       "  </tbody>\n",
       "</table>\n",
       "<p>582874 rows × 12 columns</p>\n",
       "</div>"
      ],
      "text/plain": [
       "       application_reference  \\\n",
       "0                       1000   \n",
       "1                      10000   \n",
       "2                      10001   \n",
       "3                      10003   \n",
       "4                       1001   \n",
       "...                      ...   \n",
       "582869                  1214   \n",
       "582870                  1213   \n",
       "582871                  1212   \n",
       "582872                  1211   \n",
       "582873                  1219   \n",
       "\n",
       "                                          award_reference funder  \\\n",
       "0                                                    None   None   \n",
       "1                                                    None   None   \n",
       "2                                                    None   None   \n",
       "3                                                    None   None   \n",
       "4                                                    None   None   \n",
       "...                                                   ...    ...   \n",
       "582869                  CCF ST:London Social Venture Fund     RE   \n",
       "582870  CCF ST:Innovation Catalysed & Enabled (ICE) Le...     RE   \n",
       "582871                           CCF ST:AI SuperConnector     RE   \n",
       "582872  CCF ST:North West Cyber Security Connect for C...     RE   \n",
       "582873  CCF ST:Inclusive Financial Technology Hub (INF...     RE   \n",
       "\n",
       "       application_source opportunity_id  \\\n",
       "0                     TFS             34   \n",
       "1                     TFS            171   \n",
       "2                     TFS            139   \n",
       "3                     TFS            147   \n",
       "4                     TFS             34   \n",
       "...                   ...            ...   \n",
       "582869          Offsystem         CCF ST   \n",
       "582870          Offsystem         CCF ST   \n",
       "582871          Offsystem         CCF ST   \n",
       "582872          Offsystem         CCF ST   \n",
       "582873          Offsystem         CCF ST   \n",
       "\n",
       "                                         opportunity_name  \\\n",
       "0                            New Generation Thinkers 2022   \n",
       "1       MRC Infections and immunity Sep 2023: responsi...   \n",
       "2                          EPSRC open fellowship May 2023   \n",
       "3       ESRC responsive mode: secondary data analysis ...   \n",
       "4                            New Generation Thinkers 2022   \n",
       "...                                                   ...   \n",
       "582869                                            CCF RED   \n",
       "582870                                            CCF RED   \n",
       "582871                                            CCF RED   \n",
       "582872                                            CCF RED   \n",
       "582873                                            CCF RED   \n",
       "\n",
       "                 application_category lead_organisation_id  \\\n",
       "0             Research and Innovation                    2   \n",
       "1             Research and Innovation                  469   \n",
       "2                          Fellowship                   34   \n",
       "3             Research and Innovation                  265   \n",
       "4             Research and Innovation                   17   \n",
       "...                               ...                  ...   \n",
       "582869  Research and Innovation Grant             10007775   \n",
       "582870  Research and Innovation Grant             10007796   \n",
       "582871  Research and Innovation Grant             10003270   \n",
       "582872  Research and Innovation Grant             10007768   \n",
       "582873  Research and Innovation Grant             10007154   \n",
       "\n",
       "        amount_applied_for organisation_source ApplicantLedOrTargeted  \\\n",
       "0                      NaN                 TFS          Applicant-Led   \n",
       "1                 741068.0                 TFS          Applicant-Led   \n",
       "2                1271665.6                 TFS          Applicant-Led   \n",
       "3                 239954.4                 TFS          Applicant-Led   \n",
       "4                      NaN                 TFS          Applicant-Led   \n",
       "...                    ...                 ...                    ...   \n",
       "582869           1499500.0             Unknown             Unassigned   \n",
       "582870            329292.0             Unknown             Unassigned   \n",
       "582871           1444479.0             Unknown             Unassigned   \n",
       "582872           1230917.0             Unknown             Unassigned   \n",
       "582873           1373671.0             Unknown             Unassigned   \n",
       "\n",
       "       IsResponsive  \n",
       "0               Yes  \n",
       "1               Yes  \n",
       "2               Yes  \n",
       "3               Yes  \n",
       "4               Yes  \n",
       "...             ...  \n",
       "582869   Unassigned  \n",
       "582870   Unassigned  \n",
       "582871   Unassigned  \n",
       "582872   Unassigned  \n",
       "582873   Unassigned  \n",
       "\n",
       "[582874 rows x 12 columns]"
      ]
     },
     "execution_count": 36,
     "metadata": {},
     "output_type": "execute_result"
    }
   ],
   "source": [
    "data_merge # applications data with opportunity"
   ]
  },
  {
   "cell_type": "code",
   "execution_count": 37,
   "metadata": {},
   "outputs": [],
   "source": [
    "data_w_opp = pd.merge(data_, data_merge.drop_duplicates(subset=['application_reference', 'application_source'], keep=False), \n",
    "                      on=['application_reference', 'application_source'], how='left', indicator=True)"
   ]
  },
  {
   "cell_type": "code",
   "execution_count": 38,
   "metadata": {},
   "outputs": [
    {
     "data": {
      "text/plain": [
       "0.0"
      ]
     },
     "execution_count": 38,
     "metadata": {},
     "output_type": "execute_result"
    }
   ],
   "source": [
    "data_w_opp[data_w_opp['_merge'] == 'left_only']['funded_amount'].sum() / df['funded_amount'].sum()*100 # negligable"
   ]
  },
  {
   "cell_type": "code",
   "execution_count": 39,
   "metadata": {},
   "outputs": [
    {
     "name": "stdout",
     "output_type": "stream",
     "text": [
      "206033\n",
      "206033\n"
     ]
    }
   ],
   "source": [
    "print(len(data_w_opp))\n",
    "print(len(data_))"
   ]
  },
  {
   "cell_type": "code",
   "execution_count": 40,
   "metadata": {},
   "outputs": [],
   "source": [
    "data_w_opp.drop(columns=['administrator', 'award_reference_y', 'funder_y', 'amount_applied_for'], inplace=True)"
   ]
  },
  {
   "cell_type": "code",
   "execution_count": 41,
   "metadata": {},
   "outputs": [
    {
     "data": {
      "text/plain": [
       "ApplicantLedOrTargeted\n",
       "Unassigned       87729\n",
       "Applicant-Led    40501\n",
       "Targeted         25052\n",
       "Name: count, dtype: int64"
      ]
     },
     "execution_count": 41,
     "metadata": {},
     "output_type": "execute_result"
    }
   ],
   "source": [
    "data_w_opp['ApplicantLedOrTargeted'].value_counts() # 43% of awards are assigned as Applicant Led or Targetted - we can't say what the others are"
   ]
  },
  {
   "cell_type": "code",
   "execution_count": 42,
   "metadata": {},
   "outputs": [
    {
     "data": {
      "text/plain": [
       "0.4258007212436843"
      ]
     },
     "execution_count": 42,
     "metadata": {},
     "output_type": "execute_result"
    }
   ],
   "source": [
    "87729/206033"
   ]
  },
  {
   "cell_type": "code",
   "execution_count": 43,
   "metadata": {},
   "outputs": [],
   "source": [
    "#data_grants = data_w_opp[(data_w_opp['start_date'].dt.year > 2015) & (data_w_opp['end_date'].dt.year < 2025)]\n",
    "# select grants with start date 2019 - 2024"
   ]
  },
  {
   "cell_type": "code",
   "execution_count": 44,
   "metadata": {},
   "outputs": [],
   "source": [
    "#data_grants['financial_year'] = data_grants['start_date'].dt.to_period('Q-MAR').dt.qyear"
   ]
  },
  {
   "cell_type": "code",
   "execution_count": 45,
   "metadata": {},
   "outputs": [
    {
     "name": "stderr",
     "output_type": "stream",
     "text": [
      "C:\\Users\\MHil02\\AppData\\Local\\Temp\\ipykernel_12120\\3013166775.py:1: UserWarning: pandas only supports SQLAlchemy connectable (engine/connection) or database string URI or sqlite3 DBAPI2 connection. Other DBAPI2 objects are not tested. Please consider using SQLAlchemy.\n",
      "  publications = pd.read_sql(\"SELECT * FROM ukri_ssd_snapshot.2025_01_09_ssd_outcome_publication;\", con)\n"
     ]
    }
   ],
   "source": [
    "publications = pd.read_sql(\"SELECT * FROM ukri_ssd_snapshot.2025_01_09_ssd_outcome_publication;\", con)"
   ]
  },
  {
   "cell_type": "code",
   "execution_count": 46,
   "metadata": {},
   "outputs": [],
   "source": [
    "publications.drop(columns=['isbn', 'issn_print', 'page_reference', 'publisher', 'chapter_number', 'conference', 'chapter_title',\n",
    "                           'edition', 'issue', 'volume'], inplace=True)"
   ]
  },
  {
   "cell_type": "code",
   "execution_count": 47,
   "metadata": {},
   "outputs": [
    {
     "name": "stdout",
     "output_type": "stream",
     "text": [
      "209952\n",
      "1643128\n"
     ]
    },
    {
     "data": {
      "text/plain": [
       "0.12777580322409454"
      ]
     },
     "execution_count": 47,
     "metadata": {},
     "output_type": "execute_result"
    }
   ],
   "source": [
    "print(len(publications[publications['award_reference'] == 'Unknown']))\n",
    "\n",
    "print(len(publications))\n",
    "\n",
    "209952/1643128"
   ]
  },
  {
   "cell_type": "code",
   "execution_count": 48,
   "metadata": {},
   "outputs": [],
   "source": [
    "data_w_opp.rename(columns={'award_reference_x':'award_reference'}, inplace=True)"
   ]
  },
  {
   "cell_type": "code",
   "execution_count": 49,
   "metadata": {},
   "outputs": [],
   "source": [
    "data_w_publications = pd.merge(\n",
    "    data_w_opp[data_w_opp['application_source'] == 'Siebel'], \n",
    "    publications[publications['award_reference'] != 'Unknown'],\n",
    "    on='award_reference'\n",
    ")"
   ]
  },
  {
   "cell_type": "code",
   "execution_count": 50,
   "metadata": {},
   "outputs": [
    {
     "name": "stdout",
     "output_type": "stream",
     "text": [
      "56929\n",
      "206033\n"
     ]
    },
    {
     "data": {
      "text/plain": [
       "0.2763101056626851"
      ]
     },
     "execution_count": 50,
     "metadata": {},
     "output_type": "execute_result"
    }
   ],
   "source": [
    "print(len(data_w_publications[['award_reference', 'application_source']].drop_duplicates()))\n",
    "print(len(data_w_opp))\n",
    "\n",
    "56929/206033 # 28% of grants are linked to publications"
   ]
  },
  {
   "cell_type": "code",
   "execution_count": 51,
   "metadata": {},
   "outputs": [],
   "source": [
    "data_pub_count = data_w_publications.copy()[['start_date', 'end_date', 'year', 'funded_amount', 'Active', 'award_reference', 'ApplicantLedOrTargeted', 'doi', 'publication', 'application_category']]"
   ]
  },
  {
   "cell_type": "code",
   "execution_count": 52,
   "metadata": {},
   "outputs": [
    {
     "data": {
      "text/plain": [
       "609804"
      ]
     },
     "execution_count": 52,
     "metadata": {},
     "output_type": "execute_result"
    }
   ],
   "source": [
    "data_pub_count['start_year'] = data_pub_count['start_date'].dt.year\n",
    "data_pub_count['doi'].duplicated().sum()"
   ]
  },
  {
   "cell_type": "code",
   "execution_count": 53,
   "metadata": {},
   "outputs": [],
   "source": [
    "data_pub_count['year'] = data_pub_count['year'].replace('None/Unknown', None)\n",
    "data_pub_count['year'] = data_pub_count['year'].replace('', None)\n",
    "data_pub_count['year'] = data_pub_count['year'].replace('Pre-2006', None)\n"
   ]
  },
  {
   "cell_type": "code",
   "execution_count": 54,
   "metadata": {},
   "outputs": [
    {
     "data": {
      "text/plain": [
       "array(['2006', '2007', '2005', '2008', '2009', '2010', '2011', '2012',\n",
       "       '2014', '2015', '2004', '2003', '2002', None, '2013', '2018',\n",
       "       '2016', '2017', '2019', '2020', '2021', '2022', '2023', '2000',\n",
       "       '0000', '2024', '1996', '1975', '1989', '1970', '1931', '1959',\n",
       "       '2030', '1998', '1994', '1999', '1991', '1993', '1997', '1985',\n",
       "       '1987', '1946', '2025', '1995', '1954', '2001', '1973', '1981',\n",
       "       '1988', '1990', '1957', '1979', '1984', '1992', '1953', '1971',\n",
       "       '1952', '1956', '1948', '1967', '1958', '1974', '1980', '1950',\n",
       "       '1951', '1986', '1900', '1912', '1963', '1977', '1919', '1907',\n",
       "       '1976', '1968', '1947', '1942', '1982', '1983', '1978', '1972'],\n",
       "      dtype=object)"
      ]
     },
     "execution_count": 54,
     "metadata": {},
     "output_type": "execute_result"
    }
   ],
   "source": [
    "data_pub_count['year'].unique()"
   ]
  },
  {
   "cell_type": "code",
   "execution_count": 55,
   "metadata": {},
   "outputs": [],
   "source": [
    "\n",
    "data_pub_count = data_pub_count.copy()[data_pub_count['start_year'] < data_pub_count['year'].astype(float)]\n",
    "\n",
    "\n",
    "data_pub_count[(data_pub_count['start_year'] > 2017) & (data_pub_count['ApplicantLedOrTargeted'] == 'Applicant-Led') & (data_pub_count['application_category'] == 'Research Grant')].drop_duplicates(subset='doi').groupby(['year', 'start_year'], as_index=False).agg({'doi':'count'}).to_clipboard(index=False)\n"
   ]
  },
  {
   "cell_type": "code",
   "execution_count": 56,
   "metadata": {},
   "outputs": [
    {
     "name": "stderr",
     "output_type": "stream",
     "text": [
      "C:\\Users\\MHil02\\AppData\\Local\\Temp\\ipykernel_12120\\3447861269.py:1: UserWarning: pandas only supports SQLAlchemy connectable (engine/connection) or database string URI or sqlite3 DBAPI2 connection. Other DBAPI2 objects are not tested. Please consider using SQLAlchemy.\n",
      "  spinouts = pd.read_sql(\"SELECT * FROM ukri_ssd_snapshot.2025_01_09_ssd_outcome_spin_out;\", con)\n"
     ]
    }
   ],
   "source": [
    "spinouts = pd.read_sql(\"SELECT * FROM ukri_ssd_snapshot.2025_01_09_ssd_outcome_spin_out;\", con)"
   ]
  },
  {
   "cell_type": "code",
   "execution_count": 57,
   "metadata": {},
   "outputs": [],
   "source": [
    "data_w_spinouts = pd.merge(\n",
    "    data_w_opp[data_w_opp['application_source'] == 'Siebel'], \n",
    "    spinouts[spinouts['award_reference'] != 'Unknown'],\n",
    "    on='award_reference'\n",
    ")"
   ]
  },
  {
   "cell_type": "code",
   "execution_count": 58,
   "metadata": {},
   "outputs": [],
   "source": [
    "select_spinouts = data_w_spinouts.copy()[['start_date', 'end_date', 'funded_amount', 'Active', 'award_reference', 'ApplicantLedOrTargeted', 'company', 'application_category', 'year_established', 'registration_number']]"
   ]
  },
  {
   "cell_type": "code",
   "execution_count": 60,
   "metadata": {},
   "outputs": [],
   "source": [
    "select_spinouts['start_year'] = select_spinouts['start_date'].dt.year\n",
    "select_spinouts['year_established'] = select_spinouts['year_established'].replace('Pre-2004', None)\n",
    "\n",
    "\n",
    "select_spinouts = select_spinouts[select_spinouts['year_established'].astype(float) > select_spinouts['start_year']]\n",
    "\n",
    "select_spinouts[(select_spinouts['ApplicantLedOrTargeted'] == 'Applicant-Led') & (select_spinouts['application_category'] == 'Research Grant')].drop_duplicates(subset='registration_number').groupby(['start_year', 'year_established'], as_index=False).agg({'registration_number':'count'}).to_clipboard(index=False)"
   ]
  },
  {
   "cell_type": "code",
   "execution_count": 61,
   "metadata": {},
   "outputs": [
    {
     "name": "stdout",
     "output_type": "stream",
     "text": [
      "1619\n",
      "0\n"
     ]
    }
   ],
   "source": [
    "print(len(select_spinouts)) # 2296\n",
    "\n",
    "\n",
    "print(len(select_spinouts[select_spinouts['year_established'].astype(float) < select_spinouts['start_year']]))"
   ]
  },
  {
   "cell_type": "code",
   "execution_count": 62,
   "metadata": {},
   "outputs": [
    {
     "data": {
      "text/plain": [
       "0.11759581881533102"
      ]
     },
     "execution_count": 62,
     "metadata": {},
     "output_type": "execute_result"
    }
   ],
   "source": [
    "data_w_spinouts['year_established'].unique()\n",
    "\n",
    "270/2296"
   ]
  },
  {
   "cell_type": "code",
   "execution_count": 63,
   "metadata": {},
   "outputs": [
    {
     "name": "stderr",
     "output_type": "stream",
     "text": [
      "C:\\Users\\MHil02\\AppData\\Local\\Temp\\ipykernel_12120\\3418696010.py:1: UserWarning: pandas only supports SQLAlchemy connectable (engine/connection) or database string URI or sqlite3 DBAPI2 connection. Other DBAPI2 objects are not tested. Please consider using SQLAlchemy.\n",
      "  pp_table = pd.read_sql(\"SELECT * FROM ukri_ssd_snapshot.2025_01_09_ssd_project_partners;\", con)\n"
     ]
    }
   ],
   "source": [
    "pp_table = pd.read_sql(\"SELECT * FROM ukri_ssd_snapshot.2025_01_09_ssd_project_partners;\", con)"
   ]
  },
  {
   "cell_type": "code",
   "execution_count": 65,
   "metadata": {},
   "outputs": [
    {
     "data": {
      "text/plain": [
       "array(['Siebel', 'Unknown', 'Research England'], dtype=object)"
      ]
     },
     "execution_count": 65,
     "metadata": {},
     "output_type": "execute_result"
    }
   ],
   "source": [
    "pp_table['organisation_source'].unique()"
   ]
  },
  {
   "cell_type": "code",
   "execution_count": 67,
   "metadata": {},
   "outputs": [
    {
     "data": {
      "text/plain": [
       "array(['TFS', 'Siebel', 'Offsystem', 'IUK - IFS', 'IUK - EU Funded',\n",
       "       'IUK - Legacy Applications', 'IUK - SBRI', 'IUK - Legacy Smart',\n",
       "       'IUK - Innovation Vouchers', 'IUK - KTP', 'Research England'],\n",
       "      dtype=object)"
      ]
     },
     "execution_count": 67,
     "metadata": {},
     "output_type": "execute_result"
    }
   ],
   "source": [
    "data_w_opp['application_source'].unique()"
   ]
  },
  {
   "cell_type": "code",
   "execution_count": 70,
   "metadata": {},
   "outputs": [],
   "source": [
    "# select application source is TFS Siebel and Offsystem, excluding IUK and RE\n",
    "data_w_pp = pd.merge(\n",
    "    data_w_opp[data_w_opp['application_source'].isin(['TFS', 'Siebel', 'Offsystem'])],\n",
    "    pp_table, on='award_reference')"
   ]
  },
  {
   "cell_type": "code",
   "execution_count": 75,
   "metadata": {},
   "outputs": [
    {
     "data": {
      "text/html": [
       "<div>\n",
       "<style scoped>\n",
       "    .dataframe tbody tr th:only-of-type {\n",
       "        vertical-align: middle;\n",
       "    }\n",
       "\n",
       "    .dataframe tbody tr th {\n",
       "        vertical-align: top;\n",
       "    }\n",
       "\n",
       "    .dataframe thead th {\n",
       "        text-align: right;\n",
       "    }\n",
       "</style>\n",
       "<table border=\"1\" class=\"dataframe\">\n",
       "  <thead>\n",
       "    <tr style=\"text-align: right;\">\n",
       "      <th></th>\n",
       "      <th>application_reference</th>\n",
       "      <th>award_reference</th>\n",
       "      <th>funder_x</th>\n",
       "      <th>application_source</th>\n",
       "      <th>start_date</th>\n",
       "      <th>end_date</th>\n",
       "      <th>funded_amount</th>\n",
       "      <th>Active</th>\n",
       "      <th>opportunity_id</th>\n",
       "      <th>opportunity_name</th>\n",
       "      <th>application_category</th>\n",
       "      <th>lead_organisation_id</th>\n",
       "      <th>organisation_source</th>\n",
       "      <th>ApplicantLedOrTargeted</th>\n",
       "      <th>IsResponsive</th>\n",
       "      <th>_merge</th>\n",
       "    </tr>\n",
       "  </thead>\n",
       "  <tbody>\n",
       "  </tbody>\n",
       "</table>\n",
       "</div>"
      ],
      "text/plain": [
       "Empty DataFrame\n",
       "Columns: [application_reference, award_reference, funder_x, application_source, start_date, end_date, funded_amount, Active, opportunity_id, opportunity_name, application_category, lead_organisation_id, organisation_source, ApplicantLedOrTargeted, IsResponsive, _merge]\n",
       "Index: []"
      ]
     },
     "execution_count": 75,
     "metadata": {},
     "output_type": "execute_result"
    }
   ],
   "source": [
    "data_w_pp[data_w_pp['funder_x'] == 'RE']\n",
    "data_w_pp[data_w_pp['application_source'] == 'Offsystem']\n",
    "\n",
    "data_w_pp[(data_w_pp['application_category'] == 'Research Grant') & (data_w_pp['ApplicantLedOrTargeted'] == 'Applicant-Led')]\n",
    "\n",
    "data_w_opp[data_w_opp['award_reference'].duplicated(keep=False)]"
   ]
  },
  {
   "cell_type": "code",
   "execution_count": 94,
   "metadata": {},
   "outputs": [],
   "source": [
    "data_w_pp['start_year'] = data_w_pp['start_date'].dt.year\n",
    "\n",
    "data_w_pp[(data_w_pp['ApplicantLedOrTargeted'] == 'Applicant-Led') & (data_w_pp['application_category'] == 'Research Grant')].groupby('start_year', as_index=False).agg({'cash_value':'sum', 'in_kind_value':'sum'}).to_clipboard(index=False)\n"
   ]
  },
  {
   "cell_type": "code",
   "execution_count": 80,
   "metadata": {},
   "outputs": [
    {
     "data": {
      "text/html": [
       "<div>\n",
       "<style scoped>\n",
       "    .dataframe tbody tr th:only-of-type {\n",
       "        vertical-align: middle;\n",
       "    }\n",
       "\n",
       "    .dataframe tbody tr th {\n",
       "        vertical-align: top;\n",
       "    }\n",
       "\n",
       "    .dataframe thead th {\n",
       "        text-align: right;\n",
       "    }\n",
       "</style>\n",
       "<table border=\"1\" class=\"dataframe\">\n",
       "  <thead>\n",
       "    <tr style=\"text-align: right;\">\n",
       "      <th></th>\n",
       "      <th>application_reference</th>\n",
       "      <th>award_reference</th>\n",
       "      <th>funder</th>\n",
       "      <th>administrator</th>\n",
       "      <th>application_source</th>\n",
       "      <th>announced_start_date</th>\n",
       "      <th>start_date</th>\n",
       "      <th>end_date</th>\n",
       "      <th>funded_amount</th>\n",
       "      <th>profiled_amount</th>\n",
       "      <th>project_cost</th>\n",
       "      <th>termination_date</th>\n",
       "    </tr>\n",
       "  </thead>\n",
       "  <tbody>\n",
       "    <tr>\n",
       "      <th>33</th>\n",
       "      <td>10883</td>\n",
       "      <td>209</td>\n",
       "      <td>EPSRC</td>\n",
       "      <td>EPSRC</td>\n",
       "      <td>TFS</td>\n",
       "      <td>2024-10-01</td>\n",
       "      <td>2024-06-01</td>\n",
       "      <td>2027-05-31</td>\n",
       "      <td>564065.61</td>\n",
       "      <td>0</td>\n",
       "      <td>NaN</td>\n",
       "      <td>None</td>\n",
       "    </tr>\n",
       "    <tr>\n",
       "      <th>34</th>\n",
       "      <td>10883</td>\n",
       "      <td>209</td>\n",
       "      <td>EPSRC</td>\n",
       "      <td>EPSRC</td>\n",
       "      <td>TFS</td>\n",
       "      <td>2024-10-01</td>\n",
       "      <td>2024-06-01</td>\n",
       "      <td>2027-05-31</td>\n",
       "      <td>548586.57</td>\n",
       "      <td>0</td>\n",
       "      <td>NaN</td>\n",
       "      <td>None</td>\n",
       "    </tr>\n",
       "    <tr>\n",
       "      <th>87</th>\n",
       "      <td>11799</td>\n",
       "      <td>95</td>\n",
       "      <td>EPSRC</td>\n",
       "      <td>EPSRC</td>\n",
       "      <td>TFS</td>\n",
       "      <td>2024-10-01</td>\n",
       "      <td>2024-05-01</td>\n",
       "      <td>2027-04-30</td>\n",
       "      <td>182026.09</td>\n",
       "      <td>0</td>\n",
       "      <td>NaN</td>\n",
       "      <td>None</td>\n",
       "    </tr>\n",
       "    <tr>\n",
       "      <th>146</th>\n",
       "      <td>12917</td>\n",
       "      <td>150</td>\n",
       "      <td>EPSRC</td>\n",
       "      <td>EPSRC</td>\n",
       "      <td>TFS</td>\n",
       "      <td>2025-06-01</td>\n",
       "      <td>2024-06-01</td>\n",
       "      <td>2026-09-30</td>\n",
       "      <td>531560.76</td>\n",
       "      <td>0</td>\n",
       "      <td>NaN</td>\n",
       "      <td>None</td>\n",
       "    </tr>\n",
       "    <tr>\n",
       "      <th>147</th>\n",
       "      <td>12917</td>\n",
       "      <td>150</td>\n",
       "      <td>EPSRC</td>\n",
       "      <td>EPSRC</td>\n",
       "      <td>TFS</td>\n",
       "      <td>2025-06-01</td>\n",
       "      <td>2024-06-01</td>\n",
       "      <td>2026-09-30</td>\n",
       "      <td>531965.07</td>\n",
       "      <td>0</td>\n",
       "      <td>NaN</td>\n",
       "      <td>None</td>\n",
       "    </tr>\n",
       "    <tr>\n",
       "      <th>...</th>\n",
       "      <td>...</td>\n",
       "      <td>...</td>\n",
       "      <td>...</td>\n",
       "      <td>...</td>\n",
       "      <td>...</td>\n",
       "      <td>...</td>\n",
       "      <td>...</td>\n",
       "      <td>...</td>\n",
       "      <td>...</td>\n",
       "      <td>...</td>\n",
       "      <td>...</td>\n",
       "      <td>...</td>\n",
       "    </tr>\n",
       "    <tr>\n",
       "      <th>209346</th>\n",
       "      <td>434</td>\n",
       "      <td>434</td>\n",
       "      <td>SiPF</td>\n",
       "      <td>RE</td>\n",
       "      <td>Research England</td>\n",
       "      <td>None</td>\n",
       "      <td>2019-06-01</td>\n",
       "      <td>2019-08-31</td>\n",
       "      <td>50000.00</td>\n",
       "      <td>0</td>\n",
       "      <td>NaN</td>\n",
       "      <td>None</td>\n",
       "    </tr>\n",
       "    <tr>\n",
       "      <th>209370</th>\n",
       "      <td>490</td>\n",
       "      <td>490</td>\n",
       "      <td>RE</td>\n",
       "      <td>RE</td>\n",
       "      <td>Research England</td>\n",
       "      <td>None</td>\n",
       "      <td>2019-08-01</td>\n",
       "      <td>2020-07-31</td>\n",
       "      <td>885405.00</td>\n",
       "      <td>0</td>\n",
       "      <td>NaN</td>\n",
       "      <td>None</td>\n",
       "    </tr>\n",
       "    <tr>\n",
       "      <th>209371</th>\n",
       "      <td>491</td>\n",
       "      <td>491</td>\n",
       "      <td>RE</td>\n",
       "      <td>RE</td>\n",
       "      <td>Research England</td>\n",
       "      <td>None</td>\n",
       "      <td>2019-08-01</td>\n",
       "      <td>2020-07-31</td>\n",
       "      <td>1493000.00</td>\n",
       "      <td>0</td>\n",
       "      <td>NaN</td>\n",
       "      <td>None</td>\n",
       "    </tr>\n",
       "    <tr>\n",
       "      <th>209382</th>\n",
       "      <td>503</td>\n",
       "      <td>503</td>\n",
       "      <td>RE</td>\n",
       "      <td>RE</td>\n",
       "      <td>Research England</td>\n",
       "      <td>None</td>\n",
       "      <td>2019-08-01</td>\n",
       "      <td>2020-07-30</td>\n",
       "      <td>542453.00</td>\n",
       "      <td>0</td>\n",
       "      <td>NaN</td>\n",
       "      <td>None</td>\n",
       "    </tr>\n",
       "    <tr>\n",
       "      <th>209407</th>\n",
       "      <td>626</td>\n",
       "      <td>626</td>\n",
       "      <td>SiPF</td>\n",
       "      <td>RE</td>\n",
       "      <td>Research England</td>\n",
       "      <td>None</td>\n",
       "      <td>2020-08-01</td>\n",
       "      <td>2021-02-01</td>\n",
       "      <td>50000.00</td>\n",
       "      <td>0</td>\n",
       "      <td>NaN</td>\n",
       "      <td>None</td>\n",
       "    </tr>\n",
       "  </tbody>\n",
       "</table>\n",
       "<p>102 rows × 12 columns</p>\n",
       "</div>"
      ],
      "text/plain": [
       "       application_reference award_reference funder administrator  \\\n",
       "33                     10883             209  EPSRC         EPSRC   \n",
       "34                     10883             209  EPSRC         EPSRC   \n",
       "87                     11799              95  EPSRC         EPSRC   \n",
       "146                    12917             150  EPSRC         EPSRC   \n",
       "147                    12917             150  EPSRC         EPSRC   \n",
       "...                      ...             ...    ...           ...   \n",
       "209346                   434             434   SiPF            RE   \n",
       "209370                   490             490     RE            RE   \n",
       "209371                   491             491     RE            RE   \n",
       "209382                   503             503     RE            RE   \n",
       "209407                   626             626   SiPF            RE   \n",
       "\n",
       "       application_source announced_start_date start_date   end_date  \\\n",
       "33                    TFS           2024-10-01 2024-06-01 2027-05-31   \n",
       "34                    TFS           2024-10-01 2024-06-01 2027-05-31   \n",
       "87                    TFS           2024-10-01 2024-05-01 2027-04-30   \n",
       "146                   TFS           2025-06-01 2024-06-01 2026-09-30   \n",
       "147                   TFS           2025-06-01 2024-06-01 2026-09-30   \n",
       "...                   ...                  ...        ...        ...   \n",
       "209346   Research England                 None 2019-06-01 2019-08-31   \n",
       "209370   Research England                 None 2019-08-01 2020-07-31   \n",
       "209371   Research England                 None 2019-08-01 2020-07-31   \n",
       "209382   Research England                 None 2019-08-01 2020-07-30   \n",
       "209407   Research England                 None 2020-08-01 2021-02-01   \n",
       "\n",
       "        funded_amount  profiled_amount  project_cost termination_date  \n",
       "33          564065.61                0           NaN             None  \n",
       "34          548586.57                0           NaN             None  \n",
       "87          182026.09                0           NaN             None  \n",
       "146         531560.76                0           NaN             None  \n",
       "147         531965.07                0           NaN             None  \n",
       "...               ...              ...           ...              ...  \n",
       "209346       50000.00                0           NaN             None  \n",
       "209370      885405.00                0           NaN             None  \n",
       "209371     1493000.00                0           NaN             None  \n",
       "209382      542453.00                0           NaN             None  \n",
       "209407       50000.00                0           NaN             None  \n",
       "\n",
       "[102 rows x 12 columns]"
      ]
     },
     "execution_count": 80,
     "metadata": {},
     "output_type": "execute_result"
    }
   ],
   "source": [
    "df[df['award_reference'].duplicated(keep=False)].dropna(subset='award_reference')"
   ]
  },
  {
   "cell_type": "code",
   "execution_count": 89,
   "metadata": {},
   "outputs": [
    {
     "data": {
      "text/html": [
       "<div>\n",
       "<style scoped>\n",
       "    .dataframe tbody tr th:only-of-type {\n",
       "        vertical-align: middle;\n",
       "    }\n",
       "\n",
       "    .dataframe tbody tr th {\n",
       "        vertical-align: top;\n",
       "    }\n",
       "\n",
       "    .dataframe thead th {\n",
       "        text-align: right;\n",
       "    }\n",
       "</style>\n",
       "<table border=\"1\" class=\"dataframe\">\n",
       "  <thead>\n",
       "    <tr style=\"text-align: right;\">\n",
       "      <th></th>\n",
       "      <th>application_reference_x</th>\n",
       "      <th>award_reference</th>\n",
       "      <th>funder</th>\n",
       "      <th>administrator</th>\n",
       "      <th>application_source</th>\n",
       "      <th>announced_start_date</th>\n",
       "      <th>start_date</th>\n",
       "      <th>end_date</th>\n",
       "      <th>funded_amount</th>\n",
       "      <th>profiled_amount</th>\n",
       "      <th>project_cost</th>\n",
       "      <th>termination_date</th>\n",
       "      <th>application_reference_y</th>\n",
       "      <th>project_partner_organisation_id</th>\n",
       "      <th>cash_value</th>\n",
       "      <th>in_kind_value</th>\n",
       "      <th>organisation_source</th>\n",
       "    </tr>\n",
       "  </thead>\n",
       "  <tbody>\n",
       "    <tr>\n",
       "      <th>5</th>\n",
       "      <td>2449</td>\n",
       "      <td>10</td>\n",
       "      <td>BBSRC</td>\n",
       "      <td>BBSRC</td>\n",
       "      <td>TFS</td>\n",
       "      <td>2023-07-01</td>\n",
       "      <td>2023-07-01</td>\n",
       "      <td>2025-06-30</td>\n",
       "      <td>207395.24</td>\n",
       "      <td>0</td>\n",
       "      <td>NaN</td>\n",
       "      <td>None</td>\n",
       "      <td>10</td>\n",
       "      <td>Unknown</td>\n",
       "      <td>20130000.00</td>\n",
       "      <td>19260000.0</td>\n",
       "      <td>Unknown</td>\n",
       "    </tr>\n",
       "    <tr>\n",
       "      <th>8</th>\n",
       "      <td>34827</td>\n",
       "      <td>111</td>\n",
       "      <td>ESRC</td>\n",
       "      <td>ESRC</td>\n",
       "      <td>TFS</td>\n",
       "      <td>2024-07-01</td>\n",
       "      <td>2024-07-01</td>\n",
       "      <td>2025-06-30</td>\n",
       "      <td>171345.72</td>\n",
       "      <td>0</td>\n",
       "      <td>NaN</td>\n",
       "      <td>None</td>\n",
       "      <td>111</td>\n",
       "      <td>Unknown</td>\n",
       "      <td>18608000.00</td>\n",
       "      <td>2347000.0</td>\n",
       "      <td>Unknown</td>\n",
       "    </tr>\n",
       "    <tr>\n",
       "      <th>2</th>\n",
       "      <td>5972</td>\n",
       "      <td>120</td>\n",
       "      <td>EPSRC</td>\n",
       "      <td>EPSRC</td>\n",
       "      <td>TFS</td>\n",
       "      <td>2024-10-01</td>\n",
       "      <td>2024-05-01</td>\n",
       "      <td>2027-04-30</td>\n",
       "      <td>461600.44</td>\n",
       "      <td>0</td>\n",
       "      <td>NaN</td>\n",
       "      <td>None</td>\n",
       "      <td>120</td>\n",
       "      <td>Unknown</td>\n",
       "      <td>3988900.00</td>\n",
       "      <td>26978000.0</td>\n",
       "      <td>Unknown</td>\n",
       "    </tr>\n",
       "    <tr>\n",
       "      <th>1</th>\n",
       "      <td>17787</td>\n",
       "      <td>130</td>\n",
       "      <td>EPSRC</td>\n",
       "      <td>EPSRC</td>\n",
       "      <td>TFS</td>\n",
       "      <td>2024-10-01</td>\n",
       "      <td>2024-08-01</td>\n",
       "      <td>2027-01-31</td>\n",
       "      <td>390944.92</td>\n",
       "      <td>0</td>\n",
       "      <td>NaN</td>\n",
       "      <td>None</td>\n",
       "      <td>130</td>\n",
       "      <td>Unknown</td>\n",
       "      <td>52754000.00</td>\n",
       "      <td>NaN</td>\n",
       "      <td>Unknown</td>\n",
       "    </tr>\n",
       "    <tr>\n",
       "      <th>11</th>\n",
       "      <td>37837</td>\n",
       "      <td>172</td>\n",
       "      <td>EPSRC</td>\n",
       "      <td>EPSRC</td>\n",
       "      <td>TFS</td>\n",
       "      <td>2024-10-01</td>\n",
       "      <td>2024-10-01</td>\n",
       "      <td>2025-09-30</td>\n",
       "      <td>75826.77</td>\n",
       "      <td>0</td>\n",
       "      <td>NaN</td>\n",
       "      <td>None</td>\n",
       "      <td>172</td>\n",
       "      <td>Unknown</td>\n",
       "      <td>10006942.00</td>\n",
       "      <td>10873000.0</td>\n",
       "      <td>Unknown</td>\n",
       "    </tr>\n",
       "    <tr>\n",
       "      <th>16</th>\n",
       "      <td>46969</td>\n",
       "      <td>228</td>\n",
       "      <td>Unknown</td>\n",
       "      <td>MRC</td>\n",
       "      <td>TFS</td>\n",
       "      <td>2025-04-01</td>\n",
       "      <td>2025-04-01</td>\n",
       "      <td>2026-04-30</td>\n",
       "      <td>242492.28</td>\n",
       "      <td>0</td>\n",
       "      <td>NaN</td>\n",
       "      <td>None</td>\n",
       "      <td>228</td>\n",
       "      <td>Unknown</td>\n",
       "      <td>3417717.00</td>\n",
       "      <td>NaN</td>\n",
       "      <td>Unknown</td>\n",
       "    </tr>\n",
       "    <tr>\n",
       "      <th>17</th>\n",
       "      <td>48606</td>\n",
       "      <td>233</td>\n",
       "      <td>Unknown</td>\n",
       "      <td>MRC</td>\n",
       "      <td>TFS</td>\n",
       "      <td>2024-11-01</td>\n",
       "      <td>2024-11-01</td>\n",
       "      <td>2025-10-31</td>\n",
       "      <td>244382.00</td>\n",
       "      <td>0</td>\n",
       "      <td>NaN</td>\n",
       "      <td>None</td>\n",
       "      <td>233</td>\n",
       "      <td>Unknown</td>\n",
       "      <td>3085341.00</td>\n",
       "      <td>NaN</td>\n",
       "      <td>Unknown</td>\n",
       "    </tr>\n",
       "    <tr>\n",
       "      <th>9</th>\n",
       "      <td>35401</td>\n",
       "      <td>240</td>\n",
       "      <td>NERC</td>\n",
       "      <td>NERC</td>\n",
       "      <td>TFS</td>\n",
       "      <td>2024-10-01</td>\n",
       "      <td>2024-07-01</td>\n",
       "      <td>2028-06-30</td>\n",
       "      <td>4761440.31</td>\n",
       "      <td>0</td>\n",
       "      <td>NaN</td>\n",
       "      <td>None</td>\n",
       "      <td>240</td>\n",
       "      <td>Unknown</td>\n",
       "      <td>355134.00</td>\n",
       "      <td>NaN</td>\n",
       "      <td>Unknown</td>\n",
       "    </tr>\n",
       "    <tr>\n",
       "      <th>10</th>\n",
       "      <td>29458</td>\n",
       "      <td>253</td>\n",
       "      <td>EPSRC</td>\n",
       "      <td>EPSRC</td>\n",
       "      <td>TFS</td>\n",
       "      <td>2024-09-01</td>\n",
       "      <td>2024-09-01</td>\n",
       "      <td>2025-08-31</td>\n",
       "      <td>75387.56</td>\n",
       "      <td>0</td>\n",
       "      <td>NaN</td>\n",
       "      <td>None</td>\n",
       "      <td>253</td>\n",
       "      <td>Unknown</td>\n",
       "      <td>227000.00</td>\n",
       "      <td>NaN</td>\n",
       "      <td>Unknown</td>\n",
       "    </tr>\n",
       "    <tr>\n",
       "      <th>19</th>\n",
       "      <td>45013</td>\n",
       "      <td>269</td>\n",
       "      <td>Unknown</td>\n",
       "      <td>AHRC</td>\n",
       "      <td>TFS</td>\n",
       "      <td>2025-02-01</td>\n",
       "      <td>2025-02-01</td>\n",
       "      <td>2026-01-31</td>\n",
       "      <td>102034.82</td>\n",
       "      <td>0</td>\n",
       "      <td>NaN</td>\n",
       "      <td>None</td>\n",
       "      <td>269</td>\n",
       "      <td>Unknown</td>\n",
       "      <td>2945000.00</td>\n",
       "      <td>NaN</td>\n",
       "      <td>Unknown</td>\n",
       "    </tr>\n",
       "    <tr>\n",
       "      <th>20</th>\n",
       "      <td>55293</td>\n",
       "      <td>272</td>\n",
       "      <td>Unknown</td>\n",
       "      <td>AHRC</td>\n",
       "      <td>TFS</td>\n",
       "      <td>2025-02-01</td>\n",
       "      <td>2025-01-01</td>\n",
       "      <td>2025-12-31</td>\n",
       "      <td>102473.41</td>\n",
       "      <td>0</td>\n",
       "      <td>NaN</td>\n",
       "      <td>None</td>\n",
       "      <td>272</td>\n",
       "      <td>Unknown</td>\n",
       "      <td>922648.00</td>\n",
       "      <td>NaN</td>\n",
       "      <td>Unknown</td>\n",
       "    </tr>\n",
       "    <tr>\n",
       "      <th>24</th>\n",
       "      <td>53780</td>\n",
       "      <td>387</td>\n",
       "      <td>Unknown</td>\n",
       "      <td>EPSRC</td>\n",
       "      <td>TFS</td>\n",
       "      <td>2025-01-01</td>\n",
       "      <td>2025-01-01</td>\n",
       "      <td>2026-06-30</td>\n",
       "      <td>700000.00</td>\n",
       "      <td>0</td>\n",
       "      <td>NaN</td>\n",
       "      <td>None</td>\n",
       "      <td>387</td>\n",
       "      <td>Unknown</td>\n",
       "      <td>567446.00</td>\n",
       "      <td>0.0</td>\n",
       "      <td>Unknown</td>\n",
       "    </tr>\n",
       "    <tr>\n",
       "      <th>22</th>\n",
       "      <td>52542</td>\n",
       "      <td>388</td>\n",
       "      <td>Unknown</td>\n",
       "      <td>EPSRC</td>\n",
       "      <td>TFS</td>\n",
       "      <td>2025-01-01</td>\n",
       "      <td>2025-01-01</td>\n",
       "      <td>2026-06-30</td>\n",
       "      <td>330000.00</td>\n",
       "      <td>0</td>\n",
       "      <td>NaN</td>\n",
       "      <td>None</td>\n",
       "      <td>388</td>\n",
       "      <td>Unknown</td>\n",
       "      <td>844967.00</td>\n",
       "      <td>0.0</td>\n",
       "      <td>Unknown</td>\n",
       "    </tr>\n",
       "    <tr>\n",
       "      <th>23</th>\n",
       "      <td>55434</td>\n",
       "      <td>389</td>\n",
       "      <td>Unknown</td>\n",
       "      <td>EPSRC</td>\n",
       "      <td>TFS</td>\n",
       "      <td>2025-01-01</td>\n",
       "      <td>2025-01-01</td>\n",
       "      <td>2026-06-30</td>\n",
       "      <td>400000.00</td>\n",
       "      <td>0</td>\n",
       "      <td>NaN</td>\n",
       "      <td>None</td>\n",
       "      <td>389</td>\n",
       "      <td>Unknown</td>\n",
       "      <td>614829.21</td>\n",
       "      <td>0.0</td>\n",
       "      <td>Unknown</td>\n",
       "    </tr>\n",
       "    <tr>\n",
       "      <th>15</th>\n",
       "      <td>43278</td>\n",
       "      <td>395</td>\n",
       "      <td>Unknown</td>\n",
       "      <td>EPSRC</td>\n",
       "      <td>TFS</td>\n",
       "      <td>2025-01-01</td>\n",
       "      <td>2025-01-01</td>\n",
       "      <td>2027-12-31</td>\n",
       "      <td>1317036.47</td>\n",
       "      <td>0</td>\n",
       "      <td>NaN</td>\n",
       "      <td>None</td>\n",
       "      <td>395</td>\n",
       "      <td>Unknown</td>\n",
       "      <td>0.00</td>\n",
       "      <td>0.0</td>\n",
       "      <td>Unknown</td>\n",
       "    </tr>\n",
       "    <tr>\n",
       "      <th>21</th>\n",
       "      <td>52188</td>\n",
       "      <td>404</td>\n",
       "      <td>Unknown</td>\n",
       "      <td>EPSRC</td>\n",
       "      <td>TFS</td>\n",
       "      <td>2025-01-01</td>\n",
       "      <td>2025-01-01</td>\n",
       "      <td>2026-06-30</td>\n",
       "      <td>597424.38</td>\n",
       "      <td>0</td>\n",
       "      <td>NaN</td>\n",
       "      <td>None</td>\n",
       "      <td>404</td>\n",
       "      <td>Unknown</td>\n",
       "      <td>0.00</td>\n",
       "      <td>0.0</td>\n",
       "      <td>Unknown</td>\n",
       "    </tr>\n",
       "    <tr>\n",
       "      <th>3</th>\n",
       "      <td>17631</td>\n",
       "      <td>41</td>\n",
       "      <td>NERC</td>\n",
       "      <td>NERC</td>\n",
       "      <td>TFS</td>\n",
       "      <td>2024-02-01</td>\n",
       "      <td>2024-02-01</td>\n",
       "      <td>2027-01-31</td>\n",
       "      <td>745324.00</td>\n",
       "      <td>0</td>\n",
       "      <td>NaN</td>\n",
       "      <td>None</td>\n",
       "      <td>41</td>\n",
       "      <td>Unknown</td>\n",
       "      <td>22763000.00</td>\n",
       "      <td>18078000.0</td>\n",
       "      <td>Unknown</td>\n",
       "    </tr>\n",
       "    <tr>\n",
       "      <th>12</th>\n",
       "      <td>39806</td>\n",
       "      <td>434</td>\n",
       "      <td>MRC</td>\n",
       "      <td>MRC</td>\n",
       "      <td>TFS</td>\n",
       "      <td>2024-12-01</td>\n",
       "      <td>2024-12-01</td>\n",
       "      <td>2027-11-30</td>\n",
       "      <td>1075178.20</td>\n",
       "      <td>0</td>\n",
       "      <td>NaN</td>\n",
       "      <td>None</td>\n",
       "      <td>434</td>\n",
       "      <td>Unknown</td>\n",
       "      <td>0.00</td>\n",
       "      <td>0.0</td>\n",
       "      <td>Unknown</td>\n",
       "    </tr>\n",
       "    <tr>\n",
       "      <th>13</th>\n",
       "      <td>43180</td>\n",
       "      <td>490</td>\n",
       "      <td>MRC</td>\n",
       "      <td>MRC</td>\n",
       "      <td>TFS</td>\n",
       "      <td>2025-01-01</td>\n",
       "      <td>2025-01-01</td>\n",
       "      <td>2026-12-31</td>\n",
       "      <td>518592.70</td>\n",
       "      <td>0</td>\n",
       "      <td>NaN</td>\n",
       "      <td>None</td>\n",
       "      <td>490</td>\n",
       "      <td>Unknown</td>\n",
       "      <td>0.00</td>\n",
       "      <td>0.0</td>\n",
       "      <td>Unknown</td>\n",
       "    </tr>\n",
       "    <tr>\n",
       "      <th>4</th>\n",
       "      <td>19109</td>\n",
       "      <td>491</td>\n",
       "      <td>MRC</td>\n",
       "      <td>MRC</td>\n",
       "      <td>TFS</td>\n",
       "      <td>2024-10-01</td>\n",
       "      <td>2024-10-01</td>\n",
       "      <td>2027-09-30</td>\n",
       "      <td>514306.61</td>\n",
       "      <td>0</td>\n",
       "      <td>NaN</td>\n",
       "      <td>None</td>\n",
       "      <td>491</td>\n",
       "      <td>Unknown</td>\n",
       "      <td>0.00</td>\n",
       "      <td>0.0</td>\n",
       "      <td>Unknown</td>\n",
       "    </tr>\n",
       "    <tr>\n",
       "      <th>14</th>\n",
       "      <td>44143</td>\n",
       "      <td>503</td>\n",
       "      <td>Unknown</td>\n",
       "      <td>AHRC</td>\n",
       "      <td>TFS</td>\n",
       "      <td>2025-01-01</td>\n",
       "      <td>2025-01-01</td>\n",
       "      <td>2026-06-30</td>\n",
       "      <td>81913.40</td>\n",
       "      <td>0</td>\n",
       "      <td>NaN</td>\n",
       "      <td>None</td>\n",
       "      <td>503</td>\n",
       "      <td>Unknown</td>\n",
       "      <td>0.00</td>\n",
       "      <td>0.0</td>\n",
       "      <td>Unknown</td>\n",
       "    </tr>\n",
       "    <tr>\n",
       "      <th>18</th>\n",
       "      <td>47240</td>\n",
       "      <td>626</td>\n",
       "      <td>NC3Rs</td>\n",
       "      <td>NC3Rs</td>\n",
       "      <td>TFS</td>\n",
       "      <td>2025-01-01</td>\n",
       "      <td>2025-01-01</td>\n",
       "      <td>2028-12-31</td>\n",
       "      <td>135000.00</td>\n",
       "      <td>0</td>\n",
       "      <td>NaN</td>\n",
       "      <td>None</td>\n",
       "      <td>626</td>\n",
       "      <td>Unknown</td>\n",
       "      <td>NaN</td>\n",
       "      <td>NaN</td>\n",
       "      <td>Unknown</td>\n",
       "    </tr>\n",
       "    <tr>\n",
       "      <th>6</th>\n",
       "      <td>28614</td>\n",
       "      <td>70</td>\n",
       "      <td>EPSRC</td>\n",
       "      <td>EPSRC</td>\n",
       "      <td>TFS</td>\n",
       "      <td>2024-09-01</td>\n",
       "      <td>2024-09-01</td>\n",
       "      <td>2025-08-31</td>\n",
       "      <td>75432.68</td>\n",
       "      <td>0</td>\n",
       "      <td>NaN</td>\n",
       "      <td>None</td>\n",
       "      <td>70</td>\n",
       "      <td>Unknown</td>\n",
       "      <td>60000000.00</td>\n",
       "      <td>0.0</td>\n",
       "      <td>Unknown</td>\n",
       "    </tr>\n",
       "    <tr>\n",
       "      <th>7</th>\n",
       "      <td>30841</td>\n",
       "      <td>82</td>\n",
       "      <td>MRC</td>\n",
       "      <td>MRC</td>\n",
       "      <td>TFS</td>\n",
       "      <td>2024-12-01</td>\n",
       "      <td>2024-12-01</td>\n",
       "      <td>2026-05-31</td>\n",
       "      <td>233880.89</td>\n",
       "      <td>0</td>\n",
       "      <td>NaN</td>\n",
       "      <td>None</td>\n",
       "      <td>82</td>\n",
       "      <td>Unknown</td>\n",
       "      <td>26495000.00</td>\n",
       "      <td>45425000.0</td>\n",
       "      <td>Unknown</td>\n",
       "    </tr>\n",
       "    <tr>\n",
       "      <th>0</th>\n",
       "      <td>11799</td>\n",
       "      <td>95</td>\n",
       "      <td>EPSRC</td>\n",
       "      <td>EPSRC</td>\n",
       "      <td>TFS</td>\n",
       "      <td>2024-10-01</td>\n",
       "      <td>2024-05-01</td>\n",
       "      <td>2027-04-30</td>\n",
       "      <td>182026.09</td>\n",
       "      <td>0</td>\n",
       "      <td>NaN</td>\n",
       "      <td>None</td>\n",
       "      <td>95</td>\n",
       "      <td>Unknown</td>\n",
       "      <td>44635000.00</td>\n",
       "      <td>26142000.0</td>\n",
       "      <td>Unknown</td>\n",
       "    </tr>\n",
       "  </tbody>\n",
       "</table>\n",
       "</div>"
      ],
      "text/plain": [
       "   application_reference_x award_reference   funder administrator  \\\n",
       "5                     2449              10    BBSRC         BBSRC   \n",
       "8                    34827             111     ESRC          ESRC   \n",
       "2                     5972             120    EPSRC         EPSRC   \n",
       "1                    17787             130    EPSRC         EPSRC   \n",
       "11                   37837             172    EPSRC         EPSRC   \n",
       "16                   46969             228  Unknown           MRC   \n",
       "17                   48606             233  Unknown           MRC   \n",
       "9                    35401             240     NERC          NERC   \n",
       "10                   29458             253    EPSRC         EPSRC   \n",
       "19                   45013             269  Unknown          AHRC   \n",
       "20                   55293             272  Unknown          AHRC   \n",
       "24                   53780             387  Unknown         EPSRC   \n",
       "22                   52542             388  Unknown         EPSRC   \n",
       "23                   55434             389  Unknown         EPSRC   \n",
       "15                   43278             395  Unknown         EPSRC   \n",
       "21                   52188             404  Unknown         EPSRC   \n",
       "3                    17631              41     NERC          NERC   \n",
       "12                   39806             434      MRC           MRC   \n",
       "13                   43180             490      MRC           MRC   \n",
       "4                    19109             491      MRC           MRC   \n",
       "14                   44143             503  Unknown          AHRC   \n",
       "18                   47240             626    NC3Rs         NC3Rs   \n",
       "6                    28614              70    EPSRC         EPSRC   \n",
       "7                    30841              82      MRC           MRC   \n",
       "0                    11799              95    EPSRC         EPSRC   \n",
       "\n",
       "   application_source announced_start_date start_date   end_date  \\\n",
       "5                 TFS           2023-07-01 2023-07-01 2025-06-30   \n",
       "8                 TFS           2024-07-01 2024-07-01 2025-06-30   \n",
       "2                 TFS           2024-10-01 2024-05-01 2027-04-30   \n",
       "1                 TFS           2024-10-01 2024-08-01 2027-01-31   \n",
       "11                TFS           2024-10-01 2024-10-01 2025-09-30   \n",
       "16                TFS           2025-04-01 2025-04-01 2026-04-30   \n",
       "17                TFS           2024-11-01 2024-11-01 2025-10-31   \n",
       "9                 TFS           2024-10-01 2024-07-01 2028-06-30   \n",
       "10                TFS           2024-09-01 2024-09-01 2025-08-31   \n",
       "19                TFS           2025-02-01 2025-02-01 2026-01-31   \n",
       "20                TFS           2025-02-01 2025-01-01 2025-12-31   \n",
       "24                TFS           2025-01-01 2025-01-01 2026-06-30   \n",
       "22                TFS           2025-01-01 2025-01-01 2026-06-30   \n",
       "23                TFS           2025-01-01 2025-01-01 2026-06-30   \n",
       "15                TFS           2025-01-01 2025-01-01 2027-12-31   \n",
       "21                TFS           2025-01-01 2025-01-01 2026-06-30   \n",
       "3                 TFS           2024-02-01 2024-02-01 2027-01-31   \n",
       "12                TFS           2024-12-01 2024-12-01 2027-11-30   \n",
       "13                TFS           2025-01-01 2025-01-01 2026-12-31   \n",
       "4                 TFS           2024-10-01 2024-10-01 2027-09-30   \n",
       "14                TFS           2025-01-01 2025-01-01 2026-06-30   \n",
       "18                TFS           2025-01-01 2025-01-01 2028-12-31   \n",
       "6                 TFS           2024-09-01 2024-09-01 2025-08-31   \n",
       "7                 TFS           2024-12-01 2024-12-01 2026-05-31   \n",
       "0                 TFS           2024-10-01 2024-05-01 2027-04-30   \n",
       "\n",
       "    funded_amount  profiled_amount  project_cost termination_date  \\\n",
       "5       207395.24                0           NaN             None   \n",
       "8       171345.72                0           NaN             None   \n",
       "2       461600.44                0           NaN             None   \n",
       "1       390944.92                0           NaN             None   \n",
       "11       75826.77                0           NaN             None   \n",
       "16      242492.28                0           NaN             None   \n",
       "17      244382.00                0           NaN             None   \n",
       "9      4761440.31                0           NaN             None   \n",
       "10       75387.56                0           NaN             None   \n",
       "19      102034.82                0           NaN             None   \n",
       "20      102473.41                0           NaN             None   \n",
       "24      700000.00                0           NaN             None   \n",
       "22      330000.00                0           NaN             None   \n",
       "23      400000.00                0           NaN             None   \n",
       "15     1317036.47                0           NaN             None   \n",
       "21      597424.38                0           NaN             None   \n",
       "3       745324.00                0           NaN             None   \n",
       "12     1075178.20                0           NaN             None   \n",
       "13      518592.70                0           NaN             None   \n",
       "4       514306.61                0           NaN             None   \n",
       "14       81913.40                0           NaN             None   \n",
       "18      135000.00                0           NaN             None   \n",
       "6        75432.68                0           NaN             None   \n",
       "7       233880.89                0           NaN             None   \n",
       "0       182026.09                0           NaN             None   \n",
       "\n",
       "   application_reference_y project_partner_organisation_id   cash_value  \\\n",
       "5                       10                         Unknown  20130000.00   \n",
       "8                      111                         Unknown  18608000.00   \n",
       "2                      120                         Unknown   3988900.00   \n",
       "1                      130                         Unknown  52754000.00   \n",
       "11                     172                         Unknown  10006942.00   \n",
       "16                     228                         Unknown   3417717.00   \n",
       "17                     233                         Unknown   3085341.00   \n",
       "9                      240                         Unknown    355134.00   \n",
       "10                     253                         Unknown    227000.00   \n",
       "19                     269                         Unknown   2945000.00   \n",
       "20                     272                         Unknown    922648.00   \n",
       "24                     387                         Unknown    567446.00   \n",
       "22                     388                         Unknown    844967.00   \n",
       "23                     389                         Unknown    614829.21   \n",
       "15                     395                         Unknown         0.00   \n",
       "21                     404                         Unknown         0.00   \n",
       "3                       41                         Unknown  22763000.00   \n",
       "12                     434                         Unknown         0.00   \n",
       "13                     490                         Unknown         0.00   \n",
       "4                      491                         Unknown         0.00   \n",
       "14                     503                         Unknown         0.00   \n",
       "18                     626                         Unknown          NaN   \n",
       "6                       70                         Unknown  60000000.00   \n",
       "7                       82                         Unknown  26495000.00   \n",
       "0                       95                         Unknown  44635000.00   \n",
       "\n",
       "    in_kind_value organisation_source  \n",
       "5      19260000.0             Unknown  \n",
       "8       2347000.0             Unknown  \n",
       "2      26978000.0             Unknown  \n",
       "1             NaN             Unknown  \n",
       "11     10873000.0             Unknown  \n",
       "16            NaN             Unknown  \n",
       "17            NaN             Unknown  \n",
       "9             NaN             Unknown  \n",
       "10            NaN             Unknown  \n",
       "19            NaN             Unknown  \n",
       "20            NaN             Unknown  \n",
       "24            0.0             Unknown  \n",
       "22            0.0             Unknown  \n",
       "23            0.0             Unknown  \n",
       "15            0.0             Unknown  \n",
       "21            0.0             Unknown  \n",
       "3      18078000.0             Unknown  \n",
       "12            0.0             Unknown  \n",
       "13            0.0             Unknown  \n",
       "4             0.0             Unknown  \n",
       "14            0.0             Unknown  \n",
       "18            NaN             Unknown  \n",
       "6             0.0             Unknown  \n",
       "7      45425000.0             Unknown  \n",
       "0      26142000.0             Unknown  "
      ]
     },
     "execution_count": 89,
     "metadata": {},
     "output_type": "execute_result"
    }
   ],
   "source": [
    "pd.merge(\n",
    "    df[df['award_reference'].duplicated(keep=False)].dropna(subset='award_reference').drop_duplicates(subset=['award_reference', 'application_source'], keep=False),\n",
    "    pp_table,\n",
    "    on='award_reference').sort_values(by='award_reference').query('application_source != \"Research England\"')\n",
    "\n"
   ]
  },
  {
   "cell_type": "code",
   "execution_count": 87,
   "metadata": {},
   "outputs": [
    {
     "data": {
      "text/html": [
       "<div>\n",
       "<style scoped>\n",
       "    .dataframe tbody tr th:only-of-type {\n",
       "        vertical-align: middle;\n",
       "    }\n",
       "\n",
       "    .dataframe tbody tr th {\n",
       "        vertical-align: top;\n",
       "    }\n",
       "\n",
       "    .dataframe thead th {\n",
       "        text-align: right;\n",
       "    }\n",
       "</style>\n",
       "<table border=\"1\" class=\"dataframe\">\n",
       "  <thead>\n",
       "    <tr style=\"text-align: right;\">\n",
       "      <th></th>\n",
       "      <th>application_reference</th>\n",
       "      <th>award_reference</th>\n",
       "      <th>funder</th>\n",
       "      <th>administrator</th>\n",
       "      <th>application_source</th>\n",
       "      <th>announced_start_date</th>\n",
       "      <th>start_date</th>\n",
       "      <th>end_date</th>\n",
       "      <th>funded_amount</th>\n",
       "      <th>profiled_amount</th>\n",
       "      <th>project_cost</th>\n",
       "      <th>termination_date</th>\n",
       "    </tr>\n",
       "  </thead>\n",
       "  <tbody>\n",
       "    <tr>\n",
       "      <th>1491</th>\n",
       "      <td>30244</td>\n",
       "      <td>EP/Z536052/1</td>\n",
       "      <td>Unknown</td>\n",
       "      <td>EPSRC</td>\n",
       "      <td>TFS</td>\n",
       "      <td>None</td>\n",
       "      <td>2025-01-01</td>\n",
       "      <td>2028-12-31</td>\n",
       "      <td>5216140.37</td>\n",
       "      <td>0</td>\n",
       "      <td>NaN</td>\n",
       "      <td>None</td>\n",
       "    </tr>\n",
       "    <tr>\n",
       "      <th>2381</th>\n",
       "      <td>30244</td>\n",
       "      <td>EP/Z536052/1</td>\n",
       "      <td>Unknown</td>\n",
       "      <td>EPSRC</td>\n",
       "      <td>TFS</td>\n",
       "      <td>2025-01-01</td>\n",
       "      <td>2025-01-01</td>\n",
       "      <td>2028-12-31</td>\n",
       "      <td>5216140.37</td>\n",
       "      <td>0</td>\n",
       "      <td>NaN</td>\n",
       "      <td>None</td>\n",
       "    </tr>\n",
       "  </tbody>\n",
       "</table>\n",
       "</div>"
      ],
      "text/plain": [
       "     application_reference award_reference   funder administrator  \\\n",
       "1491                 30244    EP/Z536052/1  Unknown         EPSRC   \n",
       "2381                 30244    EP/Z536052/1  Unknown         EPSRC   \n",
       "\n",
       "     application_source announced_start_date start_date   end_date  \\\n",
       "1491                TFS                 None 2025-01-01 2028-12-31   \n",
       "2381                TFS           2025-01-01 2025-01-01 2028-12-31   \n",
       "\n",
       "      funded_amount  profiled_amount  project_cost termination_date  \n",
       "1491     5216140.37                0           NaN             None  \n",
       "2381     5216140.37                0           NaN             None  "
      ]
     },
     "execution_count": 87,
     "metadata": {},
     "output_type": "execute_result"
    }
   ],
   "source": [
    "df[df['award_reference'] == '277']\n",
    "df[df['award_reference'] == 'EP/Z536052/1']"
   ]
  },
  {
   "cell_type": "code",
   "execution_count": null,
   "metadata": {},
   "outputs": [],
   "source": []
  }
 ],
 "metadata": {
  "kernelspec": {
   "display_name": "base",
   "language": "python",
   "name": "python3"
  },
  "language_info": {
   "codemirror_mode": {
    "name": "ipython",
    "version": 3
   },
   "file_extension": ".py",
   "mimetype": "text/x-python",
   "name": "python",
   "nbconvert_exporter": "python",
   "pygments_lexer": "ipython3",
   "version": "3.12.7"
  }
 },
 "nbformat": 4,
 "nbformat_minor": 2
}
