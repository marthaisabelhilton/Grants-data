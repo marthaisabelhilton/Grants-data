{
 "cells": [
  {
   "cell_type": "code",
   "execution_count": 1,
   "metadata": {},
   "outputs": [
    {
     "name": "stdout",
     "output_type": "stream",
     "text": [
      "Hello World\n"
     ]
    }
   ],
   "source": [
    "print(\"Hello World\")"
   ]
  },
  {
   "cell_type": "code",
   "execution_count": 2,
   "metadata": {},
   "outputs": [],
   "source": [
    "import pandas as pd\n",
    "import pyodbc"
   ]
  },
  {
   "cell_type": "code",
   "execution_count": 3,
   "metadata": {},
   "outputs": [],
   "source": [
    "# Connect to DataBank\n",
    "connection_string = (\n",
    "    \"DSN=DataBank;\"\n",
    "    \"Trusted_Connection=yes;\"\n",
    ")\n",
    "\n",
    "con = pyodbc.connect(connection_string)"
   ]
  },
  {
   "cell_type": "code",
   "execution_count": 4,
   "metadata": {},
   "outputs": [
    {
     "name": "stderr",
     "output_type": "stream",
     "text": [
      "C:\\Users\\MHil02\\AppData\\Local\\Temp\\ipykernel_5888\\270502191.py:5: UserWarning: pandas only supports SQLAlchemy connectable (engine/connection) or database string URI or sqlite3 DBAPI2 connection. Other DBAPI2 objects are not tested. Please consider using SQLAlchemy.\n",
      "  df= pd.read_sql(qry, con)\n"
     ]
    }
   ],
   "source": [
    "# Write sql query\n",
    "qry = \"SELECT * FROM ukri_ssd_snapshot.2024_07_04_ssd_award;\"\n",
    "\n",
    "# Read sql query\n",
    "df= pd.read_sql(qry, con)"
   ]
  },
  {
   "cell_type": "code",
   "execution_count": 5,
   "metadata": {},
   "outputs": [
    {
     "data": {
      "text/plain": [
       "172"
      ]
     },
     "execution_count": 5,
     "metadata": {},
     "output_type": "execute_result"
    }
   ],
   "source": [
    "df['award_reference'].isna().sum()"
   ]
  },
  {
   "cell_type": "code",
   "execution_count": 6,
   "metadata": {},
   "outputs": [
    {
     "name": "stdout",
     "output_type": "stream",
     "text": [
      "26609\n"
     ]
    }
   ],
   "source": [
    "print(df['funded_amount'].isna().sum())"
   ]
  },
  {
   "cell_type": "code",
   "execution_count": 7,
   "metadata": {},
   "outputs": [],
   "source": [
    "df.drop(columns=['announced_start_date', 'profiled_amount', 'project_cost', 'termination_date'], inplace=True )"
   ]
  },
  {
   "cell_type": "code",
   "execution_count": 8,
   "metadata": {},
   "outputs": [
    {
     "data": {
      "text/plain": [
       "0"
      ]
     },
     "execution_count": 8,
     "metadata": {},
     "output_type": "execute_result"
    }
   ],
   "source": [
    "df['application_reference'].isna().sum()"
   ]
  },
  {
   "cell_type": "code",
   "execution_count": 9,
   "metadata": {},
   "outputs": [
    {
     "name": "stderr",
     "output_type": "stream",
     "text": [
      "C:\\Users\\MHil02\\AppData\\Local\\Temp\\ipykernel_5888\\3828076946.py:1: UserWarning: pandas only supports SQLAlchemy connectable (engine/connection) or database string URI or sqlite3 DBAPI2 connection. Other DBAPI2 objects are not tested. Please consider using SQLAlchemy.\n",
      "  ssd_organisation = pd.read_sql(\"SELECT * FROM ukri_ssd_snapshot.2024_07_04_ssd_organisation;\", con)\n"
     ]
    }
   ],
   "source": [
    "ssd_organisation = pd.read_sql(\"SELECT * FROM ukri_ssd_snapshot.2024_07_04_ssd_organisation;\", con)"
   ]
  },
  {
   "cell_type": "code",
   "execution_count": 10,
   "metadata": {},
   "outputs": [],
   "source": [
    "ssd_organisation = ssd_organisation[['organisation_id', 'ukprn', 'organisation_name', 'organisation_source']]"
   ]
  },
  {
   "cell_type": "code",
   "execution_count": 11,
   "metadata": {},
   "outputs": [
    {
     "data": {
      "text/plain": [
       "274"
      ]
     },
     "execution_count": 11,
     "metadata": {},
     "output_type": "execute_result"
    }
   ],
   "source": [
    "ssd_organisation[ssd_organisation[['organisation_id', 'ukprn']].duplicated(keep=False)].sort_values(by='organisation_id')\n",
    "ssd_organisation[['organisation_id', 'ukprn']].duplicated().sum()"
   ]
  },
  {
   "cell_type": "code",
   "execution_count": 12,
   "metadata": {},
   "outputs": [
    {
     "data": {
      "text/plain": [
       "array(['TFS', 'Siebel', 'Both Siebel & OffSystem', 'OffSystem', 'IUK',\n",
       "       None], dtype=object)"
      ]
     },
     "execution_count": 12,
     "metadata": {},
     "output_type": "execute_result"
    }
   ],
   "source": [
    "df['application_source'].unique()"
   ]
  },
  {
   "cell_type": "code",
   "execution_count": 13,
   "metadata": {},
   "outputs": [
    {
     "name": "stderr",
     "output_type": "stream",
     "text": [
      "C:\\Users\\MHil02\\AppData\\Local\\Temp\\ipykernel_5888\\2332307117.py:1: UserWarning: pandas only supports SQLAlchemy connectable (engine/connection) or database string URI or sqlite3 DBAPI2 connection. Other DBAPI2 objects are not tested. Please consider using SQLAlchemy.\n",
      "  df_application = pd.read_sql(\"SELECT * FROM ukri_ssd_snapshot.2024_07_04_ssd_application;\", con)\n"
     ]
    }
   ],
   "source": [
    "df_application = pd.read_sql(\"SELECT * FROM ukri_ssd_snapshot.2024_07_04_ssd_application;\", con)"
   ]
  },
  {
   "cell_type": "code",
   "execution_count": 14,
   "metadata": {},
   "outputs": [
    {
     "data": {
      "text/plain": [
       "0"
      ]
     },
     "execution_count": 14,
     "metadata": {},
     "output_type": "execute_result"
    }
   ],
   "source": [
    "df[['application_reference', 'application_source']].duplicated().sum()"
   ]
  },
  {
   "cell_type": "code",
   "execution_count": 15,
   "metadata": {},
   "outputs": [
    {
     "data": {
      "text/plain": [
       "Index(['application_reference', 'award_reference', 'funder', 'decision_owner',\n",
       "       'application_source', 'administrator', 'opportunity_id',\n",
       "       'opportunity_name', 'application_category', 'application_status',\n",
       "       'derived_status', 'decision_date', 'lead_organisation_id',\n",
       "       'lead_organisation_department_id', 'application_title',\n",
       "       'amount_applied_for', 'scheme', 'rejection_reason',\n",
       "       'date_last_received', 'publish_to_gtr', 'application_stage',\n",
       "       'application_stage_status', 'joint_proposal', 'parent_award',\n",
       "       'parent_award_reference', 'redact_abstract_on_gtr',\n",
       "       'organisation_source', 'international_programme'],\n",
       "      dtype='object')"
      ]
     },
     "execution_count": 15,
     "metadata": {},
     "output_type": "execute_result"
    }
   ],
   "source": [
    "df_application.columns"
   ]
  },
  {
   "cell_type": "code",
   "execution_count": 16,
   "metadata": {},
   "outputs": [],
   "source": [
    "data_application = df_application[['application_reference', 'application_source', 'application_title', 'decision_owner', \n",
    "                                   'application_category', 'lead_organisation_id', 'organisation_source']]"
   ]
  },
  {
   "cell_type": "code",
   "execution_count": 17,
   "metadata": {},
   "outputs": [
    {
     "data": {
      "text/plain": [
       "0"
      ]
     },
     "execution_count": 17,
     "metadata": {},
     "output_type": "execute_result"
    }
   ],
   "source": [
    "data_application[['application_reference', 'application_source']].duplicated().sum()"
   ]
  },
  {
   "cell_type": "code",
   "execution_count": 18,
   "metadata": {},
   "outputs": [],
   "source": [
    "data_merge = pd.merge(df, data_application, on=['application_reference', 'application_source'], how='left', indicator=True)"
   ]
  },
  {
   "cell_type": "code",
   "execution_count": 19,
   "metadata": {},
   "outputs": [
    {
     "data": {
      "text/html": [
       "<div>\n",
       "<style scoped>\n",
       "    .dataframe tbody tr th:only-of-type {\n",
       "        vertical-align: middle;\n",
       "    }\n",
       "\n",
       "    .dataframe tbody tr th {\n",
       "        vertical-align: top;\n",
       "    }\n",
       "\n",
       "    .dataframe thead th {\n",
       "        text-align: right;\n",
       "    }\n",
       "</style>\n",
       "<table border=\"1\" class=\"dataframe\">\n",
       "  <thead>\n",
       "    <tr style=\"text-align: right;\">\n",
       "      <th></th>\n",
       "      <th>application_reference</th>\n",
       "      <th>award_reference</th>\n",
       "      <th>funder</th>\n",
       "      <th>administrator</th>\n",
       "      <th>application_source</th>\n",
       "      <th>start_date</th>\n",
       "      <th>end_date</th>\n",
       "      <th>funded_amount</th>\n",
       "      <th>application_title</th>\n",
       "      <th>decision_owner</th>\n",
       "      <th>application_category</th>\n",
       "      <th>lead_organisation_id</th>\n",
       "      <th>organisation_source</th>\n",
       "      <th>_merge</th>\n",
       "    </tr>\n",
       "  </thead>\n",
       "  <tbody>\n",
       "  </tbody>\n",
       "</table>\n",
       "</div>"
      ],
      "text/plain": [
       "Empty DataFrame\n",
       "Columns: [application_reference, award_reference, funder, administrator, application_source, start_date, end_date, funded_amount, application_title, decision_owner, application_category, lead_organisation_id, organisation_source, _merge]\n",
       "Index: []"
      ]
     },
     "execution_count": 19,
     "metadata": {},
     "output_type": "execute_result"
    }
   ],
   "source": [
    "data_merge[data_merge['_merge'] == 'left_only']"
   ]
  },
  {
   "cell_type": "code",
   "execution_count": 20,
   "metadata": {},
   "outputs": [
    {
     "data": {
      "text/plain": [
       "0"
      ]
     },
     "execution_count": 20,
     "metadata": {},
     "output_type": "execute_result"
    }
   ],
   "source": [
    "ssd_organisation[['organisation_id', 'organisation_source']].duplicated().sum()"
   ]
  },
  {
   "cell_type": "code",
   "execution_count": 21,
   "metadata": {},
   "outputs": [],
   "source": [
    "data_w_org = pd.merge(data_merge.drop(columns='_merge'), ssd_organisation, left_on=['lead_organisation_id', 'organisation_source'],\n",
    "         right_on=['organisation_id', 'organisation_source'], how='left', indicator=True)"
   ]
  },
  {
   "cell_type": "code",
   "execution_count": 22,
   "metadata": {},
   "outputs": [
    {
     "data": {
      "text/html": [
       "<div>\n",
       "<style scoped>\n",
       "    .dataframe tbody tr th:only-of-type {\n",
       "        vertical-align: middle;\n",
       "    }\n",
       "\n",
       "    .dataframe tbody tr th {\n",
       "        vertical-align: top;\n",
       "    }\n",
       "\n",
       "    .dataframe thead th {\n",
       "        text-align: right;\n",
       "    }\n",
       "</style>\n",
       "<table border=\"1\" class=\"dataframe\">\n",
       "  <thead>\n",
       "    <tr style=\"text-align: right;\">\n",
       "      <th></th>\n",
       "      <th>application_reference</th>\n",
       "      <th>award_reference</th>\n",
       "      <th>funder</th>\n",
       "      <th>administrator</th>\n",
       "      <th>application_source</th>\n",
       "      <th>start_date</th>\n",
       "      <th>end_date</th>\n",
       "      <th>funded_amount</th>\n",
       "      <th>application_title</th>\n",
       "      <th>decision_owner</th>\n",
       "      <th>application_category</th>\n",
       "      <th>lead_organisation_id</th>\n",
       "      <th>organisation_source</th>\n",
       "      <th>organisation_id</th>\n",
       "      <th>ukprn</th>\n",
       "      <th>organisation_name</th>\n",
       "      <th>_merge</th>\n",
       "    </tr>\n",
       "  </thead>\n",
       "  <tbody>\n",
       "  </tbody>\n",
       "</table>\n",
       "</div>"
      ],
      "text/plain": [
       "Empty DataFrame\n",
       "Columns: [application_reference, award_reference, funder, administrator, application_source, start_date, end_date, funded_amount, application_title, decision_owner, application_category, lead_organisation_id, organisation_source, organisation_id, ukprn, organisation_name, _merge]\n",
       "Index: []"
      ]
     },
     "execution_count": 22,
     "metadata": {},
     "output_type": "execute_result"
    }
   ],
   "source": [
    "data_w_org[data_w_org['_merge'] == 'left_only']"
   ]
  },
  {
   "cell_type": "code",
   "execution_count": 23,
   "metadata": {},
   "outputs": [
    {
     "data": {
      "text/html": [
       "<div>\n",
       "<style scoped>\n",
       "    .dataframe tbody tr th:only-of-type {\n",
       "        vertical-align: middle;\n",
       "    }\n",
       "\n",
       "    .dataframe tbody tr th {\n",
       "        vertical-align: top;\n",
       "    }\n",
       "\n",
       "    .dataframe thead th {\n",
       "        text-align: right;\n",
       "    }\n",
       "</style>\n",
       "<table border=\"1\" class=\"dataframe\">\n",
       "  <thead>\n",
       "    <tr style=\"text-align: right;\">\n",
       "      <th></th>\n",
       "      <th>application_reference</th>\n",
       "      <th>award_reference</th>\n",
       "      <th>funder</th>\n",
       "      <th>administrator</th>\n",
       "      <th>application_source</th>\n",
       "      <th>start_date</th>\n",
       "      <th>end_date</th>\n",
       "      <th>funded_amount</th>\n",
       "      <th>application_title</th>\n",
       "      <th>decision_owner</th>\n",
       "      <th>application_category</th>\n",
       "      <th>lead_organisation_id</th>\n",
       "      <th>organisation_source</th>\n",
       "      <th>organisation_id</th>\n",
       "      <th>ukprn</th>\n",
       "      <th>organisation_name</th>\n",
       "      <th>_merge</th>\n",
       "    </tr>\n",
       "  </thead>\n",
       "  <tbody>\n",
       "    <tr>\n",
       "      <th>17</th>\n",
       "      <td>10672</td>\n",
       "      <td>MR/Z504713/1</td>\n",
       "      <td>MRC</td>\n",
       "      <td>MRC</td>\n",
       "      <td>TFS</td>\n",
       "      <td>2024-07-01</td>\n",
       "      <td>2029-06-30</td>\n",
       "      <td>2206878.69</td>\n",
       "      <td>Advancing lung function mapping with innovativ...</td>\n",
       "      <td>MRC</td>\n",
       "      <td>Fellowship</td>\n",
       "      <td>279</td>\n",
       "      <td>Siebel</td>\n",
       "      <td>279</td>\n",
       "      <td>10007784</td>\n",
       "      <td>University College London</td>\n",
       "      <td>both</td>\n",
       "    </tr>\n",
       "    <tr>\n",
       "      <th>24</th>\n",
       "      <td>10787</td>\n",
       "      <td>MR/Z504129/1</td>\n",
       "      <td>MRC</td>\n",
       "      <td>MRC</td>\n",
       "      <td>TFS</td>\n",
       "      <td>2024-09-01</td>\n",
       "      <td>2027-08-31</td>\n",
       "      <td>411056.72</td>\n",
       "      <td>Studying the impact of progranulin mutations o...</td>\n",
       "      <td>MRC</td>\n",
       "      <td>Fellowship</td>\n",
       "      <td>279</td>\n",
       "      <td>Siebel</td>\n",
       "      <td>279</td>\n",
       "      <td>10007784</td>\n",
       "      <td>University College London</td>\n",
       "      <td>both</td>\n",
       "    </tr>\n",
       "    <tr>\n",
       "      <th>33</th>\n",
       "      <td>11016</td>\n",
       "      <td>MR/Z504403/1</td>\n",
       "      <td>MRC</td>\n",
       "      <td>MRC</td>\n",
       "      <td>TFS</td>\n",
       "      <td>2024-09-01</td>\n",
       "      <td>2027-08-31</td>\n",
       "      <td>444439.32</td>\n",
       "      <td>Extending the genetic understanding of Thrombo...</td>\n",
       "      <td>MRC</td>\n",
       "      <td>Fellowship</td>\n",
       "      <td>279</td>\n",
       "      <td>Siebel</td>\n",
       "      <td>279</td>\n",
       "      <td>10007784</td>\n",
       "      <td>University College London</td>\n",
       "      <td>both</td>\n",
       "    </tr>\n",
       "    <tr>\n",
       "      <th>46</th>\n",
       "      <td>11330</td>\n",
       "      <td>MR/Z504476/1</td>\n",
       "      <td>MRC</td>\n",
       "      <td>MRC</td>\n",
       "      <td>TFS</td>\n",
       "      <td>2024-05-01</td>\n",
       "      <td>2027-04-30</td>\n",
       "      <td>728765.66</td>\n",
       "      <td>Determining the causal features of hippocampal...</td>\n",
       "      <td>MRC</td>\n",
       "      <td>Research Grant</td>\n",
       "      <td>279</td>\n",
       "      <td>Siebel</td>\n",
       "      <td>279</td>\n",
       "      <td>10007784</td>\n",
       "      <td>University College London</td>\n",
       "      <td>both</td>\n",
       "    </tr>\n",
       "    <tr>\n",
       "      <th>52</th>\n",
       "      <td>11447</td>\n",
       "      <td>MR/Z504312/1</td>\n",
       "      <td>Unknown</td>\n",
       "      <td>MRC</td>\n",
       "      <td>TFS</td>\n",
       "      <td>2024-07-01</td>\n",
       "      <td>2028-06-30</td>\n",
       "      <td>1283465.48</td>\n",
       "      <td>Visualising the early secretory pathway in situ</td>\n",
       "      <td>MRC</td>\n",
       "      <td>Research Grant</td>\n",
       "      <td>279</td>\n",
       "      <td>Siebel</td>\n",
       "      <td>279</td>\n",
       "      <td>10007784</td>\n",
       "      <td>University College London</td>\n",
       "      <td>both</td>\n",
       "    </tr>\n",
       "    <tr>\n",
       "      <th>...</th>\n",
       "      <td>...</td>\n",
       "      <td>...</td>\n",
       "      <td>...</td>\n",
       "      <td>...</td>\n",
       "      <td>...</td>\n",
       "      <td>...</td>\n",
       "      <td>...</td>\n",
       "      <td>...</td>\n",
       "      <td>...</td>\n",
       "      <td>...</td>\n",
       "      <td>...</td>\n",
       "      <td>...</td>\n",
       "      <td>...</td>\n",
       "      <td>...</td>\n",
       "      <td>...</td>\n",
       "      <td>...</td>\n",
       "      <td>...</td>\n",
       "    </tr>\n",
       "    <tr>\n",
       "      <th>207599</th>\n",
       "      <td>70</td>\n",
       "      <td>70</td>\n",
       "      <td>RE</td>\n",
       "      <td>RE</td>\n",
       "      <td>None</td>\n",
       "      <td>2020-04-01</td>\n",
       "      <td>2021-03-31</td>\n",
       "      <td>30000000.00</td>\n",
       "      <td>Project Oriel</td>\n",
       "      <td>RE</td>\n",
       "      <td>Capital grant</td>\n",
       "      <td>10007784</td>\n",
       "      <td>Unknown</td>\n",
       "      <td>10007784</td>\n",
       "      <td>None</td>\n",
       "      <td>University College London</td>\n",
       "      <td>both</td>\n",
       "    </tr>\n",
       "    <tr>\n",
       "      <th>207630</th>\n",
       "      <td>391</td>\n",
       "      <td>391</td>\n",
       "      <td>RE</td>\n",
       "      <td>RE</td>\n",
       "      <td>None</td>\n",
       "      <td>2020-04-01</td>\n",
       "      <td>2023-10-01</td>\n",
       "      <td>3953054.00</td>\n",
       "      <td>Transforming Academic-Policy Engagement (now c...</td>\n",
       "      <td>RE</td>\n",
       "      <td>None</td>\n",
       "      <td>10007784</td>\n",
       "      <td>Unknown</td>\n",
       "      <td>10007784</td>\n",
       "      <td>None</td>\n",
       "      <td>University College London</td>\n",
       "      <td>both</td>\n",
       "    </tr>\n",
       "    <tr>\n",
       "      <th>207672</th>\n",
       "      <td>496</td>\n",
       "      <td>496</td>\n",
       "      <td>RE</td>\n",
       "      <td>RE</td>\n",
       "      <td>None</td>\n",
       "      <td>2019-08-01</td>\n",
       "      <td>2020-08-01</td>\n",
       "      <td>509300.00</td>\n",
       "      <td>East London Inclusive Enterprise Zone</td>\n",
       "      <td>RE</td>\n",
       "      <td>None</td>\n",
       "      <td>10007784</td>\n",
       "      <td>Unknown</td>\n",
       "      <td>10007784</td>\n",
       "      <td>None</td>\n",
       "      <td>University College London</td>\n",
       "      <td>both</td>\n",
       "    </tr>\n",
       "    <tr>\n",
       "      <th>207753</th>\n",
       "      <td>843</td>\n",
       "      <td>843</td>\n",
       "      <td>RE</td>\n",
       "      <td>RE</td>\n",
       "      <td>None</td>\n",
       "      <td>2020-07-01</td>\n",
       "      <td>2022-06-01</td>\n",
       "      <td>414377.50</td>\n",
       "      <td>Increasing</td>\n",
       "      <td>RE</td>\n",
       "      <td>None</td>\n",
       "      <td>10007784</td>\n",
       "      <td>Unknown</td>\n",
       "      <td>10007784</td>\n",
       "      <td>None</td>\n",
       "      <td>University College London</td>\n",
       "      <td>both</td>\n",
       "    </tr>\n",
       "    <tr>\n",
       "      <th>207809</th>\n",
       "      <td>1007</td>\n",
       "      <td>1007</td>\n",
       "      <td>RE</td>\n",
       "      <td>RE</td>\n",
       "      <td>None</td>\n",
       "      <td>2022-01-31</td>\n",
       "      <td>2026-01-31</td>\n",
       "      <td>592457.25</td>\n",
       "      <td>In2research: Building a scalable PGR access an...</td>\n",
       "      <td>RE</td>\n",
       "      <td>None</td>\n",
       "      <td>10007784</td>\n",
       "      <td>Unknown</td>\n",
       "      <td>10007784</td>\n",
       "      <td>None</td>\n",
       "      <td>University College London</td>\n",
       "      <td>both</td>\n",
       "    </tr>\n",
       "  </tbody>\n",
       "</table>\n",
       "<p>7291 rows × 17 columns</p>\n",
       "</div>"
      ],
      "text/plain": [
       "       application_reference award_reference   funder administrator  \\\n",
       "17                     10672    MR/Z504713/1      MRC           MRC   \n",
       "24                     10787    MR/Z504129/1      MRC           MRC   \n",
       "33                     11016    MR/Z504403/1      MRC           MRC   \n",
       "46                     11330    MR/Z504476/1      MRC           MRC   \n",
       "52                     11447    MR/Z504312/1  Unknown           MRC   \n",
       "...                      ...             ...      ...           ...   \n",
       "207599                    70              70       RE            RE   \n",
       "207630                   391             391       RE            RE   \n",
       "207672                   496             496       RE            RE   \n",
       "207753                   843             843       RE            RE   \n",
       "207809                  1007            1007       RE            RE   \n",
       "\n",
       "       application_source start_date   end_date  funded_amount  \\\n",
       "17                    TFS 2024-07-01 2029-06-30     2206878.69   \n",
       "24                    TFS 2024-09-01 2027-08-31      411056.72   \n",
       "33                    TFS 2024-09-01 2027-08-31      444439.32   \n",
       "46                    TFS 2024-05-01 2027-04-30      728765.66   \n",
       "52                    TFS 2024-07-01 2028-06-30     1283465.48   \n",
       "...                   ...        ...        ...            ...   \n",
       "207599               None 2020-04-01 2021-03-31    30000000.00   \n",
       "207630               None 2020-04-01 2023-10-01     3953054.00   \n",
       "207672               None 2019-08-01 2020-08-01      509300.00   \n",
       "207753               None 2020-07-01 2022-06-01      414377.50   \n",
       "207809               None 2022-01-31 2026-01-31      592457.25   \n",
       "\n",
       "                                        application_title decision_owner  \\\n",
       "17      Advancing lung function mapping with innovativ...            MRC   \n",
       "24      Studying the impact of progranulin mutations o...            MRC   \n",
       "33      Extending the genetic understanding of Thrombo...            MRC   \n",
       "46      Determining the causal features of hippocampal...            MRC   \n",
       "52        Visualising the early secretory pathway in situ            MRC   \n",
       "...                                                   ...            ...   \n",
       "207599                                      Project Oriel             RE   \n",
       "207630  Transforming Academic-Policy Engagement (now c...             RE   \n",
       "207672              East London Inclusive Enterprise Zone             RE   \n",
       "207753                                         Increasing             RE   \n",
       "207809  In2research: Building a scalable PGR access an...             RE   \n",
       "\n",
       "       application_category lead_organisation_id organisation_source  \\\n",
       "17               Fellowship                  279              Siebel   \n",
       "24               Fellowship                  279              Siebel   \n",
       "33               Fellowship                  279              Siebel   \n",
       "46           Research Grant                  279              Siebel   \n",
       "52           Research Grant                  279              Siebel   \n",
       "...                     ...                  ...                 ...   \n",
       "207599        Capital grant             10007784             Unknown   \n",
       "207630                 None             10007784             Unknown   \n",
       "207672                 None             10007784             Unknown   \n",
       "207753                 None             10007784             Unknown   \n",
       "207809                 None             10007784             Unknown   \n",
       "\n",
       "       organisation_id     ukprn          organisation_name _merge  \n",
       "17                 279  10007784  University College London   both  \n",
       "24                 279  10007784  University College London   both  \n",
       "33                 279  10007784  University College London   both  \n",
       "46                 279  10007784  University College London   both  \n",
       "52                 279  10007784  University College London   both  \n",
       "...                ...       ...                        ...    ...  \n",
       "207599        10007784      None  University College London   both  \n",
       "207630        10007784      None  University College London   both  \n",
       "207672        10007784      None  University College London   both  \n",
       "207753        10007784      None  University College London   both  \n",
       "207809        10007784      None  University College London   both  \n",
       "\n",
       "[7291 rows x 17 columns]"
      ]
     },
     "execution_count": 23,
     "metadata": {},
     "output_type": "execute_result"
    }
   ],
   "source": [
    "data_w_org[data_w_org['organisation_name'] == 'University College London']"
   ]
  },
  {
   "cell_type": "code",
   "execution_count": 24,
   "metadata": {},
   "outputs": [
    {
     "name": "stdout",
     "output_type": "stream",
     "text": [
      "Today's date: 2024-09-17\n"
     ]
    }
   ],
   "source": [
    "from datetime import date\n",
    "\n",
    "today = date.today()\n",
    "print(\"Today's date:\", today)"
   ]
  },
  {
   "cell_type": "code",
   "execution_count": 25,
   "metadata": {},
   "outputs": [
    {
     "name": "stdout",
     "output_type": "stream",
     "text": [
      "26609\n",
      "207819\n"
     ]
    }
   ],
   "source": [
    "print(data_w_org['funded_amount'].isna().sum())\n",
    "\n",
    "print(len(data_w_org))\n"
   ]
  },
  {
   "cell_type": "code",
   "execution_count": 26,
   "metadata": {},
   "outputs": [
    {
     "data": {
      "text/plain": [
       "0.1280393034323137"
      ]
     },
     "execution_count": 26,
     "metadata": {},
     "output_type": "execute_result"
    }
   ],
   "source": [
    "26609/207819"
   ]
  },
  {
   "cell_type": "code",
   "execution_count": 27,
   "metadata": {},
   "outputs": [
    {
     "name": "stdout",
     "output_type": "stream",
     "text": [
      "3137\n",
      "207819\n"
     ]
    }
   ],
   "source": [
    "print(data_w_org['start_date'].isna().sum())\n",
    "\n",
    "print(len(data_w_org))\n"
   ]
  },
  {
   "cell_type": "code",
   "execution_count": 28,
   "metadata": {},
   "outputs": [
    {
     "name": "stdout",
     "output_type": "stream",
     "text": [
      "3626503.0\n"
     ]
    }
   ],
   "source": [
    "\n",
    "print(data_w_org[data_w_org['start_date'].isna()]['funded_amount'].sum())\n",
    "\n",
    "# exclude those with start date is nan\n",
    "data_ = data_w_org[~data_w_org['start_date'].isna()]\n"
   ]
  },
  {
   "cell_type": "code",
   "execution_count": 29,
   "metadata": {},
   "outputs": [
    {
     "name": "stderr",
     "output_type": "stream",
     "text": [
      "C:\\Users\\MHil02\\AppData\\Local\\Temp\\ipykernel_5888\\369158640.py:4: SettingWithCopyWarning: \n",
      "A value is trying to be set on a copy of a slice from a DataFrame.\n",
      "Try using .loc[row_indexer,col_indexer] = value instead\n",
      "\n",
      "See the caveats in the documentation: https://pandas.pydata.org/pandas-docs/stable/user_guide/indexing.html#returning-a-view-versus-a-copy\n",
      "  data_['end_date'] = pd.to_datetime(data_['end_date'].fillna(data_['start_date']))\n"
     ]
    },
    {
     "name": "stdout",
     "output_type": "stream",
     "text": [
      "23572\n"
     ]
    }
   ],
   "source": [
    "\n",
    "\n",
    "data_[data_['end_date'].isna()].sort_values(by='start_date')\n",
    "# for end data is na put the start date\n",
    "\n",
    "data_['end_date'] = pd.to_datetime(data_['end_date'].fillna(data_['start_date']))\n",
    "\n",
    "# start date in the past\n",
    "data_[data_['start_date'] < pd.to_datetime(today)]\n",
    "\n",
    "# exclude those with start date greater than end date because we cannot say if they are active\n",
    "data_ = data_[data_['start_date'] <= data_['end_date']]\n",
    "\n",
    "print(data_['funded_amount'].isna().sum())\n",
    "\n",
    "data_.drop(columns='funder', inplace=True)\n",
    "\n",
    "data_['Active'] = 'Active'\n",
    "\n",
    "data_.loc[data_.start_date > pd.to_datetime(today), 'Active'] = 'Future'\n",
    "\n",
    "data_.loc[data_.end_date < pd.to_datetime(today), 'Active'] = 'Past'\n"
   ]
  },
  {
   "cell_type": "code",
   "execution_count": 30,
   "metadata": {},
   "outputs": [
    {
     "data": {
      "text/html": [
       "<div>\n",
       "<style scoped>\n",
       "    .dataframe tbody tr th:only-of-type {\n",
       "        vertical-align: middle;\n",
       "    }\n",
       "\n",
       "    .dataframe tbody tr th {\n",
       "        vertical-align: top;\n",
       "    }\n",
       "\n",
       "    .dataframe thead th {\n",
       "        text-align: right;\n",
       "    }\n",
       "</style>\n",
       "<table border=\"1\" class=\"dataframe\">\n",
       "  <thead>\n",
       "    <tr style=\"text-align: right;\">\n",
       "      <th></th>\n",
       "      <th>application_reference</th>\n",
       "      <th>award_reference</th>\n",
       "      <th>administrator</th>\n",
       "      <th>application_source</th>\n",
       "      <th>start_date</th>\n",
       "      <th>end_date</th>\n",
       "      <th>funded_amount</th>\n",
       "      <th>application_title</th>\n",
       "      <th>decision_owner</th>\n",
       "      <th>application_category</th>\n",
       "      <th>lead_organisation_id</th>\n",
       "      <th>organisation_source</th>\n",
       "      <th>organisation_id</th>\n",
       "      <th>ukprn</th>\n",
       "      <th>organisation_name</th>\n",
       "      <th>_merge</th>\n",
       "      <th>Active</th>\n",
       "    </tr>\n",
       "  </thead>\n",
       "  <tbody>\n",
       "    <tr>\n",
       "      <th>17</th>\n",
       "      <td>10672</td>\n",
       "      <td>MR/Z504713/1</td>\n",
       "      <td>MRC</td>\n",
       "      <td>TFS</td>\n",
       "      <td>2024-07-01</td>\n",
       "      <td>2029-06-30</td>\n",
       "      <td>2206878.69</td>\n",
       "      <td>Advancing lung function mapping with innovativ...</td>\n",
       "      <td>MRC</td>\n",
       "      <td>Fellowship</td>\n",
       "      <td>279</td>\n",
       "      <td>Siebel</td>\n",
       "      <td>279</td>\n",
       "      <td>10007784</td>\n",
       "      <td>University College London</td>\n",
       "      <td>both</td>\n",
       "      <td>Active</td>\n",
       "    </tr>\n",
       "    <tr>\n",
       "      <th>24</th>\n",
       "      <td>10787</td>\n",
       "      <td>MR/Z504129/1</td>\n",
       "      <td>MRC</td>\n",
       "      <td>TFS</td>\n",
       "      <td>2024-09-01</td>\n",
       "      <td>2027-08-31</td>\n",
       "      <td>411056.72</td>\n",
       "      <td>Studying the impact of progranulin mutations o...</td>\n",
       "      <td>MRC</td>\n",
       "      <td>Fellowship</td>\n",
       "      <td>279</td>\n",
       "      <td>Siebel</td>\n",
       "      <td>279</td>\n",
       "      <td>10007784</td>\n",
       "      <td>University College London</td>\n",
       "      <td>both</td>\n",
       "      <td>Active</td>\n",
       "    </tr>\n",
       "    <tr>\n",
       "      <th>33</th>\n",
       "      <td>11016</td>\n",
       "      <td>MR/Z504403/1</td>\n",
       "      <td>MRC</td>\n",
       "      <td>TFS</td>\n",
       "      <td>2024-09-01</td>\n",
       "      <td>2027-08-31</td>\n",
       "      <td>444439.32</td>\n",
       "      <td>Extending the genetic understanding of Thrombo...</td>\n",
       "      <td>MRC</td>\n",
       "      <td>Fellowship</td>\n",
       "      <td>279</td>\n",
       "      <td>Siebel</td>\n",
       "      <td>279</td>\n",
       "      <td>10007784</td>\n",
       "      <td>University College London</td>\n",
       "      <td>both</td>\n",
       "      <td>Active</td>\n",
       "    </tr>\n",
       "    <tr>\n",
       "      <th>46</th>\n",
       "      <td>11330</td>\n",
       "      <td>MR/Z504476/1</td>\n",
       "      <td>MRC</td>\n",
       "      <td>TFS</td>\n",
       "      <td>2024-05-01</td>\n",
       "      <td>2027-04-30</td>\n",
       "      <td>728765.66</td>\n",
       "      <td>Determining the causal features of hippocampal...</td>\n",
       "      <td>MRC</td>\n",
       "      <td>Research Grant</td>\n",
       "      <td>279</td>\n",
       "      <td>Siebel</td>\n",
       "      <td>279</td>\n",
       "      <td>10007784</td>\n",
       "      <td>University College London</td>\n",
       "      <td>both</td>\n",
       "      <td>Active</td>\n",
       "    </tr>\n",
       "    <tr>\n",
       "      <th>52</th>\n",
       "      <td>11447</td>\n",
       "      <td>MR/Z504312/1</td>\n",
       "      <td>MRC</td>\n",
       "      <td>TFS</td>\n",
       "      <td>2024-07-01</td>\n",
       "      <td>2028-06-30</td>\n",
       "      <td>1283465.48</td>\n",
       "      <td>Visualising the early secretory pathway in situ</td>\n",
       "      <td>MRC</td>\n",
       "      <td>Research Grant</td>\n",
       "      <td>279</td>\n",
       "      <td>Siebel</td>\n",
       "      <td>279</td>\n",
       "      <td>10007784</td>\n",
       "      <td>University College London</td>\n",
       "      <td>both</td>\n",
       "      <td>Active</td>\n",
       "    </tr>\n",
       "    <tr>\n",
       "      <th>...</th>\n",
       "      <td>...</td>\n",
       "      <td>...</td>\n",
       "      <td>...</td>\n",
       "      <td>...</td>\n",
       "      <td>...</td>\n",
       "      <td>...</td>\n",
       "      <td>...</td>\n",
       "      <td>...</td>\n",
       "      <td>...</td>\n",
       "      <td>...</td>\n",
       "      <td>...</td>\n",
       "      <td>...</td>\n",
       "      <td>...</td>\n",
       "      <td>...</td>\n",
       "      <td>...</td>\n",
       "      <td>...</td>\n",
       "      <td>...</td>\n",
       "    </tr>\n",
       "    <tr>\n",
       "      <th>207599</th>\n",
       "      <td>70</td>\n",
       "      <td>70</td>\n",
       "      <td>RE</td>\n",
       "      <td>None</td>\n",
       "      <td>2020-04-01</td>\n",
       "      <td>2021-03-31</td>\n",
       "      <td>30000000.00</td>\n",
       "      <td>Project Oriel</td>\n",
       "      <td>RE</td>\n",
       "      <td>Capital grant</td>\n",
       "      <td>10007784</td>\n",
       "      <td>Unknown</td>\n",
       "      <td>10007784</td>\n",
       "      <td>None</td>\n",
       "      <td>University College London</td>\n",
       "      <td>both</td>\n",
       "      <td>Past</td>\n",
       "    </tr>\n",
       "    <tr>\n",
       "      <th>207630</th>\n",
       "      <td>391</td>\n",
       "      <td>391</td>\n",
       "      <td>RE</td>\n",
       "      <td>None</td>\n",
       "      <td>2020-04-01</td>\n",
       "      <td>2023-10-01</td>\n",
       "      <td>3953054.00</td>\n",
       "      <td>Transforming Academic-Policy Engagement (now c...</td>\n",
       "      <td>RE</td>\n",
       "      <td>None</td>\n",
       "      <td>10007784</td>\n",
       "      <td>Unknown</td>\n",
       "      <td>10007784</td>\n",
       "      <td>None</td>\n",
       "      <td>University College London</td>\n",
       "      <td>both</td>\n",
       "      <td>Past</td>\n",
       "    </tr>\n",
       "    <tr>\n",
       "      <th>207672</th>\n",
       "      <td>496</td>\n",
       "      <td>496</td>\n",
       "      <td>RE</td>\n",
       "      <td>None</td>\n",
       "      <td>2019-08-01</td>\n",
       "      <td>2020-08-01</td>\n",
       "      <td>509300.00</td>\n",
       "      <td>East London Inclusive Enterprise Zone</td>\n",
       "      <td>RE</td>\n",
       "      <td>None</td>\n",
       "      <td>10007784</td>\n",
       "      <td>Unknown</td>\n",
       "      <td>10007784</td>\n",
       "      <td>None</td>\n",
       "      <td>University College London</td>\n",
       "      <td>both</td>\n",
       "      <td>Past</td>\n",
       "    </tr>\n",
       "    <tr>\n",
       "      <th>207753</th>\n",
       "      <td>843</td>\n",
       "      <td>843</td>\n",
       "      <td>RE</td>\n",
       "      <td>None</td>\n",
       "      <td>2020-07-01</td>\n",
       "      <td>2022-06-01</td>\n",
       "      <td>414377.50</td>\n",
       "      <td>Increasing</td>\n",
       "      <td>RE</td>\n",
       "      <td>None</td>\n",
       "      <td>10007784</td>\n",
       "      <td>Unknown</td>\n",
       "      <td>10007784</td>\n",
       "      <td>None</td>\n",
       "      <td>University College London</td>\n",
       "      <td>both</td>\n",
       "      <td>Past</td>\n",
       "    </tr>\n",
       "    <tr>\n",
       "      <th>207809</th>\n",
       "      <td>1007</td>\n",
       "      <td>1007</td>\n",
       "      <td>RE</td>\n",
       "      <td>None</td>\n",
       "      <td>2022-01-31</td>\n",
       "      <td>2026-01-31</td>\n",
       "      <td>592457.25</td>\n",
       "      <td>In2research: Building a scalable PGR access an...</td>\n",
       "      <td>RE</td>\n",
       "      <td>None</td>\n",
       "      <td>10007784</td>\n",
       "      <td>Unknown</td>\n",
       "      <td>10007784</td>\n",
       "      <td>None</td>\n",
       "      <td>University College London</td>\n",
       "      <td>both</td>\n",
       "      <td>Active</td>\n",
       "    </tr>\n",
       "  </tbody>\n",
       "</table>\n",
       "<p>7290 rows × 17 columns</p>\n",
       "</div>"
      ],
      "text/plain": [
       "       application_reference award_reference administrator application_source  \\\n",
       "17                     10672    MR/Z504713/1           MRC                TFS   \n",
       "24                     10787    MR/Z504129/1           MRC                TFS   \n",
       "33                     11016    MR/Z504403/1           MRC                TFS   \n",
       "46                     11330    MR/Z504476/1           MRC                TFS   \n",
       "52                     11447    MR/Z504312/1           MRC                TFS   \n",
       "...                      ...             ...           ...                ...   \n",
       "207599                    70              70            RE               None   \n",
       "207630                   391             391            RE               None   \n",
       "207672                   496             496            RE               None   \n",
       "207753                   843             843            RE               None   \n",
       "207809                  1007            1007            RE               None   \n",
       "\n",
       "       start_date   end_date  funded_amount  \\\n",
       "17     2024-07-01 2029-06-30     2206878.69   \n",
       "24     2024-09-01 2027-08-31      411056.72   \n",
       "33     2024-09-01 2027-08-31      444439.32   \n",
       "46     2024-05-01 2027-04-30      728765.66   \n",
       "52     2024-07-01 2028-06-30     1283465.48   \n",
       "...           ...        ...            ...   \n",
       "207599 2020-04-01 2021-03-31    30000000.00   \n",
       "207630 2020-04-01 2023-10-01     3953054.00   \n",
       "207672 2019-08-01 2020-08-01      509300.00   \n",
       "207753 2020-07-01 2022-06-01      414377.50   \n",
       "207809 2022-01-31 2026-01-31      592457.25   \n",
       "\n",
       "                                        application_title decision_owner  \\\n",
       "17      Advancing lung function mapping with innovativ...            MRC   \n",
       "24      Studying the impact of progranulin mutations o...            MRC   \n",
       "33      Extending the genetic understanding of Thrombo...            MRC   \n",
       "46      Determining the causal features of hippocampal...            MRC   \n",
       "52        Visualising the early secretory pathway in situ            MRC   \n",
       "...                                                   ...            ...   \n",
       "207599                                      Project Oriel             RE   \n",
       "207630  Transforming Academic-Policy Engagement (now c...             RE   \n",
       "207672              East London Inclusive Enterprise Zone             RE   \n",
       "207753                                         Increasing             RE   \n",
       "207809  In2research: Building a scalable PGR access an...             RE   \n",
       "\n",
       "       application_category lead_organisation_id organisation_source  \\\n",
       "17               Fellowship                  279              Siebel   \n",
       "24               Fellowship                  279              Siebel   \n",
       "33               Fellowship                  279              Siebel   \n",
       "46           Research Grant                  279              Siebel   \n",
       "52           Research Grant                  279              Siebel   \n",
       "...                     ...                  ...                 ...   \n",
       "207599        Capital grant             10007784             Unknown   \n",
       "207630                 None             10007784             Unknown   \n",
       "207672                 None             10007784             Unknown   \n",
       "207753                 None             10007784             Unknown   \n",
       "207809                 None             10007784             Unknown   \n",
       "\n",
       "       organisation_id     ukprn          organisation_name _merge  Active  \n",
       "17                 279  10007784  University College London   both  Active  \n",
       "24                 279  10007784  University College London   both  Active  \n",
       "33                 279  10007784  University College London   both  Active  \n",
       "46                 279  10007784  University College London   both  Active  \n",
       "52                 279  10007784  University College London   both  Active  \n",
       "...                ...       ...                        ...    ...     ...  \n",
       "207599        10007784      None  University College London   both    Past  \n",
       "207630        10007784      None  University College London   both    Past  \n",
       "207672        10007784      None  University College London   both    Past  \n",
       "207753        10007784      None  University College London   both    Past  \n",
       "207809        10007784      None  University College London   both  Active  \n",
       "\n",
       "[7290 rows x 17 columns]"
      ]
     },
     "execution_count": 30,
     "metadata": {},
     "output_type": "execute_result"
    }
   ],
   "source": [
    "data_[data_['organisation_name'] == 'University College London']"
   ]
  },
  {
   "cell_type": "code",
   "execution_count": 31,
   "metadata": {},
   "outputs": [],
   "source": [
    "data_[data_['Active'] == 'Active'].sort_values(by='funded_amount', ascending=False).to_csv('active_grants.csv', index=False)"
   ]
  },
  {
   "cell_type": "code",
   "execution_count": 32,
   "metadata": {},
   "outputs": [],
   "source": [
    "data_.drop(columns=['award_reference', 'application_source', 'lead_organisation_id', 'organisation_source', '_merge'], inplace=True)"
   ]
  },
  {
   "cell_type": "code",
   "execution_count": 33,
   "metadata": {},
   "outputs": [],
   "source": [
    "writer = pd.ExcelWriter('active_grants.xlsx', engine = 'xlsxwriter')"
   ]
  },
  {
   "cell_type": "code",
   "execution_count": 34,
   "metadata": {},
   "outputs": [],
   "source": [
    "data_[data_['Active'] == 'Active'].sort_values(by='funded_amount', ascending=False).to_excel(writer, sheet_name='Active', index=False)"
   ]
  },
  {
   "cell_type": "code",
   "execution_count": 33,
   "metadata": {},
   "outputs": [],
   "source": []
  },
  {
   "cell_type": "code",
   "execution_count": 35,
   "metadata": {},
   "outputs": [],
   "source": [
    "data_[data_['Active'] == 'Future'].sort_values(by='funded_amount', ascending=False).to_excel(writer, sheet_name='Future', index=False)"
   ]
  },
  {
   "cell_type": "code",
   "execution_count": 36,
   "metadata": {},
   "outputs": [
    {
     "data": {
      "text/plain": [
       "funded_amount    3626503.0\n",
       "dtype: float64"
      ]
     },
     "execution_count": 36,
     "metadata": {},
     "output_type": "execute_result"
    }
   ],
   "source": [
    "df[df['start_date'].isna()].sum(numeric_only=True)"
   ]
  },
  {
   "cell_type": "code",
   "execution_count": 37,
   "metadata": {},
   "outputs": [],
   "source": [
    "# STFC grants pivot table with organisation, number of grants and total value\n",
    "\n",
    "data_stfc = data_.copy()[(data_['Active'] != 'Past') & (data_['administrator'] == 'STFC')]\n",
    "data_stfc['application_reference'].duplicated().sum()\n",
    "\n",
    "data_select = data_stfc.copy()[['application_reference', 'start_date', 'funded_amount', 'organisation_name', 'Active']]\n",
    "\n",
    "data_select['Year'] = data_select['start_date'].dt.year\n",
    "\n",
    "data_Agg = data_select.groupby(['organisation_name', 'Active', 'Year'], as_index=False).agg({'application_reference':'nunique',\n",
    "                                                                                  'funded_amount':'sum'})"
   ]
  },
  {
   "cell_type": "code",
   "execution_count": 38,
   "metadata": {},
   "outputs": [],
   "source": [
    "data_Agg[data_Agg['Active'] == 'Active'].pivot(columns='Year', index='organisation_name', values='funded_amount').to_excel(writer, sheet_name='STFC Active Amount')"
   ]
  },
  {
   "cell_type": "code",
   "execution_count": 39,
   "metadata": {},
   "outputs": [],
   "source": [
    "data_Agg[data_Agg['Active'] == 'Active'].pivot(columns='Year', index='organisation_name', values='application_reference').to_excel(writer, sheet_name='STFC Active Num')"
   ]
  },
  {
   "cell_type": "code",
   "execution_count": 40,
   "metadata": {},
   "outputs": [],
   "source": [
    "data_Agg[data_Agg['Active'] == 'Future'].pivot(columns='Year', index='organisation_name', values='funded_amount').to_excel(writer, sheet_name='STFC Future Amount')"
   ]
  },
  {
   "cell_type": "code",
   "execution_count": 41,
   "metadata": {},
   "outputs": [],
   "source": [
    "data_Agg[data_Agg['Active'] == 'Future'].pivot(columns='Year', index='organisation_name', values='application_reference').to_excel(writer, sheet_name='STFC Future Num')"
   ]
  },
  {
   "cell_type": "code",
   "execution_count": 42,
   "metadata": {},
   "outputs": [],
   "source": [
    "writer.close()"
   ]
  },
  {
   "cell_type": "code",
   "execution_count": 43,
   "metadata": {},
   "outputs": [],
   "source": [
    "writer = pd.ExcelWriter('Council_grants.xlsx', engine = 'xlsxwriter')"
   ]
  },
  {
   "cell_type": "code",
   "execution_count": 44,
   "metadata": {},
   "outputs": [],
   "source": [
    "# grants pivot table with organisation, number of grants and total value\n",
    "\n",
    "data_current = data_.copy()[(data_['Active'] != 'Past')]\n",
    "\n",
    "data_select = data_current.copy()[['application_reference', 'administrator', 'start_date', 'funded_amount', \n",
    "                                   'organisation_name', 'Active']]\n",
    "\n",
    "data_select['Year'] = data_select['start_date'].dt.year\n",
    "\n",
    "data_Agg = data_select.groupby(['organisation_name', 'administrator', 'Active', \n",
    "                                'Year'], as_index=False).agg({'application_reference':'nunique',\n",
    "                                                                'funded_amount':'sum'})"
   ]
  },
  {
   "cell_type": "code",
   "execution_count": 45,
   "metadata": {},
   "outputs": [
    {
     "data": {
      "text/html": [
       "<div>\n",
       "<style scoped>\n",
       "    .dataframe tbody tr th:only-of-type {\n",
       "        vertical-align: middle;\n",
       "    }\n",
       "\n",
       "    .dataframe tbody tr th {\n",
       "        vertical-align: top;\n",
       "    }\n",
       "\n",
       "    .dataframe thead th {\n",
       "        text-align: right;\n",
       "    }\n",
       "</style>\n",
       "<table border=\"1\" class=\"dataframe\">\n",
       "  <thead>\n",
       "    <tr style=\"text-align: right;\">\n",
       "      <th></th>\n",
       "      <th>organisation_name</th>\n",
       "      <th>administrator</th>\n",
       "      <th>Active</th>\n",
       "      <th>Year</th>\n",
       "      <th>application_reference</th>\n",
       "      <th>funded_amount</th>\n",
       "    </tr>\n",
       "  </thead>\n",
       "  <tbody>\n",
       "  </tbody>\n",
       "</table>\n",
       "</div>"
      ],
      "text/plain": [
       "Empty DataFrame\n",
       "Columns: [organisation_name, administrator, Active, Year, application_reference, funded_amount]\n",
       "Index: []"
      ]
     },
     "execution_count": 45,
     "metadata": {},
     "output_type": "execute_result"
    }
   ],
   "source": [
    "data_Agg[data_Agg['organisation_name'] == 0]"
   ]
  },
  {
   "cell_type": "code",
   "execution_count": 46,
   "metadata": {},
   "outputs": [],
   "source": [
    "import numpy as np"
   ]
  },
  {
   "cell_type": "code",
   "execution_count": 47,
   "metadata": {},
   "outputs": [
    {
     "name": "stderr",
     "output_type": "stream",
     "text": [
      "C:\\Users\\MHil02\\AppData\\Local\\Temp\\ipykernel_5888\\2077863735.py:1: FutureWarning: A value is trying to be set on a copy of a DataFrame or Series through chained assignment using an inplace method.\n",
      "The behavior will change in pandas 3.0. This inplace method will never work because the intermediate object on which we are setting values always behaves as a copy.\n",
      "\n",
      "For example, when doing 'df[col].method(value, inplace=True)', try using 'df.method({col: value}, inplace=True)' or df[col] = df[col].method(value) instead, to perform the operation inplace on the original object.\n",
      "\n",
      "\n",
      "  data_Agg['funded_amount'].replace(0, np.nan, inplace=True)\n"
     ]
    }
   ],
   "source": [
    "data_Agg['funded_amount'].replace(0, np.nan, inplace=True)\n",
    "\n",
    "data_active = data_Agg.copy()[data_Agg['Active'] == 'Active']\n",
    "\n",
    "data_pivot = data_active.pivot(columns='Year', index=['organisation_name', 'administrator'], values='funded_amount').reset_index()\n",
    "\n",
    "data_pivot.dropna(how='all', axis=1).to_excel(writer, sheet_name='Active Value', index=False)"
   ]
  },
  {
   "cell_type": "code",
   "execution_count": 48,
   "metadata": {},
   "outputs": [],
   "source": [
    "data_pivot = data_active.pivot(columns='Year', index=['organisation_name', 'administrator'], values='application_reference').reset_index()\n",
    "\n",
    "data_pivot.dropna(how='all', axis=1).to_excel(writer, sheet_name='Active Number', index=False)"
   ]
  },
  {
   "cell_type": "code",
   "execution_count": 49,
   "metadata": {},
   "outputs": [],
   "source": [
    "data_future = data_Agg.copy()[data_Agg['Active'] == 'Future']\n",
    "\n",
    "data_pivot = data_future.pivot(columns='Year', index=['organisation_name', 'administrator'], values='application_reference').reset_index()\n",
    "\n",
    "data_pivot.dropna(how='all', axis=1).to_excel(writer, sheet_name='Future Number', index=False)"
   ]
  },
  {
   "cell_type": "code",
   "execution_count": 50,
   "metadata": {},
   "outputs": [],
   "source": [
    "data_pivot = data_future.pivot(columns='Year', index=['organisation_name', 'administrator'], values='funded_amount').reset_index()\n",
    "\n",
    "data_pivot.dropna(how='all', axis=1).to_excel(writer, sheet_name='Future Amount', index=False)"
   ]
  },
  {
   "cell_type": "code",
   "execution_count": 51,
   "metadata": {},
   "outputs": [],
   "source": [
    "writer.close()"
   ]
  },
  {
   "cell_type": "code",
   "execution_count": null,
   "metadata": {},
   "outputs": [],
   "source": []
  }
 ],
 "metadata": {
  "kernelspec": {
   "display_name": "myenv",
   "language": "python",
   "name": "python3"
  },
  "language_info": {
   "codemirror_mode": {
    "name": "ipython",
    "version": 3
   },
   "file_extension": ".py",
   "mimetype": "text/x-python",
   "name": "python",
   "nbconvert_exporter": "python",
   "pygments_lexer": "ipython3",
   "version": "3.12.3"
  }
 },
 "nbformat": 4,
 "nbformat_minor": 2
}
