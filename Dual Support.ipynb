{
 "cells": [
  {
   "cell_type": "code",
   "execution_count": 1,
   "metadata": {},
   "outputs": [],
   "source": [
    "import pandas as pd\n",
    "import pyodbc"
   ]
  },
  {
   "cell_type": "code",
   "execution_count": 2,
   "metadata": {},
   "outputs": [],
   "source": [
    "# Connect to DataBank\n",
    "connection_string = (\n",
    "    \"DSN=DataBank;\"\n",
    "    \"Trusted_Connection=yes;\"\n",
    ")\n",
    "\n",
    "con = pyodbc.connect(connection_string)"
   ]
  },
  {
   "cell_type": "code",
   "execution_count": 3,
   "metadata": {},
   "outputs": [
    {
     "name": "stderr",
     "output_type": "stream",
     "text": [
      "C:\\Users\\MHil02\\AppData\\Local\\Temp\\ipykernel_15928\\4121153418.py:5: UserWarning: pandas only supports SQLAlchemy connectable (engine/connection) or database string URI or sqlite3 DBAPI2 connection. Other DBAPI2 objects are not tested. Please consider using SQLAlchemy.\n",
      "  df= pd.read_sql(qry, con)\n"
     ]
    }
   ],
   "source": [
    "# Write sql query\n",
    "qry = \"SELECT * FROM ukri_ssd_snapshot.2024_10_04_ssd_award;\"\n",
    "\n",
    "# Read sql query\n",
    "df= pd.read_sql(qry, con)"
   ]
  },
  {
   "cell_type": "code",
   "execution_count": 4,
   "metadata": {},
   "outputs": [
    {
     "data": {
      "text/plain": [
       "array(['MRC', 'ISPF', 'EPSRC', 'STFC', 'AHRC', 'BBSRC', 'ESRC', 'NERC',\n",
       "       'Unknown', 'NC3Rs', 'Infrastructure Fund', 'Disputed', 'HEG',\n",
       "       'GCRF', 'Newton Fund', 'ISCF', 'UUI', 'SPF', 'FLF', 'FIC',\n",
       "       'Open Access Block Grant', 'COVID', 'TMF', 'DRI', 'Innovate UK',\n",
       "       'SiPF', 'Ayrton Fund', 'RE'], dtype=object)"
      ]
     },
     "execution_count": 4,
     "metadata": {},
     "output_type": "execute_result"
    }
   ],
   "source": [
    "df['funder'].unique()"
   ]
  },
  {
   "cell_type": "code",
   "execution_count": 5,
   "metadata": {},
   "outputs": [
    {
     "name": "stderr",
     "output_type": "stream",
     "text": [
      "C:\\Users\\MHil02\\AppData\\Local\\Temp\\ipykernel_15928\\1716727183.py:5: UserWarning: pandas only supports SQLAlchemy connectable (engine/connection) or database string URI or sqlite3 DBAPI2 connection. Other DBAPI2 objects are not tested. Please consider using SQLAlchemy.\n",
      "  df_application = pd.read_sql(qry, con)\n"
     ]
    }
   ],
   "source": [
    "# Write sql query\n",
    "qry = \"SELECT * FROM ukri_ssd_snapshot.2024_10_04_ssd_application;\"\n",
    "\n",
    "# Read sql query\n",
    "df_application = pd.read_sql(qry, con)"
   ]
  },
  {
   "cell_type": "code",
   "execution_count": 6,
   "metadata": {},
   "outputs": [],
   "source": [
    "# In scope RC: MRC, ISPF (International Science Partnerships Fund), EPSRC, AHRC, BBSRC, ESRC, NERC\n",
    "# NC3Rs (funded by MRC), GCRF (Global Challenges Reserach Fund), Newton Fund, TMF (Technology Missions Fund),\n",
    "# Ayrton Fund,\n",
    "\n",
    "# In scope RE: RE\n",
    "\n",
    "# Out of scope: Infrastructure Fund, UUI, DRI (Digital Research Infrastructure), Innovate UK\n",
    "\n",
    "# Unknown: Unknown, Disputed, HEG, ISCF (Industrial Strategy Challenge Fund), SPF (Strategic Priorities Fund), FLF (Future Leaders Fellowships)\n",
    "# FIC (Fund for International Collaboration), Open Access Block Grant, COVID, Strength in Places Fund"
   ]
  },
  {
   "cell_type": "code",
   "execution_count": 7,
   "metadata": {},
   "outputs": [
    {
     "data": {
      "text/plain": [
       "array(['MRC', 'BBSRC', 'EPSRC', 'STFC', 'AHRC', 'ESRC', 'NERC', 'NC3Rs',\n",
       "       'Innovate UK', 'RE'], dtype=object)"
      ]
     },
     "execution_count": 7,
     "metadata": {},
     "output_type": "execute_result"
    }
   ],
   "source": [
    "df['administrator'].unique()"
   ]
  },
  {
   "cell_type": "code",
   "execution_count": 8,
   "metadata": {},
   "outputs": [
    {
     "data": {
      "text/plain": [
       "array(['EPSRC', 'Innovate UK'], dtype=object)"
      ]
     },
     "execution_count": 8,
     "metadata": {},
     "output_type": "execute_result"
    }
   ],
   "source": [
    "df[df['funder'] == 'TMF']['administrator'].unique() # TMF both EPSRC and Innovate UK"
   ]
  },
  {
   "cell_type": "code",
   "execution_count": 9,
   "metadata": {},
   "outputs": [
    {
     "data": {
      "text/plain": [
       "array(['Innovate UK'], dtype=object)"
      ]
     },
     "execution_count": 9,
     "metadata": {},
     "output_type": "execute_result"
    }
   ],
   "source": [
    "df[df['funder'] == 'Ayrton Fund']['administrator'].unique()\n",
    "# This seems contradictory to the website https://www.ukri.org/opportunity/the-ukri-ayrton-challenge-programme-outlines/"
   ]
  },
  {
   "cell_type": "code",
   "execution_count": 10,
   "metadata": {},
   "outputs": [
    {
     "data": {
      "text/plain": [
       "array(['EPSRC', 'Innovate UK'], dtype=object)"
      ]
     },
     "execution_count": 10,
     "metadata": {},
     "output_type": "execute_result"
    }
   ],
   "source": [
    "df[df['funder'] == 'HEG']['administrator'].unique()"
   ]
  },
  {
   "cell_type": "code",
   "execution_count": 11,
   "metadata": {},
   "outputs": [
    {
     "data": {
      "text/plain": [
       "261"
      ]
     },
     "execution_count": 11,
     "metadata": {},
     "output_type": "execute_result"
    }
   ],
   "source": [
    "df[['application_reference', 'application_source']].duplicated().sum()\n",
    "\n",
    "df[df[['application_reference', 'application_source']].duplicated(keep=False)].sort_values(by='application_reference')\n",
    "\n",
    "df[['award_reference', 'application_source']].duplicated().sum()\n"
   ]
  },
  {
   "cell_type": "code",
   "execution_count": 12,
   "metadata": {},
   "outputs": [
    {
     "name": "stdout",
     "output_type": "stream",
     "text": [
      "0.1261505844657307\n"
     ]
    }
   ],
   "source": [
    "df[df[['award_reference', 'application_source']].duplicated(keep=False)].sort_values(by='award_reference')\n",
    "\n",
    "df['award_reference'] = df['award_reference'].replace('Unknown', None)\n",
    "\n",
    "df[df['award_reference'].isna()]\n",
    "\n",
    "print(df['award_reference'].isna().sum()/len(df)*100)\n",
    "\n",
    "# Only represents 0.13% of awards\n",
    "\n",
    "df[df['award_reference'].isna()]['funded_amount'].sum()/df['funded_amount'].sum()*100\n",
    "\n",
    "# or 0.15% of total funded amount so we can neglect\n",
    "\n",
    "df_dropna = df[~df['award_reference'].isna()]"
   ]
  },
  {
   "cell_type": "code",
   "execution_count": 13,
   "metadata": {},
   "outputs": [],
   "source": [
    "# Awards where there are no start or end date (so we cannot tell if they are active or not) represent 1.35% of the total funded value\n",
    "df_dropna = df_dropna[~(df_dropna['start_date'].isna() & df_dropna['end_date'].isna())]\n"
   ]
  },
  {
   "cell_type": "code",
   "execution_count": 14,
   "metadata": {},
   "outputs": [
    {
     "data": {
      "text/plain": [
       "0"
      ]
     },
     "execution_count": 14,
     "metadata": {},
     "output_type": "execute_result"
    }
   ],
   "source": [
    "df_dropna[['award_reference', 'application_source']].duplicated().sum()"
   ]
  },
  {
   "cell_type": "code",
   "execution_count": 15,
   "metadata": {},
   "outputs": [
    {
     "data": {
      "text/plain": [
       "367721"
      ]
     },
     "execution_count": 15,
     "metadata": {},
     "output_type": "execute_result"
    }
   ],
   "source": [
    "df_application[['award_reference', 'application_source']].duplicated().sum()"
   ]
  },
  {
   "cell_type": "code",
   "execution_count": 16,
   "metadata": {},
   "outputs": [],
   "source": [
    "df_application['award_reference'] = df_application['award_reference'].replace('Unknown', None)\n",
    "df_application.dropna(subset='award_reference', inplace=True)"
   ]
  },
  {
   "cell_type": "code",
   "execution_count": 17,
   "metadata": {},
   "outputs": [
    {
     "data": {
      "text/plain": [
       "292"
      ]
     },
     "execution_count": 17,
     "metadata": {},
     "output_type": "execute_result"
    }
   ],
   "source": [
    "df_application[['award_reference', 'application_source']].duplicated().sum()"
   ]
  },
  {
   "cell_type": "code",
   "execution_count": 18,
   "metadata": {},
   "outputs": [
    {
     "data": {
      "text/plain": [
       "Index(['application_reference', 'award_reference', 'funder', 'decision_owner',\n",
       "       'application_source', 'administrator', 'opportunity_id',\n",
       "       'opportunity_name', 'application_category', 'application_status',\n",
       "       'derived_status', 'decision_date', 'lead_organisation_id',\n",
       "       'lead_organisation_department_id', 'application_title',\n",
       "       'amount_applied_for', 'full_economic_cost', 'scheme',\n",
       "       'rejection_reason', 'date_last_received', 'publish_to_gtr',\n",
       "       'application_stage', 'application_stage_status', 'joint_proposal',\n",
       "       'parent_award', 'parent_award_reference', 'redact_abstract_on_gtr',\n",
       "       'organisation_source', 'international_programme'],\n",
       "      dtype='object')"
      ]
     },
     "execution_count": 18,
     "metadata": {},
     "output_type": "execute_result"
    }
   ],
   "source": [
    "df_application[df_application[['award_reference', 'application_source']].duplicated(keep=False)].sort_values(by='award_reference')\n",
    "\n",
    "df_application.columns"
   ]
  },
  {
   "cell_type": "code",
   "execution_count": 19,
   "metadata": {},
   "outputs": [],
   "source": [
    "df.drop_duplicates(subset=['award_reference', 'application_source'], keep=False, inplace=True)\n",
    "df_application.drop_duplicates(subset=['award_reference', 'application_source'], keep=False, inplace=True)"
   ]
  },
  {
   "cell_type": "code",
   "execution_count": 20,
   "metadata": {},
   "outputs": [],
   "source": [
    "data_merge = pd.merge(df, df_application, on=['award_reference', 'application_source'])"
   ]
  },
  {
   "cell_type": "code",
   "execution_count": 21,
   "metadata": {},
   "outputs": [
    {
     "name": "stdout",
     "output_type": "stream",
     "text": [
      "99.86024128789333\n"
     ]
    }
   ],
   "source": [
    "print(len(data_merge)/ len(df)*100)"
   ]
  },
  {
   "cell_type": "code",
   "execution_count": 22,
   "metadata": {},
   "outputs": [],
   "source": [
    "data_merge.rename(columns={'application_reference_x':'application_reference', 'funder_x':'funder', 'administrator_x':'administrator'}, inplace=True)"
   ]
  },
  {
   "cell_type": "code",
   "execution_count": 23,
   "metadata": {},
   "outputs": [],
   "source": [
    "data_merge.drop(columns=['announced_start_date', 'date_last_received', 'rejection_reason', 'publish_to_gtr', 'application_stage', 'application_stage_status', \n",
    "                         'joint_proposal', 'parent_award', 'parent_award_reference', 'decision_date', 'derived_status', 'application_status',\n",
    "                         'redact_abstract_on_gtr'], inplace=True)"
   ]
  },
  {
   "cell_type": "code",
   "execution_count": 24,
   "metadata": {},
   "outputs": [
    {
     "data": {
      "text/plain": [
       "Index(['application_reference', 'award_reference', 'funder', 'administrator',\n",
       "       'application_source', 'start_date', 'end_date', 'funded_amount',\n",
       "       'profiled_amount', 'project_cost', 'termination_date',\n",
       "       'application_reference_y', 'funder_y', 'decision_owner',\n",
       "       'administrator_y', 'opportunity_id', 'opportunity_name',\n",
       "       'application_category', 'lead_organisation_id',\n",
       "       'lead_organisation_department_id', 'application_title',\n",
       "       'amount_applied_for', 'full_economic_cost', 'scheme',\n",
       "       'organisation_source', 'international_programme'],\n",
       "      dtype='object')"
      ]
     },
     "execution_count": 24,
     "metadata": {},
     "output_type": "execute_result"
    }
   ],
   "source": [
    "data_merge.columns"
   ]
  },
  {
   "cell_type": "code",
   "execution_count": 25,
   "metadata": {},
   "outputs": [],
   "source": [
    "data_merge.drop(columns=['termination_date', 'application_reference_y', 'funder_y', 'administrator_y', 'lead_organisation_department_id'], inplace=True)"
   ]
  },
  {
   "cell_type": "code",
   "execution_count": 26,
   "metadata": {},
   "outputs": [
    {
     "data": {
      "text/plain": [
       "array(['Research and Innovation', 'Fellowship', 'Training Grant',\n",
       "       'Research Grant', 'Intramural', 'P&Cs', 'Third Party Grant',\n",
       "       'Other Grant', 'Studentship', None, 'Off System', 'Other', 'Unit',\n",
       "       'Collaborative R&D', 'EU-Funded', 'BEIS-Funded Programmes',\n",
       "       'Feasibility Studies', 'Study', 'Responsive Strategy and Planning',\n",
       "       'Small Business Research Initiative', 'CR&D Bilateral', 'Centres',\n",
       "       'GRD Proof of Concept', 'Knowledge Transfer Network', 'Missions',\n",
       "       'Demonstrator', 'SME Support', 'Grant for R&D',\n",
       "       'GRD Development of Prototype', 'Innovation Loans', 'Fast Track',\n",
       "       'GRD Proof of Market', 'Legacy RDA Grant for R&D', 'Vouchers',\n",
       "       'Knowledge Transfer Partnership', 'Special Interest Group',\n",
       "       'Legacy RDA Collaborative R&D', 'Launchpad', 'Procurement',\n",
       "       'Large Project', 'Legacy Department of Trade & Industry',\n",
       "       'European Enterprise Network', 'Investment Accelerator',\n",
       "       'Memorandum of Agreement',\n",
       "       'Department for Science, Innovation & Technology',\n",
       "       'Business Connect', 'Direct Award', 'Capital grant',\n",
       "       'Research and innovation grant', 'Seedcorn funding',\n",
       "       'Research and Innovation Grant'], dtype=object)"
      ]
     },
     "execution_count": 26,
     "metadata": {},
     "output_type": "execute_result"
    }
   ],
   "source": [
    "data_merge['application_category'].unique()"
   ]
  },
  {
   "cell_type": "code",
   "execution_count": 27,
   "metadata": {},
   "outputs": [
    {
     "name": "stderr",
     "output_type": "stream",
     "text": [
      "C:\\Users\\MHil02\\AppData\\Local\\Temp\\ipykernel_15928\\4159353175.py:5: UserWarning: pandas only supports SQLAlchemy connectable (engine/connection) or database string URI or sqlite3 DBAPI2 connection. Other DBAPI2 objects are not tested. Please consider using SQLAlchemy.\n",
      "  df_spend = pd.read_sql(qry, con)\n"
     ]
    }
   ],
   "source": [
    "# Write sql query\n",
    "qry = \"SELECT * FROM ukri_ssd_snapshot.2024_10_04_ssd_spend;\"\n",
    "\n",
    "# Read sql query\n",
    "df_spend = pd.read_sql(qry, con)"
   ]
  },
  {
   "cell_type": "code",
   "execution_count": 28,
   "metadata": {},
   "outputs": [
    {
     "data": {
      "text/plain": [
       "array(['2005/06', '2006/07', '2007/08', '2002/03', '2003/04', '2004/05',\n",
       "       '2001/02', '2008/09', '2009/10', '2010/11', '2000/01', '2011/12',\n",
       "       '2012/13', '2013/14', '2014/15', '2015/16', '2016/17', '2017/18',\n",
       "       '2018/19', '2019/20', '2020/21', '2021/22', '2022/23', '2023/24',\n",
       "       '2024/25', 'Unknown', '1989/90', '1990/91', '1991/92', '1992/93',\n",
       "       '1993/94', '1994/95', '1995/96', '1996/97', '1997/98', '1998/99',\n",
       "       '1999/00', '1988/89', '2025/26', '2026/27', '2027/28', '2028/29'],\n",
       "      dtype=object)"
      ]
     },
     "execution_count": 28,
     "metadata": {},
     "output_type": "execute_result"
    }
   ],
   "source": [
    "df_spend['paymentdate_financial_year'].unique()"
   ]
  },
  {
   "cell_type": "code",
   "execution_count": 29,
   "metadata": {},
   "outputs": [],
   "source": [
    "df_spend_2324 = df_spend.loc[df_spend['paymentdate_financial_year'] == '2023/24']\n"
   ]
  },
  {
   "cell_type": "code",
   "execution_count": 30,
   "metadata": {},
   "outputs": [
    {
     "name": "stderr",
     "output_type": "stream",
     "text": [
      "C:\\Users\\MHil02\\AppData\\Local\\Temp\\ipykernel_15928\\4199183093.py:1: SettingWithCopyWarning: \n",
      "A value is trying to be set on a copy of a slice from a DataFrame\n",
      "\n",
      "See the caveats in the documentation: https://pandas.pydata.org/pandas-docs/stable/user_guide/indexing.html#returning-a-view-versus-a-copy\n",
      "  df_spend_2324.drop(columns=['transfer_reference'], inplace=True)\n"
     ]
    }
   ],
   "source": [
    "df_spend_2324.drop(columns=['transfer_reference'], inplace=True)"
   ]
  },
  {
   "cell_type": "code",
   "execution_count": 31,
   "metadata": {},
   "outputs": [
    {
     "data": {
      "text/plain": [
       "0"
      ]
     },
     "execution_count": 31,
     "metadata": {},
     "output_type": "execute_result"
    }
   ],
   "source": [
    "data_merge[['award_reference', 'application_source']].duplicated().sum()"
   ]
  },
  {
   "cell_type": "code",
   "execution_count": 32,
   "metadata": {},
   "outputs": [],
   "source": [
    "data_w_spend = pd.merge(data_merge, df_spend_2324, on=['award_reference', 'application_source'], how='outer', indicator=True)"
   ]
  },
  {
   "cell_type": "code",
   "execution_count": 33,
   "metadata": {},
   "outputs": [
    {
     "data": {
      "text/html": [
       "<div>\n",
       "<style scoped>\n",
       "    .dataframe tbody tr th:only-of-type {\n",
       "        vertical-align: middle;\n",
       "    }\n",
       "\n",
       "    .dataframe tbody tr th {\n",
       "        vertical-align: top;\n",
       "    }\n",
       "\n",
       "    .dataframe thead th {\n",
       "        text-align: right;\n",
       "    }\n",
       "</style>\n",
       "<table border=\"1\" class=\"dataframe\">\n",
       "  <thead>\n",
       "    <tr style=\"text-align: right;\">\n",
       "      <th></th>\n",
       "      <th>application_reference_x</th>\n",
       "      <th>award_reference</th>\n",
       "      <th>funder_x</th>\n",
       "      <th>administrator_x</th>\n",
       "      <th>application_source</th>\n",
       "      <th>start_date</th>\n",
       "      <th>end_date</th>\n",
       "      <th>funded_amount</th>\n",
       "      <th>profiled_amount</th>\n",
       "      <th>project_cost</th>\n",
       "      <th>...</th>\n",
       "      <th>paymentdate</th>\n",
       "      <th>paymentdate_financial_year</th>\n",
       "      <th>PaymentQuarterID</th>\n",
       "      <th>ExpenditureType</th>\n",
       "      <th>amount</th>\n",
       "      <th>type</th>\n",
       "      <th>funder_y</th>\n",
       "      <th>administrator_y</th>\n",
       "      <th>payment_type</th>\n",
       "      <th>_merge</th>\n",
       "    </tr>\n",
       "  </thead>\n",
       "  <tbody>\n",
       "    <tr>\n",
       "      <th>417643</th>\n",
       "      <td>20453</td>\n",
       "      <td>MR/Z505626/1</td>\n",
       "      <td>MRC</td>\n",
       "      <td>MRC</td>\n",
       "      <td>TFS</td>\n",
       "      <td>2027-04-01</td>\n",
       "      <td>2029-09-30</td>\n",
       "      <td>1341726.650</td>\n",
       "      <td>0.0</td>\n",
       "      <td>NaN</td>\n",
       "      <td>...</td>\n",
       "      <td>NaN</td>\n",
       "      <td>NaN</td>\n",
       "      <td>NaN</td>\n",
       "      <td>NaN</td>\n",
       "      <td>NaN</td>\n",
       "      <td>NaN</td>\n",
       "      <td>NaN</td>\n",
       "      <td>NaN</td>\n",
       "      <td>NaN</td>\n",
       "      <td>left_only</td>\n",
       "    </tr>\n",
       "    <tr>\n",
       "      <th>458361</th>\n",
       "      <td>NE/Y001338/1</td>\n",
       "      <td>NE/Y001338/1</td>\n",
       "      <td>NERC</td>\n",
       "      <td>NERC</td>\n",
       "      <td>Siebel</td>\n",
       "      <td>2026-06-01</td>\n",
       "      <td>2029-05-31</td>\n",
       "      <td>502872.598</td>\n",
       "      <td>0.0</td>\n",
       "      <td>NaN</td>\n",
       "      <td>...</td>\n",
       "      <td>NaN</td>\n",
       "      <td>NaN</td>\n",
       "      <td>NaN</td>\n",
       "      <td>NaN</td>\n",
       "      <td>NaN</td>\n",
       "      <td>NaN</td>\n",
       "      <td>NaN</td>\n",
       "      <td>NaN</td>\n",
       "      <td>NaN</td>\n",
       "      <td>left_only</td>\n",
       "    </tr>\n",
       "    <tr>\n",
       "      <th>458329</th>\n",
       "      <td>NE/Y000811/1</td>\n",
       "      <td>NE/Y000811/1</td>\n",
       "      <td>NERC</td>\n",
       "      <td>NERC</td>\n",
       "      <td>Siebel</td>\n",
       "      <td>2026-06-01</td>\n",
       "      <td>2029-05-31</td>\n",
       "      <td>429536.560</td>\n",
       "      <td>0.0</td>\n",
       "      <td>NaN</td>\n",
       "      <td>...</td>\n",
       "      <td>NaN</td>\n",
       "      <td>NaN</td>\n",
       "      <td>NaN</td>\n",
       "      <td>NaN</td>\n",
       "      <td>NaN</td>\n",
       "      <td>NaN</td>\n",
       "      <td>NaN</td>\n",
       "      <td>NaN</td>\n",
       "      <td>NaN</td>\n",
       "      <td>left_only</td>\n",
       "    </tr>\n",
       "    <tr>\n",
       "      <th>492168</th>\n",
       "      <td>ST/Y004795/1</td>\n",
       "      <td>ST/Y004795/1</td>\n",
       "      <td>STFC</td>\n",
       "      <td>STFC</td>\n",
       "      <td>Siebel</td>\n",
       "      <td>2026-04-01</td>\n",
       "      <td>2028-03-31</td>\n",
       "      <td>85594.198</td>\n",
       "      <td>0.0</td>\n",
       "      <td>NaN</td>\n",
       "      <td>...</td>\n",
       "      <td>NaN</td>\n",
       "      <td>NaN</td>\n",
       "      <td>NaN</td>\n",
       "      <td>NaN</td>\n",
       "      <td>NaN</td>\n",
       "      <td>NaN</td>\n",
       "      <td>NaN</td>\n",
       "      <td>NaN</td>\n",
       "      <td>NaN</td>\n",
       "      <td>left_only</td>\n",
       "    </tr>\n",
       "    <tr>\n",
       "      <th>417589</th>\n",
       "      <td>23067</td>\n",
       "      <td>MR/Z505031/1</td>\n",
       "      <td>MRC</td>\n",
       "      <td>MRC</td>\n",
       "      <td>TFS</td>\n",
       "      <td>2026-02-01</td>\n",
       "      <td>2029-01-31</td>\n",
       "      <td>379182.640</td>\n",
       "      <td>0.0</td>\n",
       "      <td>NaN</td>\n",
       "      <td>...</td>\n",
       "      <td>NaN</td>\n",
       "      <td>NaN</td>\n",
       "      <td>NaN</td>\n",
       "      <td>NaN</td>\n",
       "      <td>NaN</td>\n",
       "      <td>NaN</td>\n",
       "      <td>NaN</td>\n",
       "      <td>NaN</td>\n",
       "      <td>NaN</td>\n",
       "      <td>left_only</td>\n",
       "    </tr>\n",
       "    <tr>\n",
       "      <th>...</th>\n",
       "      <td>...</td>\n",
       "      <td>...</td>\n",
       "      <td>...</td>\n",
       "      <td>...</td>\n",
       "      <td>...</td>\n",
       "      <td>...</td>\n",
       "      <td>...</td>\n",
       "      <td>...</td>\n",
       "      <td>...</td>\n",
       "      <td>...</td>\n",
       "      <td>...</td>\n",
       "      <td>...</td>\n",
       "      <td>...</td>\n",
       "      <td>...</td>\n",
       "      <td>...</td>\n",
       "      <td>...</td>\n",
       "      <td>...</td>\n",
       "      <td>...</td>\n",
       "      <td>...</td>\n",
       "      <td>...</td>\n",
       "      <td>...</td>\n",
       "    </tr>\n",
       "    <tr>\n",
       "      <th>461314</th>\n",
       "      <td>8</td>\n",
       "      <td>NGT8</td>\n",
       "      <td>AHRC</td>\n",
       "      <td>AHRC</td>\n",
       "      <td>TFS</td>\n",
       "      <td>NaT</td>\n",
       "      <td>NaT</td>\n",
       "      <td>NaN</td>\n",
       "      <td>0.0</td>\n",
       "      <td>NaN</td>\n",
       "      <td>...</td>\n",
       "      <td>NaN</td>\n",
       "      <td>NaN</td>\n",
       "      <td>NaN</td>\n",
       "      <td>NaN</td>\n",
       "      <td>NaN</td>\n",
       "      <td>NaN</td>\n",
       "      <td>NaN</td>\n",
       "      <td>NaN</td>\n",
       "      <td>NaN</td>\n",
       "      <td>left_only</td>\n",
       "    </tr>\n",
       "    <tr>\n",
       "      <th>461315</th>\n",
       "      <td>856</td>\n",
       "      <td>NGT856</td>\n",
       "      <td>AHRC</td>\n",
       "      <td>AHRC</td>\n",
       "      <td>TFS</td>\n",
       "      <td>NaT</td>\n",
       "      <td>NaT</td>\n",
       "      <td>NaN</td>\n",
       "      <td>0.0</td>\n",
       "      <td>NaN</td>\n",
       "      <td>...</td>\n",
       "      <td>NaN</td>\n",
       "      <td>NaN</td>\n",
       "      <td>NaN</td>\n",
       "      <td>NaN</td>\n",
       "      <td>NaN</td>\n",
       "      <td>NaN</td>\n",
       "      <td>NaN</td>\n",
       "      <td>NaN</td>\n",
       "      <td>NaN</td>\n",
       "      <td>left_only</td>\n",
       "    </tr>\n",
       "    <tr>\n",
       "      <th>461316</th>\n",
       "      <td>880</td>\n",
       "      <td>NGT880</td>\n",
       "      <td>AHRC</td>\n",
       "      <td>AHRC</td>\n",
       "      <td>TFS</td>\n",
       "      <td>NaT</td>\n",
       "      <td>NaT</td>\n",
       "      <td>NaN</td>\n",
       "      <td>0.0</td>\n",
       "      <td>NaN</td>\n",
       "      <td>...</td>\n",
       "      <td>NaN</td>\n",
       "      <td>NaN</td>\n",
       "      <td>NaN</td>\n",
       "      <td>NaN</td>\n",
       "      <td>NaN</td>\n",
       "      <td>NaN</td>\n",
       "      <td>NaN</td>\n",
       "      <td>NaN</td>\n",
       "      <td>NaN</td>\n",
       "      <td>left_only</td>\n",
       "    </tr>\n",
       "    <tr>\n",
       "      <th>461317</th>\n",
       "      <td>976</td>\n",
       "      <td>NGT976</td>\n",
       "      <td>AHRC</td>\n",
       "      <td>AHRC</td>\n",
       "      <td>TFS</td>\n",
       "      <td>NaT</td>\n",
       "      <td>NaT</td>\n",
       "      <td>NaN</td>\n",
       "      <td>0.0</td>\n",
       "      <td>NaN</td>\n",
       "      <td>...</td>\n",
       "      <td>NaN</td>\n",
       "      <td>NaN</td>\n",
       "      <td>NaN</td>\n",
       "      <td>NaN</td>\n",
       "      <td>NaN</td>\n",
       "      <td>NaN</td>\n",
       "      <td>NaN</td>\n",
       "      <td>NaN</td>\n",
       "      <td>NaN</td>\n",
       "      <td>left_only</td>\n",
       "    </tr>\n",
       "    <tr>\n",
       "      <th>493342</th>\n",
       "      <td>lead participant is listed as KTN_DA310230</td>\n",
       "      <td>lead participant is listed as KTN</td>\n",
       "      <td>Unknown</td>\n",
       "      <td>Innovate UK</td>\n",
       "      <td>IUK - Funders Panel</td>\n",
       "      <td>NaT</td>\n",
       "      <td>NaT</td>\n",
       "      <td>3299611.000</td>\n",
       "      <td>0.0</td>\n",
       "      <td>3299611.0</td>\n",
       "      <td>...</td>\n",
       "      <td>NaN</td>\n",
       "      <td>NaN</td>\n",
       "      <td>NaN</td>\n",
       "      <td>NaN</td>\n",
       "      <td>NaN</td>\n",
       "      <td>NaN</td>\n",
       "      <td>NaN</td>\n",
       "      <td>NaN</td>\n",
       "      <td>NaN</td>\n",
       "      <td>left_only</td>\n",
       "    </tr>\n",
       "  </tbody>\n",
       "</table>\n",
       "<p>182605 rows × 32 columns</p>\n",
       "</div>"
      ],
      "text/plain": [
       "                           application_reference_x  \\\n",
       "417643                                       20453   \n",
       "458361                                NE/Y001338/1   \n",
       "458329                                NE/Y000811/1   \n",
       "492168                                ST/Y004795/1   \n",
       "417589                                       23067   \n",
       "...                                            ...   \n",
       "461314                                           8   \n",
       "461315                                         856   \n",
       "461316                                         880   \n",
       "461317                                         976   \n",
       "493342  lead participant is listed as KTN_DA310230   \n",
       "\n",
       "                          award_reference funder_x administrator_x  \\\n",
       "417643                       MR/Z505626/1      MRC             MRC   \n",
       "458361                       NE/Y001338/1     NERC            NERC   \n",
       "458329                       NE/Y000811/1     NERC            NERC   \n",
       "492168                       ST/Y004795/1     STFC            STFC   \n",
       "417589                       MR/Z505031/1      MRC             MRC   \n",
       "...                                   ...      ...             ...   \n",
       "461314                               NGT8     AHRC            AHRC   \n",
       "461315                             NGT856     AHRC            AHRC   \n",
       "461316                             NGT880     AHRC            AHRC   \n",
       "461317                             NGT976     AHRC            AHRC   \n",
       "493342  lead participant is listed as KTN  Unknown     Innovate UK   \n",
       "\n",
       "         application_source start_date   end_date  funded_amount  \\\n",
       "417643                  TFS 2027-04-01 2029-09-30    1341726.650   \n",
       "458361               Siebel 2026-06-01 2029-05-31     502872.598   \n",
       "458329               Siebel 2026-06-01 2029-05-31     429536.560   \n",
       "492168               Siebel 2026-04-01 2028-03-31      85594.198   \n",
       "417589                  TFS 2026-02-01 2029-01-31     379182.640   \n",
       "...                     ...        ...        ...            ...   \n",
       "461314                  TFS        NaT        NaT            NaN   \n",
       "461315                  TFS        NaT        NaT            NaN   \n",
       "461316                  TFS        NaT        NaT            NaN   \n",
       "461317                  TFS        NaT        NaT            NaN   \n",
       "493342  IUK - Funders Panel        NaT        NaT    3299611.000   \n",
       "\n",
       "        profiled_amount  project_cost  ... paymentdate  \\\n",
       "417643              0.0           NaN  ...         NaN   \n",
       "458361              0.0           NaN  ...         NaN   \n",
       "458329              0.0           NaN  ...         NaN   \n",
       "492168              0.0           NaN  ...         NaN   \n",
       "417589              0.0           NaN  ...         NaN   \n",
       "...                 ...           ...  ...         ...   \n",
       "461314              0.0           NaN  ...         NaN   \n",
       "461315              0.0           NaN  ...         NaN   \n",
       "461316              0.0           NaN  ...         NaN   \n",
       "461317              0.0           NaN  ...         NaN   \n",
       "493342              0.0     3299611.0  ...         NaN   \n",
       "\n",
       "       paymentdate_financial_year PaymentQuarterID ExpenditureType amount  \\\n",
       "417643                        NaN              NaN             NaN    NaN   \n",
       "458361                        NaN              NaN             NaN    NaN   \n",
       "458329                        NaN              NaN             NaN    NaN   \n",
       "492168                        NaN              NaN             NaN    NaN   \n",
       "417589                        NaN              NaN             NaN    NaN   \n",
       "...                           ...              ...             ...    ...   \n",
       "461314                        NaN              NaN             NaN    NaN   \n",
       "461315                        NaN              NaN             NaN    NaN   \n",
       "461316                        NaN              NaN             NaN    NaN   \n",
       "461317                        NaN              NaN             NaN    NaN   \n",
       "493342                        NaN              NaN             NaN    NaN   \n",
       "\n",
       "       type  funder_y  administrator_y payment_type     _merge  \n",
       "417643  NaN       NaN              NaN          NaN  left_only  \n",
       "458361  NaN       NaN              NaN          NaN  left_only  \n",
       "458329  NaN       NaN              NaN          NaN  left_only  \n",
       "492168  NaN       NaN              NaN          NaN  left_only  \n",
       "417589  NaN       NaN              NaN          NaN  left_only  \n",
       "...     ...       ...              ...          ...        ...  \n",
       "461314  NaN       NaN              NaN          NaN  left_only  \n",
       "461315  NaN       NaN              NaN          NaN  left_only  \n",
       "461316  NaN       NaN              NaN          NaN  left_only  \n",
       "461317  NaN       NaN              NaN          NaN  left_only  \n",
       "493342  NaN       NaN              NaN          NaN  left_only  \n",
       "\n",
       "[182605 rows x 32 columns]"
      ]
     },
     "execution_count": 33,
     "metadata": {},
     "output_type": "execute_result"
    }
   ],
   "source": [
    "data_w_spend[data_w_spend['_merge'] == 'left_only'].sort_values(by='start_date', ascending=False)"
   ]
  },
  {
   "cell_type": "code",
   "execution_count": 34,
   "metadata": {},
   "outputs": [
    {
     "data": {
      "text/plain": [
       "586237.97"
      ]
     },
     "execution_count": 34,
     "metadata": {},
     "output_type": "execute_result"
    }
   ],
   "source": [
    "data_w_spend[data_w_spend['_merge'] == 'right_only']['amount'].sum()"
   ]
  },
  {
   "cell_type": "code",
   "execution_count": 35,
   "metadata": {},
   "outputs": [
    {
     "data": {
      "text/html": [
       "<div>\n",
       "<style scoped>\n",
       "    .dataframe tbody tr th:only-of-type {\n",
       "        vertical-align: middle;\n",
       "    }\n",
       "\n",
       "    .dataframe tbody tr th {\n",
       "        vertical-align: top;\n",
       "    }\n",
       "\n",
       "    .dataframe thead th {\n",
       "        text-align: right;\n",
       "    }\n",
       "</style>\n",
       "<table border=\"1\" class=\"dataframe\">\n",
       "  <thead>\n",
       "    <tr style=\"text-align: right;\">\n",
       "      <th></th>\n",
       "      <th>application_reference_x</th>\n",
       "      <th>award_reference</th>\n",
       "      <th>funder_x</th>\n",
       "      <th>administrator_x</th>\n",
       "      <th>application_source</th>\n",
       "      <th>start_date</th>\n",
       "      <th>end_date</th>\n",
       "      <th>funded_amount</th>\n",
       "      <th>profiled_amount</th>\n",
       "      <th>project_cost</th>\n",
       "      <th>...</th>\n",
       "      <th>paymentdate</th>\n",
       "      <th>paymentdate_financial_year</th>\n",
       "      <th>PaymentQuarterID</th>\n",
       "      <th>ExpenditureType</th>\n",
       "      <th>amount</th>\n",
       "      <th>type</th>\n",
       "      <th>funder_y</th>\n",
       "      <th>administrator_y</th>\n",
       "      <th>payment_type</th>\n",
       "      <th>_merge</th>\n",
       "    </tr>\n",
       "  </thead>\n",
       "  <tbody>\n",
       "    <tr>\n",
       "      <th>10228</th>\n",
       "      <td>NaN</td>\n",
       "      <td>10030366</td>\n",
       "      <td>NaN</td>\n",
       "      <td>NaN</td>\n",
       "      <td>IUK - IFS</td>\n",
       "      <td>NaT</td>\n",
       "      <td>NaT</td>\n",
       "      <td>NaN</td>\n",
       "      <td>NaN</td>\n",
       "      <td>NaN</td>\n",
       "      <td>...</td>\n",
       "      <td>2023-10-31</td>\n",
       "      <td>2023/24</td>\n",
       "      <td>2023/24 Q3</td>\n",
       "      <td>Unknown</td>\n",
       "      <td>30937.86</td>\n",
       "      <td>None</td>\n",
       "      <td>Innovate UK</td>\n",
       "      <td>Innovate UK</td>\n",
       "      <td>None</td>\n",
       "      <td>right_only</td>\n",
       "    </tr>\n",
       "    <tr>\n",
       "      <th>10229</th>\n",
       "      <td>NaN</td>\n",
       "      <td>10030366</td>\n",
       "      <td>NaN</td>\n",
       "      <td>NaN</td>\n",
       "      <td>IUK - IFS</td>\n",
       "      <td>NaT</td>\n",
       "      <td>NaT</td>\n",
       "      <td>NaN</td>\n",
       "      <td>NaN</td>\n",
       "      <td>NaN</td>\n",
       "      <td>...</td>\n",
       "      <td>2024-01-31</td>\n",
       "      <td>2023/24</td>\n",
       "      <td>2023/24 Q4</td>\n",
       "      <td>Unknown</td>\n",
       "      <td>34362.72</td>\n",
       "      <td>None</td>\n",
       "      <td>Innovate UK</td>\n",
       "      <td>Innovate UK</td>\n",
       "      <td>None</td>\n",
       "      <td>right_only</td>\n",
       "    </tr>\n",
       "    <tr>\n",
       "      <th>74829</th>\n",
       "      <td>NaN</td>\n",
       "      <td>900263</td>\n",
       "      <td>NaN</td>\n",
       "      <td>NaN</td>\n",
       "      <td>IUK - Legacy Applications</td>\n",
       "      <td>NaT</td>\n",
       "      <td>NaT</td>\n",
       "      <td>NaN</td>\n",
       "      <td>NaN</td>\n",
       "      <td>NaN</td>\n",
       "      <td>...</td>\n",
       "      <td>2023-09-30</td>\n",
       "      <td>2023/24</td>\n",
       "      <td>2023/24 Q2</td>\n",
       "      <td>Unknown</td>\n",
       "      <td>16807.89</td>\n",
       "      <td>None</td>\n",
       "      <td>Innovate UK</td>\n",
       "      <td>Innovate UK</td>\n",
       "      <td>None</td>\n",
       "      <td>right_only</td>\n",
       "    </tr>\n",
       "    <tr>\n",
       "      <th>74830</th>\n",
       "      <td>NaN</td>\n",
       "      <td>900263</td>\n",
       "      <td>NaN</td>\n",
       "      <td>NaN</td>\n",
       "      <td>IUK - Legacy Applications</td>\n",
       "      <td>NaT</td>\n",
       "      <td>NaT</td>\n",
       "      <td>NaN</td>\n",
       "      <td>NaN</td>\n",
       "      <td>NaN</td>\n",
       "      <td>...</td>\n",
       "      <td>2023-12-31</td>\n",
       "      <td>2023/24</td>\n",
       "      <td>2023/24 Q3</td>\n",
       "      <td>Unknown</td>\n",
       "      <td>15401.06</td>\n",
       "      <td>None</td>\n",
       "      <td>Innovate UK</td>\n",
       "      <td>Innovate UK</td>\n",
       "      <td>None</td>\n",
       "      <td>right_only</td>\n",
       "    </tr>\n",
       "    <tr>\n",
       "      <th>74831</th>\n",
       "      <td>NaN</td>\n",
       "      <td>900263</td>\n",
       "      <td>NaN</td>\n",
       "      <td>NaN</td>\n",
       "      <td>IUK - Legacy Applications</td>\n",
       "      <td>NaT</td>\n",
       "      <td>NaT</td>\n",
       "      <td>NaN</td>\n",
       "      <td>NaN</td>\n",
       "      <td>NaN</td>\n",
       "      <td>...</td>\n",
       "      <td>2024-03-31</td>\n",
       "      <td>2023/24</td>\n",
       "      <td>2023/24 Q4</td>\n",
       "      <td>Unknown</td>\n",
       "      <td>22686.55</td>\n",
       "      <td>None</td>\n",
       "      <td>Innovate UK</td>\n",
       "      <td>Innovate UK</td>\n",
       "      <td>None</td>\n",
       "      <td>right_only</td>\n",
       "    </tr>\n",
       "    <tr>\n",
       "      <th>74832</th>\n",
       "      <td>NaN</td>\n",
       "      <td>900263</td>\n",
       "      <td>NaN</td>\n",
       "      <td>NaN</td>\n",
       "      <td>IUK - Legacy Applications</td>\n",
       "      <td>NaT</td>\n",
       "      <td>NaT</td>\n",
       "      <td>NaN</td>\n",
       "      <td>NaN</td>\n",
       "      <td>NaN</td>\n",
       "      <td>...</td>\n",
       "      <td>2023-09-30</td>\n",
       "      <td>2023/24</td>\n",
       "      <td>2023/24 Q2</td>\n",
       "      <td>Unknown</td>\n",
       "      <td>10734.66</td>\n",
       "      <td>None</td>\n",
       "      <td>Innovate UK</td>\n",
       "      <td>Innovate UK</td>\n",
       "      <td>None</td>\n",
       "      <td>right_only</td>\n",
       "    </tr>\n",
       "    <tr>\n",
       "      <th>74833</th>\n",
       "      <td>NaN</td>\n",
       "      <td>900263</td>\n",
       "      <td>NaN</td>\n",
       "      <td>NaN</td>\n",
       "      <td>IUK - Legacy Applications</td>\n",
       "      <td>NaT</td>\n",
       "      <td>NaT</td>\n",
       "      <td>NaN</td>\n",
       "      <td>NaN</td>\n",
       "      <td>NaN</td>\n",
       "      <td>...</td>\n",
       "      <td>2023-12-31</td>\n",
       "      <td>2023/24</td>\n",
       "      <td>2023/24 Q3</td>\n",
       "      <td>Unknown</td>\n",
       "      <td>51824.42</td>\n",
       "      <td>None</td>\n",
       "      <td>Innovate UK</td>\n",
       "      <td>Innovate UK</td>\n",
       "      <td>None</td>\n",
       "      <td>right_only</td>\n",
       "    </tr>\n",
       "    <tr>\n",
       "      <th>74834</th>\n",
       "      <td>NaN</td>\n",
       "      <td>900263</td>\n",
       "      <td>NaN</td>\n",
       "      <td>NaN</td>\n",
       "      <td>IUK - Legacy Applications</td>\n",
       "      <td>NaT</td>\n",
       "      <td>NaT</td>\n",
       "      <td>NaN</td>\n",
       "      <td>NaN</td>\n",
       "      <td>NaN</td>\n",
       "      <td>...</td>\n",
       "      <td>2024-03-31</td>\n",
       "      <td>2023/24</td>\n",
       "      <td>2023/24 Q4</td>\n",
       "      <td>Unknown</td>\n",
       "      <td>68223.26</td>\n",
       "      <td>None</td>\n",
       "      <td>Innovate UK</td>\n",
       "      <td>Innovate UK</td>\n",
       "      <td>None</td>\n",
       "      <td>right_only</td>\n",
       "    </tr>\n",
       "    <tr>\n",
       "      <th>74835</th>\n",
       "      <td>NaN</td>\n",
       "      <td>900264</td>\n",
       "      <td>NaN</td>\n",
       "      <td>NaN</td>\n",
       "      <td>IUK - Legacy Applications</td>\n",
       "      <td>NaT</td>\n",
       "      <td>NaT</td>\n",
       "      <td>NaN</td>\n",
       "      <td>NaN</td>\n",
       "      <td>NaN</td>\n",
       "      <td>...</td>\n",
       "      <td>2023-09-30</td>\n",
       "      <td>2023/24</td>\n",
       "      <td>2023/24 Q2</td>\n",
       "      <td>Unknown</td>\n",
       "      <td>16284.14</td>\n",
       "      <td>None</td>\n",
       "      <td>Innovate UK</td>\n",
       "      <td>Innovate UK</td>\n",
       "      <td>None</td>\n",
       "      <td>right_only</td>\n",
       "    </tr>\n",
       "    <tr>\n",
       "      <th>74836</th>\n",
       "      <td>NaN</td>\n",
       "      <td>900264</td>\n",
       "      <td>NaN</td>\n",
       "      <td>NaN</td>\n",
       "      <td>IUK - Legacy Applications</td>\n",
       "      <td>NaT</td>\n",
       "      <td>NaT</td>\n",
       "      <td>NaN</td>\n",
       "      <td>NaN</td>\n",
       "      <td>NaN</td>\n",
       "      <td>...</td>\n",
       "      <td>2023-12-31</td>\n",
       "      <td>2023/24</td>\n",
       "      <td>2023/24 Q3</td>\n",
       "      <td>Unknown</td>\n",
       "      <td>35022.15</td>\n",
       "      <td>None</td>\n",
       "      <td>Innovate UK</td>\n",
       "      <td>Innovate UK</td>\n",
       "      <td>None</td>\n",
       "      <td>right_only</td>\n",
       "    </tr>\n",
       "    <tr>\n",
       "      <th>74837</th>\n",
       "      <td>NaN</td>\n",
       "      <td>900264</td>\n",
       "      <td>NaN</td>\n",
       "      <td>NaN</td>\n",
       "      <td>IUK - Legacy Applications</td>\n",
       "      <td>NaT</td>\n",
       "      <td>NaT</td>\n",
       "      <td>NaN</td>\n",
       "      <td>NaN</td>\n",
       "      <td>NaN</td>\n",
       "      <td>...</td>\n",
       "      <td>2024-03-31</td>\n",
       "      <td>2023/24</td>\n",
       "      <td>2023/24 Q4</td>\n",
       "      <td>Unknown</td>\n",
       "      <td>38698.83</td>\n",
       "      <td>None</td>\n",
       "      <td>Innovate UK</td>\n",
       "      <td>Innovate UK</td>\n",
       "      <td>None</td>\n",
       "      <td>right_only</td>\n",
       "    </tr>\n",
       "    <tr>\n",
       "      <th>74838</th>\n",
       "      <td>NaN</td>\n",
       "      <td>900264</td>\n",
       "      <td>NaN</td>\n",
       "      <td>NaN</td>\n",
       "      <td>IUK - Legacy Applications</td>\n",
       "      <td>NaT</td>\n",
       "      <td>NaT</td>\n",
       "      <td>NaN</td>\n",
       "      <td>NaN</td>\n",
       "      <td>NaN</td>\n",
       "      <td>...</td>\n",
       "      <td>2023-09-30</td>\n",
       "      <td>2023/24</td>\n",
       "      <td>2023/24 Q2</td>\n",
       "      <td>Unknown</td>\n",
       "      <td>13395.17</td>\n",
       "      <td>None</td>\n",
       "      <td>Innovate UK</td>\n",
       "      <td>Innovate UK</td>\n",
       "      <td>None</td>\n",
       "      <td>right_only</td>\n",
       "    </tr>\n",
       "    <tr>\n",
       "      <th>74839</th>\n",
       "      <td>NaN</td>\n",
       "      <td>900264</td>\n",
       "      <td>NaN</td>\n",
       "      <td>NaN</td>\n",
       "      <td>IUK - Legacy Applications</td>\n",
       "      <td>NaT</td>\n",
       "      <td>NaT</td>\n",
       "      <td>NaN</td>\n",
       "      <td>NaN</td>\n",
       "      <td>NaN</td>\n",
       "      <td>...</td>\n",
       "      <td>2023-12-31</td>\n",
       "      <td>2023/24</td>\n",
       "      <td>2023/24 Q3</td>\n",
       "      <td>Unknown</td>\n",
       "      <td>10775.84</td>\n",
       "      <td>None</td>\n",
       "      <td>Innovate UK</td>\n",
       "      <td>Innovate UK</td>\n",
       "      <td>None</td>\n",
       "      <td>right_only</td>\n",
       "    </tr>\n",
       "    <tr>\n",
       "      <th>74840</th>\n",
       "      <td>NaN</td>\n",
       "      <td>900264</td>\n",
       "      <td>NaN</td>\n",
       "      <td>NaN</td>\n",
       "      <td>IUK - Legacy Applications</td>\n",
       "      <td>NaT</td>\n",
       "      <td>NaT</td>\n",
       "      <td>NaN</td>\n",
       "      <td>NaN</td>\n",
       "      <td>NaN</td>\n",
       "      <td>...</td>\n",
       "      <td>2024-03-31</td>\n",
       "      <td>2023/24</td>\n",
       "      <td>2023/24 Q4</td>\n",
       "      <td>Unknown</td>\n",
       "      <td>14110.33</td>\n",
       "      <td>None</td>\n",
       "      <td>Innovate UK</td>\n",
       "      <td>Innovate UK</td>\n",
       "      <td>None</td>\n",
       "      <td>right_only</td>\n",
       "    </tr>\n",
       "    <tr>\n",
       "      <th>74841</th>\n",
       "      <td>NaN</td>\n",
       "      <td>900265</td>\n",
       "      <td>NaN</td>\n",
       "      <td>NaN</td>\n",
       "      <td>IUK - Legacy Applications</td>\n",
       "      <td>NaT</td>\n",
       "      <td>NaT</td>\n",
       "      <td>NaN</td>\n",
       "      <td>NaN</td>\n",
       "      <td>NaN</td>\n",
       "      <td>...</td>\n",
       "      <td>2023-09-30</td>\n",
       "      <td>2023/24</td>\n",
       "      <td>2023/24 Q2</td>\n",
       "      <td>Unknown</td>\n",
       "      <td>46016.06</td>\n",
       "      <td>None</td>\n",
       "      <td>Innovate UK</td>\n",
       "      <td>Innovate UK</td>\n",
       "      <td>None</td>\n",
       "      <td>right_only</td>\n",
       "    </tr>\n",
       "    <tr>\n",
       "      <th>74842</th>\n",
       "      <td>NaN</td>\n",
       "      <td>900265</td>\n",
       "      <td>NaN</td>\n",
       "      <td>NaN</td>\n",
       "      <td>IUK - Legacy Applications</td>\n",
       "      <td>NaT</td>\n",
       "      <td>NaT</td>\n",
       "      <td>NaN</td>\n",
       "      <td>NaN</td>\n",
       "      <td>NaN</td>\n",
       "      <td>...</td>\n",
       "      <td>2023-12-31</td>\n",
       "      <td>2023/24</td>\n",
       "      <td>2023/24 Q3</td>\n",
       "      <td>Unknown</td>\n",
       "      <td>55374.49</td>\n",
       "      <td>None</td>\n",
       "      <td>Innovate UK</td>\n",
       "      <td>Innovate UK</td>\n",
       "      <td>None</td>\n",
       "      <td>right_only</td>\n",
       "    </tr>\n",
       "    <tr>\n",
       "      <th>74843</th>\n",
       "      <td>NaN</td>\n",
       "      <td>900265</td>\n",
       "      <td>NaN</td>\n",
       "      <td>NaN</td>\n",
       "      <td>IUK - Legacy Applications</td>\n",
       "      <td>NaT</td>\n",
       "      <td>NaT</td>\n",
       "      <td>NaN</td>\n",
       "      <td>NaN</td>\n",
       "      <td>NaN</td>\n",
       "      <td>...</td>\n",
       "      <td>2024-03-31</td>\n",
       "      <td>2023/24</td>\n",
       "      <td>2023/24 Q4</td>\n",
       "      <td>Unknown</td>\n",
       "      <td>105582.54</td>\n",
       "      <td>None</td>\n",
       "      <td>Innovate UK</td>\n",
       "      <td>Innovate UK</td>\n",
       "      <td>None</td>\n",
       "      <td>right_only</td>\n",
       "    </tr>\n",
       "  </tbody>\n",
       "</table>\n",
       "<p>17 rows × 32 columns</p>\n",
       "</div>"
      ],
      "text/plain": [
       "      application_reference_x award_reference funder_x administrator_x  \\\n",
       "10228                     NaN        10030366      NaN             NaN   \n",
       "10229                     NaN        10030366      NaN             NaN   \n",
       "74829                     NaN          900263      NaN             NaN   \n",
       "74830                     NaN          900263      NaN             NaN   \n",
       "74831                     NaN          900263      NaN             NaN   \n",
       "74832                     NaN          900263      NaN             NaN   \n",
       "74833                     NaN          900263      NaN             NaN   \n",
       "74834                     NaN          900263      NaN             NaN   \n",
       "74835                     NaN          900264      NaN             NaN   \n",
       "74836                     NaN          900264      NaN             NaN   \n",
       "74837                     NaN          900264      NaN             NaN   \n",
       "74838                     NaN          900264      NaN             NaN   \n",
       "74839                     NaN          900264      NaN             NaN   \n",
       "74840                     NaN          900264      NaN             NaN   \n",
       "74841                     NaN          900265      NaN             NaN   \n",
       "74842                     NaN          900265      NaN             NaN   \n",
       "74843                     NaN          900265      NaN             NaN   \n",
       "\n",
       "              application_source start_date end_date  funded_amount  \\\n",
       "10228                  IUK - IFS        NaT      NaT            NaN   \n",
       "10229                  IUK - IFS        NaT      NaT            NaN   \n",
       "74829  IUK - Legacy Applications        NaT      NaT            NaN   \n",
       "74830  IUK - Legacy Applications        NaT      NaT            NaN   \n",
       "74831  IUK - Legacy Applications        NaT      NaT            NaN   \n",
       "74832  IUK - Legacy Applications        NaT      NaT            NaN   \n",
       "74833  IUK - Legacy Applications        NaT      NaT            NaN   \n",
       "74834  IUK - Legacy Applications        NaT      NaT            NaN   \n",
       "74835  IUK - Legacy Applications        NaT      NaT            NaN   \n",
       "74836  IUK - Legacy Applications        NaT      NaT            NaN   \n",
       "74837  IUK - Legacy Applications        NaT      NaT            NaN   \n",
       "74838  IUK - Legacy Applications        NaT      NaT            NaN   \n",
       "74839  IUK - Legacy Applications        NaT      NaT            NaN   \n",
       "74840  IUK - Legacy Applications        NaT      NaT            NaN   \n",
       "74841  IUK - Legacy Applications        NaT      NaT            NaN   \n",
       "74842  IUK - Legacy Applications        NaT      NaT            NaN   \n",
       "74843  IUK - Legacy Applications        NaT      NaT            NaN   \n",
       "\n",
       "       profiled_amount  project_cost  ... paymentdate  \\\n",
       "10228              NaN           NaN  ...  2023-10-31   \n",
       "10229              NaN           NaN  ...  2024-01-31   \n",
       "74829              NaN           NaN  ...  2023-09-30   \n",
       "74830              NaN           NaN  ...  2023-12-31   \n",
       "74831              NaN           NaN  ...  2024-03-31   \n",
       "74832              NaN           NaN  ...  2023-09-30   \n",
       "74833              NaN           NaN  ...  2023-12-31   \n",
       "74834              NaN           NaN  ...  2024-03-31   \n",
       "74835              NaN           NaN  ...  2023-09-30   \n",
       "74836              NaN           NaN  ...  2023-12-31   \n",
       "74837              NaN           NaN  ...  2024-03-31   \n",
       "74838              NaN           NaN  ...  2023-09-30   \n",
       "74839              NaN           NaN  ...  2023-12-31   \n",
       "74840              NaN           NaN  ...  2024-03-31   \n",
       "74841              NaN           NaN  ...  2023-09-30   \n",
       "74842              NaN           NaN  ...  2023-12-31   \n",
       "74843              NaN           NaN  ...  2024-03-31   \n",
       "\n",
       "      paymentdate_financial_year PaymentQuarterID ExpenditureType     amount  \\\n",
       "10228                    2023/24       2023/24 Q3         Unknown   30937.86   \n",
       "10229                    2023/24       2023/24 Q4         Unknown   34362.72   \n",
       "74829                    2023/24       2023/24 Q2         Unknown   16807.89   \n",
       "74830                    2023/24       2023/24 Q3         Unknown   15401.06   \n",
       "74831                    2023/24       2023/24 Q4         Unknown   22686.55   \n",
       "74832                    2023/24       2023/24 Q2         Unknown   10734.66   \n",
       "74833                    2023/24       2023/24 Q3         Unknown   51824.42   \n",
       "74834                    2023/24       2023/24 Q4         Unknown   68223.26   \n",
       "74835                    2023/24       2023/24 Q2         Unknown   16284.14   \n",
       "74836                    2023/24       2023/24 Q3         Unknown   35022.15   \n",
       "74837                    2023/24       2023/24 Q4         Unknown   38698.83   \n",
       "74838                    2023/24       2023/24 Q2         Unknown   13395.17   \n",
       "74839                    2023/24       2023/24 Q3         Unknown   10775.84   \n",
       "74840                    2023/24       2023/24 Q4         Unknown   14110.33   \n",
       "74841                    2023/24       2023/24 Q2         Unknown   46016.06   \n",
       "74842                    2023/24       2023/24 Q3         Unknown   55374.49   \n",
       "74843                    2023/24       2023/24 Q4         Unknown  105582.54   \n",
       "\n",
       "       type     funder_y  administrator_y payment_type      _merge  \n",
       "10228  None  Innovate UK      Innovate UK         None  right_only  \n",
       "10229  None  Innovate UK      Innovate UK         None  right_only  \n",
       "74829  None  Innovate UK      Innovate UK         None  right_only  \n",
       "74830  None  Innovate UK      Innovate UK         None  right_only  \n",
       "74831  None  Innovate UK      Innovate UK         None  right_only  \n",
       "74832  None  Innovate UK      Innovate UK         None  right_only  \n",
       "74833  None  Innovate UK      Innovate UK         None  right_only  \n",
       "74834  None  Innovate UK      Innovate UK         None  right_only  \n",
       "74835  None  Innovate UK      Innovate UK         None  right_only  \n",
       "74836  None  Innovate UK      Innovate UK         None  right_only  \n",
       "74837  None  Innovate UK      Innovate UK         None  right_only  \n",
       "74838  None  Innovate UK      Innovate UK         None  right_only  \n",
       "74839  None  Innovate UK      Innovate UK         None  right_only  \n",
       "74840  None  Innovate UK      Innovate UK         None  right_only  \n",
       "74841  None  Innovate UK      Innovate UK         None  right_only  \n",
       "74842  None  Innovate UK      Innovate UK         None  right_only  \n",
       "74843  None  Innovate UK      Innovate UK         None  right_only  \n",
       "\n",
       "[17 rows x 32 columns]"
      ]
     },
     "execution_count": 35,
     "metadata": {},
     "output_type": "execute_result"
    }
   ],
   "source": [
    "data_w_spend[data_w_spend['_merge'] == 'right_only'] # funded_amount is null"
   ]
  },
  {
   "cell_type": "code",
   "execution_count": 36,
   "metadata": {},
   "outputs": [],
   "source": [
    "data_both = data_w_spend[data_w_spend['_merge'] == 'both']"
   ]
  },
  {
   "cell_type": "code",
   "execution_count": 37,
   "metadata": {},
   "outputs": [
    {
     "data": {
      "text/plain": [
       "4941106860.0368"
      ]
     },
     "execution_count": 37,
     "metadata": {},
     "output_type": "execute_result"
    }
   ],
   "source": [
    "data_both['amount'].sum()"
   ]
  },
  {
   "cell_type": "code",
   "execution_count": 38,
   "metadata": {},
   "outputs": [
    {
     "name": "stderr",
     "output_type": "stream",
     "text": [
      "C:\\Users\\MHil02\\AppData\\Local\\Temp\\ipykernel_15928\\459481331.py:1: SettingWithCopyWarning: \n",
      "A value is trying to be set on a copy of a slice from a DataFrame\n",
      "\n",
      "See the caveats in the documentation: https://pandas.pydata.org/pandas-docs/stable/user_guide/indexing.html#returning-a-view-versus-a-copy\n",
      "  data_both.rename(columns={'application_reference_x':'application_reference', 'funder_x':'funder', 'administrator_x':'administrator'}, inplace=True)\n"
     ]
    }
   ],
   "source": [
    "data_both.rename(columns={'application_reference_x':'application_reference', 'funder_x':'funder', 'administrator_x':'administrator'}, inplace=True)"
   ]
  },
  {
   "cell_type": "code",
   "execution_count": 39,
   "metadata": {},
   "outputs": [
    {
     "name": "stderr",
     "output_type": "stream",
     "text": [
      "C:\\Users\\MHil02\\AppData\\Local\\Temp\\ipykernel_15928\\2982597896.py:1: SettingWithCopyWarning: \n",
      "A value is trying to be set on a copy of a slice from a DataFrame\n",
      "\n",
      "See the caveats in the documentation: https://pandas.pydata.org/pandas-docs/stable/user_guide/indexing.html#returning-a-view-versus-a-copy\n",
      "  data_both.drop(columns=['_merge', 'profiled_amount', 'project_cost', 'opportunity_id', 'application_reference_y', 'international_programme'], inplace=True)\n"
     ]
    }
   ],
   "source": [
    "data_both.drop(columns=['_merge', 'profiled_amount', 'project_cost', 'opportunity_id', 'application_reference_y', 'international_programme'], inplace=True)"
   ]
  },
  {
   "cell_type": "code",
   "execution_count": 40,
   "metadata": {},
   "outputs": [
    {
     "data": {
      "text/plain": [
       "Index(['application_reference', 'award_reference', 'funder', 'administrator',\n",
       "       'application_source', 'start_date', 'end_date', 'funded_amount',\n",
       "       'decision_owner', 'opportunity_name', 'application_category',\n",
       "       'lead_organisation_id', 'application_title', 'amount_applied_for',\n",
       "       'full_economic_cost', 'scheme', 'organisation_source', 'paymentdate',\n",
       "       'paymentdate_financial_year', 'PaymentQuarterID', 'ExpenditureType',\n",
       "       'amount', 'type', 'funder_y', 'administrator_y', 'payment_type'],\n",
       "      dtype='object')"
      ]
     },
     "execution_count": 40,
     "metadata": {},
     "output_type": "execute_result"
    }
   ],
   "source": [
    "data_both.columns"
   ]
  },
  {
   "cell_type": "code",
   "execution_count": 41,
   "metadata": {},
   "outputs": [
    {
     "name": "stderr",
     "output_type": "stream",
     "text": [
      "C:\\Users\\MHil02\\AppData\\Local\\Temp\\ipykernel_15928\\3005258166.py:1: SettingWithCopyWarning: \n",
      "A value is trying to be set on a copy of a slice from a DataFrame\n",
      "\n",
      "See the caveats in the documentation: https://pandas.pydata.org/pandas-docs/stable/user_guide/indexing.html#returning-a-view-versus-a-copy\n",
      "  data_both.drop(columns=['administrator_y', 'funder_y', 'paymentdate', 'PaymentQuarterID', 'application_title',\n"
     ]
    }
   ],
   "source": [
    "data_both.drop(columns=['administrator_y', 'funder_y', 'paymentdate', 'PaymentQuarterID', 'application_title',\n",
    "                        'amount_applied_for', 'full_economic_cost'], inplace=True)"
   ]
  },
  {
   "cell_type": "code",
   "execution_count": 42,
   "metadata": {},
   "outputs": [
    {
     "name": "stderr",
     "output_type": "stream",
     "text": [
      "C:\\Users\\MHil02\\AppData\\Local\\Temp\\ipykernel_15928\\3769455728.py:1: SettingWithCopyWarning: \n",
      "A value is trying to be set on a copy of a slice from a DataFrame\n",
      "\n",
      "See the caveats in the documentation: https://pandas.pydata.org/pandas-docs/stable/user_guide/indexing.html#returning-a-view-versus-a-copy\n",
      "  data_both.drop(columns=['payment_type', 'type'], inplace=True)\n"
     ]
    }
   ],
   "source": [
    "data_both.drop(columns=['payment_type', 'type'], inplace=True)"
   ]
  },
  {
   "cell_type": "code",
   "execution_count": 43,
   "metadata": {},
   "outputs": [],
   "source": [
    "data_both[['funder', 'administrator', 'decision_owner', 'application_category']].drop_duplicates().to_clipboard(index=False)"
   ]
  },
  {
   "cell_type": "code",
   "execution_count": 44,
   "metadata": {},
   "outputs": [
    {
     "data": {
      "text/plain": [
       "4941106860.0368"
      ]
     },
     "execution_count": 44,
     "metadata": {},
     "output_type": "execute_result"
    }
   ],
   "source": [
    "data_both['amount'].sum() # £4.9 Bn"
   ]
  },
  {
   "cell_type": "code",
   "execution_count": 45,
   "metadata": {},
   "outputs": [
    {
     "data": {
      "text/plain": [
       "8309584.364"
      ]
     },
     "execution_count": 45,
     "metadata": {},
     "output_type": "execute_result"
    }
   ],
   "source": [
    "data_both[data_both['funder'] == 'COVID']['amount'].sum()"
   ]
  },
  {
   "cell_type": "code",
   "execution_count": 46,
   "metadata": {},
   "outputs": [
    {
     "data": {
      "text/plain": [
       "array(['COVID 19 Rapid Response', 'COVID19 Ext Allocation V2',\n",
       "       'COVID-19: Long COVID Call', 'COVID-19 RRR Open Call',\n",
       "       'Global Effort on COVID-19', 'SARS CoV 2',\n",
       "       'NCS COVID19 BIG DATA 2021'], dtype=object)"
      ]
     },
     "execution_count": 46,
     "metadata": {},
     "output_type": "execute_result"
    }
   ],
   "source": [
    "data_both[(data_both['funder'] == 'COVID')]['opportunity_name'].unique()"
   ]
  },
  {
   "cell_type": "code",
   "execution_count": 47,
   "metadata": {},
   "outputs": [
    {
     "data": {
      "text/plain": [
       "array(['Unknown', 'Exception - Other Costs', 'Exception - Staff',\n",
       "       'DI - Other Costs', 'DI - T&S', 'DI - Staff', 'DA - Investigators',\n",
       "       'Exception - Equipment', 'DA - Other Directly Allocated',\n",
       "       'Indirect - Indirect Costs', 'DA - Estate Costs', 'DI - Equipment',\n",
       "       'DI - Absence', 'Total - DSA', 'Total - Student Stipend',\n",
       "       'Total - Fees', 'Total - Other Costs', 'Total - RTSG',\n",
       "       'Total - Absence', 'Total - Fieldwork', 'Total - Robert Skills',\n",
       "       'Total - T&S', 'Total - Consumables', 'Total - Staff',\n",
       "       'Exception - T&S', 'Total - OffSystem', 'Total - Equipment',\n",
       "       'Total - Indirect Costs', 'Total - Large Capital'], dtype=object)"
      ]
     },
     "execution_count": 47,
     "metadata": {},
     "output_type": "execute_result"
    }
   ],
   "source": [
    "data_both['ExpenditureType'].unique()"
   ]
  },
  {
   "cell_type": "code",
   "execution_count": 48,
   "metadata": {},
   "outputs": [
    {
     "data": {
      "text/html": [
       "<div>\n",
       "<style scoped>\n",
       "    .dataframe tbody tr th:only-of-type {\n",
       "        vertical-align: middle;\n",
       "    }\n",
       "\n",
       "    .dataframe tbody tr th {\n",
       "        vertical-align: top;\n",
       "    }\n",
       "\n",
       "    .dataframe thead th {\n",
       "        text-align: right;\n",
       "    }\n",
       "</style>\n",
       "<table border=\"1\" class=\"dataframe\">\n",
       "  <thead>\n",
       "    <tr style=\"text-align: right;\">\n",
       "      <th></th>\n",
       "      <th>funder</th>\n",
       "      <th>application_category</th>\n",
       "      <th>ExpenditureType</th>\n",
       "    </tr>\n",
       "  </thead>\n",
       "  <tbody>\n",
       "    <tr>\n",
       "      <th>2174</th>\n",
       "      <td>Innovate UK</td>\n",
       "      <td>Collaborative R&amp;D</td>\n",
       "      <td>Unknown</td>\n",
       "    </tr>\n",
       "    <tr>\n",
       "      <th>2177</th>\n",
       "      <td>ISCF</td>\n",
       "      <td>CR&amp;D Bilateral</td>\n",
       "      <td>Unknown</td>\n",
       "    </tr>\n",
       "    <tr>\n",
       "      <th>2189</th>\n",
       "      <td>Innovate UK</td>\n",
       "      <td>Knowledge Transfer Partnership</td>\n",
       "      <td>Unknown</td>\n",
       "    </tr>\n",
       "    <tr>\n",
       "      <th>2251</th>\n",
       "      <td>Innovate UK</td>\n",
       "      <td>Study</td>\n",
       "      <td>Unknown</td>\n",
       "    </tr>\n",
       "    <tr>\n",
       "      <th>2257</th>\n",
       "      <td>ISCF</td>\n",
       "      <td>Feasibility Studies</td>\n",
       "      <td>Unknown</td>\n",
       "    </tr>\n",
       "    <tr>\n",
       "      <th>...</th>\n",
       "      <td>...</td>\n",
       "      <td>...</td>\n",
       "      <td>...</td>\n",
       "    </tr>\n",
       "    <tr>\n",
       "      <th>491207</th>\n",
       "      <td>STFC</td>\n",
       "      <td>Research and Innovation</td>\n",
       "      <td>DA - Other Directly Allocated</td>\n",
       "    </tr>\n",
       "    <tr>\n",
       "      <th>491212</th>\n",
       "      <td>STFC</td>\n",
       "      <td>Research and Innovation</td>\n",
       "      <td>DI - Other Costs</td>\n",
       "    </tr>\n",
       "    <tr>\n",
       "      <th>491217</th>\n",
       "      <td>STFC</td>\n",
       "      <td>Research and Innovation</td>\n",
       "      <td>DI - Staff</td>\n",
       "    </tr>\n",
       "    <tr>\n",
       "      <th>491222</th>\n",
       "      <td>STFC</td>\n",
       "      <td>Research and Innovation</td>\n",
       "      <td>DI - T&amp;S</td>\n",
       "    </tr>\n",
       "    <tr>\n",
       "      <th>491227</th>\n",
       "      <td>STFC</td>\n",
       "      <td>Research and Innovation</td>\n",
       "      <td>Indirect - Indirect Costs</td>\n",
       "    </tr>\n",
       "  </tbody>\n",
       "</table>\n",
       "<p>652 rows × 3 columns</p>\n",
       "</div>"
      ],
      "text/plain": [
       "             funder            application_category  \\\n",
       "2174    Innovate UK               Collaborative R&D   \n",
       "2177           ISCF                  CR&D Bilateral   \n",
       "2189    Innovate UK  Knowledge Transfer Partnership   \n",
       "2251    Innovate UK                           Study   \n",
       "2257           ISCF             Feasibility Studies   \n",
       "...             ...                             ...   \n",
       "491207         STFC         Research and Innovation   \n",
       "491212         STFC         Research and Innovation   \n",
       "491217         STFC         Research and Innovation   \n",
       "491222         STFC         Research and Innovation   \n",
       "491227         STFC         Research and Innovation   \n",
       "\n",
       "                      ExpenditureType  \n",
       "2174                          Unknown  \n",
       "2177                          Unknown  \n",
       "2189                          Unknown  \n",
       "2251                          Unknown  \n",
       "2257                          Unknown  \n",
       "...                               ...  \n",
       "491207  DA - Other Directly Allocated  \n",
       "491212               DI - Other Costs  \n",
       "491217                     DI - Staff  \n",
       "491222                       DI - T&S  \n",
       "491227      Indirect - Indirect Costs  \n",
       "\n",
       "[652 rows x 3 columns]"
      ]
     },
     "execution_count": 48,
     "metadata": {},
     "output_type": "execute_result"
    }
   ],
   "source": [
    "data_both[['funder', 'application_category', 'ExpenditureType']].drop_duplicates()"
   ]
  },
  {
   "cell_type": "code",
   "execution_count": 49,
   "metadata": {},
   "outputs": [],
   "source": [
    "ds_mapping = pd.read_excel('..//OneDrive - UKRI//Dual Support Categories.xlsx')"
   ]
  },
  {
   "cell_type": "code",
   "execution_count": 50,
   "metadata": {},
   "outputs": [],
   "source": [
    "data_w_ds = pd.merge(\n",
    "    data_both,\n",
    "    ds_mapping[['funder', 'administrator', 'decision_owner', 'application_category', 'DS']],\n",
    "    on=['funder', 'administrator', 'decision_owner', 'application_category']\n",
    "    )"
   ]
  },
  {
   "cell_type": "code",
   "execution_count": 51,
   "metadata": {},
   "outputs": [
    {
     "name": "stdout",
     "output_type": "stream",
     "text": [
      "310829\n",
      "310829\n"
     ]
    }
   ],
   "source": [
    "data_w_ds\n",
    "\n",
    "print(len(data_both))\n",
    "print(len(data_w_ds))"
   ]
  },
  {
   "cell_type": "code",
   "execution_count": 52,
   "metadata": {},
   "outputs": [
    {
     "data": {
      "text/plain": [
       "0         False\n",
       "1         False\n",
       "2         False\n",
       "3         False\n",
       "4         False\n",
       "          ...  \n",
       "310824    False\n",
       "310825    False\n",
       "310826    False\n",
       "310827     True\n",
       "310828     True\n",
       "Name: ExpenditureType, Length: 310829, dtype: bool"
      ]
     },
     "execution_count": 52,
     "metadata": {},
     "output_type": "execute_result"
    }
   ],
   "source": [
    "data_w_ds['ExpenditureType'].str.contains('Equipment')"
   ]
  },
  {
   "cell_type": "code",
   "execution_count": 53,
   "metadata": {},
   "outputs": [
    {
     "data": {
      "text/plain": [
       "array(['AH/L011727/1', 'AH/N00664X/1', 'AH/N010140/1', ...,\n",
       "       'ST/Y006135/1', 'ST/Y006143/1', 'ST/Z000084/1'], dtype=object)"
      ]
     },
     "execution_count": 53,
     "metadata": {},
     "output_type": "execute_result"
    }
   ],
   "source": [
    "data_w_ds[(data_w_ds['DS'] == 'RC') & data_w_ds['ExpenditureType'].str.contains('Equipment')]['award_reference'].unique()"
   ]
  },
  {
   "cell_type": "code",
   "execution_count": 54,
   "metadata": {},
   "outputs": [],
   "source": [
    "data_w_ds.loc[data_w_ds['ExpenditureType'].str.contains('Equipment'), 'DS'] = 'Exclude'\n",
    "data_w_ds.loc[data_w_ds['ExpenditureType'].str.contains('Capital'), 'DS'] = 'Exclude'"
   ]
  },
  {
   "cell_type": "code",
   "execution_count": 55,
   "metadata": {},
   "outputs": [
    {
     "data": {
      "text/html": [
       "<div>\n",
       "<style scoped>\n",
       "    .dataframe tbody tr th:only-of-type {\n",
       "        vertical-align: middle;\n",
       "    }\n",
       "\n",
       "    .dataframe tbody tr th {\n",
       "        vertical-align: top;\n",
       "    }\n",
       "\n",
       "    .dataframe thead th {\n",
       "        text-align: right;\n",
       "    }\n",
       "</style>\n",
       "<table border=\"1\" class=\"dataframe\">\n",
       "  <thead>\n",
       "    <tr style=\"text-align: right;\">\n",
       "      <th></th>\n",
       "      <th>funded_amount</th>\n",
       "      <th>amount</th>\n",
       "    </tr>\n",
       "    <tr>\n",
       "      <th>DS</th>\n",
       "      <th></th>\n",
       "      <th></th>\n",
       "    </tr>\n",
       "  </thead>\n",
       "  <tbody>\n",
       "    <tr>\n",
       "      <th>Exclude</th>\n",
       "      <td>1.706385e+11</td>\n",
       "      <td>2.210966e+09</td>\n",
       "    </tr>\n",
       "    <tr>\n",
       "      <th>RC</th>\n",
       "      <td>3.191392e+11</td>\n",
       "      <td>2.646206e+09</td>\n",
       "    </tr>\n",
       "    <tr>\n",
       "      <th>Unknown</th>\n",
       "      <td>9.749007e+07</td>\n",
       "      <td>8.393448e+07</td>\n",
       "    </tr>\n",
       "  </tbody>\n",
       "</table>\n",
       "</div>"
      ],
      "text/plain": [
       "         funded_amount        amount\n",
       "DS                                  \n",
       "Exclude   1.706385e+11  2.210966e+09\n",
       "RC        3.191392e+11  2.646206e+09\n",
       "Unknown   9.749007e+07  8.393448e+07"
      ]
     },
     "execution_count": 55,
     "metadata": {},
     "output_type": "execute_result"
    }
   ],
   "source": [
    "data_w_ds.groupby('DS').sum(numeric_only=True)"
   ]
  },
  {
   "cell_type": "code",
   "execution_count": 56,
   "metadata": {},
   "outputs": [],
   "source": [
    "# eg. NERC Off System spend 260M according to sustainability returns\n",
    "# Unknown 84 Million, Excluded 2.2Bn and RC in scope 2.6Bn"
   ]
  },
  {
   "cell_type": "code",
   "execution_count": 57,
   "metadata": {},
   "outputs": [
    {
     "data": {
      "text/plain": [
       "0.9130434782608696"
      ]
     },
     "execution_count": 57,
     "metadata": {},
     "output_type": "execute_result"
    }
   ],
   "source": [
    "2.1/2.3"
   ]
  },
  {
   "cell_type": "code",
   "execution_count": 58,
   "metadata": {},
   "outputs": [
    {
     "data": {
      "text/plain": [
       "0.64"
      ]
     },
     "execution_count": 58,
     "metadata": {},
     "output_type": "execute_result"
    }
   ],
   "source": [
    "64/100"
   ]
  },
  {
   "cell_type": "code",
   "execution_count": 59,
   "metadata": {},
   "outputs": [
    {
     "data": {
      "text/plain": [
       "0.03230769230769231"
      ]
     },
     "execution_count": 59,
     "metadata": {},
     "output_type": "execute_result"
    }
   ],
   "source": [
    "84/2600"
   ]
  },
  {
   "cell_type": "code",
   "execution_count": 60,
   "metadata": {},
   "outputs": [
    {
     "data": {
      "text/plain": [
       "array(['IUK - IFS', 'IUK - Legacy Applications', 'IUK - KTP',\n",
       "       'IUK - EU Funded', 'IUK - SBRI', 'Siebel', 'TFS', 'Offsystem'],\n",
       "      dtype=object)"
      ]
     },
     "execution_count": 60,
     "metadata": {},
     "output_type": "execute_result"
    }
   ],
   "source": [
    "data_w_ds['application_source'].unique()"
   ]
  },
  {
   "cell_type": "code",
   "execution_count": 61,
   "metadata": {},
   "outputs": [
    {
     "data": {
      "text/plain": [
       "286967552.05"
      ]
     },
     "execution_count": 61,
     "metadata": {},
     "output_type": "execute_result"
    }
   ],
   "source": [
    "data_w_ds[data_w_ds['application_source'] == 'Offsystem']['amount'].sum()"
   ]
  },
  {
   "cell_type": "code",
   "execution_count": 62,
   "metadata": {},
   "outputs": [
    {
     "data": {
      "text/html": [
       "<div>\n",
       "<style scoped>\n",
       "    .dataframe tbody tr th:only-of-type {\n",
       "        vertical-align: middle;\n",
       "    }\n",
       "\n",
       "    .dataframe tbody tr th {\n",
       "        vertical-align: top;\n",
       "    }\n",
       "\n",
       "    .dataframe thead th {\n",
       "        text-align: right;\n",
       "    }\n",
       "</style>\n",
       "<table border=\"1\" class=\"dataframe\">\n",
       "  <thead>\n",
       "    <tr style=\"text-align: right;\">\n",
       "      <th></th>\n",
       "      <th></th>\n",
       "      <th>funded_amount</th>\n",
       "      <th>amount</th>\n",
       "    </tr>\n",
       "    <tr>\n",
       "      <th>DS</th>\n",
       "      <th>application_source</th>\n",
       "      <th></th>\n",
       "      <th></th>\n",
       "    </tr>\n",
       "  </thead>\n",
       "  <tbody>\n",
       "    <tr>\n",
       "      <th rowspan=\"8\" valign=\"top\">Exclude</th>\n",
       "      <th>IUK - EU Funded</th>\n",
       "      <td>4.346026e+07</td>\n",
       "      <td>3.403815e+06</td>\n",
       "    </tr>\n",
       "    <tr>\n",
       "      <th>IUK - IFS</th>\n",
       "      <td>6.393452e+10</td>\n",
       "      <td>1.218005e+09</td>\n",
       "    </tr>\n",
       "    <tr>\n",
       "      <th>IUK - KTP</th>\n",
       "      <td>5.123945e+07</td>\n",
       "      <td>4.089798e+06</td>\n",
       "    </tr>\n",
       "    <tr>\n",
       "      <th>IUK - Legacy Applications</th>\n",
       "      <td>9.134722e+10</td>\n",
       "      <td>7.308103e+08</td>\n",
       "    </tr>\n",
       "    <tr>\n",
       "      <th>IUK - SBRI</th>\n",
       "      <td>3.559132e+06</td>\n",
       "      <td>3.184158e+05</td>\n",
       "    </tr>\n",
       "    <tr>\n",
       "      <th>Offsystem</th>\n",
       "      <td>2.541528e+06</td>\n",
       "      <td>1.491646e+06</td>\n",
       "    </tr>\n",
       "    <tr>\n",
       "      <th>Siebel</th>\n",
       "      <td>1.522373e+10</td>\n",
       "      <td>2.518602e+08</td>\n",
       "    </tr>\n",
       "    <tr>\n",
       "      <th>TFS</th>\n",
       "      <td>3.222036e+07</td>\n",
       "      <td>9.872006e+05</td>\n",
       "    </tr>\n",
       "    <tr>\n",
       "      <th rowspan=\"3\" valign=\"top\">RC</th>\n",
       "      <th>Offsystem</th>\n",
       "      <td>5.976107e+08</td>\n",
       "      <td>2.015414e+08</td>\n",
       "    </tr>\n",
       "    <tr>\n",
       "      <th>Siebel</th>\n",
       "      <td>3.177586e+11</td>\n",
       "      <td>2.431201e+09</td>\n",
       "    </tr>\n",
       "    <tr>\n",
       "      <th>TFS</th>\n",
       "      <td>7.830291e+08</td>\n",
       "      <td>1.346364e+07</td>\n",
       "    </tr>\n",
       "    <tr>\n",
       "      <th>Unknown</th>\n",
       "      <th>Offsystem</th>\n",
       "      <td>9.749007e+07</td>\n",
       "      <td>8.393448e+07</td>\n",
       "    </tr>\n",
       "  </tbody>\n",
       "</table>\n",
       "</div>"
      ],
      "text/plain": [
       "                                   funded_amount        amount\n",
       "DS      application_source                                    \n",
       "Exclude IUK - EU Funded             4.346026e+07  3.403815e+06\n",
       "        IUK - IFS                   6.393452e+10  1.218005e+09\n",
       "        IUK - KTP                   5.123945e+07  4.089798e+06\n",
       "        IUK - Legacy Applications   9.134722e+10  7.308103e+08\n",
       "        IUK - SBRI                  3.559132e+06  3.184158e+05\n",
       "        Offsystem                   2.541528e+06  1.491646e+06\n",
       "        Siebel                      1.522373e+10  2.518602e+08\n",
       "        TFS                         3.222036e+07  9.872006e+05\n",
       "RC      Offsystem                   5.976107e+08  2.015414e+08\n",
       "        Siebel                      3.177586e+11  2.431201e+09\n",
       "        TFS                         7.830291e+08  1.346364e+07\n",
       "Unknown Offsystem                   9.749007e+07  8.393448e+07"
      ]
     },
     "execution_count": 62,
     "metadata": {},
     "output_type": "execute_result"
    }
   ],
   "source": [
    "data_w_ds.groupby(['DS', 'application_source']).sum(numeric_only=True)"
   ]
  },
  {
   "cell_type": "code",
   "execution_count": 63,
   "metadata": {},
   "outputs": [
    {
     "data": {
      "text/plain": [
       "2444664624.9922"
      ]
     },
     "execution_count": 63,
     "metadata": {},
     "output_type": "execute_result"
    }
   ],
   "source": [
    "data_w_ds[(data_w_ds['DS'] == 'RC') & (data_w_ds['application_source'] != 'Offsystem')]['amount'].sum()"
   ]
  },
  {
   "cell_type": "code",
   "execution_count": null,
   "metadata": {},
   "outputs": [],
   "source": [
    "# 2.4 Bn RC dual support and not Off system\n",
    "\n",
    "# Off system dual support RC is the institutes\n",
    "# "
   ]
  },
  {
   "cell_type": "code",
   "execution_count": 64,
   "metadata": {},
   "outputs": [
    {
     "name": "stderr",
     "output_type": "stream",
     "text": [
      "C:\\Users\\MHil02\\AppData\\Local\\Temp\\ipykernel_15928\\1599731779.py:5: UserWarning: pandas only supports SQLAlchemy connectable (engine/connection) or database string URI or sqlite3 DBAPI2 connection. Other DBAPI2 objects are not tested. Please consider using SQLAlchemy.\n",
      "  df_organisation = pd.read_sql(qry, con)\n"
     ]
    }
   ],
   "source": [
    "# Write sql query\n",
    "qry = \"SELECT * FROM ukri_ssd_snapshot.2024_10_04_ssd_organisation;\"\n",
    "\n",
    "# Read sql query\n",
    "df_organisation = pd.read_sql(qry, con)"
   ]
  },
  {
   "cell_type": "code",
   "execution_count": 67,
   "metadata": {},
   "outputs": [],
   "source": [
    "df_select = df_organisation[['organisation_id', 'organisation_name', 'organisation_source']]\n"
   ]
  },
  {
   "cell_type": "code",
   "execution_count": 68,
   "metadata": {},
   "outputs": [
    {
     "data": {
      "text/plain": [
       "0"
      ]
     },
     "execution_count": 68,
     "metadata": {},
     "output_type": "execute_result"
    }
   ],
   "source": [
    "df_organisation[['organisation_id', 'organisation_source']].duplicated().sum()"
   ]
  },
  {
   "cell_type": "code",
   "execution_count": 70,
   "metadata": {},
   "outputs": [],
   "source": [
    "data_w_org = pd.merge(data_w_ds, df_select, left_on=['lead_organisation_id', 'organisation_source'],\n",
    "                      right_on=['organisation_id', 'organisation_source'])"
   ]
  },
  {
   "cell_type": "code",
   "execution_count": 71,
   "metadata": {},
   "outputs": [
    {
     "name": "stdout",
     "output_type": "stream",
     "text": [
      "310829\n",
      "310829\n"
     ]
    }
   ],
   "source": [
    "print(len(data_w_ds))\n",
    "print(len(data_w_org))\n"
   ]
  },
  {
   "cell_type": "code",
   "execution_count": 75,
   "metadata": {},
   "outputs": [
    {
     "data": {
      "text/plain": [
       "array(['NERC British Antarctic Survey'], dtype=object)"
      ]
     },
     "execution_count": 75,
     "metadata": {},
     "output_type": "execute_result"
    }
   ],
   "source": [
    "data_w_org[data_w_org['organisation_name'].str.contains('British Antarctic')]['organisation_name'].unique()"
   ]
  },
  {
   "cell_type": "code",
   "execution_count": 77,
   "metadata": {},
   "outputs": [
    {
     "data": {
      "text/html": [
       "<div>\n",
       "<style scoped>\n",
       "    .dataframe tbody tr th:only-of-type {\n",
       "        vertical-align: middle;\n",
       "    }\n",
       "\n",
       "    .dataframe tbody tr th {\n",
       "        vertical-align: top;\n",
       "    }\n",
       "\n",
       "    .dataframe thead th {\n",
       "        text-align: right;\n",
       "    }\n",
       "</style>\n",
       "<table border=\"1\" class=\"dataframe\">\n",
       "  <thead>\n",
       "    <tr style=\"text-align: right;\">\n",
       "      <th></th>\n",
       "      <th></th>\n",
       "      <th>funded_amount</th>\n",
       "      <th>amount</th>\n",
       "    </tr>\n",
       "    <tr>\n",
       "      <th>DS</th>\n",
       "      <th>application_source</th>\n",
       "      <th></th>\n",
       "      <th></th>\n",
       "    </tr>\n",
       "  </thead>\n",
       "  <tbody>\n",
       "    <tr>\n",
       "      <th>Exclude</th>\n",
       "      <th>Siebel</th>\n",
       "      <td>7.441292e+06</td>\n",
       "      <td>82928.98</td>\n",
       "    </tr>\n",
       "    <tr>\n",
       "      <th rowspan=\"2\" valign=\"top\">RC</th>\n",
       "      <th>Siebel</th>\n",
       "      <td>6.036610e+08</td>\n",
       "      <td>5439063.38</td>\n",
       "    </tr>\n",
       "    <tr>\n",
       "      <th>TFS</th>\n",
       "      <td>1.093147e+07</td>\n",
       "      <td>109720.13</td>\n",
       "    </tr>\n",
       "  </tbody>\n",
       "</table>\n",
       "</div>"
      ],
      "text/plain": [
       "                            funded_amount      amount\n",
       "DS      application_source                           \n",
       "Exclude Siebel               7.441292e+06    82928.98\n",
       "RC      Siebel               6.036610e+08  5439063.38\n",
       "        TFS                  1.093147e+07   109720.13"
      ]
     },
     "execution_count": 77,
     "metadata": {},
     "output_type": "execute_result"
    }
   ],
   "source": [
    "data_w_org[data_w_org['organisation_name'].str.contains('British Antarctic')].groupby(['DS', 'application_source']).sum(numeric_only=True)"
   ]
  },
  {
   "cell_type": "code",
   "execution_count": 78,
   "metadata": {},
   "outputs": [
    {
     "data": {
      "text/html": [
       "<div>\n",
       "<style scoped>\n",
       "    .dataframe tbody tr th:only-of-type {\n",
       "        vertical-align: middle;\n",
       "    }\n",
       "\n",
       "    .dataframe tbody tr th {\n",
       "        vertical-align: top;\n",
       "    }\n",
       "\n",
       "    .dataframe thead th {\n",
       "        text-align: right;\n",
       "    }\n",
       "</style>\n",
       "<table border=\"1\" class=\"dataframe\">\n",
       "  <thead>\n",
       "    <tr style=\"text-align: right;\">\n",
       "      <th></th>\n",
       "      <th></th>\n",
       "      <th></th>\n",
       "      <th>funded_amount</th>\n",
       "      <th>amount</th>\n",
       "    </tr>\n",
       "    <tr>\n",
       "      <th>DS</th>\n",
       "      <th>application_category</th>\n",
       "      <th>application_source</th>\n",
       "      <th></th>\n",
       "      <th></th>\n",
       "    </tr>\n",
       "  </thead>\n",
       "  <tbody>\n",
       "    <tr>\n",
       "      <th rowspan=\"2\" valign=\"top\">Exclude</th>\n",
       "      <th>Fellowship</th>\n",
       "      <th>Siebel</th>\n",
       "      <td>1.032502e+06</td>\n",
       "      <td>5817.00</td>\n",
       "    </tr>\n",
       "    <tr>\n",
       "      <th>Research Grant</th>\n",
       "      <th>Siebel</th>\n",
       "      <td>6.408791e+06</td>\n",
       "      <td>77111.98</td>\n",
       "    </tr>\n",
       "    <tr>\n",
       "      <th rowspan=\"4\" valign=\"top\">RC</th>\n",
       "      <th>Fellowship</th>\n",
       "      <th>Siebel</th>\n",
       "      <td>7.529438e+07</td>\n",
       "      <td>722164.22</td>\n",
       "    </tr>\n",
       "    <tr>\n",
       "      <th>Research Grant</th>\n",
       "      <th>Siebel</th>\n",
       "      <td>5.281241e+08</td>\n",
       "      <td>4676472.16</td>\n",
       "    </tr>\n",
       "    <tr>\n",
       "      <th>Research and Innovation</th>\n",
       "      <th>TFS</th>\n",
       "      <td>1.093147e+07</td>\n",
       "      <td>109720.13</td>\n",
       "    </tr>\n",
       "    <tr>\n",
       "      <th>Training Grant</th>\n",
       "      <th>Siebel</th>\n",
       "      <td>2.425620e+05</td>\n",
       "      <td>40427.00</td>\n",
       "    </tr>\n",
       "  </tbody>\n",
       "</table>\n",
       "</div>"
      ],
      "text/plain": [
       "                                                    funded_amount      amount\n",
       "DS      application_category    application_source                           \n",
       "Exclude Fellowship              Siebel               1.032502e+06     5817.00\n",
       "        Research Grant          Siebel               6.408791e+06    77111.98\n",
       "RC      Fellowship              Siebel               7.529438e+07   722164.22\n",
       "        Research Grant          Siebel               5.281241e+08  4676472.16\n",
       "        Research and Innovation TFS                  1.093147e+07   109720.13\n",
       "        Training Grant          Siebel               2.425620e+05    40427.00"
      ]
     },
     "execution_count": 78,
     "metadata": {},
     "output_type": "execute_result"
    }
   ],
   "source": [
    "data_w_org[data_w_org['organisation_name'].str.contains('British Antarctic')].groupby(['DS', 'application_category', 'application_source']).sum(numeric_only=True)"
   ]
  },
  {
   "cell_type": "code",
   "execution_count": 80,
   "metadata": {},
   "outputs": [
    {
     "data": {
      "text/plain": [
       "array(['UK Centre for Ecology & Hydrology'], dtype=object)"
      ]
     },
     "execution_count": 80,
     "metadata": {},
     "output_type": "execute_result"
    }
   ],
   "source": [
    "data_w_org[data_w_org['organisation_name'].str.contains('Hydrology')]['organisation_name'].unique()"
   ]
  },
  {
   "cell_type": "code",
   "execution_count": 84,
   "metadata": {},
   "outputs": [
    {
     "data": {
      "text/html": [
       "<div>\n",
       "<style scoped>\n",
       "    .dataframe tbody tr th:only-of-type {\n",
       "        vertical-align: middle;\n",
       "    }\n",
       "\n",
       "    .dataframe tbody tr th {\n",
       "        vertical-align: top;\n",
       "    }\n",
       "\n",
       "    .dataframe thead th {\n",
       "        text-align: right;\n",
       "    }\n",
       "</style>\n",
       "<table border=\"1\" class=\"dataframe\">\n",
       "  <thead>\n",
       "    <tr style=\"text-align: right;\">\n",
       "      <th></th>\n",
       "      <th></th>\n",
       "      <th>funded_amount</th>\n",
       "      <th>amount</th>\n",
       "    </tr>\n",
       "    <tr>\n",
       "      <th>DS</th>\n",
       "      <th>application_source</th>\n",
       "      <th></th>\n",
       "      <th></th>\n",
       "    </tr>\n",
       "  </thead>\n",
       "  <tbody>\n",
       "    <tr>\n",
       "      <th>Exclude</th>\n",
       "      <th>Siebel</th>\n",
       "      <td>1.619304e+07</td>\n",
       "      <td>4.275000e+04</td>\n",
       "    </tr>\n",
       "    <tr>\n",
       "      <th rowspan=\"2\" valign=\"top\">RC</th>\n",
       "      <th>Siebel</th>\n",
       "      <td>7.896944e+08</td>\n",
       "      <td>1.577897e+07</td>\n",
       "    </tr>\n",
       "    <tr>\n",
       "      <th>TFS</th>\n",
       "      <td>1.008674e+07</td>\n",
       "      <td>3.272235e+05</td>\n",
       "    </tr>\n",
       "  </tbody>\n",
       "</table>\n",
       "</div>"
      ],
      "text/plain": [
       "                            funded_amount        amount\n",
       "DS      application_source                             \n",
       "Exclude Siebel               1.619304e+07  4.275000e+04\n",
       "RC      Siebel               7.896944e+08  1.577897e+07\n",
       "        TFS                  1.008674e+07  3.272235e+05"
      ]
     },
     "execution_count": 84,
     "metadata": {},
     "output_type": "execute_result"
    }
   ],
   "source": [
    "data_w_org[data_w_org['organisation_name'].str.contains('Turing')].groupby(['DS', 'application_source']).sum(numeric_only=True)"
   ]
  },
  {
   "cell_type": "code",
   "execution_count": null,
   "metadata": {},
   "outputs": [],
   "source": []
  }
 ],
 "metadata": {
  "kernelspec": {
   "display_name": "base",
   "language": "python",
   "name": "python3"
  },
  "language_info": {
   "codemirror_mode": {
    "name": "ipython",
    "version": 3
   },
   "file_extension": ".py",
   "mimetype": "text/x-python",
   "name": "python",
   "nbconvert_exporter": "python",
   "pygments_lexer": "ipython3",
   "version": "3.12.7"
  }
 },
 "nbformat": 4,
 "nbformat_minor": 2
}
